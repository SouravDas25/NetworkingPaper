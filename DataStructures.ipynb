{
 "cells": [
  {
   "cell_type": "code",
   "execution_count": 1,
   "id": "57d9b9db",
   "metadata": {},
   "outputs": [],
   "source": [
    "#  Level Order Traversal"
   ]
  },
  {
   "cell_type": "code",
   "execution_count": 39,
   "id": "7624855f",
   "metadata": {},
   "outputs": [],
   "source": [
    "class Node:\n",
    " \n",
    "    # A utility function to create a new node\n",
    "    def __init__(self, key):\n",
    "        self.data = key\n",
    "        self.left = None\n",
    "        self.right = None\n",
    "        \n",
    "    def __repr__(self):\n",
    "        return str(self.data)\n",
    "    \n",
    "\n",
    "def printNode(prefix, node, isLeft):\n",
    "    if node is not None:\n",
    "        print(prefix + (\"|-- \" if isLeft else \"+-- \") + str(node.data))\n",
    "        printNode(prefix + (\"|   \" if isLeft else \"    \"), node.left, True)\n",
    "        printNode(prefix + (\"|   \" if isLeft else \"    \"), node.right, False)\n",
    "        \n",
    "def generateTree(arr):\n",
    "    leafs = []\n",
    "    num = arr.pop(0)\n",
    "    root = Node(num)\n",
    "    leafs.append(root)\n",
    "    while len(arr) > 0:\n",
    "        node = leafs[0]\n",
    "        if node.left is None:\n",
    "            num = arr.pop(0)\n",
    "            node.left = Node(num)\n",
    "            leafs.append(node.left)\n",
    "        elif node.right is None:\n",
    "            num = arr.pop(0)\n",
    "            node.right = Node(num)\n",
    "            leafs.append(node.right)\n",
    "        \n",
    "        if node.right is not None and node.left is not None:\n",
    "            leafs.pop(0)\n",
    "    \n",
    "    return root"
   ]
  },
  {
   "cell_type": "code",
   "execution_count": 40,
   "id": "faaefb3f",
   "metadata": {},
   "outputs": [
    {
     "name": "stdout",
     "output_type": "stream",
     "text": [
      "+-- 1\n",
      "    |-- 2\n",
      "    |   |-- 4\n",
      "    |   |   |-- 8\n",
      "    |   |   +-- 9\n",
      "    |   +-- 5\n",
      "    |       |-- 10\n",
      "    |       +-- 11\n",
      "    +-- 3\n",
      "        |-- 6\n",
      "        |   |-- 12\n",
      "        |   +-- 13\n",
      "        +-- 7\n",
      "            |-- 14\n",
      "            +-- 15\n",
      "data 1 queue [2, 3]\n",
      "data 2 queue [3, 4, 5]\n",
      "data 3 queue [4, 5, 6, 7]\n",
      "data 4 queue [5, 6, 7, 8, 9]\n",
      "data 5 queue [6, 7, 8, 9, 10, 11]\n",
      "data 6 queue [7, 8, 9, 10, 11, 12, 13]\n",
      "data 7 queue [8, 9, 10, 11, 12, 13, 14, 15]\n",
      "data 8 queue [9, 10, 11, 12, 13, 14, 15]\n",
      "data 9 queue [10, 11, 12, 13, 14, 15]\n",
      "data 10 queue [11, 12, 13, 14, 15]\n",
      "data 11 queue [12, 13, 14, 15]\n",
      "data 12 queue [13, 14, 15]\n",
      "data 13 queue [14, 15]\n",
      "data 14 queue [15]\n",
      "data 15 queue []\n"
     ]
    }
   ],
   "source": [
    "\n",
    "        \n",
    "def printLevelOrder(root):\n",
    "    if root is None:\n",
    "        return\n",
    "    queue = []\n",
    "    queue.append(root)\n",
    "    \n",
    "    while len(queue) > 0:\n",
    "        \n",
    "        node = queue.pop(0)\n",
    "        \n",
    "        if node.left is not None:\n",
    "            queue.append(node.left)\n",
    "        \n",
    "        if node.right is not None:\n",
    "            queue.append(node.right)\n",
    "        \n",
    "        print(\"data\", node.data ,\"queue\", queue)\n",
    "    \n",
    "\n",
    "root = generateTree(list(range(1,16)))\n",
    "\n",
    "printNode(\"\", root, False)\n",
    "\n",
    "\n",
    "\n",
    "printLevelOrder(root)"
   ]
  },
  {
   "cell_type": "code",
   "execution_count": 41,
   "id": "9efe55a5",
   "metadata": {},
   "outputs": [],
   "source": [
    "# Zig Zag Traversal"
   ]
  },
  {
   "cell_type": "code",
   "execution_count": 47,
   "id": "6ef21b9d",
   "metadata": {},
   "outputs": [
    {
     "name": "stdout",
     "output_type": "stream",
     "text": [
      "+-- 1\n",
      "    |-- 2\n",
      "    |   |-- 4\n",
      "    |   |   |-- 8\n",
      "    |   |   +-- 9\n",
      "    |   +-- 5\n",
      "    |       |-- 10\n",
      "    |       +-- 11\n",
      "    +-- 3\n",
      "        |-- 6\n",
      "        |   |-- 12\n",
      "        |   +-- 13\n",
      "        +-- 7\n",
      "            |-- 14\n",
      "            +-- 15\n",
      "level 0 data 1 current [(2, 1), (3, 1)] next []\n",
      "level 1 data 3 current [(2, 1)] next [(7, 2), (6, 2)]\n",
      "level 1 data 2 current [(7, 2), (6, 2), (5, 2), (4, 2)] next []\n",
      "level 2 data 4 current [(7, 2), (6, 2), (5, 2)] next [(8, 3), (9, 3)]\n",
      "level 2 data 5 current [(7, 2), (6, 2)] next [(8, 3), (9, 3), (10, 3), (11, 3)]\n",
      "level 2 data 6 current [(7, 2)] next [(8, 3), (9, 3), (10, 3), (11, 3), (12, 3), (13, 3)]\n",
      "level 2 data 7 current [(8, 3), (9, 3), (10, 3), (11, 3), (12, 3), (13, 3), (14, 3), (15, 3)] next []\n",
      "level 3 data 15 current [(8, 3), (9, 3), (10, 3), (11, 3), (12, 3), (13, 3), (14, 3)] next []\n",
      "level 3 data 14 current [(8, 3), (9, 3), (10, 3), (11, 3), (12, 3), (13, 3)] next []\n",
      "level 3 data 13 current [(8, 3), (9, 3), (10, 3), (11, 3), (12, 3)] next []\n",
      "level 3 data 12 current [(8, 3), (9, 3), (10, 3), (11, 3)] next []\n",
      "level 3 data 11 current [(8, 3), (9, 3), (10, 3)] next []\n",
      "level 3 data 10 current [(8, 3), (9, 3)] next []\n",
      "level 3 data 9 current [(8, 3)] next []\n",
      "level 3 data 8 current [] next []\n"
     ]
    }
   ],
   "source": [
    "\n",
    "\n",
    "def zigZagTraversal(root):\n",
    "    if root is None:\n",
    "        return\n",
    "    currentLevel = []\n",
    "    nextLevel = []\n",
    "    currentLevel.append((root,0))\n",
    "    \n",
    "    while len(currentLevel) > 0:\n",
    "        \n",
    "        node , level = currentLevel.pop()\n",
    "        \n",
    "        if (level) % 2 == 0 :\n",
    "            if node.left is not None:\n",
    "                nextLevel.append((node.left, level + 1))\n",
    "            if node.right is not None:\n",
    "                nextLevel.append((node.right, level + 1))\n",
    "        else:\n",
    "            if node.right is not None:\n",
    "                nextLevel.append((node.right, level + 1))\n",
    "            if node.left is not None:\n",
    "                nextLevel.append((node.left, level + 1))\n",
    "        \n",
    "        if len(currentLevel) == 0 :\n",
    "            currentLevel , nextLevel = nextLevel , currentLevel\n",
    "\n",
    "        \n",
    "        print(\"level\", level, \"data\", node.data ,\"current\", currentLevel,\"next\", nextLevel)\n",
    "    \n",
    "\n",
    "        \n",
    "\n",
    "        \n",
    "root = generateTree(list(range(1,16)))\n",
    "\n",
    "printNode(\"\", root, False)\n",
    "\n",
    "\n",
    "zigZagTraversal(root)"
   ]
  },
  {
   "cell_type": "code",
   "execution_count": 48,
   "id": "3bb477f4",
   "metadata": {},
   "outputs": [],
   "source": [
    "# Sum of all the numbers that are formed from root to leaf paths"
   ]
  },
  {
   "cell_type": "code",
   "execution_count": 59,
   "id": "da79fe81",
   "metadata": {},
   "outputs": [
    {
     "name": "stdout",
     "output_type": "stream",
     "text": [
      "+-- 6\n",
      "    |-- 3\n",
      "    |   |-- 2\n",
      "    |   |   |-- 4\n",
      "    |   +-- 5\n",
      "    +-- 5\n",
      "        |-- 4\n",
      "        +-- 7\n",
      "Pre 6 6\n",
      "Pre 3 63\n",
      "Pre 2 632\n",
      "Pre 4 6324\n",
      "Pre 5 635\n",
      "Pre 5 65\n",
      "Pre 4 654\n",
      "Pre 7 657\n"
     ]
    },
    {
     "data": {
      "text/plain": [
       "8270"
      ]
     },
     "execution_count": 59,
     "metadata": {},
     "output_type": "execute_result"
    }
   ],
   "source": [
    "def sumOfAllLeaves(root, s):\n",
    "    if root is None:\n",
    "        return 0\n",
    "    \n",
    "    val = s * 10 + root.data\n",
    "    total = 0\n",
    "    \n",
    "    print(\"Pre\", root, val)\n",
    "    \n",
    "    if root.left is not None:\n",
    "        total += sumOfAllLeaves(root.left, val)\n",
    "    \n",
    "    if root.right is not None:\n",
    "        total += sumOfAllLeaves(root.right, val)\n",
    "        \n",
    "    if root.left is None and root.right is None:\n",
    "        total = val\n",
    "    \n",
    "    \n",
    "    return total\n",
    "\n",
    "\n",
    "root = generateTree([6,3,5,2,5,4,7,4])\n",
    "printNode(\"\", root, False)\n",
    "\n",
    "sumOfAllLeaves(root,0)"
   ]
  },
  {
   "cell_type": "code",
   "execution_count": 60,
   "id": "7fa12bb1",
   "metadata": {},
   "outputs": [],
   "source": [
    "# Print all k-sum paths in a binary tree"
   ]
  },
  {
   "cell_type": "code",
   "execution_count": 67,
   "id": "d67d38e3",
   "metadata": {},
   "outputs": [
    {
     "name": "stdout",
     "output_type": "stream",
     "text": [
      "+-- 1\n",
      "    |-- 3\n",
      "    |   |-- 2\n",
      "    |   |   |-- 1\n",
      "    |   |   +-- 1\n",
      "    |   +-- 1\n",
      "    |       |-- 2\n",
      "    |       +-- 6\n",
      "    +-- -1\n",
      "        |-- 4\n",
      "        +-- 5\n",
      "[3, 2]\n",
      "[1, 3, 1]\n",
      "[5]\n",
      "[1, -1, 5]\n"
     ]
    }
   ],
   "source": [
    "def kSumPath(root, path, k):\n",
    "    if root is None:\n",
    "        return\n",
    "    \n",
    "    path.append(root.data)\n",
    "    \n",
    "    kSumPath(root.left, path, k)\n",
    "    kSumPath(root.right, path, k)\n",
    "    \n",
    "    f = 0\n",
    "    for i in range(len(path)-1, -1, -1):\n",
    "        f += path[i]\n",
    "        if f == k:\n",
    "            print(path[i:])\n",
    "    \n",
    "    path.pop()\n",
    "    \n",
    "    \n",
    "\n",
    "\n",
    "root = generateTree([1,3,-1,2,1,4,5,1,1,2,6])\n",
    "printNode(\"\", root, False)\n",
    "\n",
    "kSumPath(root,[],5)"
   ]
  },
  {
   "cell_type": "code",
   "execution_count": 68,
   "id": "52a5d28a",
   "metadata": {},
   "outputs": [],
   "source": [
    "# Print all the paths from root, with a specified sum in Binary tree"
   ]
  },
  {
   "cell_type": "code",
   "execution_count": 88,
   "id": "7cdeab90",
   "metadata": {
    "scrolled": true
   },
   "outputs": [
    {
     "name": "stdout",
     "output_type": "stream",
     "text": [
      "+-- 1\n",
      "    |-- 20\n",
      "    |   |-- 4\n",
      "    |   |   |-- 8\n",
      "    |   |   +-- 9\n",
      "    |   +-- 15\n",
      "    +-- 3\n",
      "        |-- 6\n",
      "        +-- 7\n",
      "[1, 3, 6]\n"
     ]
    }
   ],
   "source": [
    "def kSumPathFromRoot(root, path, k):\n",
    "    if root is None:\n",
    "        return\n",
    "    \n",
    "    path.append(root.data)\n",
    "\n",
    "    \n",
    "    kSumPathFromRoot(root.left, path, k)\n",
    "    kSumPathFromRoot(root.right, path, k)\n",
    "    \n",
    "#     print(\"path\",path, root)\n",
    "    \n",
    "    f = 0\n",
    "    for i in range(len(path)):\n",
    "        f += path[i]\n",
    "        \n",
    "    if f == k:\n",
    "        print(path[:i+1])\n",
    "    \n",
    "    path.pop()\n",
    "    \n",
    "    \n",
    "\n",
    "\n",
    "root = generateTree([1,20,3,4,15,6,7,8,9])\n",
    "printNode(\"\", root, False)\n",
    "\n",
    "kSumPathFromRoot(root,[],10)"
   ]
  },
  {
   "cell_type": "code",
   "execution_count": 89,
   "id": "ff7df661",
   "metadata": {},
   "outputs": [],
   "source": [
    "# Median of Stream of Running Integers"
   ]
  },
  {
   "cell_type": "code",
   "execution_count": 94,
   "id": "a1e076e0",
   "metadata": {},
   "outputs": [
    {
     "name": "stdout",
     "output_type": "stream",
     "text": [
      "5 [5] []\n",
      "10.0 [15] [5]\n",
      "10 [10, 15] [5]\n",
      "12.5 [15, 20] [5, 10]\n",
      "5 [15, 20] [3, 10, 5]\n"
     ]
    },
    {
     "data": {
      "text/plain": [
       "5"
      ]
     },
     "execution_count": 94,
     "metadata": {},
     "output_type": "execute_result"
    }
   ],
   "source": [
    "import heapq\n",
    "\n",
    "def meridianOfStream(arr):\n",
    "    maxHeap = []\n",
    "    minHeap = []\n",
    "    currentMedian = 0\n",
    "    for i,n in enumerate(arr):\n",
    "        if len(maxHeap) == len(minHeap):\n",
    "            if n < currentMedian:\n",
    "                heapq.heappush(maxHeap, n)\n",
    "                currentMedian = maxHeap[-1]\n",
    "            else:\n",
    "                heapq.heappush(minHeap, n)\n",
    "                currentMedian = minHeap[0]\n",
    "        elif len(maxHeap) < len(minHeap):\n",
    "            if n > currentMedian:\n",
    "                t = heapq.heappop(minHeap)\n",
    "                heapq.heappush(maxHeap, t)\n",
    "                heapq.heappush(minHeap, n)\n",
    "            else:\n",
    "                heapq.heappush(maxHeap, n)\n",
    "            currentMedian = (minHeap[0] + maxHeap[-1]) / 2\n",
    "        else:\n",
    "            if n < currentMedian:\n",
    "                t = heapq.heappop(maxHeap)\n",
    "                heapq.heappush(minHeap, t)\n",
    "                heapq.heappush(maxHeap, n)\n",
    "            else:\n",
    "                heapq.heappush(minHeap, n)\n",
    "            currentMedian = (minHeap[0] + maxHeap[-1]) / 2\n",
    "        print(currentMedian,minHeap,maxHeap  )\n",
    "    return currentMedian\n",
    "\n",
    "arr = [5, 15, 10, 20, 3]\n",
    "meridianOfStream(arr)"
   ]
  },
  {
   "cell_type": "code",
   "execution_count": null,
   "id": "a02793cd",
   "metadata": {},
   "outputs": [],
   "source": []
  }
 ],
 "metadata": {
  "kernelspec": {
   "display_name": "Python 3 (ipykernel)",
   "language": "python",
   "name": "python3"
  },
  "language_info": {
   "codemirror_mode": {
    "name": "ipython",
    "version": 3
   },
   "file_extension": ".py",
   "mimetype": "text/x-python",
   "name": "python",
   "nbconvert_exporter": "python",
   "pygments_lexer": "ipython3",
   "version": "3.9.9"
  }
 },
 "nbformat": 4,
 "nbformat_minor": 5
}
