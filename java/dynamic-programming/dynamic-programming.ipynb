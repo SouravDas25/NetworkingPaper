{
 "cells": [
  {
   "cell_type": "code",
   "execution_count": 1,
   "id": "e39fb585",
   "metadata": {},
   "outputs": [],
   "source": [
    "void log(Object... args) {\n",
    "    for(Object obj : args) {\n",
    "        System.out.print(obj.toString());\n",
    "    }\n",
    "    System.out.println(\"\");\n",
    "}"
   ]
  },
  {
   "cell_type": "code",
   "execution_count": 2,
   "id": "89715cc5",
   "metadata": {},
   "outputs": [],
   "source": [
    "// sum of all numbers"
   ]
  },
  {
   "cell_type": "code",
   "execution_count": 9,
   "id": "7d947661",
   "metadata": {},
   "outputs": [
    {
     "name": "stdout",
     "output_type": "stream",
     "text": [
      "10\n",
      "15\n",
      "20\n"
     ]
    },
    {
     "data": {
      "text/plain": [
       "20"
      ]
     },
     "execution_count": 9,
     "metadata": {},
     "output_type": "execute_result"
    }
   ],
   "source": [
    "\n",
    "int costing(int[] cost) {\n",
    "    int max = -9999999;\n",
    "    for( int n: cost) {\n",
    "        max = Math.max(n, max);\n",
    "        log(max);\n",
    "    }\n",
    "    return max;\n",
    "}\n",
    "\n",
    "\n",
    "int[] cost = new int[]{10, 15, 20};\n",
    "costing(cost);"
   ]
  },
  {
   "cell_type": "code",
   "execution_count": 1,
   "id": "b5459d2b",
   "metadata": {},
   "outputs": [],
   "source": [
    "import java.text.SimpleDateFormat; \n",
    "import java.util.Date;\n",
    "import java.util.concurrent.ExecutorService;\n",
    "import java.util.concurrent.Executors;"
   ]
  },
  {
   "cell_type": "code",
   "execution_count": 6,
   "id": "9c4f2f30",
   "metadata": {},
   "outputs": [],
   "source": [
    "\n",
    "\n",
    "\n",
    "class Task implements Runnable {\n",
    "    private String name;\n",
    "    public Task(String s) {\n",
    "        name = s;\n",
    "    }\n",
    "    \n",
    "    public void run() {\n",
    "        try {\n",
    "            for (int i = 0; i<=5; i++) {\n",
    "                if (i==0) {\n",
    "                    Date d = new Date();\n",
    "                    SimpleDateFormat ft = new SimpleDateFormat(\"hh:mm:ss\");\n",
    "                    System.out.println(\"Initialization Time for\"\n",
    "                            + \" task name - \"+ name +\" = \" +ft.format(d));   \n",
    "                    //prints the initialization time for every task \n",
    "                }\n",
    "                else {\n",
    "                    Date d = new Date();\n",
    "                    SimpleDateFormat ft = new SimpleDateFormat(\"hh:mm:ss\");\n",
    "                    System.out.println(\"Executing Time for task name - \"+\n",
    "                            name +\" = \" +ft.format(d));   \n",
    "                    // prints the execution time for every task \n",
    "                }\n",
    "                Thread.sleep(1000);\n",
    "            }\n",
    "            System.out.println(name+\" complete\");\n",
    "        }\n",
    "        catch(InterruptedException e) {\n",
    "            e.printStackTrace();\n",
    "        }\n",
    "    }\n",
    "}\n",
    "\n",
    "\n"
   ]
  },
  {
   "cell_type": "code",
   "execution_count": 7,
   "id": "7a2dbd6a",
   "metadata": {},
   "outputs": [
    {
     "name": "stdout",
     "output_type": "stream",
     "text": [
      "Initialization Time for task name - task 1 = 11:08:38\n",
      "Initialization Time for task name - task 2 = 11:08:38\n",
      "Initialization Time for task name - task 3 = 11:08:38\n"
     ]
    }
   ],
   "source": [
    "Runnable r1 = new Task(\"task 1\");\n",
    "Runnable r2 = new Task(\"task 2\");\n",
    "Runnable r3 = new Task(\"task 3\");\n",
    "Runnable r4 = new Task(\"task 4\");\n",
    "Runnable r5 = new Task(\"task 5\");      \n",
    "\n",
    "// creates a thread pool with MAX_T no. of \n",
    "// threads as the fixed pool size(Step 2)\n",
    "ExecutorService pool = Executors.newFixedThreadPool(3);  \n",
    "\n",
    "// passes the Task objects to the pool to execute (Step 3)\n",
    "pool.execute(r1);\n",
    "pool.execute(r2);\n",
    "pool.execute(r3);\n",
    "pool.execute(r4);\n",
    "pool.execute(r5); \n",
    "\n",
    "// pool shutdown ( Step 4)\n",
    "// pool.shutdown();    "
   ]
  },
  {
   "cell_type": "code",
   "execution_count": null,
   "id": "47184528",
   "metadata": {},
   "outputs": [],
   "source": []
  }
 ],
 "metadata": {
  "kernelspec": {
   "display_name": "Java",
   "language": "java",
   "name": "java"
  },
  "language_info": {
   "codemirror_mode": "java",
   "file_extension": ".jshell",
   "mimetype": "text/x-java-source",
   "name": "Java",
   "pygments_lexer": "java",
   "version": "11.0.13+10-LTS-370"
  }
 },
 "nbformat": 4,
 "nbformat_minor": 5
}
