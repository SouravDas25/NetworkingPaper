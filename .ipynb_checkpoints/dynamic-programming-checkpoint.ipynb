{
 "cells": [
  {
   "cell_type": "code",
   "execution_count": 11,
   "id": "62a9d46b",
   "metadata": {},
   "outputs": [],
   "source": [
    "# Partition Equal Subset Sum"
   ]
  },
  {
   "cell_type": "code",
   "execution_count": 51,
   "id": "172f0f5a",
   "metadata": {},
   "outputs": [
    {
     "name": "stdout",
     "output_type": "stream",
     "text": [
      "0 9.0 {}\n",
      "1 6.0 {}\n",
      "2 3.0 {}\n",
      "3 0.0 {}\n",
      "True\n"
     ]
    },
    {
     "data": {
      "text/plain": [
       "4"
      ]
     },
     "execution_count": 51,
     "metadata": {},
     "output_type": "execute_result"
    }
   ],
   "source": [
    "\n",
    "\n",
    "def canPartition(nums, l, target, memo = {}):\n",
    "    canPartition.count += 1\n",
    "    print(l , target, memo)\n",
    "    key = \"{},{}\".format(l, target) \n",
    "    if key in memo:\n",
    "        return memo[key]\n",
    "    if l >= len(nums):\n",
    "        memo[key] = False\n",
    "        return False\n",
    "    if target == 0:\n",
    "        return True\n",
    "    if target < 0: \n",
    "        memo[key] = False\n",
    "        return False\n",
    "    \n",
    "    \n",
    "    if canPartition(nums, l + 1, target - nums[l], memo) :\n",
    "        memo[key] = True\n",
    "        return True\n",
    "    if canPartition(nums, l + 1, target, memo):\n",
    "        memo[key] = True\n",
    "        return True\n",
    "    memo[key] = False\n",
    "    return False\n",
    "    \n",
    "\n",
    "\n",
    "nums = [3,3,3,4,5]\n",
    "\n",
    "\n",
    "\n",
    "canPartition.count = 0\n",
    "print(canPartition(nums, 0, sum(nums) / 2))\n",
    "canPartition.count"
   ]
  },
  {
   "cell_type": "code",
   "execution_count": 52,
   "id": "3cd5aa5a",
   "metadata": {},
   "outputs": [],
   "source": [
    "# 70. Climbing Stairs"
   ]
  },
  {
   "cell_type": "code",
   "execution_count": 78,
   "id": "448f152c",
   "metadata": {},
   "outputs": [
    {
     "data": {
      "text/plain": [
       "89"
      ]
     },
     "execution_count": 78,
     "metadata": {},
     "output_type": "execute_result"
    }
   ],
   "source": [
    "def climbStairs(n: int, memo) -> int:\n",
    "    if n in memo:\n",
    "        return memo[n]\n",
    "    \n",
    "    result = climbStairs(n-1, memo ) + climbStairs(n-2, memo) \n",
    "    memo[n] = result\n",
    "    del memo[n-2]\n",
    "    return result\n",
    "\n",
    "climbStairs(10, { 0: 1, 1:1})"
   ]
  },
  {
   "cell_type": "code",
   "execution_count": 79,
   "id": "64b264b9",
   "metadata": {},
   "outputs": [],
   "source": [
    "# 322. Coin Change"
   ]
  },
  {
   "cell_type": "code",
   "execution_count": 154,
   "id": "340bf7fe",
   "metadata": {},
   "outputs": [
    {
     "name": "stdout",
     "output_type": "stream",
     "text": [
      "minimum coins required:  20\n"
     ]
    },
    {
     "data": {
      "text/plain": [
       "17501"
      ]
     },
     "execution_count": 154,
     "metadata": {},
     "output_type": "execute_result"
    }
   ],
   "source": [
    "def coinChange(coins, amount, memo) -> int:\n",
    "    coinChange.count += 1\n",
    "#     print(amount, memo)\n",
    "    if amount in memo:\n",
    "        return memo[amount]\n",
    "    \n",
    "    min_d = float(\"inf\")\n",
    "    for n in coins:\n",
    "        if n <= amount:\n",
    "            min_d = min(min_d, coinChange(coins, amount - n, memo) + 1)\n",
    "    \n",
    "    memo[amount] = min_d\n",
    "    return min_d\n",
    "    \n",
    "    \n",
    "#     if coinChange.minDepth != float(\"inf\") :\n",
    "#     memo[amount] = coinChange.minDept\n",
    "   \n",
    "\n",
    "coins = [186,419,83,408]\n",
    "amount = 6249\n",
    "\n",
    "coinChange.count = 0\n",
    "coins.sort(reverse=True)\n",
    "memo = { 0: 1}\n",
    "\n",
    "\n",
    "coinChange(coins, amount, memo)\n",
    "print(\"minimum coins required: \", memo[amount] - 1 if amount in memo and memo[amount] != float(\"inf\") else -1)\n",
    "coinChange.count"
   ]
  },
  {
   "cell_type": "code",
   "execution_count": 162,
   "id": "1758b017",
   "metadata": {},
   "outputs": [
    {
     "data": {
      "text/plain": [
       "4"
      ]
     },
     "execution_count": 162,
     "metadata": {},
     "output_type": "execute_result"
    }
   ],
   "source": [
    "def lengthOfLIS(nums):\n",
    "    LTS = [1] * len(nums)\n",
    "    for i in range(len(nums) - 2, -1, -1):\n",
    "        for j in range(i, len(nums)):\n",
    "            if nums[i] < nums[j] :\n",
    "                LTS[i] = max(LTS[i], LTS[j] + 1)\n",
    "    return max(LTS)\n",
    "\n",
    "nums = [0,1,0,3,2,3]\n",
    "\n",
    "lengthOfLIS(nums)"
   ]
  },
  {
   "cell_type": "code",
   "execution_count": 209,
   "id": "0c51668e",
   "metadata": {},
   "outputs": [
    {
     "name": "stdout",
     "output_type": "stream",
     "text": [
      "memo length  107 110\n",
      "ans 2\n"
     ]
    },
    {
     "data": {
      "text/plain": [
       "107"
      ]
     },
     "execution_count": 209,
     "metadata": {},
     "output_type": "execute_result"
    }
   ],
   "source": [
    "def LCS_rec(text1, text2, i, j, memo):\n",
    "    \n",
    "#     print(memo)\n",
    "    if i >= len(text1) or j >= len(text2):\n",
    "        return 0\n",
    "    key = \"{}{}\".format(i,j)\n",
    "    if key in memo:\n",
    "        return memo[key]\n",
    "    LCS_rec.count += 1\n",
    "    if text1[i] == text2[j]:\n",
    "        cc = 1 + LCS_rec(text1, text2, i+1, j+1, memo)\n",
    "        memo[key] = cc\n",
    "        return cc\n",
    "    else:\n",
    "        cc = max(LCS_rec(text1, text2, i+1, j, memo), LCS_rec(text1, text2, i, j+1, memo))\n",
    "        memo[key] = cc\n",
    "        return cc\n",
    "\n",
    "\n",
    "def longestCommonSubsequence(text1, text2):\n",
    "    m = len(text1)\n",
    "    n = len(text2)\n",
    "    LCS_rec.count = 0\n",
    "    memo = {}\n",
    "    result = LCS_rec(text1, text2, 0 ,0, memo)\n",
    "    print(\"memo length \", len(memo), m*n)\n",
    "    return result\n",
    "\n",
    "\n",
    "\n",
    "text1 = \"oxcpqrsvwf\"\n",
    "text2 = \"shmtulqrypy\"\n",
    "print(\"ans\", longestCommonSubsequence(text1, text2))\n",
    "LCS_rec.count"
   ]
  },
  {
   "cell_type": "code",
   "execution_count": 210,
   "id": "8f7c5a7d",
   "metadata": {},
   "outputs": [],
   "source": [
    "# 139. Word Break"
   ]
  },
  {
   "cell_type": "code",
   "execution_count": 310,
   "id": "f01f8822",
   "metadata": {
    "scrolled": false
   },
   "outputs": [
    {
     "name": "stdout",
     "output_type": "stream",
     "text": [
      "a False 0 0\n",
      "ap False 0 1\n",
      "app False 0 2\n",
      "appl False 0 3\n",
      "apple True 0 4\n",
      "p False 1 1\n",
      "pp False 1 2\n",
      "ppl False 1 3\n",
      "pple True 1 4\n",
      "p False 2 2\n",
      "pl False 2 3\n",
      "ple True 2 4\n",
      "l False 3 3\n",
      "le True 3 4\n",
      "e True 4 4\n",
      "p False 5 5\n",
      "pe False 5 6\n",
      "pen True 5 7\n",
      "e False 6 6\n",
      "en True 6 7\n",
      "n True 7 7\n",
      "a False 8 8\n",
      "ap False 8 9\n",
      "app False 8 10\n",
      "appl False 8 11\n",
      "apple True 8 12\n",
      "True\n",
      "26\n"
     ]
    }
   ],
   "source": [
    "import pandas as pd \n",
    "\n",
    "def wordBreak(s, wordDict) -> bool:\n",
    "    wordBreak.count  = 0\n",
    "    wordDict = set(wordDict)\n",
    "    dp =  [False] * (len(s))\n",
    "        \n",
    "    for i in range(len(s)):\n",
    "        for j in range(i,len(s)):\n",
    "            wordBreak.count += 1\n",
    "            \n",
    "            if s[i:j+1] in wordDict:\n",
    "                l = j + 1 - i\n",
    "                dp[j] = True if j-l < 0 else dp[j-l] and True\n",
    "            \n",
    "            print(s[i:j+1], dp[j], i ,j )\n",
    "            if dp[j] :\n",
    "                if len(s) - 1 == j:\n",
    "                    return True\n",
    "                break\n",
    "    \n",
    "    return False\n",
    "\n",
    "\n",
    "\n",
    "\n",
    "\n",
    "s = \"applepenapple\"\n",
    "wordDict =[\"apple\", \"pen\"]\n",
    "\n",
    "\n",
    "\n",
    "print(wordBreak(s, wordDict))\n",
    "\n",
    "print(wordBreak.count)"
   ]
  },
  {
   "cell_type": "code",
   "execution_count": 216,
   "id": "4ca278b8",
   "metadata": {},
   "outputs": [
    {
     "data": {
      "text/plain": [
       "''"
      ]
     },
     "execution_count": 216,
     "metadata": {},
     "output_type": "execute_result"
    }
   ],
   "source": []
  },
  {
   "cell_type": "code",
   "execution_count": null,
   "id": "fe5e0d72",
   "metadata": {},
   "outputs": [],
   "source": []
  }
 ],
 "metadata": {
  "kernelspec": {
   "display_name": "Python 3 (ipykernel)",
   "language": "python",
   "name": "python3"
  },
  "language_info": {
   "codemirror_mode": {
    "name": "ipython",
    "version": 3
   },
   "file_extension": ".py",
   "mimetype": "text/x-python",
   "name": "python",
   "nbconvert_exporter": "python",
   "pygments_lexer": "ipython3",
   "version": "3.9.9"
  }
 },
 "nbformat": 4,
 "nbformat_minor": 5
}
