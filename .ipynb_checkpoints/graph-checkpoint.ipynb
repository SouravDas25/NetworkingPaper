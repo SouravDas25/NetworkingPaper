{
 "cells": [
  {
   "cell_type": "code",
   "execution_count": 1,
   "id": "a67a4b53",
   "metadata": {},
   "outputs": [
    {
     "name": "stdout",
     "output_type": "stream",
     "text": [
      "   A  B  C\n",
      "A  0  1  0\n",
      "B  0  0  1\n",
      "C  0  0  0\n"
     ]
    }
   ],
   "source": [
    "\n",
    "import numpy as np\n",
    "import pandas as pd\n",
    "\n",
    "class Graph:\n",
    "    \n",
    "    def __init__(self, vertices, directed=True):\n",
    "        if type(vertices) == str :\n",
    "            vertices = list(vertices)\n",
    "        self.mat = []\n",
    "        self.vertices = {}\n",
    "        for i in range(len(vertices)):\n",
    "            self.mat.append([])\n",
    "            self.vertices[vertices[i]] = i\n",
    "            for j in range(len(vertices)):\n",
    "                self.mat[i].append(0)\n",
    "        self.v = vertices\n",
    "        self.directed = directed\n",
    "    \n",
    "    def edges(self, edges):\n",
    "        edges = edges.split(\",\")\n",
    "        for edge in edges:\n",
    "            va , vb = edge.split(\"-\")\n",
    "            self.edge(va.strip(), vb.strip())\n",
    "        \n",
    "    \n",
    "    def edge(self, va, vb, weight = 1):\n",
    "        vai = self.vertices[va]\n",
    "        vbi = self.vertices[vb]\n",
    "        if self.directed:\n",
    "            self.mat[vai][vbi] = weight\n",
    "            return self\n",
    "        else:\n",
    "            self.mat[vai][vbi] = weight\n",
    "            self.mat[vbi][vai] = weight\n",
    "            return self\n",
    "    \n",
    "    def show(self):\n",
    "        print(pd.DataFrame(self.mat, columns= self.v, index=self.v))\n",
    "    \n",
    "\n",
    "graph = Graph([\"A\", \"B\" , \"C\"])\n",
    "graph.edge(\"A\",\"B\")\n",
    "graph.edges(\"A-B, B-C\")\n",
    "\n",
    "graph.show()"
   ]
  },
  {
   "cell_type": "code",
   "execution_count": 67,
   "id": "f575d05b",
   "metadata": {},
   "outputs": [
    {
     "name": "stdout",
     "output_type": "stream",
     "text": [
      "   0  1  2  3  4  5\n",
      "0  0  1  1  0  0  0\n",
      "1  0  0  0  0  0  0\n",
      "2  0  0  0  0  1  1\n",
      "3  1  0  0  0  0  0\n",
      "4  0  0  0  1  0  0\n",
      "5  0  0  0  0  0  0\n"
     ]
    },
    {
     "data": {
      "text/plain": [
       "[0, 1, 2, 4, 3, 5]"
      ]
     },
     "execution_count": 67,
     "metadata": {},
     "output_type": "execute_result"
    }
   ],
   "source": [
    "def dfs_recursion(mat, vertex ,output, visited):\n",
    "    if vertex not in visited:\n",
    "        output.append(vertex)\n",
    "        visited.add(vertex)\n",
    "    for i in range(len(mat)):\n",
    "        if mat[vertex][i] != 0 and i not in visited :\n",
    "            dfs_recursion(mat, i, output, visited)\n",
    "            \n",
    "def dfs_iteration(mat, cvi, output, visited):\n",
    "    stack = [cvi]\n",
    "    while len(stack) > 0:\n",
    "        vertex = stack.pop()\n",
    "        \n",
    "        if vertex not in visited:\n",
    "            output.append(vertex)\n",
    "            visited.add(vertex)\n",
    "        \n",
    "        for i in range(len(mat)):\n",
    "            if mat[vertex][i] != 0 and i not in visited :\n",
    "                stack.append(i)\n",
    "                \n",
    "\n",
    "def dfs(mat):\n",
    "    output = []\n",
    "    visited = set()\n",
    "    nv = len(mat)\n",
    "    for i in range(nv):\n",
    "        if i not in visited:\n",
    "            dfs_recursion(mat, i, output, visited) \n",
    "    return output\n",
    "\n",
    "graph = Graph(\"012345\", True)\n",
    "graph.edges(\"0-1, 0-2, 2-5, 2-4, 4-3, 3-0\")\n",
    "\n",
    "graph.show()\n",
    "\n",
    "dfs(graph.mat)"
   ]
  },
  {
   "cell_type": "code",
   "execution_count": 53,
   "id": "db48f47f",
   "metadata": {},
   "outputs": [
    {
     "name": "stdout",
     "output_type": "stream",
     "text": [
      "   0  1  2  3  4  5  6  7\n",
      "0  0  1  1  0  0  0  0  0\n",
      "1  0  0  0  0  0  0  1  1\n",
      "2  0  0  0  0  1  1  0  0\n",
      "3  1  0  0  0  0  0  0  0\n",
      "4  0  0  0  1  0  0  0  0\n",
      "5  0  0  0  0  0  0  0  0\n",
      "6  0  0  0  0  0  1  0  0\n",
      "7  0  0  0  0  0  0  0  0\n"
     ]
    },
    {
     "data": {
      "text/plain": [
       "[0, 1, 2, 6, 7, 4, 5, 3]"
      ]
     },
     "execution_count": 53,
     "metadata": {},
     "output_type": "execute_result"
    }
   ],
   "source": [
    "def bfs_recursion(mat, vertex, output, visited):\n",
    "    if vertex not in visited:\n",
    "        output.append(vertex)\n",
    "        visited.add(vertex)\n",
    "    queue = []\n",
    "    for i in range(len(mat)):\n",
    "        if mat[vertex][i] != 0 and i not in visited:\n",
    "            output.append(i)\n",
    "            visited.add(i)\n",
    "            queue.append(i)\n",
    "    for item in queue:\n",
    "        bfs_recursion(mat, item, output, visited)\n",
    "\n",
    "def bfs_iteration(mat, vertex, output, visited):\n",
    "    queue = [vertex]\n",
    "    if vertex not in visited:\n",
    "        output.append(vertex)\n",
    "        visited.add(vertex)\n",
    "    while len(queue) > 0:\n",
    "        vertex = queue.pop(0)\n",
    "        for i in range(len(mat)):\n",
    "            if mat[vertex][i] != 0 and i not in visited:\n",
    "                queue.append(i)\n",
    "                output.append(i)\n",
    "                visited.add(i)\n",
    "    pass\n",
    "\n",
    "def bfs(mat):\n",
    "    output = []\n",
    "    visited = set()\n",
    "    nv = len(mat)\n",
    "    for i in range(nv):\n",
    "        if i not in visited:\n",
    "            bfs_iteration(mat, i, output, visited)\n",
    "    return output\n",
    "\n",
    "\n",
    "graph = Graph(\"01234567\", True)\n",
    "graph.edges(\"0-1, 0-2, 2-5, 2-4, 4-3, 3-0, 1-7, 1-6, 6-5\")\n",
    "\n",
    "graph.show()\n",
    "\n",
    "bfs(graph.mat)"
   ]
  },
  {
   "cell_type": "code",
   "execution_count": 79,
   "id": "bcc6b6d5",
   "metadata": {},
   "outputs": [],
   "source": [
    "# Topological Sort"
   ]
  },
  {
   "cell_type": "code",
   "execution_count": 10,
   "id": "cdd78015",
   "metadata": {
    "scrolled": true
   },
   "outputs": [
    {
     "name": "stdout",
     "output_type": "stream",
     "text": [
      "   0  1  2  3  4  5  6  7\n",
      "0  0  1  0  1  0  0  0  0\n",
      "1  0  0  1  0  0  0  0  0\n",
      "2  0  0  0  0  1  0  1  0\n",
      "3  0  0  1  0  0  0  0  0\n",
      "4  0  0  0  0  0  1  0  0\n",
      "5  0  0  0  0  0  0  1  0\n",
      "6  0  0  0  0  0  0  0  1\n",
      "7  0  0  0  0  0  0  0  0\n"
     ]
    },
    {
     "data": {
      "text/plain": [
       "[0, 3, 1, 2, 4, 5, 6, 7]"
      ]
     },
     "execution_count": 10,
     "metadata": {},
     "output_type": "execute_result"
    }
   ],
   "source": [
    "\n",
    "def toplogicalDFS(mat, vertex, output, visited):\n",
    "    if vertex not in visited:\n",
    "        visited.add(vertex)\n",
    "    else:\n",
    "        return\n",
    "    for i in range(len(mat)):\n",
    "        if mat[vertex][i] != 0 and i not in visited:\n",
    "            toplogicalDFS(mat, i, output, visited)\n",
    "            \n",
    "    output.append(vertex)\n",
    "        \n",
    "\n",
    "def topologicalSort(mat):\n",
    "    output = []\n",
    "    visited = set()\n",
    "    for i in range(len(mat)):\n",
    "        toplogicalDFS(mat, i, output, visited)\n",
    "    output.reverse()\n",
    "    return output\n",
    "\n",
    "\n",
    "\n",
    "graph = Graph(\"01234567\")\n",
    "graph.edges(\"0-1, 0-3, 1-2, 3-2, 2-4, 2-6, 4-5, 5-6, 6-7\")\n",
    "\n",
    "graph.show()\n",
    "\n",
    "topologicalSort(graph.mat)"
   ]
  },
  {
   "cell_type": "code",
   "execution_count": 46,
   "id": "74253be9",
   "metadata": {
    "scrolled": true
   },
   "outputs": [
    {
     "name": "stdout",
     "output_type": "stream",
     "text": [
      "[[0 0 0]\n",
      " [0 1 0]\n",
      " [1 2 1]]\n"
     ]
    }
   ],
   "source": [
    "\n",
    "from collections import deque\n",
    "\n",
    "def updateMatrix(mat):\n",
    "    queue = deque()\n",
    "    for i in range(len(mat)):\n",
    "        for j in range(len(mat[i])):\n",
    "            if mat[i][j] == 0:\n",
    "                queue.append((i,j))\n",
    "            else:\n",
    "                mat[i][j] = -1\n",
    "    movement = [(1,0),(-1,0),(0,1),(0,-1)]\n",
    "    while len(queue) > 0:\n",
    "        i , j = queue.popleft()\n",
    "        \n",
    "        for m in movement:\n",
    "            xi, xj = i + m[0], j + m[1]\n",
    "            if 0 <= xi < len(mat) and 0 <= xj < len(mat[i]) :\n",
    "                if mat[xi][xj] == -1:\n",
    "                    mat[xi][xj] = mat[i][j] + 1\n",
    "                    queue.append((xi, xj))\n",
    "    \n",
    "    return mat\n",
    "\n",
    "\n",
    "mat = [[0,0,0],[0,1,0],[1,1,1]]\n",
    "\n",
    "\n",
    "\n",
    "print(np.array(updateMatrix(mat)))"
   ]
  },
  {
   "cell_type": "code",
   "execution_count": 85,
   "id": "d33873eb",
   "metadata": {},
   "outputs": [
    {
     "data": {
      "text/plain": [
       "-1"
      ]
     },
     "execution_count": 85,
     "metadata": {},
     "output_type": "execute_result"
    }
   ],
   "source": [
    "from collections import deque\n",
    "\n",
    "def orangesRotting(grid) -> int:\n",
    "    queue = deque()\n",
    "    freshOranges = 0\n",
    "    for i in range(len(grid)):\n",
    "        for j in range(len(grid[i])):\n",
    "            if grid[i][j] == 2:\n",
    "                grid[i][j] = 0\n",
    "                queue.append((i,j))\n",
    "            elif grid[i][j] == 1 :\n",
    "                grid[i][j] = -1\n",
    "                freshOranges += 1\n",
    "    \n",
    "    movement = [(1,0),(-1,0),(0,1),(0,-1)]\n",
    "    max_level = 0\n",
    "    \n",
    "    while len(queue) > 0:\n",
    "        i, j = queue.popleft()\n",
    "        for m in movement:\n",
    "            xi, xj = i + m[0], j + m[1]\n",
    "            if 0 <= xi < len(grid) and 0 <= xj < len(grid[i]) :\n",
    "                if grid[xi][xj] == -1:\n",
    "                    grid[xi][xj] = grid[i][j] + 1\n",
    "                    max_level = max(max_level, grid[xi][xj])\n",
    "                    queue.append((xi, xj))\n",
    "                    freshOranges -= 1\n",
    "    return -1 if freshOranges > 0 else max_level\n",
    "\n",
    "\n",
    "\n",
    "\n",
    "grid = [[2,1,1],[0,1,1],[1,0,1]]\n",
    "\n",
    "orangesRotting(grid)"
   ]
  },
  {
   "cell_type": "code",
   "execution_count": 89,
   "id": "0e320722",
   "metadata": {},
   "outputs": [
    {
     "data": {
      "text/plain": [
       "[[0, 0, 0], [0, 1, 1]]"
      ]
     },
     "execution_count": 89,
     "metadata": {},
     "output_type": "execute_result"
    }
   ],
   "source": [
    "from collections import deque\n",
    "\n",
    "def floodFill(image, sr, sc, newColor) :\n",
    "    fc = image[sr][sc]\n",
    "    image[sr][sc] = newColor\n",
    "    if fc == newColor:\n",
    "        return image\n",
    "    queue = deque([(sr,sc)])\n",
    "    movement = [(1,0),(-1,0),(0,1),(0,-1)]\n",
    "    while len(queue) > 0:\n",
    "        i, j = queue.popleft()\n",
    "        for m in movement:\n",
    "            xi, xj = i + m[0], j + m[1]\n",
    "            if 0 <= xi < len(image) and 0 <= xj < len(image[i]) :\n",
    "                if image[xi][xj] == fc:\n",
    "                    image[xi][xj] = newColor\n",
    "                    queue.append((xi, xj))\n",
    "    return image\n",
    "\n",
    "\n",
    "image = [[0,0,0],[0,1,1]]\n",
    "sr = 1\n",
    "sc = 1\n",
    "newColor = 1\n",
    "\n",
    "floodFill(image, sr, sc, newColor)"
   ]
  },
  {
   "cell_type": "code",
   "execution_count": 102,
   "id": "40c5e8c9",
   "metadata": {},
   "outputs": [
    {
     "data": {
      "text/plain": [
       "3"
      ]
     },
     "execution_count": 102,
     "metadata": {},
     "output_type": "execute_result"
    }
   ],
   "source": [
    "from collections import deque\n",
    "\n",
    "def updateVisited(grid, i, j, visited):\n",
    "    queue = deque([(i,j)])\n",
    "    visited.add((i,j))\n",
    "    movement = [(1,0),(-1,0),(0,1),(0,-1)]\n",
    "    while len(queue) > 0:\n",
    "        i, j = queue.popleft()\n",
    "        for m in movement:\n",
    "            xi, xj = i + m[0], j + m[1]\n",
    "            if 0 <= xi < len(grid) and 0 <= xj < len(grid[i]) and (xi,xj) not in visited and grid[xi][xj] == \"1\":\n",
    "                visited.add((xi,xj))\n",
    "                queue.append((xi,xj))\n",
    "        \n",
    "\n",
    "def numIslands(grid):\n",
    "    count = 0\n",
    "    visited = set()\n",
    "    for i in range(len(grid)):\n",
    "        for j in range(len(grid[i])):\n",
    "            if grid[i][j] == \"1\" and (i,j) not in visited:\n",
    "                updateVisited(grid, i, j, visited)\n",
    "                count += 1\n",
    "    return count\n",
    "\n",
    "grid = [\n",
    "    [\"1\",\"1\",\"0\",\"0\",\"0\"],\n",
    "    [\"1\",\"1\",\"0\",\"0\",\"0\"],\n",
    "    [\"0\",\"0\",\"1\",\"0\",\"0\"],\n",
    "    [\"0\",\"0\",\"0\",\"1\",\"1\"]\n",
    "]\n",
    "\n",
    "\n",
    "numIslands(grid)"
   ]
  },
  {
   "cell_type": "code",
   "execution_count": 105,
   "id": "94211b37",
   "metadata": {},
   "outputs": [
    {
     "data": {
      "text/plain": [
       "{(0, 4), (1, 3), (1, 4), (2, 2), (3, 0), (3, 1), (4, 0)}"
      ]
     },
     "execution_count": 105,
     "metadata": {},
     "output_type": "execute_result"
    }
   ],
   "source": [
    "\n",
    "from collections import deque\n",
    "\n",
    "def paUpdateVisited(heights, i, j, visited):\n",
    "    queue = deque([(i,j)])\n",
    "    visited.add((i,j))\n",
    "    movement = [(1,0),(-1,0),(0,1),(0,-1)]\n",
    "    while len(queue) > 0:\n",
    "        i, j = queue.popleft()\n",
    "        for m in movement:\n",
    "            xi, xj = i + m[0], j + m[1]\n",
    "            if 0 <= xi < len(heights) and 0 <= xj < len(heights[i]):\n",
    "                if (xi,xj) not in visited and heights[i][j] <= heights[xi][xj]:\n",
    "                    visited.add((xi,xj))\n",
    "                    queue.append((xi,xj))\n",
    "                \n",
    "def pacificAtlantic(heights):\n",
    "    \n",
    "    pvisited = set()\n",
    "    avisited = set()\n",
    "    \n",
    "    for j in range(len(heights[0])):\n",
    "        paUpdateVisited(heights, 0, j, pvisited)\n",
    "        paUpdateVisited(heights, len(heights) - 1, j, avisited)\n",
    "        \n",
    "    for i in range(len(heights)):\n",
    "        paUpdateVisited(heights, i, 0, pvisited)\n",
    "        paUpdateVisited(heights, i, len(heights[0]) - 1, avisited)\n",
    "        \n",
    "    return pvisited.intersection(avisited)\n",
    "\n",
    "heights = [[1,2,2,3,5],[3,2,3,4,4],[2,4,5,3,1],[6,7,1,4,5],[5,1,1,2,4]]\n",
    "\n",
    "pacificAtlantic(heights)"
   ]
  },
  {
   "cell_type": "code",
   "execution_count": 112,
   "id": "abdb225e",
   "metadata": {},
   "outputs": [
    {
     "name": "stdout",
     "output_type": "stream",
     "text": [
      "{0: [], 1: [0]}\n"
     ]
    },
    {
     "data": {
      "text/plain": [
       "True"
      ]
     },
     "execution_count": 112,
     "metadata": {},
     "output_type": "execute_result"
    }
   ],
   "source": [
    "\n",
    "def canComplete(al, course, visited):\n",
    "    \n",
    "    if course in visited:\n",
    "        return False\n",
    "    visited.add(course)\n",
    "    \n",
    "    for pq in al[course]:\n",
    "        cc = canComplete(al, pq, visited)\n",
    "        if not cc:\n",
    "            return False\n",
    "        \n",
    "    return True\n",
    "        \n",
    "\n",
    "def canFinish(numCourses, prerequisites) -> bool:\n",
    "    al = { i: [] for i in range(numCourses)}\n",
    "    \n",
    "    for a , b in prerequisites:\n",
    "        al[a].append(b)\n",
    "    \n",
    "    gblvisit = set()\n",
    "    for i in range(numCourses):\n",
    "        visited = set()\n",
    "        if i not in gblvisit:\n",
    "            cc = canComplete(al, i, visited)\n",
    "            if not cc:\n",
    "                return False\n",
    "        gblvisit.update(visited)\n",
    "        \n",
    "    print(al)\n",
    "    \n",
    "    return True\n",
    "\n",
    "numCourses = 2\n",
    "prerequisites = [[1,0]]\n",
    "canFinish(numCourses, prerequisites)"
   ]
  },
  {
   "cell_type": "code",
   "execution_count": null,
   "id": "ad250ddf",
   "metadata": {},
   "outputs": [],
   "source": []
  }
 ],
 "metadata": {
  "kernelspec": {
   "display_name": "Python 3 (ipykernel)",
   "language": "python",
   "name": "python3"
  },
  "language_info": {
   "codemirror_mode": {
    "name": "ipython",
    "version": 3
   },
   "file_extension": ".py",
   "mimetype": "text/x-python",
   "name": "python",
   "nbconvert_exporter": "python",
   "pygments_lexer": "ipython3",
   "version": "3.9.9"
  }
 },
 "nbformat": 4,
 "nbformat_minor": 5
}
