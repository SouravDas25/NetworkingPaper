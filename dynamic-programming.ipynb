{
 "cells": [
  {
   "cell_type": "code",
   "execution_count": 11,
   "id": "ef5267ed",
   "metadata": {},
   "outputs": [],
   "source": [
    "# Partition Equal Subset Sum"
   ]
  },
  {
   "cell_type": "code",
   "execution_count": 51,
   "id": "8cfe16d2",
   "metadata": {},
   "outputs": [
    {
     "name": "stdout",
     "output_type": "stream",
     "text": [
      "0 9.0 {}\n",
      "1 6.0 {}\n",
      "2 3.0 {}\n",
      "3 0.0 {}\n",
      "True\n"
     ]
    },
    {
     "data": {
      "text/plain": [
       "4"
      ]
     },
     "execution_count": 51,
     "metadata": {},
     "output_type": "execute_result"
    }
   ],
   "source": [
    "\n",
    "\n",
    "def canPartition(nums, l, target, memo = {}):\n",
    "    canPartition.count += 1\n",
    "    print(l , target, memo)\n",
    "    key = \"{},{}\".format(l, target) \n",
    "    if key in memo:\n",
    "        return memo[key]\n",
    "    if l >= len(nums):\n",
    "        memo[key] = False\n",
    "        return False\n",
    "    if target == 0:\n",
    "        return True\n",
    "    if target < 0: \n",
    "        memo[key] = False\n",
    "        return False\n",
    "    \n",
    "    \n",
    "    if canPartition(nums, l + 1, target - nums[l], memo) :\n",
    "        memo[key] = True\n",
    "        return True\n",
    "    if canPartition(nums, l + 1, target, memo):\n",
    "        memo[key] = True\n",
    "        return True\n",
    "    memo[key] = False\n",
    "    return False\n",
    "    \n",
    "\n",
    "\n",
    "nums = [3,3,3,4,5]\n",
    "\n",
    "\n",
    "\n",
    "canPartition.count = 0\n",
    "print(canPartition(nums, 0, sum(nums) / 2))\n",
    "canPartition.count"
   ]
  },
  {
   "cell_type": "code",
   "execution_count": 52,
   "id": "2a9252d7",
   "metadata": {},
   "outputs": [],
   "source": [
    "# 70. Climbing Stairs"
   ]
  },
  {
   "cell_type": "code",
   "execution_count": 78,
   "id": "0ffbdacd",
   "metadata": {},
   "outputs": [
    {
     "data": {
      "text/plain": [
       "89"
      ]
     },
     "execution_count": 78,
     "metadata": {},
     "output_type": "execute_result"
    }
   ],
   "source": [
    "def climbStairs(n: int, memo) -> int:\n",
    "    if n in memo:\n",
    "        return memo[n]\n",
    "    \n",
    "    result = climbStairs(n-1, memo ) + climbStairs(n-2, memo) \n",
    "    memo[n] = result\n",
    "    del memo[n-2]\n",
    "    return result\n",
    "\n",
    "climbStairs(10, { 0: 1, 1:1})"
   ]
  },
  {
   "cell_type": "code",
   "execution_count": 79,
   "id": "b9c87662",
   "metadata": {},
   "outputs": [],
   "source": [
    "# 322. Coin Change"
   ]
  },
  {
   "cell_type": "code",
   "execution_count": 154,
   "id": "c6c5bda0",
   "metadata": {},
   "outputs": [
    {
     "name": "stdout",
     "output_type": "stream",
     "text": [
      "minimum coins required:  20\n"
     ]
    },
    {
     "data": {
      "text/plain": [
       "17501"
      ]
     },
     "execution_count": 154,
     "metadata": {},
     "output_type": "execute_result"
    }
   ],
   "source": [
    "def coinChange(coins, amount, memo) -> int:\n",
    "    coinChange.count += 1\n",
    "#     print(amount, memo)\n",
    "    if amount in memo:\n",
    "        return memo[amount]\n",
    "    \n",
    "    min_d = float(\"inf\")\n",
    "    for n in coins:\n",
    "        if n <= amount:\n",
    "            min_d = min(min_d, coinChange(coins, amount - n, memo) + 1)\n",
    "    \n",
    "    memo[amount] = min_d\n",
    "    return min_d\n",
    "    \n",
    "    \n",
    "#     if coinChange.minDepth != float(\"inf\") :\n",
    "#     memo[amount] = coinChange.minDept\n",
    "   \n",
    "\n",
    "coins = [186,419,83,408]\n",
    "amount = 6249\n",
    "\n",
    "coinChange.count = 0\n",
    "coins.sort(reverse=True)\n",
    "memo = { 0: 1}\n",
    "\n",
    "\n",
    "coinChange(coins, amount, memo)\n",
    "print(\"minimum coins required: \", memo[amount] - 1 if amount in memo and memo[amount] != float(\"inf\") else -1)\n",
    "coinChange.count"
   ]
  },
  {
   "cell_type": "code",
   "execution_count": 162,
   "id": "a553e674",
   "metadata": {},
   "outputs": [
    {
     "data": {
      "text/plain": [
       "4"
      ]
     },
     "execution_count": 162,
     "metadata": {},
     "output_type": "execute_result"
    }
   ],
   "source": [
    "def lengthOfLIS(nums):\n",
    "    LTS = [1] * len(nums)\n",
    "    for i in range(len(nums) - 2, -1, -1):\n",
    "        for j in range(i, len(nums)):\n",
    "            if nums[i] < nums[j] :\n",
    "                LTS[i] = max(LTS[i], LTS[j] + 1)\n",
    "    return max(LTS)\n",
    "\n",
    "nums = [0,1,0,3,2,3]\n",
    "\n",
    "lengthOfLIS(nums)"
   ]
  },
  {
   "cell_type": "code",
   "execution_count": 209,
   "id": "fb5ae989",
   "metadata": {},
   "outputs": [
    {
     "name": "stdout",
     "output_type": "stream",
     "text": [
      "memo length  107 110\n",
      "ans 2\n"
     ]
    },
    {
     "data": {
      "text/plain": [
       "107"
      ]
     },
     "execution_count": 209,
     "metadata": {},
     "output_type": "execute_result"
    }
   ],
   "source": [
    "def LCS_rec(text1, text2, i, j, memo):\n",
    "    \n",
    "#     print(memo)\n",
    "    if i >= len(text1) or j >= len(text2):\n",
    "        return 0\n",
    "    key = \"{}{}\".format(i,j)\n",
    "    if key in memo:\n",
    "        return memo[key]\n",
    "    LCS_rec.count += 1\n",
    "    if text1[i] == text2[j]:\n",
    "        cc = 1 + LCS_rec(text1, text2, i+1, j+1, memo)\n",
    "        memo[key] = cc\n",
    "        return cc\n",
    "    else:\n",
    "        cc = max(LCS_rec(text1, text2, i+1, j, memo), LCS_rec(text1, text2, i, j+1, memo))\n",
    "        memo[key] = cc\n",
    "        return cc\n",
    "\n",
    "\n",
    "def longestCommonSubsequence(text1, text2):\n",
    "    m = len(text1)\n",
    "    n = len(text2)\n",
    "    LCS_rec.count = 0\n",
    "    memo = {}\n",
    "    result = LCS_rec(text1, text2, 0 ,0, memo)\n",
    "    print(\"memo length \", len(memo), m*n)\n",
    "    return result\n",
    "\n",
    "\n",
    "\n",
    "text1 = \"oxcpqrsvwf\"\n",
    "text2 = \"shmtulqrypy\"\n",
    "print(\"ans\", longestCommonSubsequence(text1, text2))\n",
    "LCS_rec.count"
   ]
  },
  {
   "cell_type": "code",
   "execution_count": 210,
   "id": "1fde4bd1",
   "metadata": {},
   "outputs": [],
   "source": [
    "# 139. Word Break"
   ]
  },
  {
   "cell_type": "code",
   "execution_count": 320,
   "id": "d77818ef",
   "metadata": {
    "scrolled": false
   },
   "outputs": [
    {
     "name": "stdout",
     "output_type": "stream",
     "text": [
      "cat True False 0 2 3\n",
      "cats True False 0 3 4\n",
      "sand True True 3 6 4\n",
      "and True True 4 6 3\n",
      "dog True True 7 9 3\n",
      "True\n",
      "52\n"
     ]
    }
   ],
   "source": [
    "import pandas as pd \n",
    "\n",
    "def wordBreak(s, wordDict) -> bool:\n",
    "    wordBreak.count  = 0\n",
    "    wordDict = set(wordDict)\n",
    "    dp =  [False] * (len(s))\n",
    "        \n",
    "    for i in range(len(s)):\n",
    "        for j in range(i,len(s)):\n",
    "            wordBreak.count += 1\n",
    "            \n",
    "            if s[i:j+1] in wordDict:\n",
    "                l = j + 1 - i\n",
    "                dp[j] = True if j-l < 0 else (dp[j-l] and True) or dp[j]\n",
    "            \n",
    "                print(s[i:j+1], dp[j],dp[j-l], i , j , l)\n",
    "            if dp[j] :\n",
    "                if len(s) - 1 == j:\n",
    "                    return True\n",
    "    print(dp)\n",
    "    return False\n",
    "\n",
    "\n",
    "\n",
    "\n",
    "\n",
    "\n",
    "\n",
    "s = \"catsanddog\"\n",
    "wordDict =[\"cat\",\"cats\",\"and\",\"sand\",\"dog\"]\n",
    "\n",
    "\n",
    "print(wordBreak(s, wordDict))\n",
    "\n",
    "print(wordBreak.count)"
   ]
  },
  {
   "cell_type": "code",
   "execution_count": 326,
   "id": "35bc86ff",
   "metadata": {},
   "outputs": [
    {
     "name": "stdout",
     "output_type": "stream",
     "text": [
      "['cat sand dog', 'cats and dog']\n"
     ]
    }
   ],
   "source": [
    "def wordBreak2(s, wordDict):\n",
    "    output = []\n",
    "    wb2(s, set(wordDict), 0, [], output)\n",
    "    return output\n",
    "\n",
    "def wb2(s, wordDict, p, stack , output):\n",
    "    if p >= len(s) :\n",
    "        output.append(\" \".join(stack))\n",
    "        return\n",
    "    for i in range(p,len(s) ):\n",
    "        wrd = s[p:i+1]\n",
    "        if wrd in wordDict:\n",
    "            stack.append(wrd)\n",
    "            wb2(s, wordDict, i+1, stack, output)\n",
    "            stack.pop()\n",
    "\n",
    "\n",
    "s = \"catsanddog\"\n",
    "wordDict =[\"cat\",\"cats\",\"and\",\"sand\",\"dog\"]\n",
    "\n",
    "print(wordBreak2(s, wordDict))\n",
    "\n",
    "# print(wordBreak2.count)"
   ]
  },
  {
   "cell_type": "code",
   "execution_count": 341,
   "id": "b60aed2d",
   "metadata": {},
   "outputs": [
    {
     "name": "stdout",
     "output_type": "stream",
     "text": [
      "520\n"
     ]
    }
   ],
   "source": [
    "def combinationSum4(nums, target):\n",
    "    memo = {}\n",
    "    return cmb(nums, target, memo)\n",
    "\n",
    "def cmb(nums, target, memo):\n",
    "    if target < 0:\n",
    "        return 0\n",
    "    if target == 0:\n",
    "        return 1\n",
    "    if target in memo:\n",
    "        return memo[target]\n",
    "    s = 0\n",
    "    for i in range(len(nums)):\n",
    "        s += cmb(nums, target - nums[i], memo)\n",
    "    memo[target] = s\n",
    "    return s\n",
    "        \n",
    "        \n",
    "\n",
    "nums = [1,2,4]\n",
    "target = 12\n",
    "\n",
    "print(combinationSum4(nums, target))\n"
   ]
  },
  {
   "cell_type": "code",
   "execution_count": 344,
   "id": "94d5b7ed",
   "metadata": {},
   "outputs": [
    {
     "data": {
      "text/plain": [
       "12"
      ]
     },
     "execution_count": 344,
     "metadata": {},
     "output_type": "execute_result"
    }
   ],
   "source": [
    "def rob(nums) -> int:\n",
    "    rob1 = rob2 = 0\n",
    "    for i in range(len(nums)):\n",
    "        if i % 2 == 0:\n",
    "            rob1 = max(rob1 + nums[i], rob2 )\n",
    "        else:\n",
    "            rob2 = max(rob1, rob2 + nums[i])\n",
    "    return max(rob1, rob2)\n",
    "\n",
    "\n",
    "nums = [2,7,9,3,1]\n",
    "rob(nums)"
   ]
  },
  {
   "cell_type": "code",
   "execution_count": 430,
   "id": "0b5763f6",
   "metadata": {},
   "outputs": [
    {
     "data": {
      "text/plain": [
       "3"
      ]
     },
     "execution_count": 430,
     "metadata": {},
     "output_type": "execute_result"
    }
   ],
   "source": [
    "def robCircle(nums) -> int:\n",
    "    if len(nums) < 3:\n",
    "        return max(nums)\n",
    "    rob1 = rob2 = 0\n",
    "    for i in range(len(nums) - 1):\n",
    "        if i % 2 == 0:\n",
    "            rob1 = max(rob1 + nums[i], rob2 )\n",
    "        else:\n",
    "            rob2 = max(rob1, rob2 + nums[i])\n",
    "    m = max(rob1, rob2)\n",
    "    rob1 = rob2 = 0\n",
    "    for i in range(len(nums) - 1, 0, -1):\n",
    "        if i % 2 == 0:\n",
    "            rob1 = max(rob1 + nums[i], rob2 )\n",
    "        else:\n",
    "            rob2 = max(rob1, rob2 + nums[i])\n",
    "    return max(rob1, rob2, m)\n",
    "\n",
    "nums = [2,1,1,2]\n",
    "\n",
    "\n",
    "robCircle(nums)"
   ]
  },
  {
   "cell_type": "code",
   "execution_count": 484,
   "id": "e2399f90",
   "metadata": {},
   "outputs": [
    {
     "name": "stdout",
     "output_type": "stream",
     "text": [
      "i- 0\n",
      "i- 1\n",
      "i- 2\n",
      "i- 3\n",
      "r- 1 2\n",
      "s- 26 1\n",
      "i- 3\n",
      "r- 2 1\n",
      "s- 22 0\n",
      "i- 2\n",
      "r- 3 0\n"
     ]
    },
    {
     "data": {
      "text/plain": [
       "3"
      ]
     },
     "execution_count": 484,
     "metadata": {},
     "output_type": "execute_result"
    }
   ],
   "source": [
    "\n",
    "\n",
    "def numDecodings(s: str) -> int:\n",
    "    return ndr(s,0, {})\n",
    "\n",
    "def ndr(s, i, memo):\n",
    "#     print( \"i-\", i)\n",
    "    if i >= len(s):\n",
    "        return 1\n",
    "    \n",
    "    if s[i] == \"0\":\n",
    "        return 0\n",
    "    \n",
    "    if i in memo:\n",
    "        return memo[i]\n",
    "    \n",
    "    r = ndr(s, i + 1, memo)\n",
    "    \n",
    "    if i+2 <= len(s) and int(s[i:i+2]) <= 26:\n",
    "#         print( \"s-\", s[i:i+2], i)\n",
    "        r += ndr(s, i + 2, memo)\n",
    "            \n",
    "    memo[i] = r\n",
    "#     print( \"r-\", r, i)\n",
    "    return r\n",
    "\n",
    "    \n",
    "    \n",
    "    \n",
    "\n",
    "s = \"226\"\n",
    "numDecodings(s)"
   ]
  },
  {
   "cell_type": "code",
   "execution_count": 501,
   "id": "a7eda3f5",
   "metadata": {},
   "outputs": [
    {
     "data": {
      "text/plain": [
       "1"
      ]
     },
     "execution_count": 501,
     "metadata": {},
     "output_type": "execute_result"
    }
   ],
   "source": [
    "def uniquePaths(m: int, n: int) -> int:\n",
    "    dp = [ [-1] * m for _ in range(n) ]\n",
    "    dp[n-1] = [1] * m\n",
    "    dp[n-1][m-1] = 1\n",
    "    \n",
    "    for i in range(n-2, -1, -1):\n",
    "        dp[i][m-1] = 1\n",
    "        for j in range(m-2, -1, -1):\n",
    "            if dp[i][j] == -1:\n",
    "                u = dp[i+1][j] if i+1 <n else 0\n",
    "                l = dp[i][j+1] if j+1 <m else 0\n",
    "                dp[i][j] = u+l\n",
    "            \n",
    "    return dp[0][0]\n",
    "\n",
    "m = 1\n",
    "n = 1\n",
    "\n",
    "uniquePaths(m, n)"
   ]
  },
  {
   "cell_type": "code",
   "execution_count": 14,
   "id": "ca884b06",
   "metadata": {},
   "outputs": [
    {
     "name": "stdout",
     "output_type": "stream",
     "text": [
      "{4: True, 3: True, 2: True, 0: True}\n"
     ]
    },
    {
     "data": {
      "text/plain": [
       "(True, None)"
      ]
     },
     "execution_count": 14,
     "metadata": {},
     "output_type": "execute_result"
    }
   ],
   "source": [
    "def canJump(nums) -> bool:\n",
    "    memo = {}\n",
    "    return cnJmpHpl(nums, 0, memo) , print(memo)\n",
    "\n",
    "def cnJmpHpl(nums, i, memo):\n",
    "    if i >= len(nums):\n",
    "        return True\n",
    "    if i == len(nums) -1 and nums[i] == 0:\n",
    "        return True\n",
    "    if i in memo:\n",
    "        return memo[i]\n",
    "    for v in range(nums[i], 0, -1):\n",
    "        if cnJmpHpl(nums, i+v, memo):\n",
    "            memo[i] = True\n",
    "            return True\n",
    "    memo[i] = False\n",
    "    return False\n",
    "\n",
    "nums = [2,3,1,1,4]\n",
    "canJump(nums)"
   ]
  },
  {
   "cell_type": "code",
   "execution_count": 17,
   "id": "51cb6df6",
   "metadata": {},
   "outputs": [
    {
     "data": {
      "text/plain": [
       "True"
      ]
     },
     "execution_count": 17,
     "metadata": {},
     "output_type": "execute_result"
    }
   ],
   "source": [
    "def canJump(nums) -> bool:\n",
    "    i =0\n",
    "    reachable = 0\n",
    "    \n",
    "    while i < len(nums) and i <= reachable:\n",
    "        reachable = max(reachable, i + nums[i]  )\n",
    "        i += 1\n",
    "    return i == len(nums)\n",
    "\n",
    "nums = [2,3,1,1,4]\n",
    "canJump(nums)"
   ]
  },
  {
   "cell_type": "code",
   "execution_count": 26,
   "id": "00e87d87",
   "metadata": {},
   "outputs": [
    {
     "name": "stdout",
     "output_type": "stream",
     "text": [
      "2 16\n",
      "4 8.0\n",
      "16 4.0\n",
      "256 2.0\n",
      "65536 1.0\n",
      "65536 0.0\n"
     ]
    },
    {
     "data": {
      "text/plain": [
       "65536"
      ]
     },
     "execution_count": 26,
     "metadata": {},
     "output_type": "execute_result"
    }
   ],
   "source": [
    "def myPow( x: float, n: int) -> float:\n",
    "    print(x, n)\n",
    "    if n == 0:\n",
    "        return 1\n",
    "    if n < 0:\n",
    "        return 1 / myPow(x, -n)\n",
    "    if n % 2:\n",
    "        return x * myPow(x, n - 1)\n",
    "    return myPow(x * x, n / 2)\n",
    "\n",
    "myPow(2,16)"
   ]
  },
  {
   "cell_type": "code",
   "execution_count": 50,
   "id": "832fc705",
   "metadata": {},
   "outputs": [
    {
     "data": {
      "text/plain": [
       "8"
      ]
     },
     "execution_count": 50,
     "metadata": {},
     "output_type": "execute_result"
    }
   ],
   "source": [
    "def mySqrt(n: int) -> int:\n",
    "    if n <= 0:\n",
    "        return 0\n",
    "    sq = 1\n",
    "    um = 9999\n",
    "    while sq <= um:\n",
    "        mid = sq + (um - sq) // 2\n",
    "        if mid*mid <= n:\n",
    "            sq = mid + 1\n",
    "        else:\n",
    "            um = mid - 1\n",
    "    return sq - 1\n",
    "\n",
    "mySqrt(64)"
   ]
  },
  {
   "cell_type": "code",
   "execution_count": null,
   "id": "ffeb1324",
   "metadata": {},
   "outputs": [],
   "source": []
  }
 ],
 "metadata": {
  "kernelspec": {
   "display_name": "Python 3 (ipykernel)",
   "language": "python",
   "name": "python3"
  },
  "language_info": {
   "codemirror_mode": {
    "name": "ipython",
    "version": 3
   },
   "file_extension": ".py",
   "mimetype": "text/x-python",
   "name": "python",
   "nbconvert_exporter": "python",
   "pygments_lexer": "ipython3",
   "version": "3.9.9"
  }
 },
 "nbformat": 4,
 "nbformat_minor": 5
}
