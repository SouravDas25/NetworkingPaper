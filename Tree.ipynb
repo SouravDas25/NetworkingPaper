{
 "cells": [
  {
   "cell_type": "code",
   "execution_count": 27,
   "id": "b778c44d",
   "metadata": {},
   "outputs": [],
   "source": [
    "class Node:\n",
    " \n",
    "    # A utility function to create a new node\n",
    "    def __init__(self, key):\n",
    "        self.data = key\n",
    "        self.left = None\n",
    "        self.right = None\n",
    "        \n",
    "    def __repr__(self):\n",
    "        return str(self.data)\n",
    "    \n",
    "\n",
    "def printNode(prefix, node, isLeft):\n",
    "    if node is not None:\n",
    "        print(prefix + (\"|-- \" if isLeft else \"+-- \") + str(node.data))\n",
    "        printNode(prefix + (\"|   \" if isLeft else \"    \"), node.left, True)\n",
    "        printNode(prefix + (\"|   \" if isLeft else \"    \"), node.right, False)\n",
    "        \n",
    "\n",
    "def printTree(root):\n",
    "    printNode(\"\", root, False)\n",
    "        \n",
    "def generateTree(arr):\n",
    "    leafs = []\n",
    "    num = arr.pop(0)\n",
    "    root = Node(num)\n",
    "    leafs.append(root)\n",
    "    while len(arr) > 0:\n",
    "        node = leafs[0]\n",
    "        if node.data == None:\n",
    "            leafs.pop(0)\n",
    "            continue\n",
    "            \n",
    "        if node.left is None:\n",
    "            num = arr.pop(0)\n",
    "            node.left = Node(num)\n",
    "            leafs.append(node.left)\n",
    "        elif node.right is None:\n",
    "            num = arr.pop(0)\n",
    "            node.right = Node(num)\n",
    "            leafs.append(node.right)\n",
    "        \n",
    "        if node.right is not None and node.left is not None:\n",
    "            leafs.pop(0)\n",
    "            if node.right.data == None:\n",
    "                node.right = None\n",
    "            if node.left.data == None:\n",
    "                node.left = None\n",
    "#         print(arr,leafs)\n",
    "#         printTree(root)\n",
    "                \n",
    "    \n",
    "    return root\n",
    "\n",
    "null = None"
   ]
  },
  {
   "cell_type": "code",
   "execution_count": 9,
   "id": "f4a51eb8",
   "metadata": {},
   "outputs": [
    {
     "name": "stdout",
     "output_type": "stream",
     "text": [
      "+-- 0\n",
      "    |-- 1\n",
      "    |   |-- 3\n",
      "    |   |   |-- 7\n",
      "    |   |   +-- 8\n",
      "    |   +-- 4\n",
      "    |       |-- 9\n",
      "    +-- 2\n",
      "        |-- 5\n",
      "        +-- 6\n"
     ]
    },
    {
     "data": {
      "text/plain": [
       "4"
      ]
     },
     "execution_count": 9,
     "metadata": {},
     "output_type": "execute_result"
    }
   ],
   "source": [
    "\n",
    "def maxDepth(root) -> int:\n",
    "    l = 0\n",
    "    r = 0\n",
    "    if root.left is not None:\n",
    "        l = maxDepth(root.left) + 1\n",
    "        \n",
    "    if root.right is not None:\n",
    "        r = maxDepth(root.right) + 1\n",
    "        \n",
    "    return max(l,r,1)\n",
    "\n",
    "root = generateTree(list(range(10)))\n",
    "printTree(root)\n",
    "maxDepth(root)"
   ]
  },
  {
   "cell_type": "code",
   "execution_count": 11,
   "id": "0c03b6ea",
   "metadata": {},
   "outputs": [
    {
     "data": {
      "text/plain": [
       "False"
      ]
     },
     "execution_count": 11,
     "metadata": {},
     "output_type": "execute_result"
    }
   ],
   "source": [
    "def isSameTree(p, q) -> bool:\n",
    "    if p is None and q is None:\n",
    "        return True\n",
    "    \n",
    "    if p is None or q is None:\n",
    "        return False\n",
    "    \n",
    "    if p.data != q.data:\n",
    "        return False\n",
    "    \n",
    "    return isSameTree(p.left, q.left) and isSameTree(p.right, q.right)\n",
    "    \n",
    "    \n",
    "\n",
    "\n",
    "root = generateTree(list(range(10)))\n",
    "isSameTree(root, generateTree(list(range(11))))"
   ]
  },
  {
   "cell_type": "code",
   "execution_count": 18,
   "id": "4330db69",
   "metadata": {},
   "outputs": [
    {
     "name": "stdout",
     "output_type": "stream",
     "text": [
      "+-- 4\n",
      "    |-- 2\n",
      "    |   |-- 1\n",
      "    |   +-- 3\n",
      "    +-- 7\n",
      "        |-- 6\n",
      "        +-- 9\n",
      "+-- 4\n",
      "    |-- 7\n",
      "    |   |-- 9\n",
      "    |   +-- 6\n",
      "    +-- 2\n",
      "        |-- 3\n",
      "        +-- 1\n"
     ]
    }
   ],
   "source": [
    "def invertTree(root):\n",
    "    if root is None:\n",
    "        return\n",
    "    root.left , root.right = root.right, root.left\n",
    "    invertTree(root.left)\n",
    "    invertTree(root.right)\n",
    "    \n",
    "    \n",
    "\n",
    "\n",
    "root = generateTree([4,2,7,1,3,6,9])\n",
    "printTree(root)\n",
    "invertTree(root)\n",
    "printTree(root)"
   ]
  },
  {
   "cell_type": "code",
   "execution_count": 54,
   "id": "54dfbde2",
   "metadata": {},
   "outputs": [
    {
     "name": "stdout",
     "output_type": "stream",
     "text": [
      "+-- 5\n",
      "    |-- 4\n",
      "    |   |-- 11\n",
      "    |   |   |-- 7\n",
      "    |   |   +-- 2\n",
      "    |   +-- None\n",
      "    |       |-- None\n",
      "    |       +-- None\n",
      "    +-- 8\n",
      "        |-- 13\n",
      "        |   |-- None\n",
      "        |   +-- 1\n",
      "        +-- 4\n",
      "7 None None = 7 7\n",
      "2 None None = 2 7\n",
      "11 7 2 = 18 20\n",
      "0 None None = 0 20\n",
      "0 None None = 0 20\n",
      "0 0 0 = 0 20\n",
      "4 18 0 = 22 22\n",
      "0 None None = 0 22\n",
      "1 None None = 1 22\n",
      "13 0 1 = 14 22\n",
      "4 None None = 4 22\n",
      "8 14 4 = 22 26\n",
      "5 22 22 = 27 49\n"
     ]
    },
    {
     "data": {
      "text/plain": [
       "49"
      ]
     },
     "execution_count": 54,
     "metadata": {},
     "output_type": "execute_result"
    }
   ],
   "source": [
    "def maxPathSum(root) -> int:\n",
    "    \n",
    "    if root == None:\n",
    "        return None\n",
    "    \n",
    "    d = root.data \n",
    "    if d is None:\n",
    "        d = 0\n",
    "    \n",
    "    \n",
    "    l = maxPathSum(root.left)\n",
    "    r = maxPathSum(root.right)\n",
    "    \n",
    "    \n",
    "    \n",
    "    if l is None and r is None:\n",
    "        m = d\n",
    "        maxPathSum.ms = max(m, maxPathSum.ms)\n",
    "    elif l is None :\n",
    "        m = max(r + d, d)\n",
    "        maxPathSum.ms = max(m, maxPathSum.ms)\n",
    "    elif r is None :\n",
    "        m = max(l + d, d)\n",
    "        maxPathSum.ms = max(m, maxPathSum.ms)\n",
    "    else:\n",
    "        m = max(r + d, l + d, d)\n",
    "        maxPathSum.ms = max(m, maxPathSum.ms, l + r + d)\n",
    "        \n",
    "    print(d, l ,r,\"=\", m, maxPathSum.ms)\n",
    "    \n",
    "    return m\n",
    "\n",
    "root = generateTree([5,4,8,11,None,13,4,7,2,None,None,None,1])\n",
    "printTree(root)\n",
    "maxPathSum.ms = float(\"-inf\")\n",
    "maxPathSum(root)\n",
    "maxPathSum.ms\n"
   ]
  },
  {
   "cell_type": "code",
   "execution_count": 55,
   "id": "394fe14c",
   "metadata": {},
   "outputs": [
    {
     "name": "stdout",
     "output_type": "stream",
     "text": [
      "+-- 4\n",
      "    |-- 2\n",
      "    |   |-- 1\n",
      "    |   +-- 3\n",
      "    +-- 7\n",
      "        |-- 6\n",
      "        +-- 9\n"
     ]
    },
    {
     "data": {
      "text/plain": [
       "[4, 2, 7, 1, 3, 6, 9]"
      ]
     },
     "execution_count": 55,
     "metadata": {},
     "output_type": "execute_result"
    }
   ],
   "source": [
    "def levelOrder(root):\n",
    "    output = []\n",
    "    queue = []\n",
    "    queue.append(root)\n",
    "    \n",
    "    while len(queue) > 0:\n",
    "        node = queue.pop(0)\n",
    "        output.append(node.data)\n",
    "        if node.left is not None:\n",
    "            queue.append(node.left)\n",
    "        if node.right is not None:\n",
    "            queue.append(node.right)\n",
    "    return output\n",
    "\n",
    "\n",
    "root = generateTree([4,2,7,1,3,6,9])\n",
    "printTree(root)\n",
    "levelOrder(root)"
   ]
  },
  {
   "cell_type": "code",
   "execution_count": 87,
   "id": "5ce0a1cd",
   "metadata": {},
   "outputs": [
    {
     "name": "stdout",
     "output_type": "stream",
     "text": [
      "+-- 4\n",
      "    |-- 2\n",
      "    |   |-- 1\n",
      "    |   +-- 3\n",
      "    +-- 7\n",
      "        |-- 6\n",
      "        +-- 9\n"
     ]
    },
    {
     "data": {
      "text/plain": [
       "[[4], [2, 7], [1, 3, 6, 9]]"
      ]
     },
     "execution_count": 87,
     "metadata": {},
     "output_type": "execute_result"
    }
   ],
   "source": [
    "from collections import deque\n",
    "\n",
    "def levelOrderList(root):\n",
    "    if root is None:\n",
    "        return []\n",
    "    output = []\n",
    "    queue = deque([[root]])\n",
    "    \n",
    "    while len(queue) > 0:\n",
    "        nodes = queue.popleft()\n",
    "        levelList = []\n",
    "        outputList = []\n",
    "        for node in nodes:\n",
    "            if node.left is not None:\n",
    "                levelList.append(node.left)\n",
    "            if node.right is not None:\n",
    "                levelList.append(node.right)\n",
    "            outputList.append(node.data)\n",
    "        if len(levelList) > 0:\n",
    "            queue.append(levelList)\n",
    "        output.append(outputList)\n",
    "        #print(queue, output)\n",
    "    return output\n",
    "\n",
    "\n",
    "root = generateTree([4,2,7,1,3,6,9])\n",
    "printTree(root)\n",
    "levelOrderList(root)"
   ]
  },
  {
   "cell_type": "code",
   "execution_count": 73,
   "id": "282fdf63",
   "metadata": {},
   "outputs": [
    {
     "name": "stdout",
     "output_type": "stream",
     "text": [
      "+-- 3\n",
      "    |-- 5\n",
      "    |   |-- 6\n",
      "    |   |   |-- None\n",
      "    |   |   +-- None\n",
      "    |   +-- 2\n",
      "    |       |-- 7\n",
      "    |       +-- 4\n",
      "    +-- 1\n",
      "        |-- 0\n",
      "        +-- 8\n"
     ]
    },
    {
     "data": {
      "text/plain": [
       "5"
      ]
     },
     "execution_count": 73,
     "metadata": {},
     "output_type": "execute_result"
    }
   ],
   "source": [
    "def lowestCommonAncestor(root, p, q):\n",
    "    if root is None:\n",
    "        return None\n",
    "    \n",
    "    \n",
    "    if root.data in {p,q}:\n",
    "        return root.data\n",
    "    \n",
    "    left = lowestCommonAncestor(root.left, p , q)\n",
    "    right = lowestCommonAncestor(root.right, p , q)\n",
    "            \n",
    "    \n",
    "    if left is None and right is None:\n",
    "        return None\n",
    "    elif left is None:\n",
    "        return right\n",
    "    elif right is None:\n",
    "        return left\n",
    "    else:\n",
    "        return root.data\n",
    "\n",
    "root = generateTree([3,5,1,6,2,0,8,null,null,7,4])\n",
    "printTree(root)\n",
    "lowestCommonAncestor(root, 5 , 4)"
   ]
  },
  {
   "cell_type": "code",
   "execution_count": 88,
   "id": "c47a8877",
   "metadata": {},
   "outputs": [
    {
     "name": "stdout",
     "output_type": "stream",
     "text": [
      "+-- 1\n",
      "    |-- 2\n",
      "    |   |-- 4\n",
      "    +-- 3\n"
     ]
    },
    {
     "data": {
      "text/plain": [
       "[1, 3, 4]"
      ]
     },
     "execution_count": 88,
     "metadata": {},
     "output_type": "execute_result"
    }
   ],
   "source": [
    "def rightSideView(root):\n",
    "    if root is None:\n",
    "        return []\n",
    "    \n",
    "    output = []\n",
    "    queue = deque([[root]])\n",
    "    \n",
    "    while len(queue) > 0:\n",
    "        nodes = queue.popleft()\n",
    "        levelList = []\n",
    "        outputList = []\n",
    "        for node in nodes:\n",
    "            if node.left is not None:\n",
    "                levelList.append(node.left)\n",
    "            if node.right is not None:\n",
    "                levelList.append(node.right)\n",
    "            outputList.append(node.data)\n",
    "        if len(levelList) > 0:\n",
    "            queue.append(levelList)\n",
    "        output.append(outputList[-1])\n",
    "        #print(queue, output)\n",
    "    return output\n",
    "\n",
    "\n",
    "root = generateTree([1,2,3,4])\n",
    "printTree(root)\n",
    "rightSideView(root)"
   ]
  },
  {
   "cell_type": "code",
   "execution_count": 108,
   "id": "5a454da7",
   "metadata": {},
   "outputs": [
    {
     "name": "stdout",
     "output_type": "stream",
     "text": [
      "+-- 3\n",
      "    |-- 4\n",
      "    |   |-- 1\n",
      "    |   +-- 2\n",
      "    +-- 5\n",
      "+-- 4\n",
      "    |-- 1\n",
      "    +-- 2\n",
      "3 False\n"
     ]
    },
    {
     "data": {
      "text/plain": [
       "True"
      ]
     },
     "execution_count": 108,
     "metadata": {},
     "output_type": "execute_result"
    }
   ],
   "source": [
    "def isSameTree(p, q) -> bool:\n",
    "    if p is None and q is None:\n",
    "        return True\n",
    "    if p is None or q is None:\n",
    "        return False\n",
    "    return p.data == q.data and isSameTree(p.left, q.left) and isSameTree(p.right, q.right)\n",
    "\n",
    "def isSubtree(root, subRoot):\n",
    "    if subRoot is None:\n",
    "        return True\n",
    "    if root is None:\n",
    "        return False\n",
    "    if isSameTree(root, subRoot) :\n",
    "        return True\n",
    "    print(root, isSameTree(root, subRoot))\n",
    "    return isSubtree(root.left, subRoot) or isSubtree(root.right, subRoot)\n",
    "\n",
    "\n",
    "root = generateTree([3,4,5,1,2])\n",
    "subTree = generateTree([4,1,2])\n",
    "printTree(root)\n",
    "printTree(subTree)\n",
    "isSubtree(root, subTree)\n"
   ]
  },
  {
   "cell_type": "code",
   "execution_count": 3,
   "id": "6caff338",
   "metadata": {},
   "outputs": [
    {
     "name": "stdout",
     "output_type": "stream",
     "text": [
      "1 3 0 4\n",
      "0 9 0 0\n",
      "3 20 2 4\n",
      "2 15 2 2\n",
      "4 7 4 4\n",
      "+-- 3\n",
      "    |-- 9\n",
      "    +-- 20\n",
      "        |-- 15\n",
      "        +-- 7\n"
     ]
    }
   ],
   "source": [
    "def buildTree(preorder, inorder):\n",
    "    buildTreeNode.preStart = 0\n",
    "    return buildTreeNode(preorder, inorder, 0, len(inorder) - 1)\n",
    "\n",
    "\n",
    "def buildTreeNode(preorder, inorder, start, end):\n",
    "    if start > end:\n",
    "        return None\n",
    "    val = preorder[buildTreeNode.preStart]\n",
    "    buildTreeNode.preStart += 1\n",
    "    root = Node(val)\n",
    "    \n",
    "    mid = inorder.index(val)\n",
    "    print(mid, root, start, end)\n",
    "    \n",
    "    root.left = buildTreeNode(preorder, inorder, start, mid - 1)\n",
    "    root.right = buildTreeNode(preorder, inorder, mid + 1, end)\n",
    "    \n",
    "    return root\n",
    "    \n",
    "    \n",
    "\n",
    "\n",
    "preorder = [3,9,20,15,7]\n",
    "inorder = [9,3,15,20,7]\n",
    "\n",
    "root = buildTree(preorder , inorder )\n",
    "printTree(root)"
   ]
  },
  {
   "cell_type": "code",
   "execution_count": 19,
   "id": "0ddc3986",
   "metadata": {
    "scrolled": false
   },
   "outputs": [
    {
     "name": "stdout",
     "output_type": "stream",
     "text": [
      "+-- 3\n",
      "    |-- 4\n",
      "    |   |-- 1\n",
      "    |   +-- 2\n",
      "    +-- 5\n",
      "\n"
     ]
    }
   ],
   "source": [
    "from collections import deque\n",
    "\n",
    "class Codec:\n",
    "\n",
    "    def serialize(self, root):\n",
    "        \"\"\"Encodes a tree to a single string.\n",
    "        \n",
    "        :type root: TreeNode\n",
    "        :rtype: str\n",
    "        \"\"\"\n",
    "        if root is None:\n",
    "            return \"\"\n",
    "        output = []\n",
    "        queue = deque([root])\n",
    "        while len(queue) > 0:\n",
    "            node = queue.popleft()\n",
    "            data = node.data if node != None else \"#\"\n",
    "            if node is not None:\n",
    "                queue.append(node.left)\n",
    "                queue.append(node.right)\n",
    "            output.append(str(data))\n",
    "            \n",
    "        return \" -> \".join(output)\n",
    "        \n",
    "\n",
    "    def deserialize(self, data):\n",
    "        \"\"\"Decodes your encoded data to tree.\n",
    "        \n",
    "        :type data: str\n",
    "        :rtype: TreeNode\n",
    "        \"\"\"\n",
    "        if len(data.strip()) <= 0 :\n",
    "            return None\n",
    "        data = data.split(\" -> \")\n",
    "        if data is None or len(data) < 1:\n",
    "            return None\n",
    "        root = Node(data.pop(0))\n",
    "        queue = deque([root])\n",
    "        while len(queue) > 0:\n",
    "            node = queue.popleft()\n",
    "            #print(node)\n",
    "            if node is not None:\n",
    "                val = data.pop(0)\n",
    "                node.left = Node(val) if val != \"#\" else None\n",
    "                queue.append(node.left)\n",
    "                \n",
    "                val = data.pop(0)\n",
    "                node.right = Node(val) if val != \"#\" else None\n",
    "                queue.append(node.right)\n",
    "            \n",
    "            \n",
    "        return root\n",
    "            \n",
    "        \n",
    "\n",
    "root = generateTree([3,4,5,1,2])\n",
    "printTree(root)\n",
    "\n",
    "pikle = Codec()\n",
    "doc = pikle.serialize(None)\n",
    "print(doc)\n",
    "ans = pikle.deserialize(doc)\n",
    "printTree(ans)"
   ]
  },
  {
   "cell_type": "code",
   "execution_count": 29,
   "id": "0c219f4f",
   "metadata": {},
   "outputs": [
    {
     "name": "stdout",
     "output_type": "stream",
     "text": [
      "+-- -2147483648\n",
      "    +-- 2147483647\n",
      "        |-- -2147483648\n"
     ]
    },
    {
     "data": {
      "text/plain": [
       "False"
      ]
     },
     "execution_count": 29,
     "metadata": {},
     "output_type": "execute_result"
    }
   ],
   "source": [
    "def isValidBST(root, mi = float(\"-inf\"), ma = float(\"inf\")) -> bool:\n",
    "    \n",
    "    if root is None:\n",
    "        return True\n",
    "    \n",
    "    if root.left is None and root.right is None:\n",
    "        return mi < root.data < ma\n",
    "    \n",
    "    if root.left is None and root.right is not None:\n",
    "        return root.right.data > root.data and mi < root.data < ma  and isValidBST(root.right, root.data, ma )\n",
    "    \n",
    "    if root.left is not None and root.right is None:\n",
    "        return root.left.data <= root.data and mi < root.data < ma and isValidBST(root.left, mi, root.data)\n",
    "    \n",
    "    return root.left.data <= root.data and root.right.data > root.data and mi < root.data < ma and isValidBST(root.left, mi, root.data) and isValidBST(root.right, root.data, ma )\n",
    "    \n",
    "    \n",
    "\n",
    "root = generateTree([-2147483648,null,2147483647,-2147483648])\n",
    "printTree(root)\n",
    "isValidBST(root)"
   ]
  },
  {
   "cell_type": "code",
   "execution_count": 39,
   "id": "9d72f213",
   "metadata": {},
   "outputs": [
    {
     "name": "stdout",
     "output_type": "stream",
     "text": [
      "+-- 1\n",
      "    +-- 2\n",
      "1 2\n",
      "2 1\n"
     ]
    },
    {
     "data": {
      "text/plain": [
       "2"
      ]
     },
     "execution_count": 39,
     "metadata": {},
     "output_type": "execute_result"
    }
   ],
   "source": [
    "\n",
    "from collections import deque\n",
    "\n",
    "    \n",
    "\n",
    "def kthSmallest(root, k: int) -> int:\n",
    "    inOrder = []\n",
    "    stack = []\n",
    "    current = root\n",
    "    while True :\n",
    "        \n",
    "        if current is not None:\n",
    "            stack.append(current)\n",
    "            current = current.left\n",
    "        else:\n",
    "            current = stack.pop()\n",
    "#             print(current.data, k)\n",
    "            k -= 1\n",
    "            if k == 0:\n",
    "                return current.data\n",
    "            current = current.right\n",
    "            \n",
    "        if current == None and len(stack) < 1:\n",
    "            break\n",
    "            \n",
    "    return None\n",
    "            \n",
    "        \n",
    "\n",
    "\n",
    "root = generateTree([1,null,2])\n",
    "printTree(root)\n",
    "k = 2\n",
    "\n",
    "kthSmallest(root, k)"
   ]
  },
  {
   "cell_type": "code",
   "execution_count": null,
   "id": "3dda6e65",
   "metadata": {},
   "outputs": [],
   "source": []
  }
 ],
 "metadata": {
  "kernelspec": {
   "display_name": "Python 3 (ipykernel)",
   "language": "python",
   "name": "python3"
  },
  "language_info": {
   "codemirror_mode": {
    "name": "ipython",
    "version": 3
   },
   "file_extension": ".py",
   "mimetype": "text/x-python",
   "name": "python",
   "nbconvert_exporter": "python",
   "pygments_lexer": "ipython3",
   "version": "3.9.9"
  }
 },
 "nbformat": 4,
 "nbformat_minor": 5
}