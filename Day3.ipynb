{
 "cells": [
  {
   "cell_type": "code",
   "execution_count": 1,
   "id": "6fb6b3e1",
   "metadata": {},
   "outputs": [],
   "source": [
    "# String permutation algorithm"
   ]
  },
  {
   "cell_type": "code",
   "execution_count": 23,
   "id": "8e0a4072",
   "metadata": {},
   "outputs": [
    {
     "data": {
      "text/plain": [
       "{('A', 'B', 'C', 'a'),\n",
       " ('A', 'B', 'a', 'C'),\n",
       " ('A', 'C', 'B', 'a'),\n",
       " ('A', 'C', 'a', 'B'),\n",
       " ('A', 'a', 'B', 'C'),\n",
       " ('A', 'a', 'C', 'B'),\n",
       " ('B', 'A', 'C', 'a'),\n",
       " ('B', 'A', 'a', 'C'),\n",
       " ('B', 'C', 'A', 'a'),\n",
       " ('B', 'C', 'a', 'A'),\n",
       " ('B', 'a', 'A', 'C'),\n",
       " ('B', 'a', 'C', 'A'),\n",
       " ('C', 'A', 'B', 'a'),\n",
       " ('C', 'A', 'a', 'B'),\n",
       " ('C', 'B', 'A', 'a'),\n",
       " ('C', 'B', 'a', 'A'),\n",
       " ('C', 'a', 'A', 'B'),\n",
       " ('C', 'a', 'B', 'A'),\n",
       " ('a', 'A', 'B', 'C'),\n",
       " ('a', 'A', 'C', 'B'),\n",
       " ('a', 'B', 'A', 'C'),\n",
       " ('a', 'B', 'C', 'A'),\n",
       " ('a', 'C', 'A', 'B'),\n",
       " ('a', 'C', 'B', 'A')}"
      ]
     },
     "execution_count": 23,
     "metadata": {},
     "output_type": "execute_result"
    }
   ],
   "source": [
    "\n",
    "def permute(arr, l, r, permurations):\n",
    "    if l >= r:\n",
    "        return permurations\n",
    "    si = l\n",
    "    arr = list(arr)\n",
    "    for i in range(l, r):\n",
    "        arr[si], arr[i] = arr[i], arr[si]\n",
    "        permute(tuple(arr), l+1, r, permurations)\n",
    "        permurations.add(tuple(arr))\n",
    "    return permurations\n",
    "\n",
    "\n",
    "arr = [\"A\", \"a\", \"B\", \"C\"]\n",
    "permute(tuple(arr), 0, len(arr), set())"
   ]
  },
  {
   "cell_type": "code",
   "execution_count": 24,
   "id": "83673a06",
   "metadata": {},
   "outputs": [],
   "source": [
    "# Permute a string by changing case"
   ]
  },
  {
   "cell_type": "code",
   "execution_count": 38,
   "id": "2a5aa400",
   "metadata": {},
   "outputs": [
    {
     "data": {
      "text/plain": [
       "{('A', 'B', 'C'),\n",
       " ('A', 'B', 'c'),\n",
       " ('A', 'b', 'C'),\n",
       " ('A', 'b', 'c'),\n",
       " ('a', 'B', 'C'),\n",
       " ('a', 'B', 'c'),\n",
       " ('a', 'b', 'C'),\n",
       " ('a', 'b', 'c')}"
      ]
     },
     "execution_count": 38,
     "metadata": {},
     "output_type": "execute_result"
    }
   ],
   "source": [
    "def permuteByCase(arr, l, r, permurations):\n",
    "    if l >= r:\n",
    "        return permurations\n",
    "    si = l\n",
    "    arr = list(arr)\n",
    "    for i in range(l, r):\n",
    "        ch = arr[i]\n",
    "        \n",
    "        permuteByCase(tuple(arr), l+1, r, permurations)\n",
    "        permurations.add(tuple(arr))\n",
    "        \n",
    "        arr[i] = ch.swapcase()\n",
    "        permuteByCase(tuple(arr), l+1, r, permurations)\n",
    "        permurations.add(tuple(arr))\n",
    "        \n",
    "        \n",
    "    return permurations\n",
    "\n",
    "\n",
    "arr = [\"A\", \"B\", \"C\"]\n",
    "permuteByCase(tuple(arr), 0, len(arr), set())"
   ]
  },
  {
   "cell_type": "code",
   "execution_count": 42,
   "id": "ee35096e",
   "metadata": {},
   "outputs": [],
   "source": [
    "# Order-Agnostic Binary Search"
   ]
  },
  {
   "cell_type": "code",
   "execution_count": 63,
   "id": "7f174f69",
   "metadata": {},
   "outputs": [
    {
     "data": {
      "text/plain": [
       "2"
      ]
     },
     "execution_count": 63,
     "metadata": {},
     "output_type": "execute_result"
    }
   ],
   "source": [
    "\n",
    "def binarySerachOA(arr, start, end, k):\n",
    "    isAsc = arr[start] < arr[end]\n",
    "    while start <= end:\n",
    "        middle = start + (end - start) // 2\n",
    "        if arr[middle] == k:\n",
    "            return middle\n",
    "        \n",
    "        if isAsc:  \n",
    "            if k > arr[middle]:\n",
    "                start = middle + 1\n",
    "            else:\n",
    "                end = middle - 1\n",
    "        else:\n",
    "            if k > arr[middle]:\n",
    "                end = middle - 1\n",
    "            else:\n",
    "                start = middle + 1\n",
    "    return -1\n",
    "\n",
    "arr = [40, 10, 5, 2, 1]\n",
    "\n",
    "binarySerachOA(arr, 0 , len(arr) - 1 , 5)"
   ]
  },
  {
   "cell_type": "code",
   "execution_count": 43,
   "id": "f31de038",
   "metadata": {},
   "outputs": [],
   "source": [
    "# Find position of an element in a sorted array of infinite numbers"
   ]
  },
  {
   "cell_type": "code",
   "execution_count": 65,
   "id": "0bdeb6f6",
   "metadata": {},
   "outputs": [
    {
     "data": {
      "text/plain": [
       "-1"
      ]
     },
     "execution_count": 65,
     "metadata": {},
     "output_type": "execute_result"
    }
   ],
   "source": [
    "\n",
    "def findValue(arr, k):\n",
    "    \n",
    "    s, e = 0, 1\n",
    "    isAsc = arr[s] < arr[e]\n",
    "    val = arr[s] if isAsc else arr[e]\n",
    "    \n",
    "    while (val < k and isAsc) or (val > k and not isAsc):\n",
    "        s = e\n",
    "        e = e*2\n",
    "        val = arr[s] if isAsc else arr[e]\n",
    "    return binarySerachOA(arr, s , e , k)\n",
    "\n",
    "arr = [40, 10, 5, 2, 1]\n",
    "\n",
    "findValue(arr, 95)"
   ]
  },
  {
   "cell_type": "code",
   "execution_count": 66,
   "id": "c4e5ceca",
   "metadata": {},
   "outputs": [],
   "source": [
    "# Merge K sorted linked lists"
   ]
  },
  {
   "cell_type": "code",
   "execution_count": 72,
   "id": "a4f67200",
   "metadata": {},
   "outputs": [
    {
     "name": "stdout",
     "output_type": "stream",
     "text": [
      "[0, 2, 1]\n",
      "2 1 0 [1, 2] [0]\n",
      "0 1 1 [2, 9] [0, 1]\n",
      "1 1 2 [3, 9] [0, 1, 2]\n",
      "0 2 3 [4, 9] [0, 1, 2, 3]\n",
      "1 2 4 [5, 9] [0, 1, 2, 3, 4]\n",
      "0 3 5 [6, 9] [0, 1, 2, 3, 4, 5]\n",
      "1 3 6 [7, 9] [0, 1, 2, 3, 4, 5, 6]\n",
      "0 4 7 [8, 9] [0, 1, 2, 3, 4, 5, 6, 7]\n",
      "1 4 8 [9] [0, 1, 2, 3, 4, 5, 6, 7, 8]\n",
      "2 2 9 [] [0, 1, 2, 3, 4, 5, 6, 7, 8, 9]\n",
      "2 3 10 [] [0, 1, 2, 3, 4, 5, 6, 7, 8, 9, 10]\n",
      "2 4 11 [] [0, 1, 2, 3, 4, 5, 6, 7, 8, 9, 10, 11]\n"
     ]
    },
    {
     "data": {
      "text/plain": [
       "[0, 1, 2, 3, 4, 5, 6, 7, 8, 9, 10, 11]"
      ]
     },
     "execution_count": 72,
     "metadata": {},
     "output_type": "execute_result"
    }
   ],
   "source": [
    "import heapq\n",
    "\n",
    "\n",
    "class KSortTuple():\n",
    "\n",
    "    def __init__(self, n, ai):\n",
    "        self.n = n\n",
    "        self.ai = ai\n",
    "\n",
    "    def __lt__(self, kst):\n",
    "        return self.n.__lt__(kst.n)\n",
    "\n",
    "    def __str__(self) -> str:\n",
    "        return str(self.n)\n",
    "\n",
    "    def __repr__(self) -> str:\n",
    "        return str(self.n)\n",
    "\n",
    "\n",
    "def mergeKsortedList(arrays):\n",
    "    merged = []\n",
    "    minHeap = []\n",
    "\n",
    "    pointers = []\n",
    "\n",
    "    tl = 0\n",
    "    for i in range(len(arrays)):\n",
    "        heapq.heappush(minHeap, KSortTuple(arrays[i][0], i))\n",
    "        tl += len(arrays[i])\n",
    "        pointers.append(0)\n",
    "\n",
    "    print(minHeap)\n",
    "\n",
    "    while len(merged) < tl:\n",
    "        minItem = heapq.heappop(minHeap)\n",
    "        merged.append(minItem.n)\n",
    "\n",
    "        arrayIndex = minItem.ai\n",
    "\n",
    "        pointers[arrayIndex] += 1\n",
    "        valIndex = pointers[arrayIndex]\n",
    "\n",
    "        print(arrayIndex, valIndex, minItem, minHeap, merged)\n",
    "\n",
    "        if valIndex < len(arrays[arrayIndex]) :\n",
    "            heapq.heappush(minHeap, KSortTuple(arrays[arrayIndex][valIndex], arrayIndex))\n",
    "\n",
    "    return merged\n",
    "\n",
    "\n",
    "arrays = [\n",
    "    [1, 3, 5, 7],\n",
    "    [2, 4, 6, 8],\n",
    "    [0, 9, 10, 11]\n",
    "]\n",
    "\n",
    "mergeKsortedList(arrays)"
   ]
  },
  {
   "cell_type": "code",
   "execution_count": 73,
   "id": "e7ff407f",
   "metadata": {},
   "outputs": [],
   "source": [
    "# Find k pairs with smallest sums in two arrays"
   ]
  },
  {
   "cell_type": "code",
   "execution_count": 76,
   "id": "68ce572b",
   "metadata": {},
   "outputs": [
    {
     "data": {
      "text/plain": [
       "{(1, 2), (1, 4), (1, 6), (7, 2)}"
      ]
     },
     "execution_count": 76,
     "metadata": {},
     "output_type": "execute_result"
    }
   ],
   "source": [
    "\n",
    "def KPairWithSmallestSum(arr1, arr2, k):\n",
    "    sums = set()\n",
    "    i1 = 0\n",
    "    while len(sums) < k:\n",
    "        i2 = 0\n",
    "        si = arr1[i1]\n",
    "        while i2 < len(arr2) and len(sums) < k:\n",
    "            sums.add((arr1[i1], arr2[i2]))\n",
    "            i2 += 1\n",
    "        i1 += 1\n",
    "    return sums\n",
    "\n",
    "arr1 = [1, 7, 11]\n",
    "arr2 = [2, 4, 6]\n",
    "\n",
    "KPairWithSmallestSum(arr1, arr2, 4)"
   ]
  },
  {
   "cell_type": "code",
   "execution_count": null,
   "id": "42fe0d48",
   "metadata": {},
   "outputs": [],
   "source": []
  }
 ],
 "metadata": {
  "kernelspec": {
   "display_name": "Python 3 (ipykernel)",
   "language": "python",
   "name": "python3"
  },
  "language_info": {
   "codemirror_mode": {
    "name": "ipython",
    "version": 3
   },
   "file_extension": ".py",
   "mimetype": "text/x-python",
   "name": "python",
   "nbconvert_exporter": "python",
   "pygments_lexer": "ipython3",
   "version": "3.9.9"
  }
 },
 "nbformat": 4,
 "nbformat_minor": 5
}
