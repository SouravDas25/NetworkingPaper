{
 "cells": [
  {
   "cell_type": "code",
   "execution_count": 1,
   "id": "6f36a1cb",
   "metadata": {},
   "outputs": [],
   "source": [
    "# Valid Anagram"
   ]
  },
  {
   "cell_type": "code",
   "execution_count": 34,
   "id": "2062458b",
   "metadata": {
    "scrolled": true
   },
   "outputs": [
    {
     "name": "stdout",
     "output_type": "stream",
     "text": [
      "defaultdict(<function isAnagram.<locals>.<lambda> at 0x00000184BDEFB0D0>, {'a': 3, 'n': 1, 'g': 1, 'r': 1, 'm': 1}) defaultdict(<function isAnagram.<locals>.<lambda> at 0x00000184BDEFBA60>, {'n': 1, 'a': 3, 'g': 1, 'r': 1, 'm': 1})\n",
      "defaultdict(<function isAnagram.<locals>.<lambda> at 0x00000184BDEFBA60>, {'r': 1, 'a': 1, 't': 1}) defaultdict(<function isAnagram.<locals>.<lambda> at 0x00000184BDEFB0D0>, {'c': 1, 'a': 1, 'r': 1})\n"
     ]
    }
   ],
   "source": [
    "from collections import defaultdict\n",
    "\n",
    "def isAnagram(s: str, t: str):\n",
    "    if len(s) != len(t):\n",
    "        return False\n",
    "    ch_dict1 = defaultdict(lambda : 0)\n",
    "    ch_dict2 = defaultdict(lambda : 0)\n",
    "    for i in range(len(s)):\n",
    "        ch1 = s[i]\n",
    "        ch2 = t[i]\n",
    "        ch_dict1[ch1] += 1\n",
    "        ch_dict2[ch2] += 1\n",
    "    \n",
    "    print(ch_dict1,ch_dict2 )\n",
    "    for ch in ch_dict1:\n",
    "        if ch not in ch_dict2:\n",
    "            return False\n",
    "        if ch_dict2[ch] != ch_dict1[ch]:\n",
    "            return False\n",
    "    return True\n",
    "        \n",
    "    \n",
    "\n",
    "s = \"anagram\"\n",
    "t = \"nagaram\"\n",
    "assert isAnagram(s,t) == True\n",
    "\n",
    "s = \"rat\"\n",
    "t = \"car\"\n",
    "assert isAnagram(s,t) == False"
   ]
  },
  {
   "cell_type": "code",
   "execution_count": 5,
   "id": "c46b82fa",
   "metadata": {},
   "outputs": [],
   "source": [
    "# Valid Palindrome"
   ]
  },
  {
   "cell_type": "code",
   "execution_count": 22,
   "id": "a8ac00f5",
   "metadata": {},
   "outputs": [
    {
     "name": "stdout",
     "output_type": "stream",
     "text": [
      "['a', 'm', 'a', 'n', 'a', 'p', 'l', 'a', 'n', 'a', 'c', 'a', 'n', 'a', 'l', 'p', 'a', 'n', 'a', 'm', 'a']\n",
      "['r', 'a', 'c', 'e', 'a', 'c', 'a', 'r']\n",
      "['a', 'b']\n"
     ]
    }
   ],
   "source": [
    "def isPalindrome(s: str) -> bool:\n",
    "    sanitizedString = []\n",
    "    for i in range(len(s) ):\n",
    "        if s[i].isalnum() :\n",
    "            sanitizedString.append(s[i].lower())\n",
    "            \n",
    "            \n",
    "#     print(sanitizedString)\n",
    "    i = 0\n",
    "    while i < len(sanitizedString) // 2:\n",
    "        ri = len(sanitizedString) -1 -i\n",
    "        if sanitizedString[i] != sanitizedString[ri]:\n",
    "            return False\n",
    "        i += 1\n",
    "    return True\n",
    "\n",
    "\n",
    "s = \"A man, a plan, a canal: Panama\"\n",
    "assert isPalindrome(s) == True\n",
    "\n",
    "s = \"race a car\"\n",
    "assert isPalindrome(s) == False\n",
    "\n",
    "s = \"a.b.,\"\n",
    "assert isPalindrome(s) == False"
   ]
  },
  {
   "cell_type": "code",
   "execution_count": 23,
   "id": "e152dcde",
   "metadata": {},
   "outputs": [],
   "source": [
    "# Longest Substring Without Repeating Characters"
   ]
  },
  {
   "cell_type": "code",
   "execution_count": 28,
   "id": "ba453617",
   "metadata": {},
   "outputs": [
    {
     "name": "stdout",
     "output_type": "stream",
     "text": [
      "a {'a'} 0 0\n",
      "b {'a', 'b'} 1 0\n",
      "c {'a', 'c', 'b'} 2 0\n",
      "a {'c', 'a', 'b'} 3 1\n",
      "b {'a', 'b', 'c'} 4 2\n",
      "c {'a', 'b', 'c'} 5 3\n",
      "b {'c', 'b'} 6 5\n",
      "b {'b'} 7 7\n"
     ]
    }
   ],
   "source": [
    "def lengthOfLongestSubstring(s: str) -> int:\n",
    "    ch_set = set()\n",
    "    i = j = 0\n",
    "    max_len = 0\n",
    "    while i < len(s):\n",
    "        if s[i] in ch_set:\n",
    "            while s[j] != s[i]:\n",
    "                ch_set.remove(s[j])\n",
    "                j += 1\n",
    "            else:\n",
    "                ch_set.remove(s[j])\n",
    "                j += 1\n",
    "        ch_set.add(s[i])\n",
    "        max_len = max(max_len, len(ch_set))\n",
    "        \n",
    "        print(s[i], ch_set, i , j)\n",
    "        i += 1\n",
    "    return max_len\n",
    "\n",
    "s = \"abcabcbb\"\n",
    "\n",
    "assert lengthOfLongestSubstring(s) == 3"
   ]
  },
  {
   "cell_type": "code",
   "execution_count": 29,
   "id": "15c3821e",
   "metadata": {},
   "outputs": [],
   "source": [
    "# Longest Repeating Character Replacement"
   ]
  },
  {
   "cell_type": "code",
   "execution_count": 58,
   "id": "033a06b9",
   "metadata": {},
   "outputs": [
    {
     "name": "stdout",
     "output_type": "stream",
     "text": [
      "AABABBA\n",
      "A defaultdict(<function characterReplacement.<locals>.<lambda> at 0x00000184BDEFBEE0>, {'A': 1}) 1 0 1 1\n",
      "A defaultdict(<function characterReplacement.<locals>.<lambda> at 0x00000184BDEFBEE0>, {'A': 2}) 2 0 2 2\n",
      "B defaultdict(<function characterReplacement.<locals>.<lambda> at 0x00000184BDEFBEE0>, {'A': 2, 'B': 1}) 3 1 2 3\n",
      "A defaultdict(<function characterReplacement.<locals>.<lambda> at 0x00000184BDEFBEE0>, {'A': 3, 'B': 1}) 4 1 3 4\n",
      "B defaultdict(<function characterReplacement.<locals>.<lambda> at 0x00000184BDEFBEE0>, {'A': 2, 'B': 2}) 5 2 3 4\n",
      "B defaultdict(<function characterReplacement.<locals>.<lambda> at 0x00000184BDEFBEE0>, {'A': 1, 'B': 3}) 5 2 3 4\n",
      "A defaultdict(<function characterReplacement.<locals>.<lambda> at 0x00000184BDEFBEE0>, {'A': 2, 'B': 2}) 5 2 3 4\n",
      "AAAA\n",
      "A defaultdict(<function characterReplacement.<locals>.<lambda> at 0x00000184BDEFBEE0>, {'A': 1}) 1 0 1 1\n",
      "A defaultdict(<function characterReplacement.<locals>.<lambda> at 0x00000184BDEFBEE0>, {'A': 2}) 2 0 2 2\n",
      "A defaultdict(<function characterReplacement.<locals>.<lambda> at 0x00000184BDEFBEE0>, {'A': 3}) 3 0 3 3\n",
      "A defaultdict(<function characterReplacement.<locals>.<lambda> at 0x00000184BDEFBEE0>, {'A': 4}) 4 0 4 4\n"
     ]
    }
   ],
   "source": [
    "def getMax(characterDict):\n",
    "    ma = 0\n",
    "    for i in characterDict:\n",
    "        if characterDict[i] > ma:\n",
    "            ma = characterDict[i]\n",
    "    return ma\n",
    "\n",
    "def characterReplacement(s: str, k: int):\n",
    "    characterDict = defaultdict(lambda : 0)\n",
    "    i = j = 0\n",
    "    max_len = 0\n",
    "    print(s)\n",
    "    while i < len(s):\n",
    "        characterDict[s[i]] += 1\n",
    "        ma = getMax(characterDict)\n",
    "        ws = i - j + 1\n",
    "        op = ws - ma\n",
    "        if op <= k:\n",
    "            max_len = max(max_len, ws)\n",
    "        else:\n",
    "            characterDict[s[j]] -= 1\n",
    "            if characterDict[s[j]] <= 0:\n",
    "                del characterDict[s[j]]\n",
    "            j += 1\n",
    "            \n",
    "        print(s[i], characterDict, ws, op , ma , max_len)\n",
    "        i += 1\n",
    "    return max_len\n",
    "\n",
    "s = \"AABABBA\"\n",
    "k = 1\n",
    "\n",
    "assert characterReplacement(s,k) == 4\n",
    "\n",
    "s = \"AAAA\"\n",
    "k = 2\n",
    "\n",
    "assert characterReplacement(s,k) == 4"
   ]
  },
  {
   "cell_type": "code",
   "execution_count": 59,
   "id": "c4277de3",
   "metadata": {},
   "outputs": [],
   "source": [
    "# Find All Anagrams in a String"
   ]
  },
  {
   "cell_type": "code",
   "execution_count": 90,
   "id": "20c4d7a5",
   "metadata": {},
   "outputs": [
    {
     "name": "stdout",
     "output_type": "stream",
     "text": [
      "defaultdict(<function findAnagrams.<locals>.<lambda> at 0x00000184BDF6CD30>, {'a': 1, 'b': 1})\n",
      "a 1 defaultdict(<function findAnagrams.<locals>.<lambda> at 0x00000184BDF6C0D0>, {'a': 1}) []\n",
      "b 2 defaultdict(<function findAnagrams.<locals>.<lambda> at 0x00000184BDF6C0D0>, {'a': 1, 'b': 1}) [0]\n",
      "a 2 defaultdict(<function findAnagrams.<locals>.<lambda> at 0x00000184BDF6C0D0>, {'a': 1, 'b': 1}) [0, 1]\n",
      "b 2 defaultdict(<function findAnagrams.<locals>.<lambda> at 0x00000184BDF6C0D0>, {'a': 1, 'b': 1}) [0, 1, 2]\n"
     ]
    },
    {
     "data": {
      "text/plain": [
       "[0, 1, 2]"
      ]
     },
     "execution_count": 90,
     "metadata": {},
     "output_type": "execute_result"
    }
   ],
   "source": [
    "def matchAnadict(ch_dict1, ch_dict2):\n",
    "    for ch in ch_dict1:\n",
    "        if ch not in ch_dict2:\n",
    "            return False\n",
    "        if ch_dict2[ch] != ch_dict1[ch]:\n",
    "            return False\n",
    "    return True\n",
    "\n",
    "def findAnagrams( s, p):\n",
    "    output = []\n",
    "    if len(p) > len(s):\n",
    "        p , s = s , p\n",
    "    ana_dict = defaultdict(lambda : 0)\n",
    "    for i in p:\n",
    "        ana_dict[i] += 1\n",
    "    \n",
    "    print(ana_dict)\n",
    "    t_dict = defaultdict(lambda : 0)\n",
    "    i = 0\n",
    "    j = 0\n",
    "    while i < len(s):\n",
    "        ws = i - j + 1\n",
    "        t_dict[s[i]] += 1\n",
    "        \n",
    "        if ws > len(p):\n",
    "            t_dict[s[j]] -= 1\n",
    "            if t_dict[s[j]] <= 0:\n",
    "                del t_dict[s[j]]\n",
    "            j += 1\n",
    "        \n",
    "        ws = i - j + 1\n",
    "        \n",
    "        if ws == len(p):\n",
    "            if matchAnadict(t_dict, ana_dict):\n",
    "                output.append(j)\n",
    "        print(s[i], ws, t_dict, output)\n",
    "        i += 1\n",
    "    \n",
    "    return output\n",
    "\n",
    "s = \"abab\"\n",
    "p = \"ab\"\n",
    "\n",
    "findAnagrams( s, p)"
   ]
  },
  {
   "cell_type": "code",
   "execution_count": 69,
   "id": "284be5cd",
   "metadata": {},
   "outputs": [],
   "source": [
    "# Minimum Window Substring"
   ]
  },
  {
   "cell_type": "code",
   "execution_count": 100,
   "id": "113869cc",
   "metadata": {},
   "outputs": [
    {
     "name": "stdout",
     "output_type": "stream",
     "text": [
      "defaultdict(<function minWindow.<locals>.<lambda> at 0x00000184BDF35550>, {'c': 1, 'a': 1, 'e': 1})\n",
      "c 0 0 (0, -1) defaultdict(<function minWindow.<locals>.<lambda> at 0x00000184BDF35310>, {'c': 1})\n",
      "a 1 0 (0, -1) defaultdict(<function minWindow.<locals>.<lambda> at 0x00000184BDF35310>, {'c': 1, 'a': 1})\n",
      "b 2 0 (0, -1) defaultdict(<function minWindow.<locals>.<lambda> at 0x00000184BDF35310>, {'c': 1, 'a': 1, 'b': 1})\n",
      "w 3 0 (0, -1) defaultdict(<function minWindow.<locals>.<lambda> at 0x00000184BDF35310>, {'c': 1, 'a': 1, 'b': 1, 'w': 1})\n",
      "e 4 1 (0, 4) defaultdict(<function minWindow.<locals>.<lambda> at 0x00000184BDF35310>, {'a': 1, 'b': 1, 'w': 1, 'e': 1})\n",
      "f 5 1 (0, 4) defaultdict(<function minWindow.<locals>.<lambda> at 0x00000184BDF35310>, {'a': 1, 'b': 1, 'w': 1, 'e': 1, 'f': 1})\n",
      "g 6 1 (0, 4) defaultdict(<function minWindow.<locals>.<lambda> at 0x00000184BDF35310>, {'a': 1, 'b': 1, 'w': 1, 'e': 1, 'f': 1, 'g': 1})\n",
      "e 7 1 (0, 4) defaultdict(<function minWindow.<locals>.<lambda> at 0x00000184BDF35310>, {'a': 1, 'b': 1, 'w': 1, 'e': 2, 'f': 1, 'g': 1})\n",
      "w 8 1 (0, 4) defaultdict(<function minWindow.<locals>.<lambda> at 0x00000184BDF35310>, {'a': 1, 'b': 1, 'w': 2, 'e': 2, 'f': 1, 'g': 1})\n",
      "c 9 2 (0, 4) defaultdict(<function minWindow.<locals>.<lambda> at 0x00000184BDF35310>, {'b': 1, 'w': 2, 'e': 2, 'f': 1, 'g': 1, 'c': 1})\n",
      "w 10 2 (0, 4) defaultdict(<function minWindow.<locals>.<lambda> at 0x00000184BDF35310>, {'b': 1, 'w': 3, 'e': 2, 'f': 1, 'g': 1, 'c': 1})\n",
      "a 11 8 (0, 4) defaultdict(<function minWindow.<locals>.<lambda> at 0x00000184BDF35310>, {'w': 2, 'c': 1, 'a': 1})\n",
      "e 12 10 (9, 12) defaultdict(<function minWindow.<locals>.<lambda> at 0x00000184BDF35310>, {'w': 1, 'a': 1, 'e': 1})\n",
      "f 13 10 (9, 12) defaultdict(<function minWindow.<locals>.<lambda> at 0x00000184BDF35310>, {'w': 1, 'a': 1, 'e': 1, 'f': 1})\n",
      "g 14 10 (9, 12) defaultdict(<function minWindow.<locals>.<lambda> at 0x00000184BDF35310>, {'w': 1, 'a': 1, 'e': 1, 'f': 1, 'g': 1})\n",
      "c 15 12 (9, 12) defaultdict(<function minWindow.<locals>.<lambda> at 0x00000184BDF35310>, {'e': 1, 'f': 1, 'g': 1, 'c': 1})\n",
      "f 16 12 (9, 12) defaultdict(<function minWindow.<locals>.<lambda> at 0x00000184BDF35310>, {'e': 1, 'f': 2, 'g': 1, 'c': 1})\n"
     ]
    },
    {
     "data": {
      "text/plain": [
       "'cwae'"
      ]
     },
     "execution_count": 100,
     "metadata": {},
     "output_type": "execute_result"
    }
   ],
   "source": [
    "def match(characterDict, patternDict):\n",
    "    for ch in patternDict:\n",
    "        if ch not in characterDict:\n",
    "            return False\n",
    "        if patternDict[ch] > characterDict[ch]:\n",
    "            return False\n",
    "    return True\n",
    "\n",
    "def minWindow( s: str, t: str) -> str:\n",
    "    if len(t) > len(s):\n",
    "        return \"\"\n",
    "    \n",
    "    patternDict = defaultdict(lambda : 0)\n",
    "    for i in t:\n",
    "        patternDict[i] += 1\n",
    "    print(patternDict)\n",
    "    mw = (0,-1)\n",
    "    mws = len(s) + 1\n",
    "    characterDict = defaultdict(lambda : 0)\n",
    "    i = j = 0  \n",
    "    while i < len(s):\n",
    "        characterDict[s[i]] += 1\n",
    "        \n",
    "        while match(characterDict, patternDict) and j <= i:\n",
    "            ws = i - j + 1\n",
    "            if ws < mws:\n",
    "                mws = ws\n",
    "                mw = (j, i)\n",
    "            characterDict[s[j]] -= 1\n",
    "            if characterDict[s[j]] <= 0:\n",
    "                del characterDict[s[j]]\n",
    "            j += 1\n",
    "        \n",
    "        print(s[i], i , j, mw, characterDict)\n",
    "        i += 1\n",
    "    return s[mw[0]:mw[1]+1]\n",
    "\n",
    "s = \"cabwefgewcwaefgcf\"\n",
    "t = \"cae\"\n",
    "\n",
    "\n",
    "\n",
    "minWindow(s, t)"
   ]
  },
  {
   "cell_type": "code",
   "execution_count": 102,
   "id": "25c46c41",
   "metadata": {},
   "outputs": [],
   "source": [
    "# Longest Palindromic Substring"
   ]
  },
  {
   "cell_type": "code",
   "execution_count": 12,
   "id": "a6d0e87a",
   "metadata": {},
   "outputs": [
    {
     "data": {
      "text/plain": [
       "[0, 5]"
      ]
     },
     "execution_count": 12,
     "metadata": {},
     "output_type": "execute_result"
    }
   ],
   "source": [
    "import numpy as np\n",
    "\n",
    "def longestPalindrome(s: str) -> str:\n",
    "    if len(s) <= 1:\n",
    "        return [0,1]\n",
    "    table = []\n",
    "    maxLength = 1\n",
    "    maxIndex = [0,1]\n",
    "    for i in range(len(s)):\n",
    "        table.append([0] * len(s))\n",
    "        table[i][i] = 1\n",
    "        if i + 1 < len(s):\n",
    "            if s[i] == s[i + 1]:\n",
    "                table[i][i + 1] = 1\n",
    "                maxLength = 2\n",
    "                maxIndex = [i, i + 2]\n",
    "            else:\n",
    "                table[i][i + 1] = 0\n",
    "\n",
    "    # print(np.array(table))\n",
    "    for j in range(1, len(s)):\n",
    "        for i in range(len(s) - 1):\n",
    "            if table[i + 1][j - 1] == 1 and s[i] == s[j]:\n",
    "                table[i][j] = 1\n",
    "                length = j - i + 1\n",
    "                if maxLength < length:\n",
    "                    maxLength = length\n",
    "                    maxIndex = [i, j + 1]\n",
    "\n",
    "#     print(np.array(table), maxIndex)\n",
    "    return maxIndex\n",
    "\n",
    "s = \"ababad\"\n",
    "\n",
    "longestPalindrome(s)\n",
    "\n",
    "s = \"aaaaa\"\n",
    "\n",
    "longestPalindrome(s)"
   ]
  },
  {
   "cell_type": "code",
   "execution_count": 15,
   "id": "454f4864",
   "metadata": {},
   "outputs": [
    {
     "data": {
      "text/plain": [
       "2"
      ]
     },
     "execution_count": 15,
     "metadata": {},
     "output_type": "execute_result"
    }
   ],
   "source": [
    "def isPalindrome(sanitizedString: str):\n",
    "    i = 0\n",
    "    while i < len(sanitizedString) // 2:\n",
    "        ri = len(sanitizedString) -1 -i\n",
    "        if sanitizedString[i] != sanitizedString[ri]:\n",
    "            return False\n",
    "        i += 1\n",
    "    return True\n",
    "\n",
    "def removePalindromeSub(s: str) -> int:\n",
    "    return 1 if isPalindrome(s) else 2\n",
    "\n",
    "\n",
    "s = \"abb\"\n",
    "\n",
    "removePalindromeSub(s)"
   ]
  },
  {
   "cell_type": "code",
   "execution_count": null,
   "id": "09c6910f",
   "metadata": {},
   "outputs": [],
   "source": []
  }
 ],
 "metadata": {
  "kernelspec": {
   "display_name": "Python 3 (ipykernel)",
   "language": "python",
   "name": "python3"
  },
  "language_info": {
   "codemirror_mode": {
    "name": "ipython",
    "version": 3
   },
   "file_extension": ".py",
   "mimetype": "text/x-python",
   "name": "python",
   "nbconvert_exporter": "python",
   "pygments_lexer": "ipython3",
   "version": "3.9.9"
  }
 },
 "nbformat": 4,
 "nbformat_minor": 5
}
