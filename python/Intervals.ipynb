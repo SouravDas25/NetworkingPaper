{
 "cells": [
  {
   "cell_type": "code",
   "execution_count": 10,
   "id": "53bcf1a1",
   "metadata": {},
   "outputs": [
    {
     "data": {
      "text/plain": [
       "False"
      ]
     },
     "execution_count": 10,
     "metadata": {},
     "output_type": "execute_result"
    }
   ],
   "source": [
    "def can_attend_meetings(intervals) -> bool:\n",
    "    intervals.sort()\n",
    "    for j in range(1, len(intervals)):\n",
    "        i = j - 1\n",
    "        if intervals[j][0] < intervals[i][1] or intervals[i][1] > intervals[j][0]:\n",
    "            return False\n",
    "    return True\n",
    "\n",
    "\n",
    "intervals = [(0,30),(5,10),(15,20)]\n",
    "can_attend_meetings(intervals)"
   ]
  },
  {
   "cell_type": "code",
   "execution_count": 57,
   "id": "cb754506",
   "metadata": {},
   "outputs": [
    {
     "name": "stdout",
     "output_type": "stream",
     "text": [
      "[[1, 3], [2, 5], [6, 9]] 1\n"
     ]
    },
    {
     "data": {
      "text/plain": [
       "[[1, 5], [6, 9]]"
      ]
     },
     "execution_count": 57,
     "metadata": {},
     "output_type": "execute_result"
    }
   ],
   "source": [
    "from typing import List\n",
    "\n",
    "\n",
    "def insert(intervals: List[List[int]], newInterval: List[int]) -> List[List[int]]:\n",
    "    if len(intervals) <= 0:\n",
    "        return [newInterval]\n",
    "    \n",
    "    insertPoint = 0\n",
    "    for i in range(len(intervals)):\n",
    "        if intervals[i][0] <= newInterval[0]:\n",
    "            insertPoint = i + 1\n",
    "    \n",
    "    intervals.insert(insertPoint, newInterval)\n",
    "#     print(intervals, insertPoint)\n",
    "    i = 0\n",
    "    while i+1 < len(intervals):\n",
    "        if intervals[i+1][0] <= intervals[i][1] or intervals[i][1] > intervals[i+1][0]:\n",
    "            a = intervals[i]\n",
    "            b = intervals[i+1]\n",
    "            merged = [min(a[0],b[0]), max(a[1], b[1])]\n",
    "            intervals[i] = merged\n",
    "            del intervals[i+1]\n",
    "        else:\n",
    "            i += 1\n",
    "    return intervals\n",
    "    pass\n",
    "\n",
    "intervals = [[1,3],[6,9]]\n",
    "newInterval = [2,5]\n",
    "\n",
    "\n",
    "insert(intervals, newInterval )"
   ]
  },
  {
   "cell_type": "code",
   "execution_count": 67,
   "id": "621172b2",
   "metadata": {},
   "outputs": [
    {
     "data": {
      "text/plain": [
       "[[1, 6], [8, 10], [15, 18]]"
      ]
     },
     "execution_count": 67,
     "metadata": {},
     "output_type": "execute_result"
    }
   ],
   "source": [
    "def merge(intervals: List[List[int]]) -> List[List[int]]:\n",
    "    intervals.sort()\n",
    "    output = [intervals[0]]\n",
    "    for i in range(1,len(intervals)):\n",
    "        current = output[-1]\n",
    "        if intervals[i][0] <= current[1] or current[1] >= intervals[i][0]:\n",
    "            a = current\n",
    "            b = intervals[i]\n",
    "            merged = [min(a[0],b[0]), max(a[1], b[1])]\n",
    "            output[-1] = merged\n",
    "        else:\n",
    "            output.append(intervals[i])\n",
    "    return output\n",
    "\n",
    "intervals = [[1,3],[2,6],[8,10],[15,18]]\n",
    "merge(intervals)"
   ]
  },
  {
   "cell_type": "code",
   "execution_count": 73,
   "id": "ba6baf1e",
   "metadata": {},
   "outputs": [
    {
     "data": {
      "text/plain": [
       "1"
      ]
     },
     "execution_count": 73,
     "metadata": {},
     "output_type": "execute_result"
    }
   ],
   "source": [
    "def eraseOverlapIntervals(intervals: List[List[int]]) -> int:\n",
    "    if len(intervals) < 2:\n",
    "        return 0\n",
    "    intervals.sort()\n",
    "    deleteCount = 0\n",
    "    endAt = intervals[0][1]\n",
    "    for i in range(1,len(intervals)):\n",
    "        if intervals[i][0] < endAt:\n",
    "            deleteCount += 1\n",
    "            endAt = min(endAt, intervals[i][1])\n",
    "        else:\n",
    "            endAt = intervals[i][1]\n",
    "    return deleteCount\n",
    "            \n",
    "\n",
    "intervals = [[1,2],[2,3],[3,4],[1,3]]\n",
    "eraseOverlapIntervals(intervals)"
   ]
  },
  {
   "cell_type": "code",
   "execution_count": 85,
   "id": "9edede25",
   "metadata": {},
   "outputs": [
    {
     "name": "stdout",
     "output_type": "stream",
     "text": [
      "0 S 1\n",
      "5 S 2\n",
      "10 E 1\n",
      "10 S 2\n",
      "20 E 1\n",
      "30 E 0\n"
     ]
    },
    {
     "data": {
      "text/plain": [
       "2"
      ]
     },
     "execution_count": 85,
     "metadata": {},
     "output_type": "execute_result"
    }
   ],
   "source": [
    "import heapq\n",
    "\n",
    "def min_meeting_rooms(intervals: List) -> int:\n",
    "    minHeap = []\n",
    "    for start, end in intervals:\n",
    "        heapq.heappush(minHeap, (start, \"S\"))\n",
    "        heapq.heappush(minHeap, (end, \"E\"))\n",
    "    count = 0\n",
    "    maxCount = 0\n",
    "    while len(minHeap) > 0:\n",
    "        pointInTime, event = heapq.heappop(minHeap)\n",
    "        if event == \"S\":\n",
    "            count += 1\n",
    "        else:\n",
    "            count -= 1\n",
    "        maxCount = max(maxCount, count)\n",
    "    \n",
    "    return maxCount\n",
    "\n",
    "intervals = [(0,30),(5,10),(10,20)]\n",
    "min_meeting_rooms(intervals)"
   ]
  },
  {
   "cell_type": "code",
   "execution_count": 93,
   "id": "73b07167",
   "metadata": {},
   "outputs": [
    {
     "data": {
      "text/plain": [
       "[3, 3, 1, 4]"
      ]
     },
     "execution_count": 93,
     "metadata": {},
     "output_type": "execute_result"
    }
   ],
   "source": [
    "from collections import defaultdict\n",
    "\n",
    "def minInterval(intervals: List[List[int]], queries: List[int]) -> List[int]:\n",
    "    intervals.sort()\n",
    "    dictas = {}\n",
    "    startFrom = 0\n",
    "    for q in sorted(queries):\n",
    "        val = float(\"inf\")\n",
    "        for i in range(startFrom, len(intervals)):\n",
    "            start, end = intervals[i]\n",
    "            if start > q:\n",
    "                break\n",
    "            if end < q:\n",
    "                startFrom = i\n",
    "            if start <= q <= end:\n",
    "                val = min(end-start+1, val)\n",
    "        dictas[q] = val if val != float(\"inf\") else -1\n",
    "    output = []\n",
    "    for q in queries:\n",
    "        output.append(dictas[q])\n",
    "    return output\n",
    "    pass\n",
    "\n",
    "intervals = [[1,4],[2,4],[3,6],[4,4]]\n",
    "queries = [2,3,4,5]\n",
    "minInterval(intervals, queries)"
   ]
  },
  {
   "cell_type": "code",
   "execution_count": null,
   "id": "731a99cf",
   "metadata": {},
   "outputs": [],
   "source": []
  }
 ],
 "metadata": {
  "kernelspec": {
   "display_name": "Python 3 (ipykernel)",
   "language": "python",
   "name": "python3"
  },
  "language_info": {
   "codemirror_mode": {
    "name": "ipython",
    "version": 3
   },
   "file_extension": ".py",
   "mimetype": "text/x-python",
   "name": "python",
   "nbconvert_exporter": "python",
   "pygments_lexer": "ipython3",
   "version": "3.9.9"
  }
 },
 "nbformat": 4,
 "nbformat_minor": 5
}
