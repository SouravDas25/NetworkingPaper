{
 "cells": [
  {
   "cell_type": "code",
   "execution_count": 10,
   "id": "53bcf1a1",
   "metadata": {},
   "outputs": [
    {
     "data": {
      "text/plain": [
       "False"
      ]
     },
     "execution_count": 10,
     "metadata": {},
     "output_type": "execute_result"
    }
   ],
   "source": [
    "def can_attend_meetings(intervals) -> bool:\n",
    "    intervals.sort()\n",
    "    for j in range(1, len(intervals)):\n",
    "        i = j - 1\n",
    "        if intervals[j][0] < intervals[i][1] or intervals[i][1] > intervals[j][0]:\n",
    "            return False\n",
    "    return True\n",
    "\n",
    "\n",
    "intervals = [(0,30),(5,10),(15,20)]\n",
    "can_attend_meetings(intervals)"
   ]
  },
  {
   "cell_type": "code",
   "execution_count": null,
   "id": "cb754506",
   "metadata": {},
   "outputs": [],
   "source": []
  }
 ],
 "metadata": {
  "kernelspec": {
   "display_name": "Python 3 (ipykernel)",
   "language": "python",
   "name": "python3"
  },
  "language_info": {
   "codemirror_mode": {
    "name": "ipython",
    "version": 3
   },
   "file_extension": ".py",
   "mimetype": "text/x-python",
   "name": "python",
   "nbconvert_exporter": "python",
   "pygments_lexer": "ipython3",
   "version": "3.9.9"
  }
 },
 "nbformat": 4,
 "nbformat_minor": 5
}
