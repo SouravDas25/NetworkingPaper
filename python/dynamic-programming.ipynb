{
 "cells": [
  {
   "cell_type": "code",
   "execution_count": 11,
   "id": "ef5267ed",
   "metadata": {},
   "outputs": [],
   "source": [
    "# Partition Equal Subset Sum"
   ]
  },
  {
   "cell_type": "code",
   "execution_count": 51,
   "id": "8cfe16d2",
   "metadata": {},
   "outputs": [
    {
     "name": "stdout",
     "output_type": "stream",
     "text": [
      "0 9.0 {}\n",
      "1 6.0 {}\n",
      "2 3.0 {}\n",
      "3 0.0 {}\n",
      "True\n"
     ]
    },
    {
     "data": {
      "text/plain": [
       "4"
      ]
     },
     "execution_count": 51,
     "metadata": {},
     "output_type": "execute_result"
    }
   ],
   "source": [
    "\n",
    "\n",
    "def canPartition(nums, l, target, memo = {}):\n",
    "    canPartition.count += 1\n",
    "    print(l , target, memo)\n",
    "    key = \"{},{}\".format(l, target) \n",
    "    if key in memo:\n",
    "        return memo[key]\n",
    "    if l >= len(nums):\n",
    "        memo[key] = False\n",
    "        return False\n",
    "    if target == 0:\n",
    "        return True\n",
    "    if target < 0: \n",
    "        memo[key] = False\n",
    "        return False\n",
    "    \n",
    "    \n",
    "    if canPartition(nums, l + 1, target - nums[l], memo) :\n",
    "        memo[key] = True\n",
    "        return True\n",
    "    if canPartition(nums, l + 1, target, memo):\n",
    "        memo[key] = True\n",
    "        return True\n",
    "    memo[key] = False\n",
    "    return False\n",
    "    \n",
    "\n",
    "\n",
    "nums = [3,3,3,4,5]\n",
    "\n",
    "\n",
    "\n",
    "canPartition.count = 0\n",
    "print(canPartition(nums, 0, sum(nums) / 2))\n",
    "canPartition.count"
   ]
  },
  {
   "cell_type": "code",
   "execution_count": 52,
   "id": "2a9252d7",
   "metadata": {},
   "outputs": [],
   "source": [
    "# 70. Climbing Stairs"
   ]
  },
  {
   "cell_type": "code",
   "execution_count": 3,
   "id": "0ffbdacd",
   "metadata": {},
   "outputs": [
    {
     "data": {
      "text/plain": [
       "121393"
      ]
     },
     "execution_count": 3,
     "metadata": {},
     "output_type": "execute_result"
    }
   ],
   "source": [
    "def climbStairs(n: int, memo) -> int:\n",
    "    if n in memo:\n",
    "        return memo[n]\n",
    "    \n",
    "    result = climbStairs(n-1, memo ) + climbStairs(n-2, memo) \n",
    "    memo[n] = result\n",
    "    del memo[n-2]\n",
    "    return result\n",
    "\n",
    "climbStairs(25, { 0: 1, 1:1})"
   ]
  },
  {
   "cell_type": "code",
   "execution_count": 79,
   "id": "b9c87662",
   "metadata": {},
   "outputs": [],
   "source": [
    "# 322. Coin Change"
   ]
  },
  {
   "cell_type": "code",
   "execution_count": 154,
   "id": "c6c5bda0",
   "metadata": {},
   "outputs": [
    {
     "name": "stdout",
     "output_type": "stream",
     "text": [
      "minimum coins required:  20\n"
     ]
    },
    {
     "data": {
      "text/plain": [
       "17501"
      ]
     },
     "execution_count": 154,
     "metadata": {},
     "output_type": "execute_result"
    }
   ],
   "source": [
    "def coinChange(coins, amount, memo) -> int:\n",
    "    coinChange.count += 1\n",
    "#     print(amount, memo)\n",
    "    if amount in memo:\n",
    "        return memo[amount]\n",
    "    \n",
    "    min_d = float(\"inf\")\n",
    "    for n in coins:\n",
    "        if n <= amount:\n",
    "            min_d = min(min_d, coinChange(coins, amount - n, memo) + 1)\n",
    "    \n",
    "    memo[amount] = min_d\n",
    "    return min_d\n",
    "    \n",
    "    \n",
    "#     if coinChange.minDepth != float(\"inf\") :\n",
    "#     memo[amount] = coinChange.minDept\n",
    "   \n",
    "\n",
    "coins = [186,419,83,408]\n",
    "amount = 6249\n",
    "\n",
    "coinChange.count = 0\n",
    "coins.sort(reverse=True)\n",
    "memo = { 0: 1}\n",
    "\n",
    "\n",
    "coinChange(coins, amount, memo)\n",
    "print(\"minimum coins required: \", memo[amount] - 1 if amount in memo and memo[amount] != float(\"inf\") else -1)\n",
    "coinChange.count"
   ]
  },
  {
   "cell_type": "code",
   "execution_count": 162,
   "id": "a553e674",
   "metadata": {},
   "outputs": [
    {
     "data": {
      "text/plain": [
       "4"
      ]
     },
     "execution_count": 162,
     "metadata": {},
     "output_type": "execute_result"
    }
   ],
   "source": [
    "def lengthOfLIS(nums):\n",
    "    LTS = [1] * len(nums)\n",
    "    for i in range(len(nums) - 2, -1, -1):\n",
    "        for j in range(i, len(nums)):\n",
    "            if nums[i] < nums[j] :\n",
    "                LTS[i] = max(LTS[i], LTS[j] + 1)\n",
    "    return max(LTS)\n",
    "\n",
    "nums = [0,1,0,3,2,3]\n",
    "\n",
    "lengthOfLIS(nums)"
   ]
  },
  {
   "cell_type": "code",
   "execution_count": 209,
   "id": "fb5ae989",
   "metadata": {},
   "outputs": [
    {
     "name": "stdout",
     "output_type": "stream",
     "text": [
      "memo length  107 110\n",
      "ans 2\n"
     ]
    },
    {
     "data": {
      "text/plain": [
       "107"
      ]
     },
     "execution_count": 209,
     "metadata": {},
     "output_type": "execute_result"
    }
   ],
   "source": [
    "def LCS_rec(text1, text2, i, j, memo):\n",
    "    \n",
    "#     print(memo)\n",
    "    if i >= len(text1) or j >= len(text2):\n",
    "        return 0\n",
    "    key = \"{}{}\".format(i,j)\n",
    "    if key in memo:\n",
    "        return memo[key]\n",
    "    LCS_rec.count += 1\n",
    "    if text1[i] == text2[j]:\n",
    "        cc = 1 + LCS_rec(text1, text2, i+1, j+1, memo)\n",
    "        memo[key] = cc\n",
    "        return cc\n",
    "    else:\n",
    "        cc = max(LCS_rec(text1, text2, i+1, j, memo), LCS_rec(text1, text2, i, j+1, memo))\n",
    "        memo[key] = cc\n",
    "        return cc\n",
    "\n",
    "\n",
    "def longestCommonSubsequence(text1, text2):\n",
    "    m = len(text1)\n",
    "    n = len(text2)\n",
    "    LCS_rec.count = 0\n",
    "    memo = {}\n",
    "    result = LCS_rec(text1, text2, 0 ,0, memo)\n",
    "    print(\"memo length \", len(memo), m*n)\n",
    "    return result\n",
    "\n",
    "\n",
    "\n",
    "text1 = \"oxcpqrsvwf\"\n",
    "text2 = \"shmtulqrypy\"\n",
    "print(\"ans\", longestCommonSubsequence(text1, text2))\n",
    "LCS_rec.count"
   ]
  },
  {
   "cell_type": "code",
   "execution_count": 210,
   "id": "1fde4bd1",
   "metadata": {},
   "outputs": [],
   "source": [
    "# 139. Word Break"
   ]
  },
  {
   "cell_type": "code",
   "execution_count": 320,
   "id": "d77818ef",
   "metadata": {
    "scrolled": false
   },
   "outputs": [
    {
     "name": "stdout",
     "output_type": "stream",
     "text": [
      "cat True False 0 2 3\n",
      "cats True False 0 3 4\n",
      "sand True True 3 6 4\n",
      "and True True 4 6 3\n",
      "dog True True 7 9 3\n",
      "True\n",
      "52\n"
     ]
    }
   ],
   "source": [
    "import pandas as pd \n",
    "\n",
    "def wordBreak(s, wordDict) -> bool:\n",
    "    wordBreak.count  = 0\n",
    "    wordDict = set(wordDict)\n",
    "    dp =  [False] * (len(s))\n",
    "        \n",
    "    for i in range(len(s)):\n",
    "        for j in range(i,len(s)):\n",
    "            wordBreak.count += 1\n",
    "            \n",
    "            if s[i:j+1] in wordDict:\n",
    "                l = j + 1 - i\n",
    "                dp[j] = True if j-l < 0 else (dp[j-l] and True) or dp[j]\n",
    "            \n",
    "                print(s[i:j+1], dp[j],dp[j-l], i , j , l)\n",
    "            if dp[j] :\n",
    "                if len(s) - 1 == j:\n",
    "                    return True\n",
    "    print(dp)\n",
    "    return False\n",
    "\n",
    "\n",
    "\n",
    "\n",
    "\n",
    "\n",
    "\n",
    "s = \"catsanddog\"\n",
    "wordDict =[\"cat\",\"cats\",\"and\",\"sand\",\"dog\"]\n",
    "\n",
    "\n",
    "print(wordBreak(s, wordDict))\n",
    "\n",
    "print(wordBreak.count)"
   ]
  },
  {
   "cell_type": "code",
   "execution_count": 326,
   "id": "35bc86ff",
   "metadata": {},
   "outputs": [
    {
     "name": "stdout",
     "output_type": "stream",
     "text": [
      "['cat sand dog', 'cats and dog']\n"
     ]
    }
   ],
   "source": [
    "def wordBreak2(s, wordDict):\n",
    "    output = []\n",
    "    wb2(s, set(wordDict), 0, [], output)\n",
    "    return output\n",
    "\n",
    "def wb2(s, wordDict, p, stack , output):\n",
    "    if p >= len(s) :\n",
    "        output.append(\" \".join(stack))\n",
    "        return\n",
    "    for i in range(p,len(s) ):\n",
    "        wrd = s[p:i+1]\n",
    "        if wrd in wordDict:\n",
    "            stack.append(wrd)\n",
    "            wb2(s, wordDict, i+1, stack, output)\n",
    "            stack.pop()\n",
    "\n",
    "\n",
    "s = \"catsanddog\"\n",
    "wordDict =[\"cat\",\"cats\",\"and\",\"sand\",\"dog\"]\n",
    "\n",
    "print(wordBreak2(s, wordDict))\n",
    "\n",
    "# print(wordBreak2.count)"
   ]
  },
  {
   "cell_type": "code",
   "execution_count": 1,
   "id": "b60aed2d",
   "metadata": {},
   "outputs": [
    {
     "name": "stdout",
     "output_type": "stream",
     "text": [
      "520\n"
     ]
    }
   ],
   "source": [
    "def combinationSum4(nums, target):\n",
    "    memo = {}\n",
    "    return cmb(nums, target, memo)\n",
    "\n",
    "def cmb(nums, target, memo):\n",
    "    if target < 0:\n",
    "        return 0\n",
    "    if target == 0:\n",
    "        return 1\n",
    "    if target in memo:\n",
    "        return memo[target]\n",
    "    s = 0\n",
    "    for i in range(len(nums)):\n",
    "        s += cmb(nums, target - nums[i], memo)\n",
    "    memo[target] = s\n",
    "    return s\n",
    "        \n",
    "        \n",
    "\n",
    "nums = [1,2,4]\n",
    "target = 12\n",
    "\n",
    "print(combinationSum4(nums, target))\n"
   ]
  },
  {
   "cell_type": "code",
   "execution_count": 344,
   "id": "94d5b7ed",
   "metadata": {},
   "outputs": [
    {
     "data": {
      "text/plain": [
       "12"
      ]
     },
     "execution_count": 344,
     "metadata": {},
     "output_type": "execute_result"
    }
   ],
   "source": [
    "def rob(nums) -> int:\n",
    "    rob1 = rob2 = 0\n",
    "    for i in range(len(nums)):\n",
    "        if i % 2 == 0:\n",
    "            rob1 = max(rob1 + nums[i], rob2 )\n",
    "        else:\n",
    "            rob2 = max(rob1, rob2 + nums[i])\n",
    "    return max(rob1, rob2)\n",
    "\n",
    "\n",
    "nums = [2,7,9,3,1]\n",
    "rob(nums)"
   ]
  },
  {
   "cell_type": "code",
   "execution_count": 430,
   "id": "0b5763f6",
   "metadata": {},
   "outputs": [
    {
     "data": {
      "text/plain": [
       "3"
      ]
     },
     "execution_count": 430,
     "metadata": {},
     "output_type": "execute_result"
    }
   ],
   "source": [
    "def robCircle(nums) -> int:\n",
    "    if len(nums) < 3:\n",
    "        return max(nums)\n",
    "    rob1 = rob2 = 0\n",
    "    for i in range(len(nums) - 1):\n",
    "        if i % 2 == 0:\n",
    "            rob1 = max(rob1 + nums[i], rob2 )\n",
    "        else:\n",
    "            rob2 = max(rob1, rob2 + nums[i])\n",
    "    m = max(rob1, rob2)\n",
    "    rob1 = rob2 = 0\n",
    "    for i in range(len(nums) - 1, 0, -1):\n",
    "        if i % 2 == 0:\n",
    "            rob1 = max(rob1 + nums[i], rob2 )\n",
    "        else:\n",
    "            rob2 = max(rob1, rob2 + nums[i])\n",
    "    return max(rob1, rob2, m)\n",
    "\n",
    "nums = [2,1,1,2]\n",
    "\n",
    "\n",
    "robCircle(nums)"
   ]
  },
  {
   "cell_type": "code",
   "execution_count": 484,
   "id": "e2399f90",
   "metadata": {},
   "outputs": [
    {
     "name": "stdout",
     "output_type": "stream",
     "text": [
      "i- 0\n",
      "i- 1\n",
      "i- 2\n",
      "i- 3\n",
      "r- 1 2\n",
      "s- 26 1\n",
      "i- 3\n",
      "r- 2 1\n",
      "s- 22 0\n",
      "i- 2\n",
      "r- 3 0\n"
     ]
    },
    {
     "data": {
      "text/plain": [
       "3"
      ]
     },
     "execution_count": 484,
     "metadata": {},
     "output_type": "execute_result"
    }
   ],
   "source": [
    "\n",
    "\n",
    "def numDecodings(s: str) -> int:\n",
    "    return ndr(s,0, {})\n",
    "\n",
    "def ndr(s, i, memo):\n",
    "#     print( \"i-\", i)\n",
    "    if i >= len(s):\n",
    "        return 1\n",
    "    \n",
    "    if s[i] == \"0\":\n",
    "        return 0\n",
    "    \n",
    "    if i in memo:\n",
    "        return memo[i]\n",
    "    \n",
    "    r = ndr(s, i + 1, memo)\n",
    "    \n",
    "    if i+2 <= len(s) and int(s[i:i+2]) <= 26:\n",
    "#         print( \"s-\", s[i:i+2], i)\n",
    "        r += ndr(s, i + 2, memo)\n",
    "            \n",
    "    memo[i] = r\n",
    "#     print( \"r-\", r, i)\n",
    "    return r\n",
    "\n",
    "    \n",
    "    \n",
    "    \n",
    "\n",
    "s = \"226\"\n",
    "numDecodings(s)"
   ]
  },
  {
   "cell_type": "code",
   "execution_count": 501,
   "id": "a7eda3f5",
   "metadata": {},
   "outputs": [
    {
     "data": {
      "text/plain": [
       "1"
      ]
     },
     "execution_count": 501,
     "metadata": {},
     "output_type": "execute_result"
    }
   ],
   "source": [
    "def uniquePaths(m: int, n: int) -> int:\n",
    "    dp = [ [-1] * m for _ in range(n) ]\n",
    "    dp[n-1] = [1] * m\n",
    "    dp[n-1][m-1] = 1\n",
    "    \n",
    "    for i in range(n-2, -1, -1):\n",
    "        dp[i][m-1] = 1\n",
    "        for j in range(m-2, -1, -1):\n",
    "            if dp[i][j] == -1:\n",
    "                u = dp[i+1][j] if i+1 <n else 0\n",
    "                l = dp[i][j+1] if j+1 <m else 0\n",
    "                dp[i][j] = u+l\n",
    "            \n",
    "    return dp[0][0]\n",
    "\n",
    "m = 1\n",
    "n = 1\n",
    "\n",
    "uniquePaths(m, n)"
   ]
  },
  {
   "cell_type": "code",
   "execution_count": 14,
   "id": "ca884b06",
   "metadata": {},
   "outputs": [
    {
     "name": "stdout",
     "output_type": "stream",
     "text": [
      "{4: True, 3: True, 2: True, 0: True}\n"
     ]
    },
    {
     "data": {
      "text/plain": [
       "(True, None)"
      ]
     },
     "execution_count": 14,
     "metadata": {},
     "output_type": "execute_result"
    }
   ],
   "source": [
    "def canJump(nums) -> bool:\n",
    "    memo = {}\n",
    "    return cnJmpHpl(nums, 0, memo) , print(memo)\n",
    "\n",
    "def cnJmpHpl(nums, i, memo):\n",
    "    if i >= len(nums):\n",
    "        return True\n",
    "    if i == len(nums) -1 and nums[i] == 0:\n",
    "        return True\n",
    "    if i in memo:\n",
    "        return memo[i]\n",
    "    for v in range(nums[i], 0, -1):\n",
    "        if cnJmpHpl(nums, i+v, memo):\n",
    "            memo[i] = True\n",
    "            return True\n",
    "    memo[i] = False\n",
    "    return False\n",
    "\n",
    "nums = [2,3,1,1,4]\n",
    "canJump(nums)"
   ]
  },
  {
   "cell_type": "code",
   "execution_count": 17,
   "id": "51cb6df6",
   "metadata": {},
   "outputs": [
    {
     "data": {
      "text/plain": [
       "True"
      ]
     },
     "execution_count": 17,
     "metadata": {},
     "output_type": "execute_result"
    }
   ],
   "source": [
    "def canJump(nums) -> bool:\n",
    "    i =0\n",
    "    reachable = 0\n",
    "    \n",
    "    while i < len(nums) and i <= reachable:\n",
    "        reachable = max(reachable, i + nums[i]  )\n",
    "        i += 1\n",
    "    return i == len(nums)\n",
    "\n",
    "nums = [2,3,1,1,4]\n",
    "canJump(nums)"
   ]
  },
  {
   "cell_type": "code",
   "execution_count": 26,
   "id": "00e87d87",
   "metadata": {},
   "outputs": [
    {
     "name": "stdout",
     "output_type": "stream",
     "text": [
      "2 16\n",
      "4 8.0\n",
      "16 4.0\n",
      "256 2.0\n",
      "65536 1.0\n",
      "65536 0.0\n"
     ]
    },
    {
     "data": {
      "text/plain": [
       "65536"
      ]
     },
     "execution_count": 26,
     "metadata": {},
     "output_type": "execute_result"
    }
   ],
   "source": [
    "def myPow( x: float, n: int) -> float:\n",
    "    print(x, n)\n",
    "    if n == 0:\n",
    "        return 1\n",
    "    if n < 0:\n",
    "        return 1 / myPow(x, -n)\n",
    "    if n % 2:\n",
    "        return x * myPow(x, n - 1)\n",
    "    return myPow(x * x, n / 2)\n",
    "\n",
    "myPow(2,16)"
   ]
  },
  {
   "cell_type": "code",
   "execution_count": 50,
   "id": "832fc705",
   "metadata": {},
   "outputs": [
    {
     "data": {
      "text/plain": [
       "8"
      ]
     },
     "execution_count": 50,
     "metadata": {},
     "output_type": "execute_result"
    }
   ],
   "source": [
    "def mySqrt(n: int) -> int:\n",
    "    if n <= 0:\n",
    "        return 0\n",
    "    sq = 1\n",
    "    um = 9999\n",
    "    while sq <= um:\n",
    "        mid = sq + (um - sq) // 2\n",
    "        if mid*mid <= n:\n",
    "            sq = mid + 1\n",
    "        else:\n",
    "            um = mid - 1\n",
    "    return sq - 1\n",
    "\n",
    "mySqrt(64)"
   ]
  },
  {
   "cell_type": "code",
   "execution_count": 19,
   "id": "ffeb1324",
   "metadata": {},
   "outputs": [
    {
     "data": {
      "text/plain": [
       "89"
      ]
     },
     "execution_count": 19,
     "metadata": {},
     "output_type": "execute_result"
    }
   ],
   "source": [
    "def climbStairs(n: int) -> int:\n",
    "    a = b = 1\n",
    "    for i in range(2, n + 1):\n",
    "        c = a + b\n",
    "        a = b\n",
    "        b = c\n",
    "    return c\n",
    "\n",
    "n = 10\n",
    "climbStairs(n)"
   ]
  },
  {
   "cell_type": "code",
   "execution_count": 4,
   "id": "3d9c9c35",
   "metadata": {},
   "outputs": [
    {
     "name": "stdout",
     "output_type": "stream",
     "text": [
      "0 20 15\n",
      "20 15 25\n"
     ]
    },
    {
     "data": {
      "text/plain": [
       "15"
      ]
     },
     "execution_count": 4,
     "metadata": {},
     "output_type": "execute_result"
    }
   ],
   "source": [
    "def minCostClimbingStairs(cost) -> int:\n",
    "    a = c = 0\n",
    "    b = cost[-1]\n",
    "    for i in range(len(cost) - 2, -1, -1):\n",
    "        c = min(cost[i] + b, cost[i] + a)\n",
    "        print( a, b, c)\n",
    "        a = b\n",
    "        b = c\n",
    "    return min(a, b)\n",
    "\n",
    "cost = [10, 15, 20]\n",
    "\n",
    "minCostClimbingStairs(cost)"
   ]
  },
  {
   "cell_type": "code",
   "execution_count": 43,
   "id": "b108bf2c",
   "metadata": {},
   "outputs": [
    {
     "name": "stdout",
     "output_type": "stream",
     "text": [
      "[3, 2, 2]\n"
     ]
    },
    {
     "data": {
      "text/plain": [
       "{1: False, 3: False}"
      ]
     },
     "execution_count": 43,
     "metadata": {},
     "output_type": "execute_result"
    }
   ],
   "source": [
    "\n",
    "def howSum(target, nums, output, memo):\n",
    "    if target in memo:\n",
    "        return memo[target]\n",
    "    if target == 0:\n",
    "        return True\n",
    "    if target < 0:\n",
    "        return False\n",
    "    \n",
    "    for n in nums:\n",
    "        result = howSum(target - n, nums, output , memo)\n",
    "        if result:\n",
    "            output.append(n)\n",
    "            return True\n",
    "        memo[target] = result\n",
    "    return False\n",
    "\n",
    "\n",
    "\n",
    "\n",
    "target = 7\n",
    "nums = [2,3,4,7]\n",
    "output = []\n",
    "memo = {}\n",
    "howSum(target, nums, output, memo)\n",
    "print(output)\n",
    "memo\n"
   ]
  },
  {
   "cell_type": "code",
   "execution_count": 15,
   "id": "a4a3edfb",
   "metadata": {},
   "outputs": [
    {
     "name": "stdout",
     "output_type": "stream",
     "text": [
      "[450, 450, 450, 450, 450, 250]\n",
      "{50: [50], 100: [100], 150: [150], 200: [200], 250: [250], 300: [300], 350: [350], 400: [400], 450: [450], 500: [450, 50], 550: [450, 100], 600: [450, 150], 650: [450, 200], 700: [450, 250], 750: [450, 300], 800: [450, 350], 850: [450, 400], 900: [450, 450], 950: [450, 450, 50], 1000: [450, 450, 100], 1050: [450, 450, 150], 1100: [450, 450, 200], 1150: [450, 450, 250], 1200: [450, 450, 300], 1250: [450, 450, 350], 1300: [450, 450, 400], 1350: [450, 450, 450], 1400: [450, 450, 450, 50], 1450: [450, 450, 450, 100], 1500: [450, 450, 450, 150], 1550: [450, 450, 450, 200], 1600: [450, 450, 450, 250], 1650: [450, 450, 450, 300], 1700: [450, 450, 450, 350], 1750: [450, 450, 450, 400], 1800: [450, 450, 450, 450], 1850: [450, 450, 450, 450, 50], 1900: [450, 450, 450, 450, 100], 1950: [450, 450, 450, 450, 150], 2000: [450, 450, 450, 450, 200], 2050: [450, 450, 450, 450, 250], 2100: [450, 450, 450, 450, 300], 2150: [450, 450, 450, 450, 350], 2200: [450, 450, 450, 450, 400], 2250: [450, 450, 450, 450, 450], 2300: [450, 450, 450, 450, 450, 50], 2350: [450, 450, 450, 450, 450, 100], 2400: [450, 450, 450, 450, 450, 150], 2450: [450, 450, 450, 450, 450, 200], 2500: [450, 450, 450, 450, 450, 250]}\n"
     ]
    }
   ],
   "source": [
    "def bestSum(target, nums, memo):\n",
    "    if target in memo:\n",
    "        return memo[target]\n",
    "    if target == 0:\n",
    "        return []\n",
    "    if target < 0:\n",
    "        return None\n",
    "    minS = float(\"inf\")\n",
    "    output = None\n",
    "    for n in nums:\n",
    "        if n == 0:\n",
    "            continue\n",
    "        bs = bestSum(target - n, nums, memo)\n",
    "        if bs is not None and len(bs) + 1 < minS:\n",
    "            output = []\n",
    "            output.extend(bs)\n",
    "            output.append(n)\n",
    "            minS = min(minS, len(output) )\n",
    "    memo[target] = output\n",
    "    return output\n",
    "\n",
    "target = 2500\n",
    "nums = [i for i in range(0, 500, 50)]\n",
    "memo = {}\n",
    "output = bestSum(target, nums, memo)\n",
    "print(output)\n",
    "print(memo)\n"
   ]
  },
  {
   "cell_type": "code",
   "execution_count": 23,
   "id": "50691ec7",
   "metadata": {},
   "outputs": [
    {
     "name": "stdout",
     "output_type": "stream",
     "text": [
      "[True, False, True, True, True, True, True, True, True, True, True, True, True, True, True]\n"
     ]
    },
    {
     "data": {
      "text/plain": [
       "True"
      ]
     },
     "execution_count": 23,
     "metadata": {},
     "output_type": "execute_result"
    }
   ],
   "source": [
    "def canSum(target, nums):\n",
    "    dp = [False]*(target + 1)\n",
    "    dp[0] = True\n",
    "    for i in range(target+1):\n",
    "        if dp[i]:\n",
    "            for n in nums:\n",
    "                if i+n <= target:\n",
    "                    dp[i+n] = True\n",
    "    print(dp)\n",
    "    return dp[target]\n",
    "\n",
    "target = 14\n",
    "nums = [2,3,4,7]\n",
    "canSum(target, nums)"
   ]
  },
  {
   "cell_type": "code",
   "execution_count": 38,
   "id": "e3d7d814",
   "metadata": {},
   "outputs": [
    {
     "name": "stdout",
     "output_type": "stream",
     "text": [
      "defaultdict(<class 'list'>, {50: [50], 0: [], 100: [100], 150: [150], 200: [200], 250: [250], 300: [300], 350: [350], 400: [400], 450: [450], 500: [450, 50], 550: [450, 100], 600: [450, 150], 650: [450, 200], 700: [450, 250], 750: [450, 300], 800: [450, 350], 850: [450, 400], 900: [450, 450], 950: [450, 450, 50], 1000: [450, 450, 100], 1050: [450, 450, 150], 1100: [450, 450, 200], 1150: [450, 450, 250], 1200: [450, 450, 300], 1250: [450, 450, 350], 1300: [450, 450, 400], 1350: [450, 450, 450], 1400: [450, 450, 450, 50], 1450: [450, 450, 450, 100], 1500: [450, 450, 450, 150], 1550: [450, 450, 450, 200], 1600: [450, 450, 450, 250], 1650: [450, 450, 450, 300], 1700: [450, 450, 450, 350], 1750: [450, 450, 450, 400], 1800: [450, 450, 450, 450], 1850: [450, 450, 450, 450, 50], 1900: [450, 450, 450, 450, 100], 1950: [450, 450, 450, 450, 150], 2000: [450, 450, 450, 450, 200], 2050: [450, 450, 450, 450, 250], 2100: [450, 450, 450, 450, 300], 2150: [450, 450, 450, 450, 350], 2200: [450, 450, 450, 450, 400], 2250: [450, 450, 450, 450, 450], 2300: [450, 450, 450, 450, 450, 50], 2350: [450, 450, 450, 450, 450, 100], 2400: [450, 450, 450, 450, 450, 150], 2450: [450, 450, 450, 450, 450, 200], 2500: [450, 450, 450, 450, 450, 250]})\n"
     ]
    },
    {
     "data": {
      "text/plain": [
       "[]"
      ]
     },
     "execution_count": 38,
     "metadata": {},
     "output_type": "execute_result"
    }
   ],
   "source": [
    "from collections import defaultdict\n",
    "def bestSum(target, nums):\n",
    "    dp = [False] * (target + 1)\n",
    "    hp = defaultdict(list)\n",
    "    dp[0] = True\n",
    "    for i in range(target+1):\n",
    "        if dp[i]:\n",
    "            for n in nums:\n",
    "                if n == 0: continue\n",
    "                if i+n <= target:\n",
    "                    dp[i+n] = True\n",
    "                    if len(hp[i+n]) <= 0 or len(hp[i]) + 1 < len(hp[i+n]):\n",
    "                        hp[i+n] = [n]\n",
    "                        hp[i+n].extend(hp[i])\n",
    "    print(hp)\n",
    "    return hp[target]\n",
    "\n",
    "target = 2501\n",
    "nums = [i for i in range(0, 500, 50)]\n",
    "bestSum(target, nums)"
   ]
  },
  {
   "cell_type": "code",
   "execution_count": 55,
   "id": "ed1114ba",
   "metadata": {},
   "outputs": [
    {
     "name": "stdout",
     "output_type": "stream",
     "text": [
      "2 0 0\n",
      "1 2 0\n"
     ]
    },
    {
     "data": {
      "text/plain": [
       "2"
      ]
     },
     "execution_count": 55,
     "metadata": {},
     "output_type": "execute_result"
    }
   ],
   "source": [
    "def recursion(nums, i, memo):\n",
    "    if i in memo:\n",
    "        return memo[i]\n",
    "    if i >= len(nums):\n",
    "        return 0\n",
    "    r = max(recursion(nums, i + 2, memo) + nums[i] , recursion(nums, i + 3, memo) + nums[i])\n",
    "    memo[i] = r\n",
    "    return r\n",
    "\n",
    "def rob(nums) -> int:\n",
    "    memo = {}\n",
    "    return max(recursion(nums, 0, memo), recursion(nums, 1, memo))\n",
    "\n",
    "def rob(nums) -> int:\n",
    "    \n",
    "    dp2 = dp3 = dp1 = dp = 0\n",
    "    for i in range(len(nums) - 1, -1, -1):\n",
    "        dp = max(dp3,dp2) + nums[i]\n",
    "        dp3 = dp2\n",
    "        dp2 = dp1\n",
    "        dp1 = dp\n",
    "        print(dp, dp2, dp3)\n",
    "    \n",
    "    return max(dp, dp2)\n",
    "        \n",
    "\n",
    "nums = [1,2]\n",
    "\n",
    "rob(nums)"
   ]
  },
  {
   "cell_type": "code",
   "execution_count": 68,
   "id": "70d99550",
   "metadata": {},
   "outputs": [
    {
     "name": "stdout",
     "output_type": "stream",
     "text": [
      "[[1 0 0 0]\n",
      " [1 1 1 0]\n",
      " [0 1 1 0]\n",
      " [0 0 1 1]]\n"
     ]
    },
    {
     "data": {
      "text/plain": [
       "'bb'"
      ]
     },
     "execution_count": 68,
     "metadata": {},
     "output_type": "execute_result"
    }
   ],
   "source": [
    "import numpy as np\n",
    "\n",
    "def longestPalindrome(s) -> str:\n",
    "    dp = [ [0] * len(s) for i in range(len(s)) ]\n",
    "    maxLength = 0\n",
    "    maxIndex = [0,1]\n",
    "    for i in range(len(s) - 1, -1, -1):\n",
    "        for j in range(i, len(s)):\n",
    "            if i == j :\n",
    "                dp[i][j] = 1\n",
    "                if j > 0:\n",
    "                    dp[i][j-1] = 1\n",
    "            else:\n",
    "                if s[i] == s[j] and dp[i+1][j-1]:\n",
    "                    dp[i][j] = 1\n",
    "                    length = abs(i - j) + 1\n",
    "                    if maxLength < length:\n",
    "                        maxLength = length\n",
    "                        maxIndex = [i, j + 1]\n",
    "    print(np.array(dp))\n",
    "    return s[maxIndex[0]: maxIndex[1]]\n",
    "\n",
    "s = \"cbbd\"\n",
    "longestPalindrome(s) \n"
   ]
  },
  {
   "cell_type": "code",
   "execution_count": 71,
   "id": "57e33824",
   "metadata": {},
   "outputs": [
    {
     "name": "stdout",
     "output_type": "stream",
     "text": [
      "[[1 1 1]\n",
      " [1 1 1]\n",
      " [0 1 1]]\n"
     ]
    },
    {
     "data": {
      "text/plain": [
       "6"
      ]
     },
     "execution_count": 71,
     "metadata": {},
     "output_type": "execute_result"
    }
   ],
   "source": [
    "def countSubstrings(s) -> str:\n",
    "    dp = [ [0] * len(s) for i in range(len(s)) ]\n",
    "    count = 0\n",
    "    for i in range(len(s) - 1, -1, -1):\n",
    "        for j in range(i, len(s)):\n",
    "            if i == j :\n",
    "                count += 1\n",
    "                dp[i][j] = 1\n",
    "                if j > 0:\n",
    "                    dp[i][j-1] = 1\n",
    "            else:\n",
    "                if s[i] == s[j] and dp[i+1][j-1]:\n",
    "                    dp[i][j] = 1\n",
    "                    count += 1\n",
    "    print(np.array(dp))\n",
    "    return count\n",
    "\n",
    "s = \"aaa\"\n",
    "countSubstrings(s) "
   ]
  },
  {
   "cell_type": "code",
   "execution_count": 154,
   "id": "565cbe1a",
   "metadata": {},
   "outputs": [
    {
     "name": "stdout",
     "output_type": "stream",
     "text": [
      "[3, 3, 0, 3, 2, 1, 1, 1, 0]\n"
     ]
    },
    {
     "data": {
      "text/plain": [
       "True"
      ]
     },
     "execution_count": 154,
     "metadata": {},
     "output_type": "execute_result"
    }
   ],
   "source": [
    "\n",
    "\n",
    "\n",
    "def ndr(s, i, memo):\n",
    "#     print( \"i-\", i)\n",
    "    if i >= len(s):\n",
    "        return 1\n",
    "    \n",
    "    if s[i] == \"0\":\n",
    "        return 0\n",
    "    \n",
    "    if i in memo:\n",
    "        return memo[i]\n",
    "    \n",
    "    r = ndr(s, i + 1, memo)\n",
    "    \n",
    "    if i+2 <= len(s) and int(s[i:i+2]) <= 26:\n",
    "        r += ndr(s, i + 2, memo)\n",
    "            \n",
    "    memo[i] = r\n",
    "    return r\n",
    "\n",
    "def numDecodings(s) -> int:\n",
    "    dp = [0] * (len(s) + 2)\n",
    "    dp[-2] = 1\n",
    "    for i in range(len(s) - 1, -1 , -1):\n",
    "        if s[i] == \"0\":\n",
    "            continue\n",
    "        if int(s[i:i+2]) <= 26 :\n",
    "            dp[i] = dp[i+1] + dp[i+2]\n",
    "        else:\n",
    "            dp[i] = dp[i+1]\n",
    "    print(dp)\n",
    "    return dp[0]\n",
    "\n",
    "s = \"1201234\"\n",
    "\n",
    "\n",
    "ndr(s, 0, {}) == numDecodings(s)\n",
    "\n"
   ]
  },
  {
   "cell_type": "code",
   "execution_count": 15,
   "id": "da1fe818",
   "metadata": {},
   "outputs": [
    {
     "name": "stdout",
     "output_type": "stream",
     "text": [
      "2\n",
      "5 3\n",
      "2\n"
     ]
    }
   ],
   "source": [
    "def coinChangeRecursive(coins, amount, memo) -> int:\n",
    "    if amount <= 0:\n",
    "        return 0\n",
    "    if amount in memo:\n",
    "        return memo[amount]\n",
    "    minDenomination = -1 \n",
    "    for coin in coins:\n",
    "        denominations = coinChangeRecursive(coins, amount - coin, memo)\n",
    "        if denominations != -1:\n",
    "            if minDenomination != -1:\n",
    "                minDenomination = min(minDenomination, denominations + 1)\n",
    "            else:\n",
    "                minDenomination = denominations + 1\n",
    "    memo[amount] = minDenomination\n",
    "    return minDenomination\n",
    "\n",
    "from collections import defaultdict, deque\n",
    "\n",
    "def coinChangeDp(coins, amount):\n",
    "    if len(coins) <= 0:\n",
    "        return -1\n",
    "    if amount <= 0:\n",
    "        return 0\n",
    "    dp = defaultdict(lambda : float(\"inf\"))\n",
    "    coins = set(coins)\n",
    "    queue = deque([0])\n",
    "    visited = set()\n",
    "    while len(queue) > 0:\n",
    "        k = queue.popleft()\n",
    "        for coin in coins:\n",
    "            if k+coin in coins:\n",
    "                dp[k+coin] = 1\n",
    "            else:\n",
    "                dp[k+coin] = min(dp[k] + 1, dp[k+coin])\n",
    "            if k+coin < amount and k+coin not in visited:\n",
    "                queue.append(k+coin)\n",
    "                visited.add(k+coin)\n",
    "    print(len(dp),len(visited))\n",
    "    return dp[amount] if amount in dp and dp[amount] != float(\"inf\") else -1\n",
    "\n",
    "\n",
    "\n",
    "coins = [25,50]\n",
    "amount = 100\n",
    "memo = {}\n",
    "print(coinChangeRecursive(coins, amount, memo))\n",
    "print(coinChangeDp(coins, amount))"
   ]
  },
  {
   "cell_type": "code",
   "execution_count": 72,
   "id": "1440435b",
   "metadata": {},
   "outputs": [
    {
     "data": {
      "text/plain": [
       "True"
      ]
     },
     "execution_count": 72,
     "metadata": {},
     "output_type": "execute_result"
    }
   ],
   "source": [
    "def wordBreak(s, wordDict) -> bool:\n",
    "    wordDict = set(wordDict)\n",
    "    dp = [False] * (len(s) + 1)\n",
    "    dp[-1] = True\n",
    "    for i in range(len(s) - 1 , -1, -1):\n",
    "        for j in range(i, -1, -1 ):\n",
    "            if s[j:i+1] in wordDict:\n",
    "                l = abs(i-j) + 1\n",
    "                dp[j] = True and dp[j+l] or dp[j]\n",
    "#                 print(dp, j, l,s[j:i+1] )\n",
    "    return dp[0]\n",
    "\n",
    "\n",
    "s = \"aaaaaaa\"\n",
    "wordDict = [\"aaaa\",\"aaa\"]\n",
    "wordBreak(s, wordDict)"
   ]
  },
  {
   "cell_type": "code",
   "execution_count": 89,
   "id": "1edbf1f0",
   "metadata": {},
   "outputs": [
    {
     "name": "stdout",
     "output_type": "stream",
     "text": [
      "[3, 1, 3, 3, 2, 1]\n"
     ]
    },
    {
     "data": {
      "text/plain": [
       "3"
      ]
     },
     "execution_count": 89,
     "metadata": {},
     "output_type": "execute_result"
    }
   ],
   "source": [
    "def lengthOfLIS(nums) -> int:\n",
    "    dp = [1] * len(nums)\n",
    "    for i in range(len(nums) -1, -1, -1):\n",
    "        for j in range(i+1, len(nums)):\n",
    "            if nums[i] < nums[j]:\n",
    "                dp[i] = max(dp[i], dp[j] + 1)\n",
    "    return max(dp)\n",
    "\n",
    "nums = [4,10,4,3,8,9]\n",
    "lengthOfLIS(nums)"
   ]
  },
  {
   "cell_type": "code",
   "execution_count": 93,
   "id": "0950f15b",
   "metadata": {},
   "outputs": [
    {
     "data": {
      "text/plain": [
       "True"
      ]
     },
     "execution_count": 93,
     "metadata": {},
     "output_type": "execute_result"
    }
   ],
   "source": [
    "def canPartition(nums) -> bool:\n",
    "    target = sum(nums) // 2\n",
    "    dp = set([0])\n",
    "    for i in range(len(nums) -1, -1, -1):\n",
    "        v = set()\n",
    "        for t in dp:\n",
    "            if t == target:\n",
    "                return True\n",
    "            v.add(t)\n",
    "            v.add(t + nums[i])\n",
    "        dp = v\n",
    "    return target in dp\n",
    "\n",
    "\n",
    "nums = [1,5,11,5]\n",
    "canPartition(nums)"
   ]
  },
  {
   "cell_type": "code",
   "execution_count": 100,
   "id": "5589d73d",
   "metadata": {},
   "outputs": [
    {
     "name": "stdout",
     "output_type": "stream",
     "text": [
      "{0: [], 1: [1], 5: [5], 6: [5, 1], 11: [5, 5, 1], 12: [11, 1], 16: [5, 11], 17: [5, 11, 1], 10: [5, 5], 21: [5, 11, 5], 22: [5, 11, 5, 1]}\n"
     ]
    },
    {
     "data": {
      "text/plain": [
       "[5, 5, 1]"
      ]
     },
     "execution_count": 100,
     "metadata": {},
     "output_type": "execute_result"
    }
   ],
   "source": [
    "def howPartition(nums) -> bool:\n",
    "    target = sum(nums) // 2\n",
    "    dp = { 0: [] }\n",
    "    for i in range(len(nums) -1, -1, -1):\n",
    "        v = {}\n",
    "        for t in dp:\n",
    "            v[t] = dp[t]\n",
    "            v[t + nums[i]] = []\n",
    "            v[t + nums[i]].extend(dp[t])\n",
    "            v[t + nums[i]].append(nums[i])\n",
    "        dp = v\n",
    "    print(dp)\n",
    "    return dp[target]\n",
    "\n",
    "\n",
    "nums = [1,5,11,5]\n",
    "howPartition(nums)"
   ]
  },
  {
   "cell_type": "code",
   "execution_count": 104,
   "id": "92df71fb",
   "metadata": {},
   "outputs": [
    {
     "name": "stdout",
     "output_type": "stream",
     "text": [
      "{0: [], 1: [1], 11: [11], 12: [11, 1], 5: [5], 6: [5, 1], 10: [5, 5], 16: [5, 11], 17: [5, 11, 1], 21: [5, 11, 5], 22: [5, 11, 5, 1]}\n"
     ]
    },
    {
     "data": {
      "text/plain": [
       "[11]"
      ]
     },
     "execution_count": 104,
     "metadata": {},
     "output_type": "execute_result"
    }
   ],
   "source": [
    "def bestPartition(nums) -> bool:\n",
    "    target = sum(nums) // 2\n",
    "    dp = { 0: [] }\n",
    "    for i in range(len(nums) -1, -1, -1):\n",
    "        v = {}\n",
    "        for t in dp:\n",
    "            v[t] = dp[t]\n",
    "            ns = t + nums[i]\n",
    "            if ns not in dp or len(dp[t]) + 1 < len(dp[ns]):\n",
    "                v[ns] = []\n",
    "                v[ns].extend(dp[t])\n",
    "                v[ns].append(nums[i])\n",
    "        dp = v\n",
    "    print(dp)\n",
    "    return dp[target]\n",
    "\n",
    "\n",
    "nums = [1,5,11,5]\n",
    "bestPartition(nums)"
   ]
  },
  {
   "cell_type": "code",
   "execution_count": 9,
   "id": "50b1ffd2",
   "metadata": {},
   "outputs": [
    {
     "data": {
      "text/plain": [
       "4"
      ]
     },
     "execution_count": 9,
     "metadata": {},
     "output_type": "execute_result"
    }
   ],
   "source": [
    "def rob(nums) -> int:\n",
    "    dp1 = dp2 = dp3 = 0\n",
    "    for i in range(len(nums)):\n",
    "        dp = max(dp2, dp3) + nums[i]\n",
    "        dp3 = dp2\n",
    "        dp2 = dp1\n",
    "        dp1 = dp\n",
    "    return max(dp1,dp2)\n",
    "\n",
    "\n",
    "nums = [1,2,3,1]\n",
    "rob(nums)"
   ]
  },
  {
   "cell_type": "code",
   "execution_count": 13,
   "id": "d74e2bf5",
   "metadata": {},
   "outputs": [
    {
     "data": {
      "text/plain": [
       "4"
      ]
     },
     "execution_count": 13,
     "metadata": {},
     "output_type": "execute_result"
    }
   ],
   "source": [
    "def rob(nums) -> int:\n",
    "    if len(nums) < 3:\n",
    "        return max(nums)\n",
    "    dp1 = dp2 = dp3 = 0\n",
    "    for i in range(len(nums)-1):\n",
    "        dp = max(dp2, dp3) + nums[i]\n",
    "        dp3 = dp2\n",
    "        dp2 = dp1\n",
    "        dp1 = dp\n",
    "    m = max(dp1, dp2)\n",
    "    dp1 = dp2 = dp3 = 0\n",
    "    for i in range(1, len(nums)):\n",
    "        dp = max(dp2, dp3) + nums[i]\n",
    "        dp3 = dp2\n",
    "        dp2 = dp1\n",
    "        dp1 = dp\n",
    "    return max(dp1, dp2, m)\n",
    "\n",
    "nums = [1,2,3,1]\n",
    "rob(nums)"
   ]
  },
  {
   "cell_type": "code",
   "execution_count": 26,
   "id": "177c6409",
   "metadata": {},
   "outputs": [
    {
     "name": "stdout",
     "output_type": "stream",
     "text": [
      "[0, 1, 1, 2, 2, 1, 2, 2, 3, 3, 2, 3]\n"
     ]
    },
    {
     "data": {
      "text/plain": [
       "3"
      ]
     },
     "execution_count": 26,
     "metadata": {},
     "output_type": "execute_result"
    }
   ],
   "source": [
    "def coinChange(coins, amount: int) -> int:\n",
    "    dp = [float(\"inf\")] * (amount + 1)\n",
    "    dp[0] = 0\n",
    "    for i in range(amount + 1):\n",
    "        for coin in coins:\n",
    "            if i+coin < amount + 1:\n",
    "                dp[i+coin] = min(dp[i+coin], dp[i] + 1)\n",
    "    print(dp)\n",
    "    return -1 if dp[amount] == float(\"inf\") else dp[amount]\n",
    "    pass\n",
    "\n",
    "coins = [1,2,5]\n",
    "amount = 11\n",
    "coinChange(coins, amount)"
   ]
  },
  {
   "cell_type": "code",
   "execution_count": 32,
   "id": "bd6f0e06",
   "metadata": {},
   "outputs": [
    {
     "name": "stdout",
     "output_type": "stream",
     "text": [
      "[[0, 0, 0, 0], [0, 0, 0, 0], [0, 0, 0, 0], [0, 0, 0, 0], [0, 0, 0, 0], [0, 0, 0, 0]]\n",
      "[[3, 2, 1, 0], [2, 2, 1, 0], [2, 2, 1, 0], [1, 1, 1, 0], [1, 1, 1, 0], [0, 0, 0, 0]]\n"
     ]
    },
    {
     "data": {
      "text/plain": [
       "3"
      ]
     },
     "execution_count": 32,
     "metadata": {},
     "output_type": "execute_result"
    }
   ],
   "source": [
    "def longestCommonSubsequence(text1: str, text2: str) -> int:\n",
    "    dp = [ [0]* (len(text2) + 1) for i in range(len(text1)+1) ]\n",
    "    for i in range(len(text1) - 1, -1, -1 ):\n",
    "        for j in range(len(text2) - 1, -1, -1 ):\n",
    "            if text1[i] == text2[j]:\n",
    "                dp[i][j] = dp[i+1][j+1] + 1\n",
    "            else:\n",
    "                dp[i][j] = max(dp[i+1][j],dp[i][j+1])\n",
    "    print(dp)\n",
    "    return dp[0][0]\n",
    "    pass\n",
    "\n",
    "\n",
    "text1 = \"abcde\"\n",
    "text2 = \"ace\" \n",
    "longestCommonSubsequence(text1,text2)"
   ]
  },
  {
   "cell_type": "code",
   "execution_count": 2,
   "id": "b49934aa",
   "metadata": {},
   "outputs": [
    {
     "name": "stdout",
     "output_type": "stream",
     "text": [
      "4 B 2 0\n",
      "4 C -2 0\n",
      "3 C 2 0\n",
      "2 S 2 2\n",
      "3 S 0 0\n",
      "4 S 0 0\n",
      "3 B 0 2\n",
      "2 B 3 2\n",
      "1 B 4 3\n",
      "2 C -1 2\n",
      "1 C 1 2\n",
      "0 C 3 2\n"
     ]
    },
    {
     "data": {
      "text/plain": [
       "3"
      ]
     },
     "execution_count": 2,
     "metadata": {},
     "output_type": "execute_result"
    }
   ],
   "source": [
    "from typing import List\n",
    "\n",
    "def maxProfit(prices: List[int]) -> int:\n",
    "    memo = {}\n",
    "    def rec(i, prev):\n",
    "        if i >= len(prices):\n",
    "            return 0\n",
    "        if (i,prev) in memo:\n",
    "            return memo[(i,prev)]\n",
    "            pass\n",
    "        if prev == \"C\":\n",
    "            pb = rec(i+1, \"B\") - prices[i]\n",
    "            pc = rec(i+1, \"C\")\n",
    "        elif prev == \"B\":\n",
    "            pb = rec(i+1, \"S\") + prices[i]\n",
    "            pc = rec(i+1, \"B\")\n",
    "        else:\n",
    "            pb = pc = rec(i+1, \"C\")\n",
    "        print(i, prev, pb, pc)\n",
    "        memo[(i,prev)] = max(pb, pc)\n",
    "        return memo[(i,prev)]\n",
    "    \n",
    "    return rec(0, \"C\")\n",
    "    pass\n",
    "\n",
    "prices = [1,2,3,0,2]\n",
    "\n",
    "maxProfit(prices)"
   ]
  },
  {
   "cell_type": "code",
   "execution_count": 27,
   "id": "0f2dc1c3",
   "metadata": {},
   "outputs": [
    {
     "name": "stdout",
     "output_type": "stream",
     "text": [
      "{(1, 0): 1} 1\n",
      "{(1, 0): 1, (2, 0): 2} 2\n",
      "{(1, 0): 1, (2, 0): 2, (1, 1): 0} 1\n",
      "{(1, 0): 1, (2, 0): 2, (1, 1): 0, (3, 0): 2} 3\n",
      "{(1, 0): 1, (2, 0): 2, (1, 1): 0, (3, 0): 2, (2, 1): 1} 2\n",
      "{(1, 0): 1, (2, 0): 2, (1, 1): 0, (3, 0): 2, (2, 1): 1, (4, 0): 3} 4\n",
      "{(1, 0): 1, (2, 0): 2, (1, 1): 0, (3, 0): 2, (2, 1): 1, (4, 0): 3, (3, 1): 0} 3\n",
      "{(1, 0): 1, (2, 0): 2, (1, 1): 0, (3, 0): 2, (2, 1): 1, (4, 0): 3, (3, 1): 0, (5, 0): 4} 5\n",
      "{(1, 0): 1, (2, 0): 2, (1, 1): 0, (3, 0): 2, (2, 1): 1, (4, 0): 3, (3, 1): 0, (5, 0): 4}\n"
     ]
    },
    {
     "data": {
      "text/plain": [
       "4"
      ]
     },
     "execution_count": 27,
     "metadata": {},
     "output_type": "execute_result"
    }
   ],
   "source": [
    "def change(amount: int, coins: List[int]) -> int:\n",
    "    memo = {}\n",
    "    def rec(amt, i):\n",
    "        if amt < 0 :\n",
    "            return 0\n",
    "        if amt == 0:\n",
    "            return 1\n",
    "        if (amt,i) in memo:\n",
    "            return memo[(amt,i)]\n",
    "            pass\n",
    "        now = 0\n",
    "        for j in range(i, len(coins)):\n",
    "            now += rec(amt - coins[j], j)\n",
    "        memo[(amt,i)] = now\n",
    "        return now\n",
    "        pass\n",
    "    ans = rec(amount, 0)\n",
    "    print(memo)\n",
    "    return ans\n",
    "\n",
    "amount = 5\n",
    "coins = [1,2,5]\n",
    "change(amount, coins)"
   ]
  },
  {
   "cell_type": "code",
   "execution_count": 29,
   "id": "0c93a073",
   "metadata": {},
   "outputs": [
    {
     "data": {
      "text/plain": [
       "5"
      ]
     },
     "execution_count": 29,
     "metadata": {},
     "output_type": "execute_result"
    }
   ],
   "source": [
    "def findTargetSumWays(nums: List[int], target: int) -> int:\n",
    "    memo = {}\n",
    "    def dfs(i,total):\n",
    "        if i >= len(nums):\n",
    "            if total == target:\n",
    "                return 1\n",
    "            else:\n",
    "                return 0\n",
    "        if (i,total) in memo:\n",
    "            return memo[(i,total)]\n",
    "        ways = dfs(i+1, total + nums[i] )\n",
    "        ways += dfs(i+1, total - nums[i] )\n",
    "        memo[(i,total)] = ways\n",
    "        return ways\n",
    "    return dfs(0,0)\n",
    "    pass\n",
    "\n",
    "\n",
    "nums = [1,1,1,1,1]\n",
    "target = 3\n",
    "findTargetSumWays(nums, target)"
   ]
  },
  {
   "cell_type": "code",
   "execution_count": 57,
   "id": "eaa459bd",
   "metadata": {},
   "outputs": [
    {
     "data": {
      "text/plain": [
       "False"
      ]
     },
     "execution_count": 57,
     "metadata": {},
     "output_type": "execute_result"
    }
   ],
   "source": [
    "def isInterleave(s1: str, s2: str, s3: str) -> bool:\n",
    "    if len(s3) != len(s1) + len(s2):\n",
    "        return False\n",
    "    if len(s1) <= 0:\n",
    "        return s3 == s2\n",
    "    if len(s2) <= 0:\n",
    "        return s3 == s1\n",
    "    memo = {}\n",
    "    def recursion(i,j):\n",
    "        k = i + j\n",
    "        if k >= len(s3):\n",
    "            memo[(i,j)] = True\n",
    "            return True\n",
    "        if (i,j) in memo:\n",
    "            return memo[(i,j)]\n",
    "        if i >= len(s1):\n",
    "            memo[(i,j)] = s3[k:] == s2[j:]\n",
    "            return memo[(i,j)]\n",
    "        if j >= len(s2):\n",
    "            memo[(i,j)] = s3[k:] == s1[i:]\n",
    "            return memo[(i,j)]\n",
    "        if s1[i] == s2[j]:\n",
    "            if s3[k] == s1[i]:\n",
    "                ans = recursion(i+1, j) or recursion(i, j+1)\n",
    "            else:\n",
    "                ans = False\n",
    "            memo[(i,j)] = ans\n",
    "            return ans\n",
    "        if s2[j] == s3[k]:\n",
    "            memo[(i,j)] = recursion(i, j+1)\n",
    "            return memo[(i,j)]\n",
    "        elif s1[i] == s3[k]:\n",
    "            memo[(i,j)] = recursion(i+1, j)\n",
    "            return memo[(i,j)]\n",
    "        else:\n",
    "            memo[(i,j)] = False\n",
    "            return False\n",
    "    return recursion(0,0)\n",
    "    pass\n",
    "\n",
    "\n",
    "s1 = \"bbbbbabbbbabaababaaaabbababbaaabbabbaaabaaaaababbbababbbbbabbbbababbabaabababbbaabababababbbaaababaa\"\n",
    "s2 = \"babaaaabbababbbabbbbaabaabbaabbbbaabaaabaababaaaabaaabbaaabaaaabaabaabbbbbbbbbbbabaaabbababbabbabaab\"\n",
    "s3 = \"babbbabbbaaabbababbbbababaabbabaabaaabbbbabbbaaabbbaaaaabbbbaabbaaabababbaaaaaabababbababaababbababbbababbbbaaaabaabbabbaaaaabbabbaaaabbbaabaaabaababaababbaaabbbbbabbbbaabbabaabbbbabaaabbababbabbabbab\"\n",
    "\n",
    "isInterleave(s1,s2,s3)"
   ]
  },
  {
   "cell_type": "code",
   "execution_count": 55,
   "id": "1891e4ca",
   "metadata": {},
   "outputs": [
    {
     "name": "stdout",
     "output_type": "stream",
     "text": [
      "[[3 0 0 0 0 0 0 0]\n",
      " [3 3 0 0 0 0 0 0]\n",
      " [3 3 3 1 0 0 0 0]\n",
      " [3 3 3 2 1 0 0 0]\n",
      " [1 1 1 1 1 1 0 0]\n",
      " [1 1 1 1 1 1 1 0]\n",
      " [1 1 1 1 1 1 1 1]]\n"
     ]
    },
    {
     "data": {
      "text/plain": [
       "3"
      ]
     },
     "execution_count": 55,
     "metadata": {},
     "output_type": "execute_result"
    }
   ],
   "source": [
    "import numpy as np\n",
    "\n",
    "def numDistinct(s: str, t: str) -> int:\n",
    "    memo = {}\n",
    "    def dfs(i, j):\n",
    "        dfs.count += 1\n",
    "        if j > len(s):\n",
    "            return 0\n",
    "        if i >= len(t):\n",
    "            return 1\n",
    "        if (i,j) in memo:\n",
    "            return memo[(i,j)]\n",
    "        matchCount = 0\n",
    "        for chi in range(j, len(s)):\n",
    "            if t[i] == s[chi]:\n",
    "                matchCount += dfs(i + 1, chi + 1)\n",
    "        memo[(i,j)] = matchCount\n",
    "        return matchCount\n",
    "    dfs.count = 0\n",
    "    ans = dfs(0,0)\n",
    "    print(dfs.count)\n",
    "    return ans\n",
    "    pass\n",
    "\n",
    "def numDistinct(s: str, t: str) -> int:\n",
    "    dp = [ [0] * (len(s)+1) for _ in range(len(t)+1)]\n",
    "    \n",
    "    for i in range(len(s)+1):\n",
    "        dp[len(t)][i] = 1\n",
    "    \n",
    "    for i in range(len(t)-1,-1,-1):\n",
    "        for j in range(len(s)-1,-1,-1):\n",
    "            if t[i] == s[j]:\n",
    "                dp[i][j] = dp[i][j+1] + dp[i+1][j+1]\n",
    "            else:\n",
    "                dp[i][j] = dp[i][j+1]\n",
    "    print(np.array(dp))\n",
    "    return dp[0][0]\n",
    "\n",
    "s = \"rabbbit\"\n",
    "t = \"rabbit\"\n",
    "numDistinct(s,t)"
   ]
  },
  {
   "cell_type": "code",
   "execution_count": null,
   "id": "af34e96d",
   "metadata": {},
   "outputs": [],
   "source": []
  }
 ],
 "metadata": {
  "kernelspec": {
   "display_name": "Python 3 (ipykernel)",
   "language": "python",
   "name": "python3"
  },
  "language_info": {
   "codemirror_mode": {
    "name": "ipython",
    "version": 3
   },
   "file_extension": ".py",
   "mimetype": "text/x-python",
   "name": "python",
   "nbconvert_exporter": "python",
   "pygments_lexer": "ipython3",
   "version": "3.9.9"
  }
 },
 "nbformat": 4,
 "nbformat_minor": 5
}
