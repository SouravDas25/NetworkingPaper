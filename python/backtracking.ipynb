{
 "cells": [
  {
   "cell_type": "code",
   "execution_count": 2,
   "id": "365296ff",
   "metadata": {},
   "outputs": [
    {
     "data": {
      "text/plain": [
       "[[], [3], [2], [2, 3], [1], [1, 3], [1, 2], [1, 2, 3]]"
      ]
     },
     "execution_count": 2,
     "metadata": {},
     "output_type": "execute_result"
    }
   ],
   "source": [
    "from typing import List\n",
    "\n",
    "\n",
    "def subsets(nums: List[int]) -> List[List[int]]:\n",
    "    output = []\n",
    "    def rec(i, current):\n",
    "        if i == len(nums):\n",
    "            output.append(list(current))\n",
    "            return\n",
    "        rec(i+1, current )\n",
    "        current.append(nums[i])\n",
    "        rec(i+1, current )\n",
    "        current.remove(nums[i])\n",
    "    rec(0,[])\n",
    "    return output\n",
    "\n",
    "\n",
    "nums = [1,2,3]\n",
    "subsets(nums)"
   ]
  },
  {
   "cell_type": "code",
   "execution_count": 37,
   "id": "7e9e5ca8",
   "metadata": {},
   "outputs": [
    {
     "name": "stdout",
     "output_type": "stream",
     "text": [
      "defaultdict(<class 'set'>, {0: set(), 43: {(43,)}, 100: {(100,)}, 86: {(43, 43)}, 143: {(43, 100)}, 129: {(43, 43, 43)}, 186: {(43, 43, 100)}, 200: {(100, 100)}, 172: {(43, 43, 43, 43)}, 229: {(43, 43, 43, 100)}, 243: {(43, 100, 100)}, 215: {(43, 43, 43, 43, 43)}, 272: {(43, 43, 43, 43, 100)}, 286: {(43, 43, 100, 100)}, 300: {(100, 100, 100)}, 258: {(43, 43, 43, 43, 43, 43)}, 315: {(43, 43, 43, 43, 43, 100)}, 329: {(43, 43, 43, 100, 100)}, 343: {(43, 100, 100, 100)}, 301: {(43, 43, 43, 43, 43, 43, 43)}, 358: {(43, 43, 43, 43, 43, 43, 100)}, 372: {(43, 43, 43, 43, 100, 100)}, 386: {(43, 43, 100, 100, 100)}, 400: {(100, 100, 100, 100)}, 344: {(43, 43, 43, 43, 43, 43, 43, 43)}, 387: {(43, 43, 43, 43, 43, 43, 43, 43, 43)}})\n"
     ]
    },
    {
     "data": {
      "text/plain": [
       "{(100, 100, 100, 100)}"
      ]
     },
     "execution_count": 37,
     "metadata": {},
     "output_type": "execute_result"
    }
   ],
   "source": [
    "def combinationSum(candidates: List[int], target: int) -> List[List[int]]:\n",
    "    output = set()\n",
    "    def rec(target, stack):\n",
    "        if target < 0:\n",
    "            return \n",
    "        if target == 0:\n",
    "            output.add(tuple(sorted(stack)))\n",
    "            return\n",
    "        for n in candidates:\n",
    "            stack.append(n)\n",
    "            rec(target - n, stack)\n",
    "            stack.pop()\n",
    "    rec(target, [])\n",
    "    return output\n",
    "\n",
    "from collections import defaultdict\n",
    "\n",
    "def combinationSum(candidates: List[int], target: int) -> List[List[int]]:\n",
    "    m = max(candidates)\n",
    "    dp = [False] * (target + 1)\n",
    "    dp[0] = True\n",
    "    comb = defaultdict(set)\n",
    "    for i in range(target):\n",
    "        if not dp[i]:\n",
    "            continue\n",
    "        for n in candidates:\n",
    "            if i + n > target:\n",
    "                continue\n",
    "            dp[i+n] = True\n",
    "            if len(comb[i]) == 0:\n",
    "                comb[i+n].add(tuple([n]))\n",
    "            else:\n",
    "                for elm in comb[i]:\n",
    "                    ne = list(elm)\n",
    "                    ne.append(n)\n",
    "                    comb[i+n].add(tuple(sorted(ne)))\n",
    "    print(comb)\n",
    "    return comb[target]\n",
    "\n",
    "\n",
    "candidates = [43,100]\n",
    "target = 400\n",
    "combinationSum(candidates, target)"
   ]
  },
  {
   "cell_type": "code",
   "execution_count": 56,
   "id": "75b2f903",
   "metadata": {},
   "outputs": [
    {
     "data": {
      "text/plain": [
       "[[1, 2, 3], [1, 3, 2], [2, 1, 3], [2, 3, 1], [3, 2, 1], [3, 1, 2]]"
      ]
     },
     "execution_count": 56,
     "metadata": {},
     "output_type": "execute_result"
    }
   ],
   "source": [
    "def permute(nums: List[int]) -> List[List[int]]:\n",
    "    output = []\n",
    "    \n",
    "    def rec(i):\n",
    "        if i == len(nums):\n",
    "            output.append(list(nums))\n",
    "            \n",
    "        for j in range(i, len(nums)):\n",
    "            nums[i], nums[j] = nums[j], nums[i]\n",
    "            rec(i+1)\n",
    "            nums[i], nums[j] = nums[j], nums[i]\n",
    "            \n",
    "    rec(0)\n",
    "    return output\n",
    "\n",
    "nums = [1,2,3]\n",
    "permute(nums)"
   ]
  },
  {
   "cell_type": "code",
   "execution_count": 2,
   "id": "efde4ef0",
   "metadata": {},
   "outputs": [
    {
     "data": {
      "text/plain": [
       "[1, 2, 2, 3, 4, 5, 6]"
      ]
     },
     "execution_count": 2,
     "metadata": {},
     "output_type": "execute_result"
    }
   ],
   "source": [
    "from typing import List\n",
    "import heapq\n",
    "\n",
    "\n",
    "def merge(nums1: List[int], m: int, nums2: List[int], n: int) -> None:\n",
    "    l = []\n",
    "    for i in range(m):\n",
    "        l.append(nums1[i])\n",
    "    \n",
    "    mergeCount = 0\n",
    "    i = j = 0\n",
    "    while i < m or j < n:\n",
    "        \n",
    "        if i < m:\n",
    "            n1 = l[i]\n",
    "        else:\n",
    "            n1 = float(\"inf\")\n",
    "            \n",
    "        if j < n:\n",
    "            n2 = nums2[j]\n",
    "        else:\n",
    "            n2 = float(\"inf\")\n",
    "            \n",
    "        \n",
    "        if n1 < n2 :\n",
    "            nums1[mergeCount] = n1\n",
    "            i += 1\n",
    "        else:\n",
    "            nums1[mergeCount] = n2\n",
    "            j += 1\n",
    "        mergeCount += 1\n",
    "    \n",
    "    \n",
    "    \n",
    "\n",
    "\n",
    "nums1 = [1,2,3,4,0,0,0]\n",
    "m = 4\n",
    "nums2 = [2,5,6]\n",
    "n = 3\n",
    "\n",
    "merge(nums1, m, nums2, n)\n",
    "nums1"
   ]
  },
  {
   "cell_type": "code",
   "execution_count": 8,
   "id": "648b5a62",
   "metadata": {},
   "outputs": [
    {
     "data": {
      "text/plain": [
       "{(), (1,), (1, 2), (1, 2, 2), (2,), (2, 2)}"
      ]
     },
     "execution_count": 8,
     "metadata": {},
     "output_type": "execute_result"
    }
   ],
   "source": [
    "def subsetsWithDup(nums: List[int]) -> List[List[int]]:\n",
    "    output = set()\n",
    "    \n",
    "    def rec(i, current):\n",
    "        if i == len(nums):\n",
    "            output.add(tuple(sorted(current)))\n",
    "            return\n",
    "        \n",
    "        rec(i+1, current)\n",
    "        current.append(nums[i])\n",
    "        rec(i+1, current)\n",
    "        current.pop()\n",
    "    rec(0, [])\n",
    "    return output\n",
    "    pass\n",
    "\n",
    "\n",
    "\n",
    "\n",
    "nums = [1,2,2]\n",
    "subsetsWithDup(nums)"
   ]
  },
  {
   "cell_type": "code",
   "execution_count": 15,
   "id": "348e39f5",
   "metadata": {},
   "outputs": [
    {
     "data": {
      "text/plain": [
       "[[1, 1, 6], [1, 2, 5], [1, 7], [2, 6]]"
      ]
     },
     "execution_count": 15,
     "metadata": {},
     "output_type": "execute_result"
    }
   ],
   "source": [
    "def combinationSum2(candidates: List[int], target: int) -> List[List[int]]:\n",
    "    candidates = sorted(candidates)\n",
    "    output = []\n",
    "    def rec(i, target, included):\n",
    "        if target == 0:\n",
    "            output.append(list(included))\n",
    "        if target < 0:\n",
    "            return\n",
    "        if i == len(candidates):\n",
    "            return\n",
    "        \n",
    "        for j in range(i, len(candidates)):\n",
    "            if j > i and candidates[j] == candidates[j - 1]:\n",
    "                continue\n",
    "            included.append(candidates[j])\n",
    "            rec(j+1, target - candidates[j], included)\n",
    "            included.pop()\n",
    "    rec(0, target, [])\n",
    "    return output\n",
    "    \n",
    "    pass\n",
    "\n",
    "\n",
    "candidates = [10,1,2,7,6,1,5]\n",
    "target = 8\n",
    "combinationSum2(candidates, target)"
   ]
  },
  {
   "cell_type": "code",
   "execution_count": 30,
   "id": "2590d4fc",
   "metadata": {},
   "outputs": [
    {
     "name": "stdout",
     "output_type": "stream",
     "text": [
      "a 0 0\n",
      "a 1 1\n",
      "b 2 2\n",
      "aa 0 1\n",
      "b 2 2\n"
     ]
    },
    {
     "data": {
      "text/plain": [
       "[['a', 'a', 'b'], ['aa', 'b']]"
      ]
     },
     "execution_count": 30,
     "metadata": {},
     "output_type": "execute_result"
    }
   ],
   "source": [
    "def partition(s: str) -> List[List[str]]:\n",
    "    output = []\n",
    "    partitions = []\n",
    "    def rec(i):\n",
    "        if i >= len(s):\n",
    "            output.append(list(partitions))\n",
    "        for j in range(i, len(s)):\n",
    "            if isPalindrome(s, i, j):\n",
    "                print(s[i:j+1], i, j)\n",
    "                partitions.append(s[i:j+1])\n",
    "                rec(j+1)\n",
    "                partitions.pop()\n",
    "    rec(0)\n",
    "    return output\n",
    "\n",
    "def isPalindrome(s, start, end):\n",
    "    length = end - start + 1\n",
    "    for i in range(0, (length)//2):\n",
    "        if s[start+i] != s[end-i]:\n",
    "            return False\n",
    "    return True\n",
    "\n",
    "s = \"aab\"\n",
    "partition(s)"
   ]
  },
  {
   "cell_type": "code",
   "execution_count": 39,
   "id": "0c4f4129",
   "metadata": {},
   "outputs": [
    {
     "name": "stdout",
     "output_type": "stream",
     "text": [
      "[2, 3]\n"
     ]
    },
    {
     "data": {
      "text/plain": [
       "['ad', 'ae', 'af', 'bd', 'be', 'bf', 'cd', 'ce', 'cf']"
      ]
     },
     "execution_count": 39,
     "metadata": {},
     "output_type": "execute_result"
    }
   ],
   "source": [
    "\n",
    "hashMap = {\n",
    "    2: \"abc\",\n",
    "    3: \"def\",\n",
    "    4: \"ghi\",\n",
    "    5: \"jkl\",\n",
    "    6: \"mno\",\n",
    "    7: \"pqrs\",\n",
    "    8: \"tuv\",\n",
    "    9: \"wxyz\"\n",
    "}\n",
    "\n",
    "def letterCombinations(digits: str) -> List[str]:\n",
    "    digits = list(map(int, digits))\n",
    "    output = []\n",
    "    combinations = []\n",
    "    print(digits)\n",
    "    def rec(i):\n",
    "        if i >= len(digits):\n",
    "            output.append(\"\".join(combinations))\n",
    "            return\n",
    "        \n",
    "        for ch in hashMap[digits[i]]:\n",
    "            combinations.append(ch)\n",
    "            rec(i+1)\n",
    "            combinations.pop()\n",
    "    rec(0)\n",
    "    return output\n",
    "\n",
    "\n",
    "digits = \"23\"\n",
    "letterCombinations(digits)"
   ]
  },
  {
   "cell_type": "code",
   "execution_count": 4,
   "id": "fb34db81",
   "metadata": {},
   "outputs": [
    {
     "data": {
      "text/plain": [
       "[['.Q..', '...Q', 'Q...', '..Q.'], ['..Q.', 'Q...', '...Q', '.Q..']]"
      ]
     },
     "execution_count": 4,
     "metadata": {},
     "output_type": "execute_result"
    }
   ],
   "source": [
    "def solveNQueens(n: int) -> List[List[str]]:\n",
    "    col = set()\n",
    "    posDiag = set()\n",
    "    negDiag = set()\n",
    "    board = []\n",
    "    ans = []\n",
    "    def dfs(i, board):\n",
    "        if i == n:\n",
    "            ans.append(list(board))\n",
    "            return\n",
    "        for j in range(n):\n",
    "            if j not in col and i+j not in posDiag and i-j not in negDiag:\n",
    "                col.add(j)\n",
    "                posDiag.add(i+j)\n",
    "                negDiag.add(i-j)\n",
    "                board.append('.' * j + 'Q' + '.' * (n - j - 1))\n",
    "                dfs(i+1, board)\n",
    "                board.pop()\n",
    "                col.remove(j)\n",
    "                posDiag.remove(i+j)\n",
    "                negDiag.remove(i-j)\n",
    "    dfs(0, [])\n",
    "    return ans\n",
    "            \n",
    "    pass\n",
    "\n",
    "\n",
    "solveNQueens(4)"
   ]
  },
  {
   "cell_type": "code",
   "execution_count": null,
   "id": "b2fb651a",
   "metadata": {},
   "outputs": [],
   "source": []
  }
 ],
 "metadata": {
  "kernelspec": {
   "display_name": "Python 3 (ipykernel)",
   "language": "python",
   "name": "python3"
  },
  "language_info": {
   "codemirror_mode": {
    "name": "ipython",
    "version": 3
   },
   "file_extension": ".py",
   "mimetype": "text/x-python",
   "name": "python",
   "nbconvert_exporter": "python",
   "pygments_lexer": "ipython3",
   "version": "3.9.9"
  }
 },
 "nbformat": 4,
 "nbformat_minor": 5
}
