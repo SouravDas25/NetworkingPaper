{
 "cells": [
  {
   "cell_type": "code",
   "execution_count": 1,
   "id": "db787fd2",
   "metadata": {},
   "outputs": [],
   "source": [
    "# Set Matrix Zeroes"
   ]
  },
  {
   "cell_type": "code",
   "execution_count": 11,
   "id": "61f1d372",
   "metadata": {},
   "outputs": [
    {
     "name": "stdout",
     "output_type": "stream",
     "text": [
      "True True\n",
      "0 0\n",
      "0 1\n"
     ]
    },
    {
     "data": {
      "text/plain": [
       "[[0, 0]]"
      ]
     },
     "execution_count": 11,
     "metadata": {},
     "output_type": "execute_result"
    }
   ],
   "source": [
    "\n",
    "def setZeroes(matrix) -> None:\n",
    "    row_flag = False\n",
    "    col_flag = False\n",
    "    for i in range(len(matrix)):\n",
    "        for j in range(len(matrix[i])):\n",
    "            if i == 0 and matrix[i][j] == 0 :\n",
    "                row_flag = True\n",
    "                     \n",
    "            if j == 0 and matrix[i][j] == 0 :\n",
    "                col_flag = True\n",
    "             \n",
    "            if matrix[i][j] == 0 :\n",
    "                matrix[0][j] = 0\n",
    "                matrix[i][0] = 0\n",
    "    print(row_flag, col_flag)\n",
    "                \n",
    "    for i in range(1,len(matrix)):\n",
    "        for j in range(1,len(matrix[i])):\n",
    "            if matrix[0][j] == 0 or matrix[i][0] == 0:\n",
    "                matrix[i][j] = 0\n",
    "    \n",
    "    if row_flag :\n",
    "        for i in range(len(matrix[0])) :\n",
    "            matrix[0][i] = 0\n",
    "    \n",
    "    # modify first col if there was any 1\n",
    "    if col_flag:\n",
    "        for i in range(len(matrix)) :\n",
    "            matrix[i][0] = 0\n",
    "                \n",
    "                \n",
    "    return matrix\n",
    "\n",
    "\n",
    "\n",
    "\n",
    "matrix = [[0,1]]\n",
    "\n",
    "setZeroes(matrix)"
   ]
  },
  {
   "cell_type": "code",
   "execution_count": 12,
   "id": "f73ce0f8",
   "metadata": {},
   "outputs": [],
   "source": [
    "# Spiral Matrix"
   ]
  },
  {
   "cell_type": "code",
   "execution_count": 22,
   "id": "e84dd7ec",
   "metadata": {},
   "outputs": [
    {
     "name": "stdout",
     "output_type": "stream",
     "text": [
      "0 0 3 3 []\n",
      "1 1 1 1 [1, 2, 3, 6, 9, 8, 7, 4]\n",
      "2 2 -1 -1 [1, 2, 3, 6, 9, 8, 7, 4, 5]\n",
      "[1, 2, 3, 6, 9, 8, 7, 4, 5]\n",
      "0 0 1 10 []\n",
      "1 1 -1 8 [1, 2, 3, 4, 5, 6, 7, 8, 9, 10]\n",
      "2 2 -3 6 [1, 2, 3, 4, 5, 6, 7, 8, 9, 10]\n",
      "3 3 -5 4 [1, 2, 3, 4, 5, 6, 7, 8, 9, 10]\n",
      "4 4 -7 2 [1, 2, 3, 4, 5, 6, 7, 8, 9, 10]\n",
      "5 5 -9 0 [1, 2, 3, 4, 5, 6, 7, 8, 9, 10]\n",
      "[1, 2, 3, 4, 5, 6, 7, 8, 9, 10]\n",
      "0 0 3 4 []\n",
      "1 1 1 2 [1, 2, 3, 4, 8, 12, 11, 10, 9, 5]\n",
      "2 2 -1 0 [1, 2, 3, 4, 8, 12, 11, 10, 9, 5, 6, 7]\n"
     ]
    },
    {
     "data": {
      "text/plain": [
       "[1, 2, 3, 4, 8, 12, 11, 10, 9, 5, 6, 7]"
      ]
     },
     "execution_count": 22,
     "metadata": {},
     "output_type": "execute_result"
    }
   ],
   "source": [
    "def sprial(matrix, rowIndex, columnIndex, rowCount, columnCount, output):\n",
    "    print(rowIndex, columnIndex, rowCount, columnCount, output)\n",
    "    \n",
    "    if rowCount < 1 and columnCount < 1:\n",
    "        return\n",
    "    \n",
    "    if rowCount > 0:\n",
    "        for j in range(columnIndex, columnIndex + columnCount):\n",
    "            output.append(matrix[rowIndex][j])\n",
    "        \n",
    "    lastColumnIndex = columnIndex + columnCount - 1\n",
    "    \n",
    "    if columnCount > 0:\n",
    "        for i in range(rowIndex + 1, rowIndex + rowCount):\n",
    "            output.append(matrix[i][lastColumnIndex])\n",
    "    \n",
    "    lastRowIndex = rowIndex + rowCount - 1\n",
    "    if rowIndex < lastRowIndex :\n",
    "        for j in range(lastColumnIndex - 1, columnIndex - 1 , -1 ):\n",
    "            output.append(matrix[lastRowIndex][j])\n",
    "    \n",
    "    if columnIndex < lastColumnIndex:\n",
    "        for i in range(lastRowIndex - 1, rowIndex, -1):\n",
    "            output.append(matrix[i][columnIndex])\n",
    "        \n",
    "    sprial(matrix, rowIndex + 1, columnIndex + 1,  rowCount - 2, columnCount- 2, output)\n",
    "\n",
    "def spiralOrder(matrix):\n",
    "    output = []\n",
    "    \n",
    "    sprial(matrix, 0,0, len(matrix), len(matrix[0]),output )\n",
    "    return output\n",
    "\n",
    "matrix = [[1,2,3],[4,5,6],[7,8,9]]\n",
    "print(spiralOrder(matrix))\n",
    "\n",
    "matrix = [[1,2,3,4,5,6,7,8,9,10]]\n",
    "print(spiralOrder(matrix))\n",
    "\n",
    "matrix = [[1,2,3,4],[5,6,7,8],[9,10,11,12]]\n",
    "spiralOrder(matrix)"
   ]
  },
  {
   "cell_type": "code",
   "execution_count": 23,
   "id": "c1062fa2",
   "metadata": {},
   "outputs": [],
   "source": [
    "# Rotate Image"
   ]
  },
  {
   "cell_type": "code",
   "execution_count": 58,
   "id": "f9add045",
   "metadata": {},
   "outputs": [
    {
     "name": "stdout",
     "output_type": "stream",
     "text": [
      "[[ 2 29 20 26 16 28]\n",
      " [12 27  9 25 13 21]\n",
      " [32 33 32  2 28 14]\n",
      " [13 14 32 27 22 26]\n",
      " [33  1 20  7 21  7]\n",
      " [ 4 24  1  6 32 34]]\n",
      "0 0 6 6 5 5\n",
      "1 1 4 4 4 4\n",
      "2 2 2 2 3 3\n"
     ]
    },
    {
     "data": {
      "text/plain": [
       "array([[ 4, 33, 13, 32, 12,  2],\n",
       "       [24,  1, 14, 33, 27, 29],\n",
       "       [ 1, 20, 32, 32,  9, 20],\n",
       "       [ 6,  7, 27,  2, 25, 26],\n",
       "       [32, 21, 22, 28, 13, 16],\n",
       "       [34,  7, 26, 14, 21, 28]])"
      ]
     },
     "execution_count": 58,
     "metadata": {},
     "output_type": "execute_result"
    }
   ],
   "source": [
    "import numpy as np\n",
    "\n",
    "def rotate(matrix, rowIndex, columnIndex, rowCount, columnCount):\n",
    "    \n",
    "    if rowCount < 1 or columnCount < 1:\n",
    "        return\n",
    "    \n",
    "    lastRowIndex = rowIndex + rowCount - 1\n",
    "    lastColIndex = columnIndex + columnCount - 1\n",
    "    \n",
    "    for i in range(columnCount - 1):\n",
    "        t = matrix[rowIndex][columnIndex + i]\n",
    "        matrix[rowIndex][columnIndex + i] = matrix[lastRowIndex - i][columnIndex]\n",
    "        matrix[lastRowIndex - i][columnIndex] =  matrix[lastRowIndex][lastColIndex - i]\n",
    "        matrix[lastRowIndex][lastColIndex - i] =  matrix[rowIndex+i][lastColIndex]\n",
    "        matrix[rowIndex + i][lastColIndex] = t\n",
    "    \n",
    "    print(rowIndex, columnIndex, rowCount, columnCount, lastRowIndex, lastColIndex)\n",
    "    \n",
    "    rotate(matrix, rowIndex +1, columnIndex + 1, rowCount - 2,  columnCount - 2)\n",
    "\n",
    "\n",
    "def rotateBy90(matrix) -> None:\n",
    "    rotate(matrix, 0 , 0, len(matrix), len(matrix) )\n",
    "    return matrix\n",
    "\n",
    "matrix =[[2,29,20,26,16,28],[12,27,9,25,13,21],[32,33,32,2,28,14],[13,14,32,27,22,26],[33,1,20,7,21,7],[4,24,1,6,32,34]]\n",
    "\n",
    "print(np.array(matrix))\n",
    "\n",
    "np.array(rotateBy90(matrix))\n"
   ]
  },
  {
   "cell_type": "code",
   "execution_count": null,
   "id": "e47710c4",
   "metadata": {},
   "outputs": [],
   "source": []
  }
 ],
 "metadata": {
  "kernelspec": {
   "display_name": "Python 3 (ipykernel)",
   "language": "python",
   "name": "python3"
  },
  "language_info": {
   "codemirror_mode": {
    "name": "ipython",
    "version": 3
   },
   "file_extension": ".py",
   "mimetype": "text/x-python",
   "name": "python",
   "nbconvert_exporter": "python",
   "pygments_lexer": "ipython3",
   "version": "3.9.9"
  }
 },
 "nbformat": 4,
 "nbformat_minor": 5
}
