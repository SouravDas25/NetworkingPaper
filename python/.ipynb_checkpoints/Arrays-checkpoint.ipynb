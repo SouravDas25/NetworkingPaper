{
 "cells": [
  {
   "cell_type": "code",
   "execution_count": 1,
   "id": "b6b57449",
   "metadata": {},
   "outputs": [],
   "source": [
    "# Two Sums"
   ]
  },
  {
   "cell_type": "code",
   "execution_count": 10,
   "id": "af8e702e",
   "metadata": {},
   "outputs": [
    {
     "data": {
      "text/plain": [
       "(1, 0)"
      ]
     },
     "execution_count": 10,
     "metadata": {},
     "output_type": "execute_result"
    }
   ],
   "source": [
    "def twoSums(arr, k):\n",
    "    diff = {}\n",
    "    for i in range(len(arr)):\n",
    "        d = k - arr[i]\n",
    "        if d in diff:\n",
    "            return i, diff[d]\n",
    "        else:\n",
    "            diff[arr[i]] = i\n",
    "    return None\n",
    "\n",
    "\n",
    "\n",
    "arr = [2,7,11,15]\n",
    "k = 9\n",
    "\n",
    "twoSums(arr, k)"
   ]
  },
  {
   "cell_type": "code",
   "execution_count": 11,
   "id": "7c680b95",
   "metadata": {},
   "outputs": [],
   "source": [
    "# Best Time to Buy and Sell Stock"
   ]
  },
  {
   "cell_type": "code",
   "execution_count": 45,
   "id": "f53ce0fb",
   "metadata": {},
   "outputs": [],
   "source": [
    "\n",
    "def bestTime(prices):\n",
    "    max_profit = 0\n",
    "    min_price = prices[0]\n",
    "    for i in range(1, len(prices)):\n",
    "        cp = prices[i]\n",
    "        if cp < min_price:\n",
    "            min_price = cp\n",
    "        p = cp - min_price\n",
    "        if p > max_profit:\n",
    "            max_profit = p\n",
    "    return max_profit\n",
    "\n",
    "\n",
    "prices = [7,1,5,3,6,4]\n",
    "\n",
    "assert bestTime(prices) == 5\n",
    "\n",
    "prices = [7,6,4,3,1]\n",
    "\n",
    "assert bestTime(prices) == 0\n",
    "\n",
    "prices = [2,1,4]\n",
    "\n",
    "assert bestTime(prices) == 3\n"
   ]
  },
  {
   "cell_type": "code",
   "execution_count": 46,
   "id": "e3749624",
   "metadata": {},
   "outputs": [],
   "source": [
    "# Max Profit"
   ]
  },
  {
   "cell_type": "code",
   "execution_count": 89,
   "id": "76dd1d94",
   "metadata": {},
   "outputs": [
    {
     "name": "stdout",
     "output_type": "stream",
     "text": [
      "0\n",
      "1 1 0\n",
      "1 5 0\n",
      "3 3 4\n",
      "3 6 4\n",
      "4 4 7\n",
      "0\n",
      "1 2 0\n",
      "1 3 0\n",
      "1 4 0\n",
      "5 5 4\n",
      "0\n",
      "3 3 0\n",
      "3 5 0\n",
      "0 0 2\n",
      "0 0 2\n",
      "0 3 2\n",
      "1 1 5\n",
      "4 4 8\n"
     ]
    }
   ],
   "source": [
    "def maxPofit(prices):\n",
    "    max_profit = 0\n",
    "    min_price = prices[0]\n",
    "    print(max_profit)\n",
    "    for i in range(1, len(prices)):\n",
    "        cp = prices[i]\n",
    "        \n",
    "        if prices[i] < prices[i-1] :\n",
    "            p = prices[i-1] - min_price\n",
    "            max_profit += p\n",
    "            min_price = cp\n",
    "        elif i == len(prices) -1:\n",
    "            p = cp - min_price\n",
    "            max_profit += p\n",
    "            min_price = cp\n",
    "            \n",
    "        print(min_price, cp, max_profit)\n",
    "    \n",
    "    return max_profit\n",
    "\n",
    "\n",
    "prices = [7,1,5,3,6,4]\n",
    "\n",
    "assert maxPofit(prices) == 7\n",
    "\n",
    "prices = [1,2,3,4,5]\n",
    "\n",
    "assert maxPofit(prices) == 4\n",
    "\n",
    "prices = [3,3,5,0,0,3,1,4]\n",
    "\n",
    "assert maxPofit(prices) == 8"
   ]
  },
  {
   "cell_type": "code",
   "execution_count": 54,
   "id": "96ef859f",
   "metadata": {},
   "outputs": [],
   "source": [
    "# Best Time to Buy and Sell Stock III"
   ]
  },
  {
   "cell_type": "code",
   "execution_count": 87,
   "id": "80d12900",
   "metadata": {
    "scrolled": false
   },
   "outputs": [
    {
     "name": "stdout",
     "output_type": "stream",
     "text": [
      "prices [1, 2, 4, 2, 5, 7, 2, 4, 9, 0]\n",
      "2 -> -1 1 -1 1\n",
      "4 -> -1 3 -1 3\n",
      "2 -> -1 3 1 3\n",
      "5 -> -1 4 1 6\n",
      "7 -> -1 6 1 8\n",
      "2 -> -1 6 4 8\n",
      "4 -> -1 6 4 8\n",
      "9 -> -1 8 4 13\n",
      "0 -> 0 8 8 13\n",
      "prices [1, 2, 3, 4, 5]\n",
      "2 -> -1 1 -1 1\n",
      "3 -> -1 2 -1 2\n",
      "4 -> -1 3 -1 3\n",
      "5 -> -1 4 -1 4\n",
      "prices [3, 2, 6, 5, 0, 3]\n",
      "2 -> -2 0 -2 0\n",
      "6 -> -2 4 -2 4\n",
      "5 -> -2 4 -1 4\n",
      "0 -> 0 4 4 4\n",
      "3 -> 0 4 4 7\n",
      "prices [8, 6, 4, 3, 3, 2, 3, 5, 8, 3, 8, 2, 6]\n",
      "6 -> -6 0 -6 0\n",
      "4 -> -4 0 -4 0\n",
      "3 -> -3 0 -3 0\n",
      "3 -> -3 0 -3 0\n",
      "2 -> -2 0 -2 0\n",
      "3 -> -2 1 -2 1\n",
      "5 -> -2 3 -2 3\n",
      "8 -> -2 6 -2 6\n",
      "3 -> -2 6 3 6\n",
      "8 -> -2 6 3 11\n",
      "2 -> -2 6 4 11\n",
      "6 -> -2 6 4 11\n"
     ]
    }
   ],
   "source": [
    "def maxPofitLimitTransaction(prices):\n",
    "    if len(prices) < 2:\n",
    "            return 0\n",
    "    B1 = -prices[0]\n",
    "    S1 = B2 = S2 = float(\"-inf\")\n",
    "    print(\"prices\", prices)\n",
    "    for i in range(1, len(prices)):\n",
    "        B1 = max(B1, -prices[i])\n",
    "        S1 = max(S1, B1 + prices[i] )\n",
    "        B2 = max(B2, S1 - prices[i] )\n",
    "        S2 = max(S2, B2 + prices[i] )\n",
    "        print(prices[i], \"->\", B1,S1,B2,S2)\n",
    "    return S2\n",
    "            \n",
    "    \n",
    "\n",
    "\n",
    "prices = [1,2,4,2,5,7,2,4,9,0]\n",
    "\n",
    "assert maxPofitLimitTransaction(prices) == 13\n",
    "\n",
    "prices = [1,2,3,4,5]\n",
    "\n",
    "assert maxPofitLimitTransaction(prices) == 4\n",
    "\n",
    "\n",
    "prices = [3,2,6,5,0,3]\n",
    "\n",
    "assert maxPofitLimitTransaction(prices) == 7\n",
    "\n",
    "\n",
    "prices = [8,6,4,3,3,2,3,5,8,3,8,2,6]\n",
    "\n",
    "assert maxPofitLimitTransaction(prices) == 11\n"
   ]
  },
  {
   "cell_type": "code",
   "execution_count": 90,
   "id": "6e5f27ca",
   "metadata": {},
   "outputs": [],
   "source": [
    "# Best Time to Buy and Sell Stock IV"
   ]
  },
  {
   "cell_type": "code",
   "execution_count": 96,
   "id": "2512050e",
   "metadata": {},
   "outputs": [
    {
     "name": "stdout",
     "output_type": "stream",
     "text": [
      "prices [1, 2, 4, 2, 5, 7, 2, 4, 9, 0]\n",
      "2 -> [-1, 1, -1, 1]\n",
      "4 -> [-1, 3, -1, 3]\n",
      "2 -> [-1, 3, 1, 3]\n",
      "5 -> [-1, 4, 1, 6]\n",
      "7 -> [-1, 6, 1, 8]\n",
      "2 -> [-1, 6, 4, 8]\n",
      "4 -> [-1, 6, 4, 8]\n",
      "9 -> [-1, 8, 4, 13]\n",
      "0 -> [0, 8, 8, 13]\n",
      "prices [1, 2, 3, 4, 5]\n",
      "2 -> [-1, 1, -1, 1, -1, 1, -1, 1]\n",
      "3 -> [-1, 2, -1, 2, -1, 2, -1, 2]\n",
      "4 -> [-1, 3, -1, 3, -1, 3, -1, 3]\n",
      "5 -> [-1, 4, -1, 4, -1, 4, -1, 4]\n",
      "prices [3, 2, 6, 5, 0, 3]\n",
      "2 -> [-2, 0, -2, 0]\n",
      "6 -> [-2, 4, -2, 4]\n",
      "5 -> [-2, 4, -1, 4]\n",
      "0 -> [0, 4, 4, 4]\n",
      "3 -> [0, 4, 4, 7]\n",
      "prices [8, 6, 4, 3, 3, 2, 3, 5, 8, 3, 8, 2, 6]\n",
      "6 -> [-6, 0, -6, 0]\n",
      "4 -> [-4, 0, -4, 0]\n",
      "3 -> [-3, 0, -3, 0]\n",
      "3 -> [-3, 0, -3, 0]\n",
      "2 -> [-2, 0, -2, 0]\n",
      "3 -> [-2, 1, -2, 1]\n",
      "5 -> [-2, 3, -2, 3]\n",
      "8 -> [-2, 6, -2, 6]\n",
      "3 -> [-2, 6, 3, 6]\n",
      "8 -> [-2, 6, 3, 11]\n",
      "2 -> [-2, 6, 4, 11]\n",
      "6 -> [-2, 6, 4, 11]\n"
     ]
    }
   ],
   "source": [
    "def maxPofitKTransaction(prices,k):\n",
    "    if len(prices) <= k or k < 1:\n",
    "        return 0\n",
    "    states = [float(\"-inf\")] * (k*2)\n",
    "    states[0] = -prices[0]\n",
    "    print(\"prices\", prices)\n",
    "    for i in range(1, len(prices)):\n",
    "        states[0] = max(states[0], -prices[i])\n",
    "        for j in range(1,len(states)):\n",
    "            if j % 2 == 0:\n",
    "                states[j] = max(states[j], states[j - 1] - prices[i] )\n",
    "            else:\n",
    "                states[j] = max(states[j], states[j - 1] + prices[i] )\n",
    "        print(prices[i], \"->\", states)\n",
    "    return states.pop()\n",
    "            \n",
    "    \n",
    "\n",
    "\n",
    "prices = [1,2,4,2,5,7,2,4,9,0]\n",
    "\n",
    "assert maxPofitKTransaction(prices, 2) == 13\n",
    "\n",
    "prices = [1,2,3,4,5]\n",
    "\n",
    "assert maxPofitKTransaction(prices, 2) == 4\n",
    "\n",
    "\n",
    "prices = [3,2,6,5,0,3]\n",
    "\n",
    "assert maxPofitKTransaction(prices, 2) == 7\n",
    "\n",
    "\n",
    "prices = [8,6,4,3,3,2,3,5,8,3,8,2,6]\n",
    "\n",
    "assert maxPofitKTransaction(prices,2) == 11"
   ]
  },
  {
   "cell_type": "code",
   "execution_count": 97,
   "id": "574711d7",
   "metadata": {},
   "outputs": [],
   "source": [
    "# Contains Duplicate"
   ]
  },
  {
   "cell_type": "code",
   "execution_count": 99,
   "id": "b3f1e2f8",
   "metadata": {},
   "outputs": [
    {
     "data": {
      "text/plain": [
       "True"
      ]
     },
     "execution_count": 99,
     "metadata": {},
     "output_type": "execute_result"
    }
   ],
   "source": [
    "\n",
    "def containsDuplicate(nums):\n",
    "    items = set()\n",
    "    for i in nums:\n",
    "        if i in items:\n",
    "            return True\n",
    "        items.add(i)\n",
    "    return False\n",
    "\n",
    "\n",
    "nums = [1,1,1,3,3,4,3,2,4,2]\n",
    "\n",
    "containsDuplicate(nums)"
   ]
  },
  {
   "cell_type": "code",
   "execution_count": 100,
   "id": "3ff76c5c",
   "metadata": {},
   "outputs": [],
   "source": [
    "# Product of Array Except Self"
   ]
  },
  {
   "cell_type": "code",
   "execution_count": 110,
   "id": "c475a955",
   "metadata": {},
   "outputs": [
    {
     "name": "stdout",
     "output_type": "stream",
     "text": [
      "[1, 1, 2, 6]\n"
     ]
    },
    {
     "data": {
      "text/plain": [
       "[24, 12, 8, 6]"
      ]
     },
     "execution_count": 110,
     "metadata": {},
     "output_type": "execute_result"
    }
   ],
   "source": [
    "def productExceptSelf(nums):\n",
    "    output = [1]\n",
    "    p = 1\n",
    "    for i in range(len(nums) - 1):\n",
    "        p *= nums[i]\n",
    "        output.append(p)\n",
    "    print(output)\n",
    "    p = 1\n",
    "    for i in range(len(nums) - 1, 0, -1):\n",
    "        p *= nums[i]\n",
    "        output[i - 1] = output[i-1] * pbbbb\n",
    "    return output\n",
    "\n",
    "nums = [1,2,3,4]\n",
    "productExceptSelf(nums)"
   ]
  },
  {
   "cell_type": "code",
   "execution_count": 111,
   "id": "d9cbc14f",
   "metadata": {},
   "outputs": [],
   "source": [
    "# Maximum Subarray"
   ]
  },
  {
   "cell_type": "code",
   "execution_count": 124,
   "id": "6c78141e",
   "metadata": {},
   "outputs": [
    {
     "data": {
      "text/plain": [
       "23"
      ]
     },
     "execution_count": 124,
     "metadata": {},
     "output_type": "execute_result"
    }
   ],
   "source": [
    "def maxSubArray(nums):\n",
    "    max_sum = nums[0]\n",
    "    c_sum = 0\n",
    "    for i in range(len(nums)):\n",
    "        c_sum += nums[i]\n",
    "        max_sum = max(max_sum, c_sum)\n",
    "        c_sum = max(0, c_sum)\n",
    "    return max_sum\n",
    "\n",
    "\n",
    "nums = [5,4,-1,7,8]\n",
    "maxSubArray(nums)"
   ]
  },
  {
   "cell_type": "code",
   "execution_count": 113,
   "id": "3eb46549",
   "metadata": {},
   "outputs": [],
   "source": [
    "# Maximum Product Subarray"
   ]
  },
  {
   "cell_type": "code",
   "execution_count": 129,
   "id": "8aaf6cf5",
   "metadata": {},
   "outputs": [
    {
     "name": "stdout",
     "output_type": "stream",
     "text": [
      "[-2, 0, -1]\n",
      "0 -> 0 0 0\n",
      "-1 -> 0 -1 0\n",
      "[2, 3, -2, 4]\n",
      "3 -> 6 3 6\n",
      "-2 -> -2 -12 6\n",
      "4 -> 4 -48 6\n"
     ]
    }
   ],
   "source": [
    "\n",
    "def maxProduct(nums):\n",
    "    max_product = -9999999\n",
    "    print(nums)\n",
    "    ma = nums[0]\n",
    "    mi = nums[0]\n",
    "    for i in range(1, len(nums)):\n",
    "        n = nums[i]\n",
    "        t = (ma * n, n, mi * n)\n",
    "        ma = max(t)\n",
    "        mi = min(t)\n",
    "        max_product = max(max_product, ma)\n",
    "        print(n, \"->\" ,ma, mi , max_product)\n",
    "    \n",
    "    return max_product\n",
    "\n",
    "nums = [-2,0,-1]\n",
    "assert maxProduct(nums) == 0\n",
    "\n",
    "\n",
    "nums = [2,3,-2,4]\n",
    "assert maxProduct(nums) == 6"
   ]
  },
  {
   "cell_type": "code",
   "execution_count": 130,
   "id": "c065f737",
   "metadata": {},
   "outputs": [],
   "source": [
    "# Search in Rotated Sorted Array"
   ]
  },
  {
   "cell_type": "code",
   "execution_count": 142,
   "id": "a5e27e38",
   "metadata": {},
   "outputs": [
    {
     "name": "stdout",
     "output_type": "stream",
     "text": [
      "0 6 3\n",
      "4 6 5\n",
      "4 4 4\n",
      "0 6 3\n",
      "4 6 5\n",
      "6 6 6\n"
     ]
    }
   ],
   "source": [
    "def binarySearch(nums, l , h, target):\n",
    "    if l > h :\n",
    "        return -1\n",
    "    mid = l + (h - l) // 2\n",
    "    if nums[mid] == target:\n",
    "        return mid\n",
    "    \n",
    "    if l == h:\n",
    "        return -1\n",
    "    \n",
    "    if target < nums[mid]:\n",
    "        return binarySearch(nums, l, mid - 1, target)\n",
    "    else:\n",
    "        return binarySearch(nums, mid + 1, h, target)\n",
    "    \n",
    "    \n",
    "\n",
    "def searchRotated(nums,l , h, target):\n",
    "    if l > h :\n",
    "        print(l,h)\n",
    "        return -1\n",
    "    \n",
    "    mid = l + (h - l) // 2\n",
    "    print(l,h, mid)\n",
    "    \n",
    "    if nums[mid] == target:\n",
    "        return mid\n",
    "    \n",
    "    if l == h:\n",
    "        return -1\n",
    "    \n",
    "    if target < nums[mid]:\n",
    "        if nums[l] < nums[mid-1]:\n",
    "            if target > nums[l]:\n",
    "                return binarySearch(nums, l, mid - 1, target)\n",
    "            else:\n",
    "                return searchRotated(nums, mid + 1, h, target)\n",
    "        else:\n",
    "            return searchRotated(nums, l, mid - 1, target)\n",
    "    else:\n",
    "        if nums[h] > nums[mid+1]:\n",
    "            if target < nums[h]:\n",
    "                return binarySearch(nums, mid + 1, h, target)\n",
    "            else:\n",
    "                return searchRotated(nums, l, mid - 1, target)\n",
    "        else:\n",
    "            return searchRotated(nums, mid + 1, h, target)\n",
    "\n",
    "nums = [4,5,6,7,0,1,2]\n",
    "target = 0\n",
    "\n",
    "assert searchRotated(nums, 0, len(nums) - 1, target) == 4\n",
    "\n",
    "\n",
    "nums = [4,5,6,7,0,1,2]\n",
    "target = 3\n",
    "\n",
    "assert searchRotated(nums, 0, len(nums) - 1, target) == -1"
   ]
  },
  {
   "cell_type": "code",
   "execution_count": null,
   "id": "28893f2a",
   "metadata": {},
   "outputs": [],
   "source": []
  }
 ],
 "metadata": {
  "kernelspec": {
   "display_name": "Python 3 (ipykernel)",
   "language": "python",
   "name": "python3"
  },
  "language_info": {
   "codemirror_mode": {
    "name": "ipython",
    "version": 3
   },
   "file_extension": ".py",
   "mimetype": "text/x-python",
   "name": "python",
   "nbconvert_exporter": "python",
   "pygments_lexer": "ipython3",
   "version": "3.9.9"
  }
 },
 "nbformat": 4,
 "nbformat_minor": 5
}
