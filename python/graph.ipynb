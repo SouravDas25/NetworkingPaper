{
 "cells": [
  {
   "cell_type": "code",
   "execution_count": 108,
   "id": "a67a4b53",
   "metadata": {},
   "outputs": [
    {
     "name": "stdout",
     "output_type": "stream",
     "text": [
      "   A  B  C\n",
      "A  0  1  0\n",
      "B  0  0  1\n",
      "C  0  0  0\n"
     ]
    }
   ],
   "source": [
    "\n",
    "import numpy as np\n",
    "import pandas as pd\n",
    "\n",
    "class Graph:\n",
    "    \n",
    "    def __init__(self, vertices, directed=True):\n",
    "        if type(vertices) == str :\n",
    "            vertices = list(vertices)\n",
    "        self.mat = []\n",
    "        self.vertices = {}\n",
    "        for i in range(len(vertices)):\n",
    "            self.mat.append([])\n",
    "            self.vertices[vertices[i]] = i\n",
    "            for j in range(len(vertices)):\n",
    "                self.mat[i].append(0)\n",
    "        self.v = vertices\n",
    "        self.directed = directed\n",
    "        \n",
    "    def vertex(self, index):\n",
    "        return self.v[index]\n",
    "    \n",
    "    def edges(self, edges):\n",
    "        edges = edges.split(\",\")\n",
    "        for edge in edges:\n",
    "            va , vb = edge.split(\"-\")\n",
    "            self.edge(va.strip(), vb.strip())\n",
    "        \n",
    "    \n",
    "    def edge(self, va, vb, weight = 1):\n",
    "        vai = self.vertices[va]\n",
    "        vbi = self.vertices[vb]\n",
    "        if self.directed:\n",
    "            self.mat[vai][vbi] = weight\n",
    "            return self\n",
    "        else:\n",
    "            self.mat[vai][vbi] = weight\n",
    "            self.mat[vbi][vai] = weight\n",
    "            return self\n",
    "    \n",
    "    def show(self):\n",
    "        print(pd.DataFrame(self.mat, columns= self.v, index=self.v))\n",
    "    \n",
    "\n",
    "graph = Graph([\"A\", \"B\" , \"C\"])\n",
    "graph.edge(\"A\",\"B\")\n",
    "graph.edges(\"A-B, B-C\")\n",
    "\n",
    "graph.show()"
   ]
  },
  {
   "cell_type": "code",
   "execution_count": 67,
   "id": "f575d05b",
   "metadata": {},
   "outputs": [
    {
     "name": "stdout",
     "output_type": "stream",
     "text": [
      "   0  1  2  3  4  5\n",
      "0  0  1  1  0  0  0\n",
      "1  0  0  0  0  0  0\n",
      "2  0  0  0  0  1  1\n",
      "3  1  0  0  0  0  0\n",
      "4  0  0  0  1  0  0\n",
      "5  0  0  0  0  0  0\n"
     ]
    },
    {
     "data": {
      "text/plain": [
       "[0, 1, 2, 4, 3, 5]"
      ]
     },
     "execution_count": 67,
     "metadata": {},
     "output_type": "execute_result"
    }
   ],
   "source": [
    "def dfs_recursion(mat, vertex ,output, visited):\n",
    "    if vertex not in visited:\n",
    "        output.append(vertex)\n",
    "        visited.add(vertex)\n",
    "    for i in range(len(mat)):\n",
    "        if mat[vertex][i] != 0 and i not in visited :\n",
    "            dfs_recursion(mat, i, output, visited)\n",
    "            \n",
    "def dfs_iteration(mat, cvi, output, visited):\n",
    "    stack = [cvi]\n",
    "    while len(stack) > 0:\n",
    "        vertex = stack.pop()\n",
    "        \n",
    "        if vertex not in visited:\n",
    "            output.append(vertex)\n",
    "            visited.add(vertex)\n",
    "        \n",
    "        for i in range(len(mat)):\n",
    "            if mat[vertex][i] != 0 and i not in visited :\n",
    "                stack.append(i)\n",
    "                \n",
    "\n",
    "def dfs(mat):\n",
    "    output = []\n",
    "    visited = set()\n",
    "    nv = len(mat)\n",
    "    for i in range(nv):\n",
    "        if i not in visited:\n",
    "            dfs_recursion(mat, i, output, visited) \n",
    "    return output\n",
    "\n",
    "graph = Graph(\"012345\", True)\n",
    "graph.edges(\"0-1, 0-2, 2-5, 2-4, 4-3, 3-0\")\n",
    "\n",
    "graph.show()\n",
    "\n",
    "dfs(graph.mat)"
   ]
  },
  {
   "cell_type": "code",
   "execution_count": 53,
   "id": "db48f47f",
   "metadata": {},
   "outputs": [
    {
     "name": "stdout",
     "output_type": "stream",
     "text": [
      "   0  1  2  3  4  5  6  7\n",
      "0  0  1  1  0  0  0  0  0\n",
      "1  0  0  0  0  0  0  1  1\n",
      "2  0  0  0  0  1  1  0  0\n",
      "3  1  0  0  0  0  0  0  0\n",
      "4  0  0  0  1  0  0  0  0\n",
      "5  0  0  0  0  0  0  0  0\n",
      "6  0  0  0  0  0  1  0  0\n",
      "7  0  0  0  0  0  0  0  0\n"
     ]
    },
    {
     "data": {
      "text/plain": [
       "[0, 1, 2, 6, 7, 4, 5, 3]"
      ]
     },
     "execution_count": 53,
     "metadata": {},
     "output_type": "execute_result"
    }
   ],
   "source": [
    "def bfs_recursion(mat, vertex, output, visited):\n",
    "    if vertex not in visited:\n",
    "        output.append(vertex)\n",
    "        visited.add(vertex)\n",
    "    queue = []\n",
    "    for i in range(len(mat)):\n",
    "        if mat[vertex][i] != 0 and i not in visited:\n",
    "            output.append(i)\n",
    "            visited.add(i)\n",
    "            queue.append(i)\n",
    "    for item in queue:\n",
    "        bfs_recursion(mat, item, output, visited)\n",
    "\n",
    "def bfs_iteration(mat, vertex, output, visited):\n",
    "    queue = [vertex]\n",
    "    if vertex not in visited:\n",
    "        output.append(vertex)\n",
    "        visited.add(vertex)\n",
    "    while len(queue) > 0:\n",
    "        vertex = queue.pop(0)\n",
    "        for i in range(len(mat)):\n",
    "            if mat[vertex][i] != 0 and i not in visited:\n",
    "                queue.append(i)\n",
    "                output.append(i)\n",
    "                visited.add(i)\n",
    "    pass\n",
    "\n",
    "def bfs(mat):\n",
    "    output = []\n",
    "    visited = set()\n",
    "    nv = len(mat)\n",
    "    for i in range(nv):\n",
    "        if i not in visited:\n",
    "            bfs_iteration(mat, i, output, visited)\n",
    "    return output\n",
    "\n",
    "\n",
    "graph = Graph(\"01234567\", True)\n",
    "graph.edges(\"0-1, 0-2, 2-5, 2-4, 4-3, 3-0, 1-7, 1-6, 6-5\")\n",
    "\n",
    "graph.show()\n",
    "\n",
    "bfs(graph.mat)"
   ]
  },
  {
   "cell_type": "code",
   "execution_count": 79,
   "id": "bcc6b6d5",
   "metadata": {},
   "outputs": [],
   "source": [
    "# Topological Sort"
   ]
  },
  {
   "cell_type": "code",
   "execution_count": 10,
   "id": "cdd78015",
   "metadata": {
    "scrolled": true
   },
   "outputs": [
    {
     "name": "stdout",
     "output_type": "stream",
     "text": [
      "   0  1  2  3  4  5  6  7\n",
      "0  0  1  0  1  0  0  0  0\n",
      "1  0  0  1  0  0  0  0  0\n",
      "2  0  0  0  0  1  0  1  0\n",
      "3  0  0  1  0  0  0  0  0\n",
      "4  0  0  0  0  0  1  0  0\n",
      "5  0  0  0  0  0  0  1  0\n",
      "6  0  0  0  0  0  0  0  1\n",
      "7  0  0  0  0  0  0  0  0\n"
     ]
    },
    {
     "data": {
      "text/plain": [
       "[0, 3, 1, 2, 4, 5, 6, 7]"
      ]
     },
     "execution_count": 10,
     "metadata": {},
     "output_type": "execute_result"
    }
   ],
   "source": [
    "\n",
    "def toplogicalDFS(mat, vertex, output, visited):\n",
    "    if vertex not in visited:\n",
    "        visited.add(vertex)\n",
    "    else:\n",
    "        return\n",
    "    for i in range(len(mat)):\n",
    "        if mat[vertex][i] != 0 and i not in visited:\n",
    "            toplogicalDFS(mat, i, output, visited)\n",
    "            \n",
    "    output.append(vertex)\n",
    "        \n",
    "\n",
    "def topologicalSort(mat):\n",
    "    output = []\n",
    "    visited = set()\n",
    "    for i in range(len(mat)):\n",
    "        toplogicalDFS(mat, i, output, visited)\n",
    "    output.reverse()\n",
    "    return output\n",
    "\n",
    "\n",
    "\n",
    "graph = Graph(\"01234567\")\n",
    "graph.edges(\"0-1, 0-3, 1-2, 3-2, 2-4, 2-6, 4-5, 5-6, 6-7\")\n",
    "\n",
    "graph.show()\n",
    "\n",
    "topologicalSort(graph.mat)"
   ]
  },
  {
   "cell_type": "code",
   "execution_count": 46,
   "id": "74253be9",
   "metadata": {
    "scrolled": true
   },
   "outputs": [
    {
     "name": "stdout",
     "output_type": "stream",
     "text": [
      "[[0 0 0]\n",
      " [0 1 0]\n",
      " [1 2 1]]\n"
     ]
    }
   ],
   "source": [
    "\n",
    "from collections import deque\n",
    "\n",
    "def updateMatrix(mat):\n",
    "    queue = deque()\n",
    "    for i in range(len(mat)):\n",
    "        for j in range(len(mat[i])):\n",
    "            if mat[i][j] == 0:\n",
    "                queue.append((i,j))\n",
    "            else:\n",
    "                mat[i][j] = -1\n",
    "    movement = [(1,0),(-1,0),(0,1),(0,-1)]\n",
    "    while len(queue) > 0:\n",
    "        i , j = queue.popleft()\n",
    "        \n",
    "        for m in movement:\n",
    "            xi, xj = i + m[0], j + m[1]\n",
    "            if 0 <= xi < len(mat) and 0 <= xj < len(mat[i]) :\n",
    "                if mat[xi][xj] == -1:\n",
    "                    mat[xi][xj] = mat[i][j] + 1\n",
    "                    queue.append((xi, xj))\n",
    "    \n",
    "    return mat\n",
    "\n",
    "\n",
    "mat = [[0,0,0],[0,1,0],[1,1,1]]\n",
    "\n",
    "\n",
    "\n",
    "print(np.array(updateMatrix(mat)))"
   ]
  },
  {
   "cell_type": "code",
   "execution_count": 85,
   "id": "d33873eb",
   "metadata": {},
   "outputs": [
    {
     "data": {
      "text/plain": [
       "-1"
      ]
     },
     "execution_count": 85,
     "metadata": {},
     "output_type": "execute_result"
    }
   ],
   "source": [
    "from collections import deque\n",
    "\n",
    "def orangesRotting(grid) -> int:\n",
    "    queue = deque()\n",
    "    freshOranges = 0\n",
    "    for i in range(len(grid)):\n",
    "        for j in range(len(grid[i])):\n",
    "            if grid[i][j] == 2:\n",
    "                grid[i][j] = 0\n",
    "                queue.append((i,j))\n",
    "            elif grid[i][j] == 1 :\n",
    "                grid[i][j] = -1\n",
    "                freshOranges += 1\n",
    "    \n",
    "    movement = [(1,0),(-1,0),(0,1),(0,-1)]\n",
    "    max_level = 0\n",
    "    \n",
    "    while len(queue) > 0:\n",
    "        i, j = queue.popleft()\n",
    "        for m in movement:\n",
    "            xi, xj = i + m[0], j + m[1]\n",
    "            if 0 <= xi < len(grid) and 0 <= xj < len(grid[i]) :\n",
    "                if grid[xi][xj] == -1:\n",
    "                    grid[xi][xj] = grid[i][j] + 1\n",
    "                    max_level = max(max_level, grid[xi][xj])\n",
    "                    queue.append((xi, xj))\n",
    "                    freshOranges -= 1\n",
    "    return -1 if freshOranges > 0 else max_level\n",
    "\n",
    "\n",
    "\n",
    "\n",
    "grid = [[2,1,1],[0,1,1],[1,0,1]]\n",
    "\n",
    "orangesRotting(grid)"
   ]
  },
  {
   "cell_type": "code",
   "execution_count": 89,
   "id": "0e320722",
   "metadata": {},
   "outputs": [
    {
     "data": {
      "text/plain": [
       "[[0, 0, 0], [0, 1, 1]]"
      ]
     },
     "execution_count": 89,
     "metadata": {},
     "output_type": "execute_result"
    }
   ],
   "source": [
    "from collections import deque\n",
    "\n",
    "def floodFill(image, sr, sc, newColor) :\n",
    "    fc = image[sr][sc]\n",
    "    image[sr][sc] = newColor\n",
    "    if fc == newColor:\n",
    "        return image\n",
    "    queue = deque([(sr,sc)])\n",
    "    movement = [(1,0),(-1,0),(0,1),(0,-1)]\n",
    "    while len(queue) > 0:\n",
    "        i, j = queue.popleft()\n",
    "        for m in movement:\n",
    "            xi, xj = i + m[0], j + m[1]\n",
    "            if 0 <= xi < len(image) and 0 <= xj < len(image[i]) :\n",
    "                if image[xi][xj] == fc:\n",
    "                    image[xi][xj] = newColor\n",
    "                    queue.append((xi, xj))\n",
    "    return image\n",
    "\n",
    "\n",
    "image = [[0,0,0],[0,1,1]]\n",
    "sr = 1\n",
    "sc = 1\n",
    "newColor = 1\n",
    "\n",
    "floodFill(image, sr, sc, newColor)"
   ]
  },
  {
   "cell_type": "code",
   "execution_count": 102,
   "id": "40c5e8c9",
   "metadata": {},
   "outputs": [
    {
     "data": {
      "text/plain": [
       "3"
      ]
     },
     "execution_count": 102,
     "metadata": {},
     "output_type": "execute_result"
    }
   ],
   "source": [
    "from collections import deque\n",
    "\n",
    "def updateVisited(grid, i, j, visited):\n",
    "    queue = deque([(i,j)])\n",
    "    visited.add((i,j))\n",
    "    movement = [(1,0),(-1,0),(0,1),(0,-1)]\n",
    "    while len(queue) > 0:\n",
    "        i, j = queue.popleft()\n",
    "        for m in movement:\n",
    "            xi, xj = i + m[0], j + m[1]\n",
    "            if 0 <= xi < len(grid) and 0 <= xj < len(grid[i]) and (xi,xj) not in visited and grid[xi][xj] == \"1\":\n",
    "                visited.add((xi,xj))\n",
    "                queue.append((xi,xj))\n",
    "        \n",
    "\n",
    "def numIslands(grid):\n",
    "    count = 0\n",
    "    visited = set()\n",
    "    for i in range(len(grid)):\n",
    "        for j in range(len(grid[i])):\n",
    "            if grid[i][j] == \"1\" and (i,j) not in visited:\n",
    "                updateVisited(grid, i, j, visited)\n",
    "                count += 1\n",
    "    return count\n",
    "\n",
    "grid = [\n",
    "    [\"1\",\"1\",\"0\",\"0\",\"0\"],\n",
    "    [\"1\",\"1\",\"0\",\"0\",\"0\"],\n",
    "    [\"0\",\"0\",\"1\",\"0\",\"0\"],\n",
    "    [\"0\",\"0\",\"0\",\"1\",\"1\"]\n",
    "]\n",
    "\n",
    "\n",
    "numIslands(grid)"
   ]
  },
  {
   "cell_type": "code",
   "execution_count": 105,
   "id": "94211b37",
   "metadata": {},
   "outputs": [
    {
     "data": {
      "text/plain": [
       "{(0, 4), (1, 3), (1, 4), (2, 2), (3, 0), (3, 1), (4, 0)}"
      ]
     },
     "execution_count": 105,
     "metadata": {},
     "output_type": "execute_result"
    }
   ],
   "source": [
    "\n",
    "from collections import deque\n",
    "\n",
    "def paUpdateVisited(heights, i, j, visited):\n",
    "    queue = deque([(i,j)])\n",
    "    visited.add((i,j))\n",
    "    movement = [(1,0),(-1,0),(0,1),(0,-1)]\n",
    "    while len(queue) > 0:\n",
    "        i, j = queue.popleft()\n",
    "        for m in movement:\n",
    "            xi, xj = i + m[0], j + m[1]\n",
    "            if 0 <= xi < len(heights) and 0 <= xj < len(heights[i]):\n",
    "                if (xi,xj) not in visited and heights[i][j] <= heights[xi][xj]:\n",
    "                    visited.add((xi,xj))\n",
    "                    queue.append((xi,xj))\n",
    "                \n",
    "def pacificAtlantic(heights):\n",
    "    \n",
    "    pvisited = set()\n",
    "    avisited = set()\n",
    "    \n",
    "    for j in range(len(heights[0])):\n",
    "        paUpdateVisited(heights, 0, j, pvisited)\n",
    "        paUpdateVisited(heights, len(heights) - 1, j, avisited)\n",
    "        \n",
    "    for i in range(len(heights)):\n",
    "        paUpdateVisited(heights, i, 0, pvisited)\n",
    "        paUpdateVisited(heights, i, len(heights[0]) - 1, avisited)\n",
    "        \n",
    "    return pvisited.intersection(avisited)\n",
    "\n",
    "heights = [[1,2,2,3,5],[3,2,3,4,4],[2,4,5,3,1],[6,7,1,4,5],[5,1,1,2,4]]\n",
    "\n",
    "pacificAtlantic(heights)"
   ]
  },
  {
   "cell_type": "code",
   "execution_count": 128,
   "id": "abdb225e",
   "metadata": {},
   "outputs": [
    {
     "name": "stdout",
     "output_type": "stream",
     "text": [
      "{0, 1, 2, 3, 4, 5, 6, 7, 8, 9, 10, 11, 12, 13, 14, 15, 16, 17, 18, 19, 20, 21, 22, 23, 24, 25, 26, 27, 28, 29, 30, 31, 32, 33, 34, 35, 36, 37, 38, 39, 40, 41, 42, 43, 44, 45, 46, 47, 48, 49, 50, 51, 52, 53, 54, 55, 56, 57, 58, 59, 60, 61, 62, 63, 64, 65, 66, 67, 68, 69, 70, 71, 72, 73, 74, 75, 76, 77, 78, 79, 80, 81, 82, 83, 84, 85, 86, 87, 88, 89, 90, 91, 92, 93, 94, 95, 96, 97, 98, 99}\n"
     ]
    },
    {
     "data": {
      "text/plain": [
       "True"
      ]
     },
     "execution_count": 128,
     "metadata": {},
     "output_type": "execute_result"
    }
   ],
   "source": [
    "\n",
    "def canComplete(al, course, visited, gblvisit):\n",
    "    \n",
    "    if course in visited:\n",
    "        return False\n",
    "    \n",
    "    if course in gblvisit:\n",
    "        return True\n",
    "    \n",
    "    \n",
    "    visited.add(course)\n",
    "    \n",
    "    \n",
    "    for pq in al[course]:\n",
    "        cc = canComplete(al, pq, visited,gblvisit)\n",
    "        if not cc:\n",
    "            return False\n",
    "    visited.remove(course)\n",
    "    gblvisit.add(course)\n",
    "    return True\n",
    "        \n",
    "\n",
    "def canFinish(numCourses, prerequisites) -> bool:\n",
    "    al = { i: [] for i in range(numCourses)}\n",
    "    \n",
    "    for a , b in prerequisites:\n",
    "        al[a].append(b)\n",
    "    gblvisit = set()\n",
    "    for i in range(numCourses):\n",
    "        visited = set()\n",
    "        if i not in gblvisit:\n",
    "            cc = canComplete(al, i, visited, gblvisit)\n",
    "            if not cc:\n",
    "                print(al, i, visited)\n",
    "                return False\n",
    "            gblvisit.add(i)\n",
    "        \n",
    "    print(gblvisit)\n",
    "    \n",
    "    return True\n",
    "\n",
    "numCourses = 100\n",
    "prerequisites = [[1,0],[2,0],[2,1],[3,1],[3,2],[4,2],[4,3],[5,3],[5,4],[6,4],[6,5],[7,5],[7,6],[8,6],[8,7],[9,7],[9,8],[10,8],[10,9],[11,9],[11,10],[12,10],[12,11],[13,11],[13,12],[14,12],[14,13],[15,13],[15,14],[16,14],[16,15],[17,15],[17,16],[18,16],[18,17],[19,17],[19,18],[20,18],[20,19],[21,19],[21,20],[22,20],[22,21],[23,21],[23,22],[24,22],[24,23],[25,23],[25,24],[26,24],[26,25],[27,25],[27,26],[28,26],[28,27],[29,27],[29,28],[30,28],[30,29],[31,29],[31,30],[32,30],[32,31],[33,31],[33,32],[34,32],[34,33],[35,33],[35,34],[36,34],[36,35],[37,35],[37,36],[38,36],[38,37],[39,37],[39,38],[40,38],[40,39],[41,39],[41,40],[42,40],[42,41],[43,41],[43,42],[44,42],[44,43],[45,43],[45,44],[46,44],[46,45],[47,45],[47,46],[48,46],[48,47],[49,47],[49,48],[50,48],[50,49],[51,49],[51,50],[52,50],[52,51],[53,51],[53,52],[54,52],[54,53],[55,53],[55,54],[56,54],[56,55],[57,55],[57,56],[58,56],[58,57],[59,57],[59,58],[60,58],[60,59],[61,59],[61,60],[62,60],[62,61],[63,61],[63,62],[64,62],[64,63],[65,63],[65,64],[66,64],[66,65],[67,65],[67,66],[68,66],[68,67],[69,67],[69,68],[70,68],[70,69],[71,69],[71,70],[72,70],[72,71],[73,71],[73,72],[74,72],[74,73],[75,73],[75,74],[76,74],[76,75],[77,75],[77,76],[78,76],[78,77],[79,77],[79,78],[80,78],[80,79],[81,79],[81,80],[82,80],[82,81],[83,81],[83,82],[84,82],[84,83],[85,83],[85,84],[86,84],[86,85],[87,85],[87,86],[88,86],[88,87],[89,87],[89,88],[90,88],[90,89],[91,89],[91,90],[92,90],[92,91],[93,91],[93,92],[94,92],[94,93],[95,93],[95,94],[96,94],[96,95],[97,95],[97,96],[98,96],[98,97],[99,97]]\n",
    "canFinish(numCourses, prerequisites)"
   ]
  },
  {
   "cell_type": "code",
   "execution_count": 2,
   "id": "a4cfc626",
   "metadata": {},
   "outputs": [
    {
     "data": {
      "text/plain": [
       "6"
      ]
     },
     "execution_count": 2,
     "metadata": {},
     "output_type": "execute_result"
    }
   ],
   "source": [
    "movement = [(-1,0),(1,0),(0,1),(0,-1)]\n",
    "\n",
    "def dfs(grid, i, j):\n",
    "    count = 1\n",
    "    grid[i][j] = -1\n",
    "    for m in movement:\n",
    "        xi, xj = i + m[0], j + m[1]\n",
    "        if 0 <= xi < len(grid) and  0 <= xj < len(grid[i]):\n",
    "            if grid[xi][xj] == 1:\n",
    "                count += dfs(grid, xi, xj)\n",
    "    return count\n",
    "        \n",
    "\n",
    "def maxAreaOfIsland(grid) -> int:\n",
    "    maxSize = 0\n",
    "    for i in range(len(grid)):\n",
    "        for j in range(len(grid[i])):\n",
    "            if grid[i][j] == 1:\n",
    "                size = dfs(grid, i, j)\n",
    "                maxSize = max(maxSize, size)\n",
    "    return maxSize\n",
    "\n",
    "\n",
    "\n",
    "\n",
    "grid = [\n",
    "    [0,0,1,0,0,0,0,1,0,0,0,0,0],\n",
    "    [0,0,0,0,0,0,0,1,1,1,0,0,0],\n",
    "    [0,1,1,0,1,0,0,0,0,0,0,0,0],\n",
    "    [0,1,0,0,1,1,0,0,1,0,1,0,0],\n",
    "    [0,1,0,0,1,1,0,0,1,1,1,0,0],\n",
    "    [0,0,0,0,0,0,0,0,0,0,1,0,0],\n",
    "    [0,0,0,0,0,0,0,1,1,1,0,0,0],\n",
    "    [0,0,0,0,0,0,0,1,1,0,0,0,0]\n",
    "]\n",
    "\n",
    "maxAreaOfIsland(grid)"
   ]
  },
  {
   "cell_type": "code",
   "execution_count": 27,
   "id": "b6febae8",
   "metadata": {},
   "outputs": [
    {
     "name": "stdout",
     "output_type": "stream",
     "text": [
      "True 0 0 {(0, 1), (1, 2), (2, 1), (0, 0), (1, 1), (2, 0), (0, 2), (2, 2), (1, 0)}\n"
     ]
    },
    {
     "data": {
      "text/plain": [
       "[['O', 'O', 'O'], ['O', 'O', 'O'], ['O', 'O', 'O']]"
      ]
     },
     "execution_count": 27,
     "metadata": {},
     "output_type": "execute_result"
    }
   ],
   "source": [
    "movement = [(-1,0),(1,0),(0,1),(0,-1)]\n",
    "\n",
    "def solve_dfs(board, i, j, visited, globalvisited):\n",
    "    visited.add((i,j))\n",
    "    globalvisited.add((i,j))\n",
    "    elmInBorder = False\n",
    "    for m in movement:\n",
    "        xi, xj = i + m[0], j + m[1]\n",
    "        if 0 <= xi < len(board) and  0 <= xj < len(board[i]):\n",
    "            if board[xi][xj] == \"O\" and (xi,xj) not in visited:\n",
    "                c = solve_dfs(board, xi, xj, visited, globalvisited)\n",
    "                elmInBorder = elmInBorder or c\n",
    "        else:\n",
    "            elmInBorder = elmInBorder or True\n",
    "            \n",
    "    return elmInBorder\n",
    "\n",
    "def solve(board) -> None:\n",
    "    globalvisited = set()\n",
    "    for i in range(len(board)):\n",
    "        for j in range(len(board[i])):\n",
    "            if board[i][j] == \"O\" and (i,j) not in globalvisited:\n",
    "                visited = set()\n",
    "                elementInBorder = solve_dfs(board, i, j, visited, globalvisited)\n",
    "#                 print(elementInBorder, i,j, visited)\n",
    "                if not elementInBorder:\n",
    "                    for ci, cj in visited:\n",
    "                        board[ci][cj] = \"X\"\n",
    "\n",
    "\n",
    "board = [\n",
    "    [\"X\",\"X\",\"X\",\"X\"],\n",
    "    [\"X\",\"O\",\"O\",\"X\"],\n",
    "    [\"X\",\"X\",\"O\",\"X\"],\n",
    "    [\"X\",\"O\",\"X\",\"X\"]\n",
    "]\n",
    "\n",
    "board = [\n",
    "    [\"O\",\"O\",\"O\"],\n",
    "    [\"O\",\"O\",\"O\"],\n",
    "    [\"O\",\"O\",\"O\"]\n",
    "]\n",
    "\n",
    "solve(board)\n",
    "board"
   ]
  },
  {
   "cell_type": "code",
   "execution_count": 3,
   "id": "5fd2bb0d",
   "metadata": {},
   "outputs": [
    {
     "data": {
      "text/plain": [
       "4"
      ]
     },
     "execution_count": 3,
     "metadata": {},
     "output_type": "execute_result"
    }
   ],
   "source": [
    "movement = [(-1,0),(1,0),(0,1),(0,-1)]\n",
    "def orangesRotting(grid) -> int:\n",
    "    queue = []\n",
    "    freshOranges = 0\n",
    "    for i in range(len(grid)):\n",
    "        for j in range(len(grid[i])):\n",
    "            if grid[i][j] == 2:\n",
    "                grid[i][j] = 0\n",
    "                queue.append((i,j))\n",
    "            elif grid[i][j] == 1:\n",
    "                grid[i][j] = -1\n",
    "                freshOranges += 1\n",
    "    maxLevel = 0\n",
    "    while len(queue) > 0:\n",
    "        i,j = queue.pop()\n",
    "        for m in movement:\n",
    "            xi, xj = i + m[0], j + m[1]\n",
    "            if 0 <= xi < len(grid) and  0 <= xj < len(grid[i]):\n",
    "                if grid[xi][xj] == -1:\n",
    "                    grid[xi][xj] = grid[i][j] + 1\n",
    "                    maxLevel = max(maxLevel, grid[xi][xj])\n",
    "                    queue.append((xi,xj))\n",
    "                    freshOranges -= 1\n",
    "    return -1 if freshOranges > 0 else maxLevel\n",
    "\n",
    "\n",
    "grid = [\n",
    "    [2,1,1],\n",
    "    [1,1,0],\n",
    "    [0,1,1]\n",
    "]\n",
    "\n",
    "orangesRotting(grid)"
   ]
  },
  {
   "cell_type": "code",
   "execution_count": 5,
   "id": "f8a630e9",
   "metadata": {},
   "outputs": [
    {
     "name": "stdout",
     "output_type": "stream",
     "text": [
      "[[inf, -1, 0, inf], [inf, inf, inf, -1], [inf, -1, inf, -1], [0, -1, inf, inf]]\n",
      "[[inf, -1, 0, inf], [inf, inf, inf, -1], [1, -1, inf, -1], [0, -1, inf, inf]]\n",
      "[[inf, -1, 0, inf], [2, inf, inf, -1], [1, -1, inf, -1], [0, -1, inf, inf]]\n",
      "[[3, -1, 0, inf], [2, 3, inf, -1], [1, -1, inf, -1], [0, -1, inf, inf]]\n",
      "[[3, -1, 0, inf], [2, 3, 4, -1], [1, -1, inf, -1], [0, -1, inf, inf]]\n",
      "[[3, -1, 0, inf], [2, 3, 4, -1], [1, -1, 5, -1], [0, -1, inf, inf]]\n",
      "[[3, -1, 0, inf], [2, 3, 4, -1], [1, -1, 5, -1], [0, -1, 6, inf]]\n",
      "[[3, -1, 0, inf], [2, 3, 4, -1], [1, -1, 5, -1], [0, -1, 6, 7]]\n",
      "[[3, -1, 0, inf], [2, 3, 4, -1], [1, -1, 5, -1], [0, -1, 6, 7]]\n",
      "[[3, -1, 0, inf], [2, 3, 4, -1], [1, -1, 5, -1], [0, -1, 6, 7]]\n",
      "[[3, -1, 0, 1], [2, 3, 1, -1], [1, -1, 5, -1], [0, -1, 6, 7]]\n",
      "[[3, -1, 0, 1], [2, 3, 1, -1], [1, -1, 5, -1], [0, -1, 6, 7]]\n",
      "[[3, -1, 0, 1], [2, 2, 1, -1], [1, -1, 2, -1], [0, -1, 6, 7]]\n",
      "[[3, -1, 0, 1], [2, 2, 1, -1], [1, -1, 2, -1], [0, -1, 6, 7]]\n",
      "[[3, -1, 0, 1], [2, 2, 1, -1], [1, -1, 2, -1], [0, -1, 3, 7]]\n",
      "[[3, -1, 0, 1], [2, 2, 1, -1], [1, -1, 2, -1], [0, -1, 3, 4]]\n"
     ]
    },
    {
     "data": {
      "text/plain": [
       "[[3, -1, 0, 1], [2, 2, 1, -1], [1, -1, 2, -1], [0, -1, 3, 4]]"
      ]
     },
     "execution_count": 5,
     "metadata": {},
     "output_type": "execute_result"
    }
   ],
   "source": [
    "movement = [(-1,0),(1,0),(0,1),(0,-1)]\n",
    "def walls_and_gates(rooms):\n",
    "    queue = []\n",
    "    for i in range(len(rooms)):\n",
    "        for j in range(len(rooms[i])):\n",
    "            if rooms[i][j] == 0:\n",
    "                queue.append((i,j))\n",
    "    while len(queue) > 0:\n",
    "        i, j = queue.pop()\n",
    "        print(rooms)\n",
    "        for m in movement:\n",
    "            xi, xj = i + m[0], j + m[1]\n",
    "            if 0 <= xi < len(rooms) and  0 <= xj < len(rooms[i]):\n",
    "                if rooms[xi][xj] > rooms[i][j] + 1:\n",
    "                    rooms[xi][xj] = rooms[i][j] + 1\n",
    "                    queue.append((xi,xj))\n",
    "    \n",
    "\n",
    "rooms = [\n",
    "    [float(\"inf\"), -1,           0,            float(\"inf\")],\n",
    "    [float(\"inf\"), float(\"inf\"), float(\"inf\"), -1],\n",
    "    [float(\"inf\"), -1,           float(\"inf\"), -1],\n",
    "    [0,            -1,           float(\"inf\"), float(\"inf\")]\n",
    "]\n",
    "\n",
    "walls_and_gates(rooms)\n",
    "rooms"
   ]
  },
  {
   "cell_type": "code",
   "execution_count": 8,
   "id": "89013138",
   "metadata": {},
   "outputs": [
    {
     "name": "stdout",
     "output_type": "stream",
     "text": [
      "defaultdict(<function findOrder.<locals>.<lambda> at 0x00000192494AFEE0>, {1: [0], 2: [0], 3: [1, 2]})\n",
      "0\n",
      "1\n",
      "2\n",
      "3\n"
     ]
    },
    {
     "data": {
      "text/plain": [
       "[0, 1, 2, 3]"
      ]
     },
     "execution_count": 8,
     "metadata": {},
     "output_type": "execute_result"
    }
   ],
   "source": [
    "from collections import defaultdict\n",
    "\n",
    "def findOrder_dfs(ajg, cor, visited, globalvisited, output):\n",
    "    visited.add(cor)\n",
    "    globalvisited.add(cor)\n",
    "    print(cor)\n",
    "    for pq in ajg[cor]:\n",
    "        if pq in visited:\n",
    "            return False\n",
    "        if pq not in globalvisited:\n",
    "            isPossible = findOrder_dfs(ajg, pq, visited, globalvisited, output)\n",
    "            if not isPossible:\n",
    "                return False\n",
    "    visited.remove(cor)\n",
    "    output.append(cor)\n",
    "    return True\n",
    "\n",
    "def findOrder( numCourses, prerequisites):\n",
    "    ajg = defaultdict(lambda: [])\n",
    "    for c, pq in prerequisites:\n",
    "        ajg[c].append(pq)\n",
    "    print(ajg)\n",
    "    globalvisited = set()\n",
    "    output = []\n",
    "    for i in range(numCourses):\n",
    "        if i not in globalvisited:\n",
    "            visited = set()\n",
    "            isPossible = findOrder_dfs(ajg, i, visited, globalvisited, output)\n",
    "            if not isPossible:\n",
    "                return []\n",
    "    return output\n",
    "\n",
    "numCourses = 4\n",
    "prerequisites = [[1,0],[2,0],[3,1],[3,2]]\n",
    "\n",
    "findOrder(numCourses, prerequisites)"
   ]
  },
  {
   "cell_type": "code",
   "execution_count": 67,
   "id": "61513b39",
   "metadata": {},
   "outputs": [
    {
     "name": "stdout",
     "output_type": "stream",
     "text": [
      "[0, 1, 2, 3, 1, 5] [0, 1, 0, 0, 0, 0] 1 4 - 1 4\n",
      "[0, 1, 2, 1, 1, 5] [0, 1, 0, 0, 0, 0] 3 1 - 3 4\n"
     ]
    },
    {
     "data": {
      "text/plain": [
       "[1, 3]"
      ]
     },
     "execution_count": 67,
     "metadata": {},
     "output_type": "execute_result"
    }
   ],
   "source": [
    "def findRoot(parents, node):\n",
    "    while parents[node] != node:\n",
    "        node = parents[node]\n",
    "    return node\n",
    "\n",
    "def findRedundantConnection(edges):\n",
    "    parents = list(range(len(edges) + 1))\n",
    "    rank = [0]*(len(edges) + 1)\n",
    "    for p, c in edges:\n",
    "        proot = findRoot(parents, p)\n",
    "        croot = findRoot(parents, c)\n",
    "        if proot != croot:\n",
    "            if rank[proot] < rank[croot]:\n",
    "                parents[proot] = croot\n",
    "            elif rank[croot] < rank[proot]:\n",
    "                parents[croot] = proot\n",
    "            else:\n",
    "                parents[croot] = proot\n",
    "                rank[proot] += 1\n",
    "            print(parents, rank, proot, croot, \"-\" ,p,c)\n",
    "        else:\n",
    "            return [p,c]\n",
    "    print(parents,rank)\n",
    "    return []\n",
    "\n",
    "edges = [[1,4],[3,4],[1,3],[1,2],[4,5]]\n",
    "\n",
    "findRedundantConnection(edges)"
   ]
  },
  {
   "cell_type": "code",
   "execution_count": 69,
   "id": "146a2501",
   "metadata": {},
   "outputs": [
    {
     "name": "stdout",
     "output_type": "stream",
     "text": [
      "[0, 0, 0, 3, 3, 5, 5] [1, 0, 0, 1, 0, 1, 0]\n"
     ]
    },
    {
     "data": {
      "text/plain": [
       "3"
      ]
     },
     "execution_count": 69,
     "metadata": {},
     "output_type": "execute_result"
    }
   ],
   "source": [
    "from functools import reduce\n",
    "\n",
    "def findRoot(parents, node):\n",
    "    while parents[node] != node:\n",
    "        node = parents[node]\n",
    "    return node\n",
    "\n",
    "def countConnectedComponents(edges):\n",
    "    maxNodes = max(reduce(lambda a,b: max(a,b), edges))\n",
    "    parents = list(range(maxNodes+1))\n",
    "    rank = [0]*(maxNodes+1)\n",
    "    \n",
    "    for p,c in edges:\n",
    "        proot = findRoot(parents, p)\n",
    "        croot = findRoot(parents, c)\n",
    "        if proot != croot:\n",
    "            if rank[proot] < rank[croot]:\n",
    "                parents[proot] = croot\n",
    "            elif rank[croot] < rank[proot]:\n",
    "                parents[croot] = proot\n",
    "            else:\n",
    "                parents[croot] = proot\n",
    "                rank[proot] += 1\n",
    "    print(parents, rank)\n",
    "    return len(set(parents))\n",
    "\n",
    "\n",
    "edges = [[0,1],[1,2],[3,4],[5,6]]\n",
    "countConnectedComponents(edges)"
   ]
  },
  {
   "cell_type": "code",
   "execution_count": 70,
   "id": "438a50e1",
   "metadata": {},
   "outputs": [
    {
     "data": {
      "text/plain": [
       "False"
      ]
     },
     "execution_count": 70,
     "metadata": {},
     "output_type": "execute_result"
    }
   ],
   "source": [
    "def findRoot(parents, node):\n",
    "    while parents[node] != node:\n",
    "        node = parents[node]\n",
    "    return node\n",
    "\n",
    "def valid_tree(n, edges):\n",
    "    parents = list(range(n))\n",
    "    rank = [0]*n\n",
    "    for p,c in edges:\n",
    "        proot = findRoot(parents, p)\n",
    "        croot = findRoot(parents, c)\n",
    "        if proot != croot:\n",
    "            if rank[proot] < rank[croot]:\n",
    "                parents[proot] = croot\n",
    "            elif rank[croot] < rank[proot]:\n",
    "                parents[croot] = proot\n",
    "            else:\n",
    "                parents[croot] = proot\n",
    "                rank[proot] += 1\n",
    "        else:\n",
    "            return False\n",
    "    return True\n",
    "\n",
    "n = 5 \n",
    "edges = [[0, 1], [1, 2], [2, 3], [1, 3], [1, 4]]\n",
    "\n",
    "valid_tree(n,edges)"
   ]
  },
  {
   "cell_type": "code",
   "execution_count": 97,
   "id": "f04113f8",
   "metadata": {},
   "outputs": [
    {
     "name": "stdout",
     "output_type": "stream",
     "text": [
      "defaultdict(<function ladderLength.<locals>.<lambda> at 0x000001924CAD5820>, {'ha': {'ta', 'hf', 'ca'}, 'ca': {'ha', 'ta', 'cf'}, 'hf': {'ha', 'if', 'cf'}, 'ta': {'ha', 'ts', 'to', 'ca'}, 'cf': {'hf', 'if', 'ca'}, 'ts': {'ta', 'to', 'is'}, 'is': {'ts', 'io', 'if'}, 'to': {'ts', 'io', 'ta'}, 'if': {'io', 'is', 'cf', 'hf'}, 'io': {'to', 'is', 'if'}})\n",
      "{'ha': inf, 'jr': inf, 'ca': inf, 'ts': inf, 'is': inf, 'sc': inf, 'hf': inf, 'if': inf, 'cf': inf, 'to': inf, 'io': inf, 'ta': 0, 'ph': inf}\n",
      "{'ha': 1, 'jr': inf, 'ca': 1, 'ts': 1, 'is': 2, 'sc': inf, 'hf': 2, 'if': 3, 'cf': 2, 'to': 1, 'io': 2, 'ta': 0, 'ph': inf}\n"
     ]
    },
    {
     "data": {
      "text/plain": [
       "4"
      ]
     },
     "execution_count": 97,
     "metadata": {},
     "output_type": "execute_result"
    }
   ],
   "source": [
    "from collections import defaultdict, deque\n",
    "\n",
    "def isWordDiffenceOne(word1, word2):\n",
    "    i = 0\n",
    "    count = 0\n",
    "    while i < len(word1) or i < len(word2):\n",
    "        if i >= len(word1) or i >= len(word1):\n",
    "            i += 1\n",
    "            count += 1\n",
    "        else:\n",
    "            if word1[i] != word2[i]:\n",
    "                count += 1\n",
    "            i += 1\n",
    "        if count > 1:\n",
    "            return False\n",
    "    return count == 1\n",
    "        \n",
    "\n",
    "def ladderLength(beginWord, endWord, wordList) -> int:\n",
    "    adjList = defaultdict(lambda : set())\n",
    "    paths = {}\n",
    "    wordList = set(wordList)\n",
    "    wordList.add(beginWord)\n",
    "    for i,wi in enumerate(wordList):\n",
    "        paths[wi] = float(\"inf\")\n",
    "        for j,wj in enumerate(wordList):\n",
    "            if i != j and isWordDiffenceOne(wi, wj):\n",
    "                adjList[wi].add(wj)\n",
    "                adjList[wj].add(wi)\n",
    "                \n",
    "    queue = deque([beginWord])\n",
    "    paths[beginWord] = 0\n",
    "    \n",
    "    print(adjList)\n",
    "    print(paths)\n",
    "    if endWord not in adjList:\n",
    "        return 0\n",
    "    \n",
    "    while len(queue) > 0:\n",
    "        node = queue.popleft()\n",
    "        for adjNode in adjList[node]:\n",
    "            if paths[adjNode] > paths[node] + 1:\n",
    "                paths[adjNode] = paths[node] + 1\n",
    "                queue.append(adjNode)\n",
    "            if adjNode == endWord:\n",
    "                print(paths)\n",
    "                return paths[endWord] + 1\n",
    "    print(paths)\n",
    "    return 0\n",
    "\n",
    "\"sand\"\n",
    "\"ta\"\n",
    "\"if\"\n",
    "\n",
    "\n",
    "wordList = [\"ts\",\"sc\",\"ph\",\"ca\",\"jr\",\"hf\",\"to\",\"if\",\"ha\",\"is\",\"io\",\"cf\",\"ta\"]\n",
    "beginWord = \"ta\"\n",
    "endWord = \"if\"\n",
    "ladderLength(beginWord, endWord, wordList)"
   ]
  },
  {
   "cell_type": "code",
   "execution_count": 106,
   "id": "cbb090fd",
   "metadata": {},
   "outputs": [
    {
     "name": "stdout",
     "output_type": "stream",
     "text": [
      "defaultdict(<class 'list'>, {'SFO': ['SJC'], 'MUC': ['LHR'], 'LHR': ['SFO'], 'JFK': ['MZC', 'MUC']})\n"
     ]
    },
    {
     "data": {
      "text/plain": [
       "['JFK', 'MZC', 'MUC', 'LHR', 'SFO', 'SJC']"
      ]
     },
     "execution_count": 106,
     "metadata": {},
     "output_type": "execute_result"
    }
   ],
   "source": [
    "def findItinerary(tickets):\n",
    "    ans = []\n",
    "    graph = defaultdict(list)\n",
    "\n",
    "    for a, b in sorted(tickets, reverse=True):\n",
    "        graph[a].append(b)\n",
    "    print(graph)\n",
    "    \n",
    "    def dfs(u: str) -> None:\n",
    "        while u in graph and len(graph[u]) > 0:\n",
    "            dfs(graph[u].pop())\n",
    "        ans.append(u)\n",
    "        \n",
    "    dfs('JFK')\n",
    "#     print(ans)\n",
    "    return ans[::-1]\n",
    "\n",
    "\n",
    "tickets = [[\"MUC\",\"LHR\"],[\"JFK\",\"MUC\"],[\"JFK\",\"MZC\"],[\"SFO\",\"SJC\"],[\"LHR\",\"SFO\"]]\n",
    "\n",
    "findItinerary(tickets)"
   ]
  },
  {
   "cell_type": "code",
   "execution_count": 129,
   "id": "ed586100",
   "metadata": {},
   "outputs": [
    {
     "name": "stdout",
     "output_type": "stream",
     "text": [
      "[[0, 4, 13, 7, 7], [4, 0, 9, 3, 7], [13, 9, 0, 10, 14], [7, 3, 10, 0, 4], [7, 7, 14, 4, 0]]\n",
      "0 0 0 {0}\n",
      "4 0 1 {0, 1}\n",
      "3 1 3 {0, 1, 3}\n",
      "4 3 4 {0, 1, 3, 4}\n",
      "7 0 3 {0, 1, 3, 4}\n",
      "7 0 4 {0, 1, 3, 4}\n",
      "7 1 4 {0, 1, 3, 4}\n",
      "9 1 2 {0, 1, 2, 3, 4}\n"
     ]
    },
    {
     "data": {
      "text/plain": [
       "20"
      ]
     },
     "execution_count": 129,
     "metadata": {},
     "output_type": "execute_result"
    }
   ],
   "source": [
    "import heapq\n",
    "\n",
    "def minCostConnectPoints(points) -> int:\n",
    "    mat = []\n",
    "    for i in range(len(points)):\n",
    "        mat.append([])\n",
    "        for j in range(len(points)):\n",
    "            mat[i].append(0)\n",
    "            if i != j:\n",
    "                d = abs(points[i][0] - points[j][0]) + abs(points[i][1] - points[j][1])\n",
    "                mat[i][j] = d\n",
    "    print(mat)\n",
    "    \n",
    "    minHeap = [ (mat[0][0], 0, 0) ]\n",
    "    visited = set()\n",
    "    minCost = 0\n",
    "    while len(visited) < len(points):\n",
    "        cost, fv, tv  = heapq.heappop(minHeap)\n",
    "        if tv not in visited:\n",
    "            visited.add(tv)\n",
    "            minCost += cost\n",
    "            for i in range(len(points)):\n",
    "                if i not in visited:\n",
    "                    heapq.heappush(minHeap, (mat[tv][i], tv, i))\n",
    "        print(cost, fv, tv, visited)\n",
    "        \n",
    "    return minCost\n",
    "        \n",
    "\n",
    "\n",
    "points = [[0,0],[2,2],[3,10],[5,2],[7,0]]\n",
    "minCostConnectPoints(points) "
   ]
  },
  {
   "cell_type": "code",
   "execution_count": null,
   "id": "49b078a2",
   "metadata": {},
   "outputs": [],
   "source": []
  }
 ],
 "metadata": {
  "kernelspec": {
   "display_name": "Python 3 (ipykernel)",
   "language": "python",
   "name": "python3"
  },
  "language_info": {
   "codemirror_mode": {
    "name": "ipython",
    "version": 3
   },
   "file_extension": ".py",
   "mimetype": "text/x-python",
   "name": "python",
   "nbconvert_exporter": "python",
   "pygments_lexer": "ipython3",
   "version": "3.9.9"
  }
 },
 "nbformat": 4,
 "nbformat_minor": 5
}
