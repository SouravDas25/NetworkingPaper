{
 "cells": [
  {
   "cell_type": "code",
   "execution_count": 123,
   "id": "b2bfe7d3",
   "metadata": {},
   "outputs": [
    {
     "name": "stdout",
     "output_type": "stream",
     "text": [
      "[1, 2, 3, 4, 5, 6, 7]\n"
     ]
    }
   ],
   "source": [
    "class ListNode:\n",
    "    def __init__(self, val=0, next=None):\n",
    "        self.val = val\n",
    "        self.next = next\n",
    "        \n",
    "\n",
    "def printLL(head):\n",
    "    h = head\n",
    "    output = []\n",
    "    i = 0\n",
    "    while h != None:\n",
    "        output.append(h.val)\n",
    "        h = h.next\n",
    "        if i > 20:\n",
    "            break\n",
    "        i += 1\n",
    "    print(output)\n",
    "        \n",
    "def generateLinkedList(iterable):\n",
    "    head = None\n",
    "    tail = None\n",
    "    for i in iterable:\n",
    "        ln = ListNode(i)\n",
    "        if head is None:\n",
    "            head = ln\n",
    "            tail = ln\n",
    "        else:\n",
    "            tail.next = ln\n",
    "            tail = ln\n",
    "    return head\n",
    "\n",
    "printLL(generateLinkedList([1,2,3,4,5,6,7]))"
   ]
  },
  {
   "cell_type": "code",
   "execution_count": 6,
   "id": "e2ddcc63",
   "metadata": {},
   "outputs": [],
   "source": [
    "# Reverse Linked List"
   ]
  },
  {
   "cell_type": "code",
   "execution_count": 129,
   "id": "edbbc30b",
   "metadata": {},
   "outputs": [
    {
     "name": "stdout",
     "output_type": "stream",
     "text": [
      "[7, 6, 5, 4, 3, 2, 1]\n"
     ]
    }
   ],
   "source": [
    "def reverseLL(head):\n",
    "    previous = None\n",
    "    current = head\n",
    "    while current is not None:\n",
    "        nextNode = current.next\n",
    "        current.next = previous\n",
    "        previous = current\n",
    "        current = nextNode\n",
    "    return previous\n",
    "\n",
    "\n",
    "            \n",
    "printLL(reverseLL(generateLinkedList([1,2,3,4,5,6,7])))\n",
    "        "
   ]
  },
  {
   "cell_type": "code",
   "execution_count": 8,
   "id": "a79634a5",
   "metadata": {},
   "outputs": [],
   "source": [
    "# Cycle in Linked List"
   ]
  },
  {
   "cell_type": "code",
   "execution_count": 9,
   "id": "5265f970",
   "metadata": {},
   "outputs": [],
   "source": [
    "def hasCycle(head) -> bool:\n",
    "    fp = head\n",
    "    sp = head\n",
    "    while sp is not None and fp is not None:\n",
    "        if fp.next == None:\n",
    "            return False\n",
    "        fp = fp.next.next\n",
    "        sp = sp.next\n",
    "\n",
    "        if fp == sp:\n",
    "            return True\n",
    "\n",
    "    return False"
   ]
  },
  {
   "cell_type": "code",
   "execution_count": 14,
   "id": "933fe9a4",
   "metadata": {},
   "outputs": [
    {
     "name": "stdout",
     "output_type": "stream",
     "text": [
      "[1, 1, 2, 2, 3, 3, 4, 4, 5, 5, 6, 6, 7, 7]\n"
     ]
    }
   ],
   "source": [
    "def mergeSortedLL(ll1, ll2):\n",
    "    head1 = ll1\n",
    "    head2 = ll2\n",
    "    \n",
    "    if head1 is None:\n",
    "        return ll2\n",
    "    if head2 is None:\n",
    "        return ll1\n",
    "    \n",
    "    if ll1.val < ll2.val:\n",
    "        mergedHead = ll1 \n",
    "        mergedtail = ll1\n",
    "        head1 = head1.next\n",
    "    else:\n",
    "        mergedHead = ll2\n",
    "        mergedtail = ll2\n",
    "        head2 = head2.next\n",
    "        \n",
    "    while head1 != None or head2 != None:\n",
    "        if head1 is None:\n",
    "            mergedtail.next = head2\n",
    "            head2 = None\n",
    "        elif head2 is None:\n",
    "            mergedtail.next = head1\n",
    "            head1 = None\n",
    "        else:\n",
    "            if head1.val < head2.val:\n",
    "                mergedtail.next = head1\n",
    "                head1 = head1.next\n",
    "            else:\n",
    "                mergedtail.next = head2\n",
    "                head2 = head2.next\n",
    "            mergedtail = mergedtail.next\n",
    "    \n",
    "    \n",
    "    return mergedHead\n",
    "\n",
    "\n",
    "l1 = generateLinkedList([1,2,3,4,5,6,7])\n",
    "l2 = generateLinkedList([1,2,3,4,5,6,7])\n",
    "printLL(mergeSortedLL(l1,l2))"
   ]
  },
  {
   "cell_type": "code",
   "execution_count": 19,
   "id": "3c5be9e5",
   "metadata": {},
   "outputs": [
    {
     "name": "stdout",
     "output_type": "stream",
     "text": [
      "3\n",
      "3\n",
      "2\n"
     ]
    }
   ],
   "source": [
    "class HitCounter:\n",
    "    \n",
    "    def __init__(self):\n",
    "        self.timestamp = [0] * 300\n",
    "        self.count = [0] * 300\n",
    "        \n",
    "    def hit(self, timestamp):\n",
    "        index = timestamp % 300\n",
    "        if self.timestamp[index] != timestamp % 300:\n",
    "            self.timestamp[index] = timestamp % 300\n",
    "            self.count[index] = 0\n",
    "        self.count[index] += 1\n",
    "        \n",
    "        \n",
    "    \n",
    "    def getHits(self, timestamp):\n",
    "        count = 0\n",
    "        for i in range(len(self.timestamp)):\n",
    "            if timestamp - self.timestamp[i] < 300:\n",
    "                count += self.count[i]\n",
    "        return count\n",
    "    \n",
    "    \n",
    "counter = HitCounter()\n",
    "\n",
    "counter.hit(1)\n",
    "counter.hit(2)\n",
    "counter.hit(3)\n",
    "print(counter.getHits(4))\n",
    "counter.hit(300)\n",
    "print(counter.getHits(300))\n",
    "print(counter.getHits(301))"
   ]
  },
  {
   "cell_type": "code",
   "execution_count": 20,
   "id": "b283f57a",
   "metadata": {},
   "outputs": [],
   "source": [
    "# Rearrange a given linked list in-place."
   ]
  },
  {
   "cell_type": "code",
   "execution_count": 54,
   "id": "e289e615",
   "metadata": {},
   "outputs": [
    {
     "name": "stdout",
     "output_type": "stream",
     "text": [
      "7 3\n",
      "[7, 6, 5, 4]\n",
      "[1, 2, 3]\n",
      "[1, 7, 2, 6, 3, 5, 4]\n"
     ]
    }
   ],
   "source": [
    "def reorderList(head) -> None:\n",
    "    count = 0\n",
    "    mid = head\n",
    "    heads = head\n",
    "    previous = None\n",
    "    while(heads != None):\n",
    "        if count&1:\n",
    "            previous = mid\n",
    "            mid = mid.next\n",
    "            \n",
    "        count += 1\n",
    "        heads = heads.next\n",
    "    \n",
    "    print(count, previous.val)\n",
    "    previous.next = None\n",
    "    mid = reverseLL(mid)\n",
    "    printLL(mid)\n",
    "    printLL(head)\n",
    "    heads = head\n",
    "    while mid != None and heads != None :\n",
    "        tmp = heads.next\n",
    "        if tmp != None:\n",
    "            heads.next = mid\n",
    "            mid = mid.next\n",
    "            heads.next.next = tmp\n",
    "            heads = tmp\n",
    "        else:\n",
    "            heads.next = mid\n",
    "            heads = None\n",
    "    return head\n",
    "\n",
    "\n",
    "\n",
    "l1 = generateLinkedList([1,2,3,4,5,6,7])\n",
    "printLL(reorderList(l1))"
   ]
  },
  {
   "cell_type": "code",
   "execution_count": 5,
   "id": "fe62d540",
   "metadata": {},
   "outputs": [
    {
     "data": {
      "text/plain": [
       "True"
      ]
     },
     "execution_count": 5,
     "metadata": {},
     "output_type": "execute_result"
    }
   ],
   "source": [
    "def isValid(s: str) -> bool:\n",
    "    stack = []\n",
    "    for c in s:\n",
    "        if c in {\"(\",\"{\", \"[\"}:\n",
    "            stack.append(c)\n",
    "        if c in {\")\",\"}\", \"]\"}:\n",
    "            if len(stack) < 1 :\n",
    "                return False\n",
    "            top = stack.pop()\n",
    "            if c == \")\" and top != \"(\":\n",
    "                return False\n",
    "            if c == \"}\" and top != \"{\":\n",
    "                return False\n",
    "            if c == \"]\" and top != \"[\":\n",
    "                return False\n",
    "    return len(stack) == 0\n",
    "\n",
    "s = \"(){}\"\n",
    "\n",
    "isValid(s)"
   ]
  },
  {
   "cell_type": "code",
   "execution_count": 15,
   "id": "1477f745",
   "metadata": {},
   "outputs": [
    {
     "name": "stdout",
     "output_type": "stream",
     "text": [
      "1\n",
      "2\n"
     ]
    },
    {
     "data": {
      "text/plain": [
       "1"
      ]
     },
     "execution_count": 15,
     "metadata": {},
     "output_type": "execute_result"
    }
   ],
   "source": [
    "class MinStack:\n",
    "\n",
    "    def __init__(self):\n",
    "        self.stack = []\n",
    "        self.min = None\n",
    "        \n",
    "\n",
    "    def push(self, val: int) -> None:\n",
    "        if self.min != None and val < self.min:\n",
    "            self.stack.append( (2 * val) - self.min)\n",
    "            self.min = val\n",
    "        else:\n",
    "            self.stack.append(val)\n",
    "            if self.min == None : self.min = val\n",
    "\n",
    "\n",
    "    def pop(self) -> None:\n",
    "        if self.min != None:\n",
    "            top = self.stack.pop()\n",
    "            if top < self.min:\n",
    "                self.min = (2 * self.min) - top\n",
    "            if len(self.stack) < 1:\n",
    "                self.min = None\n",
    "        \n",
    "\n",
    "    def top(self) -> int:\n",
    "        if self.min != None:\n",
    "            top = self.stack[-1]\n",
    "            if top < self.min:\n",
    "                return self.min\n",
    "            else:\n",
    "                return top\n",
    "        \n",
    "\n",
    "    def getMin(self) -> int:\n",
    "        return self.min\n",
    "    \n",
    "    \n",
    "obj = MinStack()\n",
    "obj.push(2)\n",
    "obj.push(1)\n",
    "print(obj.getMin())\n",
    "obj.push(2)\n",
    "obj.push(2)\n",
    "obj.pop()\n",
    "print(obj.top())\n",
    "obj.getMin()"
   ]
  },
  {
   "cell_type": "code",
   "execution_count": 53,
   "id": "f40cafb1",
   "metadata": {},
   "outputs": [
    {
     "data": {
      "text/plain": [
       "[]"
      ]
     },
     "execution_count": 53,
     "metadata": {},
     "output_type": "execute_result"
    }
   ],
   "source": [
    "def asteroidCollision(asteroids):\n",
    "    if len(asteroids) < 2:\n",
    "        return asteroids\n",
    "    stack = []\n",
    "    i = 0\n",
    "    while i < len(asteroids) : \n",
    "        while len(stack) > 0 and stack[-1] > 0 and asteroids[i] < 0 :\n",
    "            top = stack[-1]\n",
    "            if top == abs(asteroids[i]):\n",
    "                stack.pop()\n",
    "                break\n",
    "            elif top < abs(asteroids[i]):\n",
    "                stack.pop()\n",
    "            else:\n",
    "                break\n",
    "        else:\n",
    "            stack.append(asteroids[i])\n",
    "        i += 1\n",
    "        \n",
    "    return stack\n",
    "\n",
    "\n",
    "asteroids = [8,-8]\n",
    "\n",
    "asteroidCollision(asteroids)"
   ]
  },
  {
   "cell_type": "code",
   "execution_count": 61,
   "id": "f32b6985",
   "metadata": {},
   "outputs": [
    {
     "name": "stdout",
     "output_type": "stream",
     "text": [
      "[(73, 7)] [0, 0, 0, 0, 0, 0, 0, 0]\n",
      "[(76, 6)] [0, 0, 0, 0, 0, 0, 0, 0]\n",
      "[(76, 6), (72, 5)] [0, 0, 0, 0, 0, 1, 0, 0]\n",
      "[(76, 6), (72, 5), (69, 4)] [0, 0, 0, 0, 1, 1, 0, 0]\n",
      "[(76, 6), (72, 5), (71, 3)] [0, 0, 0, 2, 1, 1, 0, 0]\n",
      "[(76, 6), (75, 2)] [0, 0, 4, 2, 1, 1, 0, 0]\n",
      "[(76, 6), (75, 2), (74, 1)] [0, 1, 4, 2, 1, 1, 0, 0]\n",
      "[(76, 6), (75, 2), (74, 1), (73, 0)] [1, 1, 4, 2, 1, 1, 0, 0]\n"
     ]
    },
    {
     "data": {
      "text/plain": [
       "[1, 1, 4, 2, 1, 1, 0, 0]"
      ]
     },
     "execution_count": 61,
     "metadata": {},
     "output_type": "execute_result"
    }
   ],
   "source": [
    "def dailyTemperatures(temperatures):\n",
    "    output = [0] * len(temperatures)\n",
    "    stack = []\n",
    "    for i in range(len(temperatures) - 1, -1, -1):\n",
    "        if len(stack) > 0:\n",
    "            top = stack[-1]\n",
    "            if temperatures[i] < top[0]:\n",
    "                output[i] = top[1] - i\n",
    "            else:\n",
    "                while True:\n",
    "                    stack.pop()\n",
    "                    if len(stack) < 1:\n",
    "                        break\n",
    "                    top = stack[-1]\n",
    "                    if top[0] > temperatures[i]:\n",
    "                        output[i] = top[1] - i\n",
    "                        break\n",
    "        stack.append((temperatures[i], i))\n",
    "        print(stack, output)\n",
    "    return output\n",
    "\n",
    "\n",
    "\n",
    "temperatures = [73,74,75,71,69,72,76,73]\n",
    "dailyTemperatures(temperatures)\n"
   ]
  },
  {
   "cell_type": "code",
   "execution_count": 67,
   "id": "099b40e5",
   "metadata": {},
   "outputs": [
    {
     "name": "stdout",
     "output_type": "stream",
     "text": [
      "[0, 1, 1, 2, 2, 2, 2, 3, 3, 3, 3, 3] [3, 3, 3, 3, 3, 3, 3, 3, 2, 2, 2, 1]\n"
     ]
    },
    {
     "data": {
      "text/plain": [
       "6"
      ]
     },
     "execution_count": 67,
     "metadata": {},
     "output_type": "execute_result"
    }
   ],
   "source": [
    "def trap(height) -> int:\n",
    "    left = []\n",
    "    right = []\n",
    "    for i in range(len(height)):\n",
    "        lh = height[i]\n",
    "        rh = height[len(height) - i - 1]\n",
    "        if len(left) > 0:\n",
    "            top = left[-1]\n",
    "            left.append(max(top,lh))\n",
    "        else:\n",
    "            left.append(lh)\n",
    "            \n",
    "        if len(right) > 0:\n",
    "            top = right[-1]\n",
    "            right.append(max(top,rh))\n",
    "        else:\n",
    "            right.append(rh)\n",
    "    right.reverse()\n",
    "    print(left, right)\n",
    "    outputSum = 0\n",
    "    for i in range(1,len(height) - 1):\n",
    "        outputSum += min(left[i], right[i]) - height[i]\n",
    "    return outputSum\n",
    "\n",
    "height = [0,1,0,2,1,0,1,3,2,1,2,1]\n",
    "trap(height)"
   ]
  },
  {
   "cell_type": "code",
   "execution_count": 110,
   "id": "b1f1843f",
   "metadata": {},
   "outputs": [
    {
     "data": {
      "text/plain": [
       "10"
      ]
     },
     "execution_count": 110,
     "metadata": {},
     "output_type": "execute_result"
    }
   ],
   "source": [
    "def largestRectangleArea(heights):\n",
    "    maxSum = 0\n",
    "    for i in range(len(heights)):\n",
    "        h = heights[i]\n",
    "        currentSum = 0\n",
    "        for j in range(len(heights)):\n",
    "            if heights[j] < h :\n",
    "                currentSum = 0\n",
    "            else:\n",
    "                currentSum += h\n",
    "            maxSum = max(currentSum, maxSum)\n",
    "            #print(h, currentSum )\n",
    "    return maxSum\n",
    "\n",
    "heights = [2,1,5,6,2,3]\n",
    "largestRectangleArea(heights)"
   ]
  },
  {
   "cell_type": "code",
   "execution_count": 124,
   "id": "52516a0e",
   "metadata": {},
   "outputs": [
    {
     "name": "stdout",
     "output_type": "stream",
     "text": [
      "[0, 1] 1\n",
      "[2] 5\n",
      "[3] 6\n",
      "[3, 4] 2\n",
      "[3, 5] 3\n"
     ]
    },
    {
     "data": {
      "text/plain": [
       "[-1, 0, -1, -1, 3, 3]"
      ]
     },
     "execution_count": 124,
     "metadata": {},
     "output_type": "execute_result"
    }
   ],
   "source": [
    "def nextGreaterElements(array):\n",
    "    output = [-1] * len(array)\n",
    "    stack = [(array[-1],len(array) - 1) ]\n",
    "    for i in range(len(array) - 2, -1 , -1):\n",
    "        if stack[-1][0] > array[i]:\n",
    "            output[i] = stack[-1][1]\n",
    "        else:\n",
    "            while len(stack) > 0 and stack[-1][0] < array[i] :\n",
    "                stack.pop()\n",
    "            \n",
    "            if len(stack) > 0 and stack[-1][0] > array[i]:\n",
    "                output[i] = stack[-1][1]\n",
    "                \n",
    "        stack.append((array[i],i))\n",
    "        print(stack,array[i],i)\n",
    "    return output\n",
    "\n",
    "def previousGreaterElement(array):\n",
    "    output = [-1] * len(array)\n",
    "    stack = [0]\n",
    "    for i in range(1, len(array)):\n",
    "        top = stack[-1]\n",
    "        if array[top] > array[i] :\n",
    "            output[i] = top\n",
    "        else:\n",
    "            while len(stack) > 0 and array[stack[-1]] < array[i]:\n",
    "                stack.pop()\n",
    "            if len(stack) > 0 and array[stack[-1]] > array[i]:\n",
    "                output[i] = stack[-1]\n",
    "        stack.append(i)\n",
    "        print(stack, array[i])\n",
    "    return output\n",
    "\n",
    "array = [2,1,5,6,2,3]\n",
    "previousGreaterElement(array)"
   ]
  },
  {
   "cell_type": "code",
   "execution_count": 2,
   "id": "a70cad1e",
   "metadata": {},
   "outputs": [
    {
     "name": "stdout",
     "output_type": "stream",
     "text": [
      "0\n",
      "1\n"
     ]
    }
   ],
   "source": [
    "class MinStack:\n",
    "\n",
    "    def __init__(self):\n",
    "        self.vals = []\n",
    "        self.min = []\n",
    "\n",
    "    def push(self, val):\n",
    "        self.vals.append(val)\n",
    "        if len(self.min) <= 0 or val <= self.min[-1]:\n",
    "            self.min.append(val)\n",
    "\n",
    "    def pop(self):\n",
    "        if len(self.min) > 0:\n",
    "            val = self.vals.pop()\n",
    "            if val == self.min[-1]:\n",
    "                self.min.pop()\n",
    "            return val\n",
    "        return None\n",
    "\n",
    "    def top(self):\n",
    "        if len(self.min) > 0:\n",
    "            return self.vals[-1]\n",
    "        return None\n",
    "\n",
    "    def getMin(self):\n",
    "        return self.min[-1]\n",
    "    \n",
    "stack = MinStack()\n",
    "\n",
    "stack.push(1)\n",
    "stack.push(4)\n",
    "stack.push(3)\n",
    "stack.push(0)\n",
    "\n",
    "print(stack.getMin())\n",
    "stack.pop()\n",
    "print(stack.getMin())"
   ]
  },
  {
   "cell_type": "code",
   "execution_count": 6,
   "id": "7b9cc69b",
   "metadata": {},
   "outputs": [
    {
     "name": "stdout",
     "output_type": "stream",
     "text": [
      "[5, 4, 3, 2, 1]\n"
     ]
    }
   ],
   "source": [
    "def reverseLL(head):\n",
    "    current = head\n",
    "    previous = None\n",
    "    while current != None:\n",
    "        nextNode = current.next\n",
    "        current.next = previous\n",
    "        previous = current\n",
    "        current = nextNode\n",
    "    return previous\n",
    "\n",
    "\n",
    "\n",
    "head = generateLinkedList([1,2,3,4,5])\n",
    "head = reverseLL(head)\n",
    "printLL(head)"
   ]
  },
  {
   "cell_type": "code",
   "execution_count": 12,
   "id": "db861fec",
   "metadata": {},
   "outputs": [
    {
     "name": "stdout",
     "output_type": "stream",
     "text": [
      "[1, 1, 2, 3, 3, 4]\n"
     ]
    }
   ],
   "source": [
    "def mergeTwoLL(head1, head2):\n",
    "    if head1 is None:\n",
    "            return head2\n",
    "    if head2 is None:\n",
    "        return head1\n",
    "\n",
    "    if head1.val < head2.val:\n",
    "        merged = head1 \n",
    "        current1 = head1.next\n",
    "        current2 = head2\n",
    "    else:\n",
    "        merged = head2 \n",
    "        current2 = head2.next\n",
    "        current1 = head1\n",
    "    root = merged\n",
    "    while current1 is not None or current2 is not None:\n",
    "        if current1 is None:\n",
    "            merged.next = current2\n",
    "            current2 = current2.next\n",
    "        elif current2 is None:\n",
    "            merged.next = current1\n",
    "            current1 = current1.next\n",
    "        else:\n",
    "            if current1.val < current2.val:\n",
    "                merged.next = current1\n",
    "                current1 = current1.next\n",
    "            else:\n",
    "                merged.next = current2\n",
    "                current2 = current2.next\n",
    "        merged = merged.next\n",
    "    \n",
    "    return root\n",
    "\n",
    "head1 = generateLinkedList([1,2,3])\n",
    "head2 = generateLinkedList([1,3,4])\n",
    "\n",
    "merged = mergeTwoLL(head1, head2)\n",
    "printLL(merged)"
   ]
  },
  {
   "cell_type": "code",
   "execution_count": 2,
   "id": "cfa90075",
   "metadata": {},
   "outputs": [
    {
     "name": "stdout",
     "output_type": "stream",
     "text": [
      "[10, 6, 9, 3]\n",
      "[10, 6, 12, -11]\n",
      "[10, 6, -132]\n",
      "[10, 0]\n",
      "[0, 17]\n",
      "[17, 5]\n"
     ]
    },
    {
     "data": {
      "text/plain": [
       "22"
      ]
     },
     "execution_count": 2,
     "metadata": {},
     "output_type": "execute_result"
    }
   ],
   "source": [
    "from typing import List\n",
    "\n",
    "def evalRPN(tokens: List[str]) -> int:\n",
    "    stack = []\n",
    "    for token in tokens:\n",
    "        if token.isdigit() or len(token) > 1:\n",
    "            stack.append(int(token))\n",
    "        else:\n",
    "            print(stack)\n",
    "            d2 = stack.pop()\n",
    "            d1 = stack.pop()\n",
    "            ans = 0\n",
    "            if token == \"+\":\n",
    "                ans = d1 + d2\n",
    "            elif token == \"*\":\n",
    "                ans = d1 * d2\n",
    "            elif token == \"-\":\n",
    "                ans = d1 - d2\n",
    "            elif token == \"/\":\n",
    "                ans = int(d1 / d2)\n",
    "            stack.append(ans)\n",
    "    return round(stack[-1])\n",
    "\n",
    "tokens = [\"10\",\"6\",\"9\",\"3\",\"+\",\"-11\",\"*\",\"/\",\"*\",\"17\",\"+\",\"5\",\"+\"]\n",
    "\n",
    "evalRPN(tokens)"
   ]
  },
  {
   "cell_type": "code",
   "execution_count": 27,
   "id": "5ca4bf1d",
   "metadata": {},
   "outputs": [
    {
     "data": {
      "text/plain": [
       "['((()))', '(()())', '(())()', '()(())', '()()()']"
      ]
     },
     "execution_count": 27,
     "metadata": {},
     "output_type": "execute_result"
    }
   ],
   "source": [
    "def generateParenthesis(n: int) -> List[str]:\n",
    "    ans = []\n",
    "\n",
    "    def dfs(l: int, r: int, s: str) -> None:\n",
    "        if l == 0 and r == 0:\n",
    "            ans.append(s)\n",
    "        if l > 0:\n",
    "            dfs(l - 1, r, s + '(')\n",
    "        if l < r:\n",
    "            dfs(l, r - 1, s + ')')\n",
    "\n",
    "    dfs(n, n, '')\n",
    "    return ans\n",
    "\n",
    "\n",
    "n = 3\n",
    "generateParenthesis(n)"
   ]
  },
  {
   "cell_type": "code",
   "execution_count": 30,
   "id": "07ec7d7a",
   "metadata": {},
   "outputs": [
    {
     "data": {
      "text/plain": [
       "[8, 1, 5, 4, 3, 2, 1, 1, 0, 0]"
      ]
     },
     "execution_count": 30,
     "metadata": {},
     "output_type": "execute_result"
    }
   ],
   "source": [
    "def dailyTemperatures(temperatures: List[int]) -> List[int]:\n",
    "    output = [0] * len(temperatures)\n",
    "    stack = []\n",
    "    for i in range(len(temperatures)-1, -1,-1):\n",
    "        while len(stack) > 0 and temperatures[i] >= stack[-1][0]:\n",
    "                stack.pop()\n",
    "        if len(stack) > 0:\n",
    "            output[i] = stack[-1][1] - i\n",
    "        stack.append((temperatures[i], i))\n",
    "    return output\n",
    "\n",
    "temperatures = [89,62,70,58,47,47,46,76,100,70]\n",
    "\n",
    "dailyTemperatures(temperatures)"
   ]
  },
  {
   "cell_type": "code",
   "execution_count": 71,
   "id": "e1067de3",
   "metadata": {},
   "outputs": [
    {
     "data": {
      "text/plain": [
       "2"
      ]
     },
     "execution_count": 71,
     "metadata": {},
     "output_type": "execute_result"
    }
   ],
   "source": [
    "from collections import defaultdict\n",
    "\n",
    "\n",
    "def carFleet(target: int, position: List[int], speed: List[int]) -> int:\n",
    "    stack = []\n",
    "    positions = sorted(zip(position, speed), reverse=True)\n",
    "    for p,s in positions:\n",
    "        time = (target - p) / s\n",
    "        stack.append(time)\n",
    "        if len(stack) > 1 and stack[-1] <= stack[-2]:\n",
    "            stack.pop()\n",
    "    return len(stack)\n",
    "        \n",
    "\n",
    "\n",
    "target = 20\n",
    "position = [6,2,17]\n",
    "speed = [3,9,2]\n",
    "carFleet(target,position,  speed)"
   ]
  },
  {
   "cell_type": "code",
   "execution_count": 40,
   "id": "99b60d54",
   "metadata": {},
   "outputs": [
    {
     "name": "stdout",
     "output_type": "stream",
     "text": [
      "[(2, 0), (4, 1)] 4 0\n"
     ]
    },
    {
     "data": {
      "text/plain": [
       "4"
      ]
     },
     "execution_count": 40,
     "metadata": {},
     "output_type": "execute_result"
    }
   ],
   "source": [
    "def largestRectangleArea(heights: List[int]) -> int:\n",
    "    maxSum = 0\n",
    "    stack = [(heights[0],0)]\n",
    "    for i in range(1, len(heights)):\n",
    "        h = heights[i]\n",
    "        idx = i\n",
    "        while len(stack) > 0 and h < stack[-1][0]:\n",
    "            lrh, lri = stack.pop()\n",
    "            maxSum = max(lrh * (i-lri), maxSum)\n",
    "            idx = lri\n",
    "        stack.append((h,idx))\n",
    "        print(stack, h, maxSum)\n",
    "    while len(stack) > 0:\n",
    "        lrh, lri = stack.pop()\n",
    "        maxSum = max(lrh * abs(len(heights)-lri), maxSum)\n",
    "    return maxSum\n",
    "    \n",
    "    \n",
    "heights = [2,4]\n",
    "largestRectangleArea(heights)"
   ]
  },
  {
   "cell_type": "code",
   "execution_count": 48,
   "id": "f3e5f333",
   "metadata": {},
   "outputs": [
    {
     "data": {
      "text/plain": [
       "46"
      ]
     },
     "execution_count": 48,
     "metadata": {},
     "output_type": "execute_result"
    }
   ],
   "source": [
    "import math\n",
    "\n",
    "def minEatingSpeed(piles: List[int], h: int) -> int:\n",
    "    l = 1\n",
    "    r = max(piles)\n",
    "    k = r\n",
    "    while l <= r:\n",
    "        mid = l + (r-l) // 2\n",
    "        currentTime = 0\n",
    "        for p in piles:\n",
    "            currentTime += math.ceil(p/mid)\n",
    "        if currentTime <= h:\n",
    "            k = min(k, mid)\n",
    "            r = mid - 1\n",
    "        else:\n",
    "            l = mid + 1\n",
    "    return k\n",
    "\n",
    "\n",
    "piles = [873375536,395271806,617254718,970525912,634754347,824202576,694181619,20191396,886462834,442389139,572655464,438946009,791566709,776244944,694340852,419438893,784015530,588954527,282060288,269101141,499386849,846936808,92389214,385055341,56742915,803341674,837907634,728867715,20958651,167651719,345626668,701905050,932332403,572486583,603363649,967330688,484233747,859566856,446838995,375409782,220949961,72860128,998899684,615754807,383344277,36322529,154308670,335291837,927055440,28020467,558059248,999492426,991026255,30205761,884639109,61689648,742973721,395173120,38459914,705636911,30019578,968014413,126489328,738983100,793184186,871576545,768870427,955396670,328003949,786890382,450361695,994581348,158169007,309034664,388541713,142633427,390169457,161995664,906356894,379954831,448138536]\n",
    "h = 943223529\n",
    "minEatingSpeed(piles, h)"
   ]
  },
  {
   "cell_type": "code",
   "execution_count": 82,
   "id": "71a6ebf7",
   "metadata": {},
   "outputs": [
    {
     "name": "stdout",
     "output_type": "stream",
     "text": [
      "3 1 1\n"
     ]
    },
    {
     "data": {
      "text/plain": [
       "1"
      ]
     },
     "execution_count": 82,
     "metadata": {},
     "output_type": "execute_result"
    }
   ],
   "source": [
    "def search(nums: List[int], target: int) -> int:\n",
    "    l = 0\n",
    "    r = len(nums) - 1\n",
    "    while l <= r:\n",
    "        mid = l + (r - l) // 2\n",
    "        if target == nums[mid]:\n",
    "            return mid\n",
    "        if nums[l] <= nums[mid] :\n",
    "            if nums[l] <= target < nums[mid]:\n",
    "                r = mid - 1\n",
    "            else:\n",
    "                l = mid + 1\n",
    "        else:\n",
    "            if nums[mid] < target <= nums[r]:\n",
    "                l = mid + 1\n",
    "            else:\n",
    "                r = mid - 1\n",
    "        print(nums[mid], nums[l] , nums[r])\n",
    "    return -1\n",
    "\n",
    "\n",
    "\n",
    "\n",
    "nums = [3,1]\n",
    "target = 1\n",
    "#nums = [4,5,6,7,0,1,2]\n",
    "#target = 2\n",
    "search(nums, target)"
   ]
  },
  {
   "cell_type": "code",
   "execution_count": 93,
   "id": "5adfd5e8",
   "metadata": {},
   "outputs": [
    {
     "name": "stdout",
     "output_type": "stream",
     "text": [
      "1 6 1\n",
      "8 0 1\n",
      "0 0 0\n"
     ]
    },
    {
     "data": {
      "text/plain": [
       "0"
      ]
     },
     "execution_count": 93,
     "metadata": {},
     "output_type": "execute_result"
    }
   ],
   "source": [
    "def findMin(nums: List[int]) -> int:\n",
    "    l = 0\n",
    "    r = len(nums) - 1\n",
    "    while l < r:\n",
    "        mid = l + (r - l) // 2\n",
    "        if nums[r] < nums[mid]:\n",
    "            l = mid + 1\n",
    "        else:\n",
    "            r = mid\n",
    "        print(nums[mid], nums[l], nums[r])\n",
    "    return nums[l]\n",
    "\n",
    "nums = [6,7,8,0,1,2,3,4,5]\n",
    "findMin(nums)"
   ]
  },
  {
   "cell_type": "code",
   "execution_count": 120,
   "id": "5a714e9d",
   "metadata": {},
   "outputs": [
    {
     "name": "stdout",
     "output_type": "stream",
     "text": [
      "[('old', 1), ('ass', 2), ('black', 3), ('gold', 7)]\n",
      "1 ass 2\n",
      "2 black 3\n",
      "3 gold 7\n"
     ]
    },
    {
     "data": {
      "text/plain": [
       "'black'"
      ]
     },
     "execution_count": 120,
     "metadata": {},
     "output_type": "execute_result"
    }
   ],
   "source": [
    "from collections import defaultdict\n",
    "\n",
    "class TimeMap:\n",
    "\n",
    "    def __init__(self):\n",
    "        self.store = defaultdict(list)\n",
    "    \n",
    "    def set(self, key: str, value: str, timestamp: int) -> None:\n",
    "        self.store[key].append((value, timestamp))\n",
    "\n",
    "    def get(self, key: str, timestamp: int) -> str:\n",
    "        values = self.store[key]\n",
    "        print(values)\n",
    "        l = 0\n",
    "        r = len(values) - 1\n",
    "        maxIdx = -1\n",
    "        while l <= r :\n",
    "            mid = l + (r - l) // 2\n",
    "            val, t = values[mid]\n",
    "            if t == timestamp:\n",
    "                return val\n",
    "            if t < timestamp:\n",
    "                maxIdx = max(maxIdx, mid)\n",
    "            if timestamp < t:\n",
    "                r = mid - 1\n",
    "            else:\n",
    "                l = mid + 1\n",
    "            print(mid, val, t)\n",
    "        return values[maxIdx][0] if maxIdx != -1 else \"\"\n",
    "        \n",
    "obj = TimeMap()\n",
    "obj.set(\"apple\",\"old\", 1)\n",
    "obj.set(\"apple\",\"ass\", 2)\n",
    "obj.set(\"apple\",\"black\", 3)\n",
    "obj.set(\"apple\",\"gold\", 7)\n",
    "obj.get(\"apple\", 5)"
   ]
  },
  {
   "cell_type": "code",
   "execution_count": 156,
   "id": "52934020",
   "metadata": {},
   "outputs": [
    {
     "name": "stdout",
     "output_type": "stream",
     "text": [
      "[1, 2, 3, 4, 5, 6]\n",
      "[6, 5, 4]\n",
      "[1, 6, 2, 3, 4]\n",
      "[1, 6, 2, 5, 3, 4]\n",
      "[1, 6, 2, 5, 3, 4]\n",
      "[1, 6, 2, 5, 3, 4]\n"
     ]
    }
   ],
   "source": [
    "from typing import Optional\n",
    "\n",
    "def reorderList(head) -> None:\n",
    "    mid = head\n",
    "    itr = head\n",
    "    count = 0\n",
    "    while itr != None:\n",
    "        if count&1:\n",
    "            mid = mid.next\n",
    "        count += 1\n",
    "        itr = itr.next\n",
    "    mid = reverseLL(mid)\n",
    "    itr = head\n",
    "    while mid != None and itr != None:\n",
    "        tmp = itr.next\n",
    "        if tmp != mid:\n",
    "            itr.next = mid\n",
    "            itr = itr.next\n",
    "            mid = mid.next\n",
    "            itr.next = tmp\n",
    "            itr = itr.next\n",
    "        else:\n",
    "            itr.next = mid\n",
    "            itr = None\n",
    "    return head\n",
    "\n",
    "head = generateLinkedList([1,2,3,4,5,6])\n",
    "printLL(head)\n",
    "reorderList(head)\n",
    "printLL(head)"
   ]
  },
  {
   "cell_type": "code",
   "execution_count": 199,
   "id": "f534fe31",
   "metadata": {},
   "outputs": [
    {
     "name": "stdout",
     "output_type": "stream",
     "text": [
      "[1]\n",
      "[]\n"
     ]
    }
   ],
   "source": [
    "def removeNthFromStart(head, n: int):\n",
    "    if n <= 0:\n",
    "        return None\n",
    "    if n == 1:\n",
    "        return head.next\n",
    "    count = 1\n",
    "    itr = head\n",
    "    while count + 1 < n:\n",
    "        itr = itr.next\n",
    "        count += 1\n",
    "    printLL(itr)\n",
    "    itr.next = itr.next.next\n",
    "    return head\n",
    "    \n",
    "\n",
    "def removeNthFromEnd(head, n: int):\n",
    "    if n <= 0:\n",
    "        return head\n",
    "    count = 0\n",
    "    right = left = head\n",
    "    while right != None:\n",
    "        if count > n:\n",
    "            left = left.next\n",
    "        count += 1\n",
    "        right = right.next\n",
    "    #first element\n",
    "    if n == count:\n",
    "        return head.next\n",
    "    # last element & single element\n",
    "    if n == 1 and count == 1:\n",
    "        return None\n",
    "    left.next = left.next.next\n",
    "    return head\n",
    "\n",
    "head = [1]\n",
    "n = 1\n",
    "head = generateLinkedList(head)\n",
    "printLL(head)\n",
    "head = removeNthFromEnd(head, n)\n",
    "printLL(head)"
   ]
  },
  {
   "cell_type": "code",
   "execution_count": 214,
   "id": "5d30e15c",
   "metadata": {},
   "outputs": [
    {
     "data": {
      "text/plain": [
       "2"
      ]
     },
     "execution_count": 214,
     "metadata": {},
     "output_type": "execute_result"
    }
   ],
   "source": [
    "def findDuplicate(nums: List[int]) -> int:\n",
    "    pervious = set()\n",
    "    for n in nums:\n",
    "        if n in pervious:\n",
    "            return n\n",
    "        pervious.add(n)\n",
    "    return -1\n",
    "\n",
    "nums = [1,3,4,2,2]\n",
    "findDuplicate(nums)\n"
   ]
  },
  {
   "cell_type": "code",
   "execution_count": 221,
   "id": "3443a237",
   "metadata": {},
   "outputs": [
    {
     "name": "stdout",
     "output_type": "stream",
     "text": [
      "2 3\n",
      "[2, 1]\n",
      "2 5\n",
      "[4, 3]\n",
      "[2, 1, 4, 3, 5]\n"
     ]
    }
   ],
   "source": [
    "def reverseKGroup(head: Optional[ListNode], k: int) -> Optional[ListNode]:\n",
    "    dummyHead = ListNode(0, head)\n",
    "    tail = dummyHead\n",
    "    while True:\n",
    "        count = 0\n",
    "        previous = tail\n",
    "        ghead = tail.next\n",
    "        while tail != None and count < k:\n",
    "            tail = tail.next\n",
    "            count += 1\n",
    "        if count < k or tail == None :\n",
    "            break\n",
    "        startOfNextGroup = tail.next\n",
    "        tail.next = None\n",
    "        reversedList = reverseLL(ghead)\n",
    "#         print(count, startOfNextGroup.val)\n",
    "#         printLL(reversedList)\n",
    "        previous.next = reversedList\n",
    "        ghead.next = startOfNextGroup\n",
    "        tail = ghead\n",
    "    return dummyHead.next\n",
    "\n",
    "head = generateLinkedList([1,2,3,4,5])\n",
    "k = 2\n",
    "head = reverseKGroup(head,k)\n",
    "printLL(head)"
   ]
  },
  {
   "cell_type": "code",
   "execution_count": 17,
   "id": "f74c96f2",
   "metadata": {},
   "outputs": [
    {
     "data": {
      "text/plain": [
       "True"
      ]
     },
     "execution_count": 17,
     "metadata": {},
     "output_type": "execute_result"
    }
   ],
   "source": [
    "def checkValidString(s: str) -> bool:\n",
    "    stack = []\n",
    "    stact_reg = []\n",
    "    for i in range(len(s)):\n",
    "        ch = s[i]\n",
    "        if ch == \"(\":\n",
    "            stack.append((ch,i))\n",
    "        elif ch == \"*\":\n",
    "            stact_reg.append((ch,i))\n",
    "        else:\n",
    "            if len(stack) > 0:\n",
    "                stack.pop()\n",
    "            elif len(stact_reg) > 0:\n",
    "                stact_reg.pop()\n",
    "            else:\n",
    "                return False\n",
    "    while len(stact_reg) > 0 and len(stack) > 0 :\n",
    "        if stact_reg[-1][1] <= stack[-1][1]:\n",
    "            break\n",
    "        stact_reg.pop()\n",
    "        stack.pop()\n",
    "        \n",
    "    return len(stack) == 0\n",
    "\n",
    "s = \"((((()(()()()*()(((((*)()*(**(())))))(())()())(((())())())))))))(((((())*)))()))(()((*()*(*)))(*)()\"\n",
    "\n",
    "checkValidString(s)"
   ]
  },
  {
   "cell_type": "code",
   "execution_count": null,
   "id": "4242c2c9",
   "metadata": {},
   "outputs": [],
   "source": []
  }
 ],
 "metadata": {
  "kernelspec": {
   "display_name": "Python 3 (ipykernel)",
   "language": "python",
   "name": "python3"
  },
  "language_info": {
   "codemirror_mode": {
    "name": "ipython",
    "version": 3
   },
   "file_extension": ".py",
   "mimetype": "text/x-python",
   "name": "python",
   "nbconvert_exporter": "python",
   "pygments_lexer": "ipython3",
   "version": "3.9.9"
  }
 },
 "nbformat": 4,
 "nbformat_minor": 5
}
