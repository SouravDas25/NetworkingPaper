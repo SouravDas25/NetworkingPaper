{
 "cells": [
  {
   "cell_type": "code",
   "execution_count": 10,
   "id": "b8116d85",
   "metadata": {},
   "outputs": [
    {
     "name": "stdout",
     "output_type": "stream",
     "text": [
      "deque([4]) 0\n",
      "deque([2, 4]) 0\n",
      "deque([1, 2, 4]) 0\n"
     ]
    },
    {
     "data": {
      "text/plain": [
       "deque([1, 2, 4])"
      ]
     },
     "execution_count": 10,
     "metadata": {},
     "output_type": "execute_result"
    }
   ],
   "source": [
    "from collections import deque\n",
    "\n",
    "def plusOne(digits):\n",
    "    carry = 1\n",
    "    output = deque()\n",
    "    for i in range(len(digits) -1, -1, -1):\n",
    "        d = digits[i] + carry\n",
    "        carry = d // 10\n",
    "        d = d % 10\n",
    "        output.appendleft(d)\n",
    "    if carry == 1:\n",
    "        output.appendleft(1)\n",
    "    return output\n",
    "\n",
    "digits = [1,2,3]\n",
    "plusOne(digits)\n",
    "\n"
   ]
  },
  {
   "cell_type": "code",
   "execution_count": 11,
   "id": "3e7580e3",
   "metadata": {},
   "outputs": [
    {
     "data": {
      "text/plain": [
       "True"
      ]
     },
     "execution_count": 11,
     "metadata": {},
     "output_type": "execute_result"
    }
   ],
   "source": [
    "def isHappy(n) -> bool:\n",
    "    hashSet = set()\n",
    "    while n != 1:\n",
    "        n = getSumOfSquares(n)\n",
    "        if n in hashSet:\n",
    "            return False\n",
    "        else:\n",
    "            hashSet.add(n)\n",
    "    return True\n",
    "\n",
    "def getSumOfSquares(n: int) -> int:\n",
    "    total = 0\n",
    "    for n in [int(s) for s in str(n)]:\n",
    "        total += n ** 2\n",
    "    return total\n",
    "        \n",
    "n = 19\n",
    "isHappy(n)"
   ]
  },
  {
   "cell_type": "code",
   "execution_count": null,
   "id": "5b575b98",
   "metadata": {},
   "outputs": [],
   "source": []
  }
 ],
 "metadata": {
  "kernelspec": {
   "display_name": "Python 3 (ipykernel)",
   "language": "python",
   "name": "python3"
  },
  "language_info": {
   "codemirror_mode": {
    "name": "ipython",
    "version": 3
   },
   "file_extension": ".py",
   "mimetype": "text/x-python",
   "name": "python",
   "nbconvert_exporter": "python",
   "pygments_lexer": "ipython3",
   "version": "3.9.9"
  }
 },
 "nbformat": 4,
 "nbformat_minor": 5
}
