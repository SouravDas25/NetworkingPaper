{
 "cells": [
  {
   "cell_type": "code",
   "execution_count": 10,
   "id": "b8116d85",
   "metadata": {},
   "outputs": [
    {
     "name": "stdout",
     "output_type": "stream",
     "text": [
      "deque([4]) 0\n",
      "deque([2, 4]) 0\n",
      "deque([1, 2, 4]) 0\n"
     ]
    },
    {
     "data": {
      "text/plain": [
       "deque([1, 2, 4])"
      ]
     },
     "execution_count": 10,
     "metadata": {},
     "output_type": "execute_result"
    }
   ],
   "source": [
    "from collections import deque\n",
    "\n",
    "def plusOne(digits):\n",
    "    carry = 1\n",
    "    output = deque()\n",
    "    for i in range(len(digits) -1, -1, -1):\n",
    "        d = digits[i] + carry\n",
    "        carry = d // 10\n",
    "        d = d % 10\n",
    "        output.appendleft(d)\n",
    "    if carry == 1:\n",
    "        output.appendleft(1)\n",
    "    return output\n",
    "\n",
    "digits = [1,2,3]\n",
    "plusOne(digits)\n",
    "\n"
   ]
  },
  {
   "cell_type": "code",
   "execution_count": 11,
   "id": "3e7580e3",
   "metadata": {},
   "outputs": [
    {
     "data": {
      "text/plain": [
       "True"
      ]
     },
     "execution_count": 11,
     "metadata": {},
     "output_type": "execute_result"
    }
   ],
   "source": [
    "def isHappy(n) -> bool:\n",
    "    hashSet = set()\n",
    "    while n != 1:\n",
    "        n = getSumOfSquares(n)\n",
    "        if n in hashSet:\n",
    "            return False\n",
    "        else:\n",
    "            hashSet.add(n)\n",
    "    return True\n",
    "\n",
    "def getSumOfSquares(n: int) -> int:\n",
    "    total = 0\n",
    "    for n in [int(s) for s in str(n)]:\n",
    "        total += n ** 2\n",
    "    return total\n",
    "        \n",
    "n = 19\n",
    "isHappy(n)"
   ]
  },
  {
   "cell_type": "code",
   "execution_count": 15,
   "id": "5b575b98",
   "metadata": {},
   "outputs": [
    {
     "name": "stdout",
     "output_type": "stream",
     "text": [
      "[[15, 13, 2, 5], [14, 4, 8, 1], [12, 3, 6, 9], [16, 7, 10, 11]]\n",
      "[[15, 13, 2, 5], [14, 3, 4, 1], [12, 6, 8, 9], [16, 7, 10, 11]]\n"
     ]
    },
    {
     "data": {
      "text/plain": [
       "[[15, 13, 2, 5], [14, 3, 4, 1], [12, 6, 8, 9], [16, 7, 10, 11]]"
      ]
     },
     "execution_count": 15,
     "metadata": {},
     "output_type": "execute_result"
    }
   ],
   "source": [
    "from typing import List\n",
    "def rotate(matrix: List[List[int]]) -> None:\n",
    "    def rotateSq(row, col, sideCount):\n",
    "        li = row + sideCount - 1\n",
    "        for i in range(sideCount - 1):\n",
    "            a = row + i\n",
    "            b = col + i\n",
    "            c = li - i\n",
    "            d = li - i\n",
    "            t = matrix[row][a]\n",
    "            matrix[row][a] = matrix[d][col]\n",
    "            matrix[d][col] = matrix[li][c]\n",
    "            matrix[li][c] = matrix[b][li]\n",
    "            matrix[b][li] = t\n",
    "        print(matrix)\n",
    "            \n",
    "    sideCount = len(matrix)\n",
    "    sc = 0\n",
    "    while sideCount > 1:\n",
    "        rotateSq(sc, sc, sideCount)\n",
    "        sc += 1\n",
    "        sideCount -= 2\n",
    "        \n",
    "\n",
    "matrix = [[5,1,9,11],[2,4,8,10],[13,3,6,7],[15,14,12,16]]\n",
    "rotate(matrix)\n",
    "matrix"
   ]
  },
  {
   "cell_type": "code",
   "execution_count": 21,
   "id": "967eadfa",
   "metadata": {},
   "outputs": [
    {
     "name": "stdout",
     "output_type": "stream",
     "text": [
      "[1, 2, 3, 4, 8, 12, 11, 10, 9, 5]\n",
      "[1, 2, 3, 4, 8, 12, 11, 10, 9, 5, 6, 7]\n"
     ]
    },
    {
     "data": {
      "text/plain": [
       "[1, 2, 3, 4, 8, 12, 11, 10, 9, 5, 6, 7]"
      ]
     },
     "execution_count": 21,
     "metadata": {},
     "output_type": "execute_result"
    }
   ],
   "source": [
    "def spiralOrder(matrix: List[List[int]]) -> List[int]:\n",
    "    output = []\n",
    "    def spiralSq(row, col, rc, cc):\n",
    "        lri = row + rc - 1\n",
    "        lci = col + cc - 1\n",
    "        \n",
    "        if rc > 0:\n",
    "            for i in range(col, col + cc):\n",
    "                output.append(matrix[row][i])\n",
    "        if cc > 0:\n",
    "            for i in range(row+1, row + rc):\n",
    "                output.append(matrix[i][lci])\n",
    "        \n",
    "        if rc > 1:\n",
    "            for i in range(lci -1, col -1 , -1):\n",
    "                output.append(matrix[lri][i])\n",
    "        if cc > 1:\n",
    "            for i in range(lri - 1, row, -1):\n",
    "                output.append(matrix[i][col])\n",
    "    \n",
    "    sc = 0\n",
    "    rowCount = len(matrix)\n",
    "    colCount = len(matrix[0])\n",
    "    while rowCount > 0 or colCount > 0:\n",
    "        spiralSq(sc, sc, rowCount, colCount)\n",
    "        sc += 1\n",
    "        rowCount -= 2\n",
    "        colCount -= 2\n",
    "            \n",
    "    return output\n",
    "\n",
    "matrix = [[1,2,3,4],[5,6,7,8],[9,10,11,12]]\n",
    "spiralOrder(matrix)"
   ]
  },
  {
   "cell_type": "code",
   "execution_count": 2,
   "id": "12248ebc",
   "metadata": {},
   "outputs": [],
   "source": [
    "def multiply( num1: str, num2: str) -> str:\n",
    "    pass\n",
    "\n",
    "num1 = \"2\"\n",
    "num2 = \"3\""
   ]
  },
  {
   "cell_type": "code",
   "execution_count": 8,
   "id": "a858a2a0",
   "metadata": {},
   "outputs": [
    {
     "data": {
      "text/plain": [
       "True"
      ]
     },
     "execution_count": 8,
     "metadata": {},
     "output_type": "execute_result"
    }
   ],
   "source": [
    "def isPalindrome(x: int) -> bool:\n",
    "    x = str(x)\n",
    "    return x == \"\".join(reversed(x))\n",
    "\n",
    "isPalindrome(\"121\")"
   ]
  },
  {
   "cell_type": "code",
   "execution_count": null,
   "id": "e2278cfd",
   "metadata": {},
   "outputs": [],
   "source": []
  }
 ],
 "metadata": {
  "kernelspec": {
   "display_name": "Python 3 (ipykernel)",
   "language": "python",
   "name": "python3"
  },
  "language_info": {
   "codemirror_mode": {
    "name": "ipython",
    "version": 3
   },
   "file_extension": ".py",
   "mimetype": "text/x-python",
   "name": "python",
   "nbconvert_exporter": "python",
   "pygments_lexer": "ipython3",
   "version": "3.9.9"
  }
 },
 "nbformat": 4,
 "nbformat_minor": 5
}
