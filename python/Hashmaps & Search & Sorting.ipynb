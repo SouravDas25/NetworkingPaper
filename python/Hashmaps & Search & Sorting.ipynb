{
 "cells": [
  {
   "cell_type": "code",
   "execution_count": 1,
   "id": "0b32503d",
   "metadata": {},
   "outputs": [],
   "source": [
    "# Ransom Note"
   ]
  },
  {
   "cell_type": "code",
   "execution_count": 8,
   "id": "7537471d",
   "metadata": {},
   "outputs": [
    {
     "name": "stdout",
     "output_type": "stream",
     "text": [
      "defaultdict(<function canConstruct.<locals>.<lambda> at 0x000002949DC2ADC0>, {'a': 2, 'b': 1})\n"
     ]
    },
    {
     "data": {
      "text/plain": [
       "True"
      ]
     },
     "execution_count": 8,
     "metadata": {},
     "output_type": "execute_result"
    }
   ],
   "source": [
    "from collections import defaultdict\n",
    "\n",
    "def canConstruct(ransomNote: str, magazine: str) -> bool:\n",
    "    characterDict = defaultdict(lambda : 0)\n",
    "    for i in magazine:\n",
    "        characterDict[i] += 1\n",
    "    print(characterDict)\n",
    "    for i in ransomNote:\n",
    "        if i not in characterDict:\n",
    "            return False\n",
    "        else:\n",
    "            characterDict[i] -= 1\n",
    "            if characterDict[i] <= 0:\n",
    "                del characterDict[i]\n",
    "    return True\n",
    "\n",
    "\n",
    "ransomNote = \"aa\"\n",
    "magazine = \"aab\"\n",
    "\n",
    "canConstruct(ransomNote, magazine)"
   ]
  },
  {
   "cell_type": "code",
   "execution_count": 11,
   "id": "d339ec06",
   "metadata": {},
   "outputs": [
    {
     "data": {
      "text/plain": [
       "1"
      ]
     },
     "execution_count": 11,
     "metadata": {},
     "output_type": "execute_result"
    }
   ],
   "source": [
    "def firstMissingPositive(nums):\n",
    "    nums = set(nums)\n",
    "    i = 1\n",
    "    while i in nums:\n",
    "        i+= 1\n",
    "    return i\n",
    "\n",
    "nums = [7,8,9,11,12]\n",
    "firstMissingPositive(nums)"
   ]
  },
  {
   "cell_type": "code",
   "execution_count": 16,
   "id": "ba107105",
   "metadata": {},
   "outputs": [
    {
     "data": {
      "text/plain": [
       "13"
      ]
     },
     "execution_count": 16,
     "metadata": {},
     "output_type": "execute_result"
    }
   ],
   "source": [
    "import heapq\n",
    "\n",
    "def kthSmallest(matrix, k) -> int:\n",
    "    minHeap = []\n",
    "    for i in range(len(matrix)):\n",
    "        for j in range(len(matrix[i])):\n",
    "            heapq.heappush(minHeap, matrix[i][j])\n",
    "    return heapq.nsmallest(k, minHeap).pop()\n",
    "\n",
    "\n",
    "matrix = [[1,5,9],[10,11,13],[12,13,15]]\n",
    "k = 8\n",
    "\n",
    "kthSmallest(matrix, k)"
   ]
  },
  {
   "cell_type": "code",
   "execution_count": 17,
   "id": "175e2f29",
   "metadata": {},
   "outputs": [],
   "source": [
    "# Search in Rotated Sorted Array"
   ]
  },
  {
   "cell_type": "code",
   "execution_count": 23,
   "id": "38e77ef0",
   "metadata": {},
   "outputs": [
    {
     "name": "stdout",
     "output_type": "stream",
     "text": [
      "0 6 3\n",
      "0 2 1\n",
      "0 0 0\n"
     ]
    },
    {
     "data": {
      "text/plain": [
       "0"
      ]
     },
     "execution_count": 23,
     "metadata": {},
     "output_type": "execute_result"
    }
   ],
   "source": [
    "def binarySearch(nums, l , h, target):\n",
    "    if l > h :\n",
    "        return -1\n",
    "    mid = l + (h - l) // 2\n",
    "    print(l,h ,mid)\n",
    "    \n",
    "    if nums[mid] == target:\n",
    "        return mid\n",
    "    \n",
    "    if target < nums[mid]:\n",
    "        return binarySearch(nums, l, mid - 1, target)\n",
    "    else:\n",
    "        return binarySearch(nums, mid + 1, h, target)\n",
    "    \n",
    "    \n",
    "\n",
    "def searchRotated(nums,l , h, target):\n",
    "    if l > h :\n",
    "        print(l,h)\n",
    "        return -1\n",
    "    \n",
    "    mid = l + (h - l) // 2\n",
    "    print(l,h ,mid)\n",
    "    \n",
    "    if nums[mid] == target:\n",
    "        return mid\n",
    "    \n",
    "    if target < nums[mid]:\n",
    "        if nums[l] < nums[mid]:\n",
    "            if target >= nums[l]:\n",
    "                return binarySearch(nums, l, mid - 1, target)\n",
    "            else:\n",
    "                return searchRotated(nums, mid + 1, h, target)\n",
    "        else:\n",
    "            return searchRotated(nums, l, mid - 1, target)\n",
    "    else:\n",
    "        if nums[h] > nums[mid]:\n",
    "            if target <= nums[h]:\n",
    "                return binarySearch(nums, mid + 1, h, target)\n",
    "            else:\n",
    "                return searchRotated(nums, l, mid - 1, target)\n",
    "        else:\n",
    "            return searchRotated(nums, mid + 1, h, target)\n",
    "        \n",
    "nums = [4,5,6,7,0,1,2]\n",
    "target = 4\n",
    "\n",
    "searchRotated(nums, 0, len(nums) -1, target)"
   ]
  },
  {
   "cell_type": "code",
   "execution_count": 24,
   "id": "d7dafce9",
   "metadata": {},
   "outputs": [],
   "source": [
    "# Search a 2D Matrix"
   ]
  },
  {
   "cell_type": "code",
   "execution_count": 36,
   "id": "e422e01a",
   "metadata": {},
   "outputs": [
    {
     "name": "stdout",
     "output_type": "stream",
     "text": [
      "0 2 1\n",
      "2 2 2\n",
      "0 3 1\n",
      "2 3 2\n"
     ]
    },
    {
     "data": {
      "text/plain": [
       "False"
      ]
     },
     "execution_count": 36,
     "metadata": {},
     "output_type": "execute_result"
    }
   ],
   "source": [
    "def searchMatrix(matrix, target) -> bool:\n",
    "    h = len(matrix) - 1\n",
    "    l = 0\n",
    "    while l <= h:\n",
    "        mid = l + (h - l) // 2\n",
    "        print(l, h, mid)\n",
    "        if matrix[mid][0] <= target <=  matrix[mid][-1]:\n",
    "            return binarySearch(matrix[mid], 0, len(matrix[mid]) -1 , target) != -1\n",
    "        if target < matrix[mid][0]:\n",
    "            h = mid - 1\n",
    "        elif target > matrix[mid][-1]:\n",
    "            l = mid + 1\n",
    "    return False \n",
    "\n",
    "matrix = [[1,3,5,7],[10,11,16,20],[23,30,34,60]]\n",
    "target = 33\n",
    "\n",
    "searchMatrix(matrix, target)"
   ]
  },
  {
   "cell_type": "code",
   "execution_count": 37,
   "id": "9a3aa1e0",
   "metadata": {},
   "outputs": [],
   "source": [
    "# Find Minimum in Rotated Sorted Array"
   ]
  },
  {
   "cell_type": "code",
   "execution_count": 49,
   "id": "f336f222",
   "metadata": {},
   "outputs": [
    {
     "name": "stdout",
     "output_type": "stream",
     "text": [
      "4 1 3\n",
      "4 5 1\n"
     ]
    },
    {
     "data": {
      "text/plain": [
       "1"
      ]
     },
     "execution_count": 49,
     "metadata": {},
     "output_type": "execute_result"
    }
   ],
   "source": [
    "def findMin(nums) -> int:\n",
    "    l = 0\n",
    "    h = len(nums) - 1\n",
    "    \n",
    "    if nums[h] > nums[l] or h == l:\n",
    "        return nums[0]\n",
    "    \n",
    "    while l<=h:\n",
    "        mid = l + ( h - l ) // 2\n",
    "        print(nums[l],nums[mid],nums[h])\n",
    "        \n",
    "        if nums[mid] > nums[mid + 1]:\n",
    "            return nums[mid + 1]\n",
    "        \n",
    "        if nums[mid + 1] > nums[h]:\n",
    "            l = mid + 1\n",
    "        else:\n",
    "            h = mid \n",
    "    return -1\n",
    "    \n",
    "nums = [4,5,1,2,3]\n",
    "\n",
    "\n",
    "findMin(nums)"
   ]
  },
  {
   "cell_type": "code",
   "execution_count": 50,
   "id": "49f19ca8",
   "metadata": {},
   "outputs": [],
   "source": [
    "# Median of Two Sorted Arrays"
   ]
  },
  {
   "cell_type": "code",
   "execution_count": 68,
   "id": "6b25010e",
   "metadata": {},
   "outputs": [
    {
     "ename": "IndentationError",
     "evalue": "unindent does not match any outer indentation level (<tokenize>, line 5)",
     "output_type": "error",
     "traceback": [
      "\u001b[1;36m  File \u001b[1;32m\"<tokenize>\"\u001b[1;36m, line \u001b[1;32m5\u001b[0m\n\u001b[1;33m    x = len(num1)\u001b[0m\n\u001b[1;37m    ^\u001b[0m\n\u001b[1;31mIndentationError\u001b[0m\u001b[1;31m:\u001b[0m unindent does not match any outer indentation level\n"
     ]
    }
   ],
   "source": [
    "\n",
    "\n",
    "def findMedianSortedArrays(num1, num2) -> float:\n",
    "        if len(num2) < len(num1):\n",
    "        num1, num2 = num2, num1\n",
    "\n",
    "    x = len(num1)\n",
    "    y = len(num2)\n",
    "\n",
    "    l = 0\n",
    "    h = x\n",
    "\n",
    "    midOfMerged = (x + y + 1) // 2\n",
    "\n",
    "    while l <= h:\n",
    "        mid = (h + l) // 2\n",
    "        print(l, mid, h, midOfMerged)\n",
    "\n",
    "        leftUp = num1[mid - 1] if mid > 0 else float(\"-inf\")\n",
    "        leftDown = num2[midOfMerged - mid - 1] if midOfMerged - mid > 0 else float(\"-inf\")\n",
    "\n",
    "        rightUp = num1[mid] if mid < x else float(\"inf\")\n",
    "        rightDown = num2[midOfMerged - mid] if midOfMerged - mid < y else float(\"inf\")\n",
    "\n",
    "\n",
    "        if leftUp < rightDown and leftDown < rightUp:\n",
    "            if (x + y) % 2 == 0:\n",
    "                return (max(leftUp, leftDown) + min(rightDown, rightUp)) / 2\n",
    "            else:\n",
    "                return max(leftUp, leftDown)\n",
    "        elif leftUp > leftDown:\n",
    "            h = mid - 1\n",
    "        else:\n",
    "            l = mid + 1\n",
    "    return 0\n",
    "\n",
    "\n",
    "nums1 = [1,3]\n",
    "nums2 = [2]\n",
    "\n",
    "findMedianSortedArrays(nums1, nums2)"
   ]
  },
  {
   "cell_type": "code",
   "execution_count": null,
   "id": "6c1e64bf",
   "metadata": {},
   "outputs": [],
   "source": []
  }
 ],
 "metadata": {
  "kernelspec": {
   "display_name": "Python 3 (ipykernel)",
   "language": "python",
   "name": "python3"
  },
  "language_info": {
   "codemirror_mode": {
    "name": "ipython",
    "version": 3
   },
   "file_extension": ".py",
   "mimetype": "text/x-python",
   "name": "python",
   "nbconvert_exporter": "python",
   "pygments_lexer": "ipython3",
   "version": "3.9.9"
  }
 },
 "nbformat": 4,
 "nbformat_minor": 5
}
