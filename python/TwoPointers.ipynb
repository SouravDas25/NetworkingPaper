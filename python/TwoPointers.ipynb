{
 "cells": [
  {
   "cell_type": "code",
   "execution_count": 2,
   "metadata": {},
   "outputs": [],
   "source": [
    "# Squaring a sorted array"
   ]
  },
  {
   "cell_type": "code",
   "execution_count": 9,
   "metadata": {},
   "outputs": [
    {
     "data": {
      "text/plain": [
       "[36, 25, 9, 4, 1, 1, 0]"
      ]
     },
     "execution_count": 9,
     "metadata": {},
     "output_type": "execute_result"
    }
   ],
   "source": [
    "\n",
    "array = [-6, -3, -1, 0, 1, 2, 5 ]\n",
    "\n",
    "def squaringArray(array):\n",
    "    i = 0\n",
    "    j = len(array) - 1\n",
    "    output = []\n",
    "    while i <= j:\n",
    "        if abs(array[i]) > abs(array[j]) :\n",
    "            output.append(array[i] ** 2 )\n",
    "            i += 1\n",
    "        else:\n",
    "            output.append(array[j] ** 2 )\n",
    "            j -= 1\n",
    "    return output\n",
    "\n",
    "squaringArray(array)"
   ]
  },
  {
   "cell_type": "code",
   "execution_count": 10,
   "metadata": {},
   "outputs": [],
   "source": [
    "# Triplets that sum to zero"
   ]
  },
  {
   "cell_type": "code",
   "execution_count": 13,
   "metadata": {},
   "outputs": [
    {
     "data": {
      "text/plain": [
       "[(-3, 1, 2), (-1, 0, 1)]"
      ]
     },
     "execution_count": 13,
     "metadata": {},
     "output_type": "execute_result"
    }
   ],
   "source": [
    "arr = [0, -1, 2, -3, 1]\n",
    "\n",
    "def findTriplets(arr):\n",
    "    triplets = []\n",
    "    arr.sort()\n",
    "    for i in range(len(arr)):\n",
    "        l = i + 1\n",
    "        r = len(arr) - 1\n",
    "        while l < r:\n",
    "            s = arr[i] + arr[l] + arr[r]\n",
    "            if s == 0:\n",
    "                triplets.append((arr[i], arr[l], arr[r]))\n",
    "                break\n",
    "            elif s < 0:\n",
    "                l += 1\n",
    "            else:\n",
    "                r -= 1\n",
    "    return triplets\n",
    "\n",
    "findTriplets(arr)\n"
   ]
  },
  {
   "cell_type": "code",
   "execution_count": 14,
   "metadata": {},
   "outputs": [],
   "source": [
    "# Check if two strings after processing backspace character are equal or not"
   ]
  },
  {
   "cell_type": "code",
   "execution_count": 25,
   "metadata": {},
   "outputs": [
    {
     "data": {
      "text/plain": [
       "(True, 'geeks', 'geeks')"
      ]
     },
     "execution_count": 25,
     "metadata": {},
     "output_type": "execute_result"
    }
   ],
   "source": [
    "from collections import deque\n",
    "\n",
    "s1= \"geee#e#ks\"\n",
    "s2 = \"gee##eeks\"\n",
    "\n",
    "def removeBackspace(s1):\n",
    "    ns1 = deque()\n",
    "    for i,c in enumerate(s1):\n",
    "        if c == \"#\" and i != 0:\n",
    "            ns1.pop()\n",
    "            continue\n",
    "        if c != \"#\" :\n",
    "            ns1.append(c)\n",
    "            \n",
    "    return \"\".join(ns1)\n",
    "\n",
    "def compareStrings(s1, s2):\n",
    "    ns1 = removeBackspace(s1)\n",
    "    ns2 = removeBackspace(s2)\n",
    "    return ns1 == ns2, ns1, ns2\n",
    "\n",
    "compareStrings(s1,s2)"
   ]
  },
  {
   "cell_type": "code",
   "execution_count": 26,
   "metadata": {},
   "outputs": [],
   "source": [
    "# palindrome check"
   ]
  },
  {
   "cell_type": "code",
   "execution_count": 30,
   "metadata": {},
   "outputs": [
    {
     "data": {
      "text/plain": [
       "True"
      ]
     },
     "execution_count": 30,
     "metadata": {},
     "output_type": "execute_result"
    }
   ],
   "source": [
    "\n",
    "\n",
    "s1 = \"abcdcba\"\n",
    "\n",
    "def checkPalindrome(s1):\n",
    "    stack = []\n",
    "    hl = int(len(s1)/2)\n",
    "    for i in range(hl + 1):\n",
    "        stack.append(s1[i])\n",
    "    \n",
    "    for i in range(hl, len(s1)):\n",
    "        c = stack.pop()\n",
    "        if s1[i] != c:\n",
    "            return False\n",
    "    return True\n",
    "\n",
    "\n",
    "\n",
    "checkPalindrome(s1)"
   ]
  },
  {
   "cell_type": "code",
   "execution_count": 31,
   "metadata": {},
   "outputs": [],
   "source": [
    "# Cycle in a Circular Array"
   ]
  },
  {
   "cell_type": "code",
   "execution_count": 36,
   "metadata": {},
   "outputs": [
    {
     "name": "stdout",
     "output_type": "stream",
     "text": [
      "{0: [(2, '+')], 1: [(0, '-')], 2: [(3, '+')], 3: [(0, '+')], 4: [(1, '+')]}\n",
      "True\n",
      "{0: [(1, '+')], 1: [(2, '+')], 2: [(3, '+')], 3: [(4, '+')], 4: [(5, '+')], 5: [(0, '+')]}\n",
      "True\n",
      "{0: [(1, '+')], 1: [(1, '+')]}\n"
     ]
    },
    {
     "data": {
      "text/plain": [
       "False"
      ]
     },
     "execution_count": 36,
     "metadata": {},
     "output_type": "execute_result"
    }
   ],
   "source": [
    "\n",
    "\n",
    "def dfs(e, graph, visited, direction):\n",
    "    visited.add(e)\n",
    "    for node in graph[e]:\n",
    "        vertex, path = node\n",
    "        if direction is None:\n",
    "            direction = path\n",
    "        if path != direction:\n",
    "            return False\n",
    "        if e == vertex:\n",
    "            return False\n",
    "        if vertex in visited:\n",
    "            return True\n",
    "        cycle = dfs(vertex, graph, visited, direction)\n",
    "        if cycle:\n",
    "            return cycle\n",
    "\n",
    "\n",
    "def circularCheck(arr):\n",
    "    graph = {}\n",
    "\n",
    "    for i in range(len(arr)):\n",
    "        index = (i + arr[i]) % len(arr)\n",
    "        if i not in graph:\n",
    "            graph[i] = []\n",
    "        graph[i].append((index, \"+\" if arr[i] > 0 else \"-\"))\n",
    "\n",
    "    print(graph)\n",
    "\n",
    "    for e in graph:\n",
    "        visited = set()\n",
    "        if dfs(e, graph, visited, None):\n",
    "            return True\n",
    "\n",
    "    return False\n",
    "\n",
    "arr = [2, -1, 1, 2, 2]\n",
    "print(circularCheck(arr))\n",
    "\n",
    "arr = [1, 1, 1, 1, 1, 1]\n",
    "print(circularCheck(arr))\n",
    "\n",
    "arr = [1,2]\n",
    "circularCheck(arr)"
   ]
  },
  {
   "cell_type": "code",
   "execution_count": 37,
   "metadata": {},
   "outputs": [],
   "source": [
    "# Intervals Intersection"
   ]
  },
  {
   "cell_type": "code",
   "execution_count": 63,
   "metadata": {
    "scrolled": false
   },
   "outputs": [
    {
     "name": "stdout",
     "output_type": "stream",
     "text": [
      "0 0 [0, 4] [1, 5]\n",
      "1 0 [8, 10] [1, 5]\n",
      "1 1 [8, 10] [8, 12]\n",
      "2 1 [13, 20] [8, 12]\n",
      "2 2 [13, 20] [15, 24]\n",
      "3 2 [21, 25] [15, 24]\n",
      "3 3 [21, 25] [25, 26]\n"
     ]
    },
    {
     "data": {
      "text/plain": [
       "[(1, 4), (8, 10), (15, 20), (21, 24), (25, 25)]"
      ]
     },
     "execution_count": 63,
     "metadata": {},
     "output_type": "execute_result"
    }
   ],
   "source": [
    "\n",
    "\n",
    "\n",
    "def findIntervals(arr1, arr2):\n",
    "    intervals = []\n",
    "    i = j = 0\n",
    "    while i < len(arr1) and j < len(arr2):\n",
    "        e1 = arr1[i]\n",
    "        e2 = arr2[j]\n",
    "        print(i,j,e1,e2)\n",
    "        if e1[1] >= e2[0] and e2[1] > e1[0]:\n",
    "            low = max(e1[0], e2[0])\n",
    "            high = min(e1[1], e2[1])\n",
    "            intervals.append((low,high))\n",
    "        if e1[1] < e2[1]:\n",
    "            i += 1\n",
    "        else:\n",
    "            j += 1\n",
    "    return intervals\n",
    "\n",
    "\n",
    "arr1 = [[0, 4], [8, 10], [13, 20], [21, 25]]\n",
    "arr2 = [[1, 5], [8, 12], [15, 24], [25, 26]]\n",
    "\n",
    "findIntervals(arr1, arr2)\n",
    "\n"
   ]
  },
  {
   "cell_type": "code",
   "execution_count": 43,
   "metadata": {},
   "outputs": [],
   "source": [
    "# maximum cpu load"
   ]
  },
  {
   "cell_type": "code",
   "execution_count": 67,
   "metadata": {},
   "outputs": [
    {
     "name": "stdout",
     "output_type": "stream",
     "text": [
      "13\n"
     ]
    }
   ],
   "source": [
    "\n",
    "import heapq\n",
    "\n",
    "class job:\n",
    " \n",
    "    # Constructor of the Job\n",
    "    def __init__(self, start,\n",
    "                 end, cpu_load):\n",
    "        self.start = start\n",
    "        self.end = end\n",
    "        self.cpu_load = cpu_load\n",
    " \n",
    "    # Operator overloading for the\n",
    "    # Object that is Job\n",
    "    def __lt__(self, other):\n",
    " \n",
    "        # min heap based on job.end\n",
    "        return self.end < other.end\n",
    "\n",
    "def maximumCpuLoad(jobs):\n",
    "    jobs.sort(key = lambda x: x.start)\n",
    "    \n",
    "    maxLoad = currentLoad = 0\n",
    "    min_heap = []\n",
    "    \n",
    "    for j in jobs:\n",
    "        \n",
    "        while len(min_heap) > 0 and min_heap[0].end < j.start:\n",
    "            currentLoad -= min_heap[0].cpu_load\n",
    "            heapq.heappop(min_heap)\n",
    "            \n",
    "        heapq.heappush(min_heap, j)\n",
    "        currentLoad += j.cpu_load\n",
    "        maxLoad = max(maxLoad, currentLoad)\n",
    "        \n",
    "    return maxLoad\n",
    "\n",
    "\n",
    "jobs = [job(1, 4, 3), job(2, 5, 4), job(2, 9, 6)] \n",
    "\n",
    "print(maximumCpuLoad(jobs))\n",
    "\n",
    "# jobs =[[6, 7, 10], [2, 4, 11], [8, 12, 15]] \n",
    "\n",
    "# print(maximumCpuLoad(jobs))\n"
   ]
  },
  {
   "cell_type": "code",
   "execution_count": 68,
   "metadata": {},
   "outputs": [],
   "source": [
    "# Cycle sort"
   ]
  },
  {
   "cell_type": "code",
   "execution_count": 71,
   "metadata": {},
   "outputs": [
    {
     "data": {
      "text/plain": [
       "[1, 2, 3, 4, 5, 6, 7, 8, 9]"
      ]
     },
     "execution_count": 71,
     "metadata": {},
     "output_type": "execute_result"
    }
   ],
   "source": [
    "arr = [5, 1, 2,9,6,8,7,4,3 ]\n",
    "\n",
    "def cyclicSort(arr):\n",
    "    for i in range(len(arr)):\n",
    "        index = i\n",
    "        num = arr[index]\n",
    "        while index != num - 1:\n",
    "            arr[num - 1], arr[i] = arr[i], arr[num - 1]\n",
    "            num = arr[index]\n",
    "    return arr\n",
    "\n",
    "cyclicSort(arr)"
   ]
  },
  {
   "cell_type": "code",
   "execution_count": 72,
   "metadata": {},
   "outputs": [],
   "source": [
    "# Missing Number "
   ]
  },
  {
   "cell_type": "code",
   "execution_count": 74,
   "metadata": {},
   "outputs": [
    {
     "data": {
      "text/plain": [
       "2"
      ]
     },
     "execution_count": 74,
     "metadata": {},
     "output_type": "execute_result"
    }
   ],
   "source": [
    "arr = [3,0,1]\n",
    "\n",
    "def missingNumber(arr):\n",
    "    for i in range(len(arr)):\n",
    "        index = i\n",
    "        num = arr[index]\n",
    "        while index != num and num < len(arr):\n",
    "            arr[num], arr[i] = arr[i], arr[num]\n",
    "            num = arr[index]\n",
    "    \n",
    "    for i,n in enumerate(arr):\n",
    "        if i != n :\n",
    "            return i\n",
    "    return None\n",
    "\n",
    "missingNumber(arr)"
   ]
  },
  {
   "cell_type": "code",
   "execution_count": 75,
   "metadata": {},
   "outputs": [],
   "source": [
    "# Duplicate Number "
   ]
  },
  {
   "cell_type": "code",
   "execution_count": 90,
   "metadata": {},
   "outputs": [
    {
     "data": {
      "text/plain": [
       "3"
      ]
     },
     "execution_count": 90,
     "metadata": {},
     "output_type": "execute_result"
    }
   ],
   "source": [
    "arr = [3,0,1,2,3,4]\n",
    "\n",
    "def duplicateNumber(arr):\n",
    "    for i in range(len(arr)):\n",
    "        index = i\n",
    "        num = arr[index]\n",
    "        while index != num and num < len(arr) :\n",
    "            \n",
    "            if arr[num] == num:\n",
    "                return num\n",
    "            \n",
    "            arr[num], arr[index] = arr[index], arr[num]\n",
    "            num = arr[index]\n",
    "    return None\n",
    "\n",
    "duplicateNumber(arr)"
   ]
  },
  {
   "cell_type": "code",
   "execution_count": 91,
   "metadata": {},
   "outputs": [],
   "source": [
    "# All Duplicate Number "
   ]
  },
  {
   "cell_type": "code",
   "execution_count": 95,
   "metadata": {},
   "outputs": [
    {
     "name": "stdout",
     "output_type": "stream",
     "text": [
      "[0, 1, 2, 3, 4, 5, 4, 3, 5]\n"
     ]
    },
    {
     "data": {
      "text/plain": [
       "{3, 4, 5}"
      ]
     },
     "execution_count": 95,
     "metadata": {},
     "output_type": "execute_result"
    }
   ],
   "source": [
    "arr = [3,0,1,2,3,4,4,5,5]\n",
    "\n",
    "def allDuplicateNumber(arr):\n",
    "    duplicates = set()\n",
    "    for i in range(len(arr)):\n",
    "        index = i\n",
    "        num = arr[index]\n",
    "        while index != num and num < len(arr) :\n",
    "            \n",
    "            if arr[num] == num:\n",
    "                duplicates.add(num)\n",
    "                break\n",
    "            \n",
    "            arr[num], arr[index] = arr[index], arr[num]\n",
    "            num = arr[index]\n",
    "    print(arr)\n",
    "    return duplicates\n",
    "\n",
    "allDuplicateNumber(arr)"
   ]
  },
  {
   "cell_type": "code",
   "execution_count": 96,
   "metadata": {},
   "outputs": [],
   "source": [
    "# All Issues in Cyclic Number "
   ]
  },
  {
   "cell_type": "code",
   "execution_count": 98,
   "metadata": {},
   "outputs": [
    {
     "name": "stdout",
     "output_type": "stream",
     "text": [
      "[0, 1, 3, 3, 4, 5, 4, 5, -1]\n"
     ]
    },
    {
     "data": {
      "text/plain": [
       "{-1, 2, 3, 4, 5, 6, 7, 8}"
      ]
     },
     "execution_count": 98,
     "metadata": {},
     "output_type": "execute_result"
    }
   ],
   "source": [
    "arr = [3,0,1,3,4,4,5,5]\n",
    "\n",
    "def allIssues(arr):\n",
    "    issues = set()\n",
    "    for i in range(len(arr)):\n",
    "        index = i\n",
    "        num = arr[index]\n",
    "        while index != num and num < len(arr) :\n",
    "            \n",
    "            if arr[num] == num:\n",
    "                issues.add(num)\n",
    "                break\n",
    "            \n",
    "            arr[num], arr[index] = arr[index], arr[num]\n",
    "            num = arr[index]\n",
    "            \n",
    "    for i,n in enumerate(arr):\n",
    "        if i != n :\n",
    "            issues.add(i)\n",
    "    \n",
    "    print(arr)\n",
    "    return issues\n",
    "\n",
    "allIssues(arr)"
   ]
  },
  {
   "cell_type": "code",
   "execution_count": 101,
   "metadata": {},
   "outputs": [
    {
     "name": "stdout",
     "output_type": "stream",
     "text": [
      "[0, 1, -1, 3]\n"
     ]
    },
    {
     "data": {
      "text/plain": [
       "2"
      ]
     },
     "execution_count": 101,
     "metadata": {},
     "output_type": "execute_result"
    }
   ],
   "source": [
    "arr = [3,0,1,-1]\n",
    "\n",
    "def smallestMissingPositiveNumber(arr):\n",
    "    for i in range(len(arr)):\n",
    "        index = i\n",
    "        num = arr[index]\n",
    "        while index != num and num < len(arr) and num >= 0 :\n",
    "            arr[num], arr[index] = arr[index], arr[num]\n",
    "            num = arr[index]\n",
    "            \n",
    "    print(arr)\n",
    "    for i,n in enumerate(arr):\n",
    "        if i != n :\n",
    "            return i\n",
    "    \n",
    "    \n",
    "    return None\n",
    "\n",
    "smallestMissingPositiveNumber(arr)"
   ]
  },
  {
   "cell_type": "code",
   "execution_count": 1,
   "metadata": {},
   "outputs": [
    {
     "data": {
      "text/plain": [
       "4"
      ]
     },
     "execution_count": 1,
     "metadata": {},
     "output_type": "execute_result"
    }
   ],
   "source": [
    "def search(nums, target) -> int:\n",
    "    l = 0\n",
    "    h = len(nums) - 1\n",
    "    while l < h:\n",
    "        mid = l + ( h - l ) // 2\n",
    "        if nums[mid] == target:\n",
    "            return mid\n",
    "        if nums[mid] < target:\n",
    "            l = mid + 1\n",
    "        else:\n",
    "            h = mid - 1\n",
    "    return -1\n",
    "\n",
    "\n",
    " \n",
    "\n",
    "nums = [-1,0,3,5,9,12]\n",
    "target = 9\n",
    "search(nums, target)"
   ]
  },
  {
   "cell_type": "code",
   "execution_count": 3,
   "metadata": {},
   "outputs": [
    {
     "data": {
      "text/plain": [
       "[1, 0]"
      ]
     },
     "execution_count": 3,
     "metadata": {},
     "output_type": "execute_result"
    }
   ],
   "source": [
    "from typing import List\n",
    "def twoSum(numbers: List[int], target: int) -> List[int]:\n",
    "    diff = {}\n",
    "    for i in range(len(numbers)):\n",
    "        d = target - numbers[i]\n",
    "        if d in diff and diff[d] != i:\n",
    "            return [i+1, diff[d]+1]\n",
    "        diff[numbers[i]] = i\n",
    "    return []\n",
    "\n",
    "numbers = [2,7,11,15]\n",
    "target = 9\n",
    "twoSum(numbers, target)"
   ]
  },
  {
   "cell_type": "code",
   "execution_count": 15,
   "metadata": {},
   "outputs": [
    {
     "data": {
      "text/plain": [
       "{(-1, -1, 2), (-1, 0, 1)}"
      ]
     },
     "execution_count": 15,
     "metadata": {},
     "output_type": "execute_result"
    }
   ],
   "source": [
    "from collections import defaultdict\n",
    "\n",
    "def threeSum(nums: List[int]) -> List[List[int]]:\n",
    "    d = {}\n",
    "    nums.sort()\n",
    "    for i, n in enumerate(nums):\n",
    "        d[n] = i\n",
    "    output = set()\n",
    "    for i in range(len(nums)):\n",
    "        for j in range(i + 1,len(nums)):\n",
    "            z = -(nums[i] + nums[j])\n",
    "            if z in d and d[z] not in {i, j}:\n",
    "                if z < nums[i] :\n",
    "                    output.add((z, nums[i], nums[j]))\n",
    "                elif z < nums[j]:\n",
    "                    output.add((nums[i], z, nums[j]))\n",
    "                else:\n",
    "                    output.add((nums[i], nums[j], z))\n",
    "\n",
    "    return output\n",
    "            \n",
    "\n",
    "nums = [-1,0,1,2,-1,-4]\n",
    "threeSum(nums)"
   ]
  },
  {
   "cell_type": "code",
   "execution_count": 18,
   "metadata": {},
   "outputs": [
    {
     "data": {
      "text/plain": [
       "49"
      ]
     },
     "execution_count": 18,
     "metadata": {},
     "output_type": "execute_result"
    }
   ],
   "source": [
    "\n",
    "def maxArea(height: List[int]) -> int:\n",
    "    i = 0\n",
    "    j = len(height) -1\n",
    "    maxArea = 0\n",
    "    while i < j :\n",
    "        area = min(height[i], height[j]) * abs(i-j)\n",
    "        maxArea = max(maxArea, area)\n",
    "        if height[i] <= height[j]:\n",
    "            i += 1\n",
    "        else:\n",
    "            j -= 1\n",
    "    return maxArea\n",
    "\n",
    "\n",
    "height = [1,8,6,2,5,4,8,3,7]\n",
    "maxArea(height)"
   ]
  },
  {
   "cell_type": "code",
   "execution_count": 30,
   "metadata": {},
   "outputs": [
    {
     "name": "stdout",
     "output_type": "stream",
     "text": [
      "[3, 3, 3, 3, 3, 3, 3, 3, 2, 2, 2, 1] [0, 1, 1, 2, 2, 2, 2, 3, 3, 3, 3, 3]\n"
     ]
    },
    {
     "data": {
      "text/plain": [
       "6"
      ]
     },
     "execution_count": 30,
     "metadata": {},
     "output_type": "execute_result"
    }
   ],
   "source": [
    "\n",
    "def trap(height: List[int]) -> int:\n",
    "    rmh = [0] * len(height)\n",
    "    lmh = [0] * len(height)\n",
    "    lmax = rmax = 0\n",
    "    for i in range(len(height)):\n",
    "        rl = len(height) - 1 -i\n",
    "        rmax = rmh[rl] = max(rmax, height[rl] )\n",
    "        lmax = lmh[i] = max(lmax, height[i] )\n",
    "#     print(rmh, lmh)\n",
    "    water = 0\n",
    "    for i in range(len(height)):\n",
    "        water += min(rmh[i], lmh[i]) - height[i]\n",
    "    return water\n",
    "\n",
    "\n",
    "height = [0,1,0,2,1,0,1,3,2,1,2,1]\n",
    "trap(height)"
   ]
  },
  {
   "cell_type": "code",
   "execution_count": 7,
   "metadata": {},
   "outputs": [
    {
     "data": {
      "text/plain": [
       "3"
      ]
     },
     "execution_count": 7,
     "metadata": {},
     "output_type": "execute_result"
    }
   ],
   "source": [
    "def lengthOfLongestSubstring(s: str) -> int:\n",
    "    i = j = 0\n",
    "    window = set()\n",
    "    maxLength = 0\n",
    "    while i < len(s):\n",
    "        if s[i] not in window:\n",
    "            window.add(s[i])\n",
    "        else:\n",
    "            while s[i] in window:\n",
    "                window.remove(s[j])\n",
    "                j += 1\n",
    "            window.add(s[i])\n",
    "        maxLength = max(maxLength, len(window))\n",
    "        i += 1\n",
    "#         print(window, i , j)\n",
    "    return maxLength\n",
    "\n",
    "s = \"abcabcbb\"\n",
    "lengthOfLongestSubstring(s)"
   ]
  },
  {
   "cell_type": "code",
   "execution_count": 16,
   "metadata": {},
   "outputs": [
    {
     "data": {
      "text/plain": [
       "4"
      ]
     },
     "execution_count": 16,
     "metadata": {},
     "output_type": "execute_result"
    }
   ],
   "source": [
    "from collections import defaultdict\n",
    "\n",
    "\n",
    "def characterReplacement(s: str, k: int) -> int:\n",
    "    i = j = 0\n",
    "    chDict = defaultdict(lambda: 0)\n",
    "    maxLength = 0\n",
    "    maxFq = 0\n",
    "    while i < len(s) :\n",
    "        chDict[s[i]] += 1\n",
    "        maxFq = max(maxFq, chDict[s[i]])\n",
    "        ws = i - j + 1\n",
    "        opCount = ws - maxFq\n",
    "        if opCount <= k:\n",
    "            maxLength = max(maxLength, ws )\n",
    "        else:\n",
    "            while opCount > k:\n",
    "                chDict[s[j]] -= 1\n",
    "                j += 1\n",
    "                ws = i - j + 1\n",
    "                opCount = ws - maxFq\n",
    "        i += 1\n",
    "    return maxLength\n",
    "\n",
    "\n",
    "\n",
    "\n",
    "\n",
    "s = \"AABABBA\"\n",
    "k = 1\n",
    "characterReplacement(s, k)"
   ]
  },
  {
   "cell_type": "code",
   "execution_count": 51,
   "metadata": {},
   "outputs": [
    {
     "name": "stdout",
     "output_type": "stream",
     "text": [
      "defaultdict(<function checkInclusion.<locals>.<lambda> at 0x0000019E17FD74C0>, {'d': 1, 'c': 1, 'a': 1}) defaultdict(<function checkInclusion.<locals>.<lambda> at 0x0000019E17FD7700>, {'a': 1, 'd': 1, 'c': 1}) True\n"
     ]
    },
    {
     "data": {
      "text/plain": [
       "True"
      ]
     },
     "execution_count": 51,
     "metadata": {},
     "output_type": "execute_result"
    }
   ],
   "source": [
    "def checkInclusion(s1: str, s2: str) -> bool:\n",
    "    if len(s2) < len(s1):\n",
    "        return False\n",
    "    charMap = defaultdict(lambda:0)\n",
    "    for s in s1: \n",
    "        charMap[s] += 1\n",
    "    ws = len(s1)\n",
    "    s2Map = defaultdict(lambda:0)\n",
    "    for i in range(0, ws) :\n",
    "        s2Map[s2[i]] += 1\n",
    "    i = ws\n",
    "    while i < len(s2):\n",
    "        if charMap == s2Map:\n",
    "            return True\n",
    "        leftChar = s2[i]\n",
    "        s2Map[leftChar] += 1\n",
    "        rightChar = s2[i - ws]\n",
    "        s2Map[rightChar] -= 1\n",
    "        if s2Map[rightChar] <= 0:\n",
    "            del s2Map[rightChar]\n",
    "        i += 1\n",
    "        print(s2Map, charMap, charMap == s2Map)\n",
    "    return charMap == s2Map\n",
    "\n",
    "s1 = \"adc\"\n",
    "s2 = \"dcda\"\n",
    "checkInclusion(s1, s2)"
   ]
  },
  {
   "cell_type": "code",
   "execution_count": 83,
   "metadata": {},
   "outputs": [
    {
     "name": "stdout",
     "output_type": "stream",
     "text": [
      "b 1 inf defaultdict(<function minWindow.<locals>.<lambda> at 0x0000019E1804BE50>, {'b': 1})\n",
      "b 1 inf defaultdict(<function minWindow.<locals>.<lambda> at 0x0000019E1804BE50>, {'b': 2})\n",
      "a 1 2 defaultdict(<function minWindow.<locals>.<lambda> at 0x0000019E1804BE50>, {'a': 1, 'b': 0})\n"
     ]
    },
    {
     "data": {
      "text/plain": [
       "'ba'"
      ]
     },
     "execution_count": 83,
     "metadata": {},
     "output_type": "execute_result"
    }
   ],
   "source": [
    "def minWindow(s: str, t: str) -> str:\n",
    "    tdic = defaultdict(lambda:0)\n",
    "    for ch in t:\n",
    "        tdic[ch] += 1\n",
    "    i = j = 0\n",
    "    window = defaultdict(lambda:0)\n",
    "    minSize = float(\"inf\")\n",
    "    midx = [0,0]\n",
    "    matches = 0\n",
    "    while i < len(s):\n",
    "        window[s[i]] += 1\n",
    "        if s[i] in tdic and window[s[i]] <= tdic[s[i]]:\n",
    "            matches += 1\n",
    "        while matches >= len(t):\n",
    "            if i-j+1 < minSize:\n",
    "                minSize = i-j+1\n",
    "                midx = [j, i+1]\n",
    "            window[s[j]] -= 1\n",
    "            if window[s[j]] <= 0:\n",
    "                del window[s[j]]\n",
    "            if s[j] in tdic and window[s[j]] < tdic[s[j]]:\n",
    "                matches -= 1\n",
    "            j += 1\n",
    "        print(s[i], matches, minSize, window)\n",
    "        i+=1\n",
    "    return s[midx[0]:midx[1]]\n",
    "\n",
    "\n",
    "s = \"bba\"\n",
    "t = \"ab\"\n",
    "minWindow(s,t)"
   ]
  },
  {
   "cell_type": "code",
   "execution_count": 130,
   "metadata": {},
   "outputs": [
    {
     "data": {
      "text/plain": [
       "[3, 3, 5, 5, 6, 7]"
      ]
     },
     "execution_count": 130,
     "metadata": {},
     "output_type": "execute_result"
    }
   ],
   "source": [
    "from collections import deque\n",
    "import heapq\n",
    "from typing import List\n",
    "\n",
    "class MaxQueue(object):\n",
    "    def __init__(self):\n",
    "        self.maxs, self.nums = deque(), deque()\n",
    "\n",
    "    def push(self, num):\n",
    "        self.nums.append(num)\n",
    "        while self.maxs and self.maxs[-1] < num:\n",
    "            self.maxs.pop()\n",
    "        self.maxs.append(num)\n",
    "\n",
    "    def pop(self):\n",
    "        val = self.nums.popleft()\n",
    "        if val == self.maxs[0]:\n",
    "            self.maxs.popleft()\n",
    "        return val\n",
    "\n",
    "    def getMax(self):\n",
    "        return self.maxs[0]\n",
    "\n",
    "    def empty(self):\n",
    "        return len(self.nums) != 0\n",
    "\n",
    "def maxSlidingWindow(nums: List[int], k: int) -> List[int]:\n",
    "    maxQueue = MaxQueue()\n",
    "    for i in range(0,k):\n",
    "        maxQueue.push(nums[i])\n",
    "    output = [maxQueue.getMax()]\n",
    "    i = k\n",
    "    while i < len(nums):\n",
    "        maxQueue.pop()\n",
    "        maxQueue.push(nums[i])\n",
    "        output.append(maxQueue.getMax())\n",
    "        i+= 1\n",
    "    return output\n",
    "\n",
    "nums = [1,3,-1,-3,5,3,6,7]\n",
    "k = 3\n",
    "maxSlidingWindow(nums, k)"
   ]
  },
  {
   "cell_type": "code",
   "execution_count": 118,
   "metadata": {
    "scrolled": false
   },
   "outputs": [
    {
     "name": "stdout",
     "output_type": "stream",
     "text": [
      "0b11\n",
      "0b0\n"
     ]
    },
    {
     "data": {
      "text/plain": [
       "True"
      ]
     },
     "execution_count": 118,
     "metadata": {},
     "output_type": "execute_result"
    }
   ],
   "source": [
    "def hasAllCodes(s: str, k: int) -> bool:\n",
    "    if len(s) < k:\n",
    "        return False\n",
    "    nsum = 0\n",
    "    rc = 2 ** k\n",
    "    mask = rc - 1\n",
    "    print(bin(mask))\n",
    "    for i in range(k):\n",
    "        nsum = (nsum << 1) | int(s[i])\n",
    "    print(bin(nsum))\n",
    "    i = k\n",
    "    visited = set([nsum])\n",
    "    cc = 1 \n",
    "    while i < len(s):\n",
    "        nsum = mask & ((nsum << 1) | int(s[i]))\n",
    "        if nsum not in visited:\n",
    "            cc += 1\n",
    "            visited.add(nsum)\n",
    "        if cc == rc:\n",
    "            return True\n",
    "        i+=1\n",
    "    return cc == rc\n",
    "        \n",
    "        \n",
    "\n",
    "\n",
    "s = \"00110110\"\n",
    "k = 2\n",
    "hasAllCodes(s,k)"
   ]
  },
  {
   "cell_type": "code",
   "execution_count": null,
   "metadata": {},
   "outputs": [],
   "source": []
  },
  {
   "cell_type": "code",
   "execution_count": null,
   "metadata": {},
   "outputs": [],
   "source": []
  }
 ],
 "metadata": {
  "kernelspec": {
   "display_name": "Python 3 (ipykernel)",
   "language": "python",
   "name": "python3"
  },
  "language_info": {
   "codemirror_mode": {
    "name": "ipython",
    "version": 3
   },
   "file_extension": ".py",
   "mimetype": "text/x-python",
   "name": "python",
   "nbconvert_exporter": "python",
   "pygments_lexer": "ipython3",
   "version": "3.9.9"
  }
 },
 "nbformat": 4,
 "nbformat_minor": 1
}
