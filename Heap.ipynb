{
 "cells": [
  {
   "cell_type": "code",
   "execution_count": 48,
   "id": "f98f8a4c",
   "metadata": {},
   "outputs": [
    {
     "data": {
      "text/plain": [
       "[1, 1, 2, 3, 4, 4, 5, 6]"
      ]
     },
     "execution_count": 48,
     "metadata": {},
     "output_type": "execute_result"
    }
   ],
   "source": [
    "import heapq\n",
    "\n",
    "class MaxHeap: \n",
    "    def __init__(self, array = []):\n",
    "        self.heap = array\n",
    "        self.heapify()\n",
    "        \n",
    "    def heapify(self):\n",
    "        self.heap = list(map(lambda x: -x, self.heap))\n",
    "        heapq.heapify(self.heap)\n",
    "\n",
    "    def push(self, item):\n",
    "        heapq.heappush(self.heap, -item)\n",
    "        \n",
    "    def pop(self):\n",
    "        popped = heapq.heappop(self.heap)\n",
    "        return -popped\n",
    "    \n",
    "    def __len__(self):\n",
    "        return len(self.heap)\n",
    "    \n",
    "class NTuple():\n",
    "\n",
    "    def __init__(self, n, ai):\n",
    "        self.n = n\n",
    "        self.ai = ai\n",
    "\n",
    "    def __lt__(self, kst):\n",
    "        return self.n.__lt__(kst.n)\n",
    "\n",
    "    def __str__(self) -> str:\n",
    "        return str(self.n)\n",
    "\n",
    "    def __repr__(self) -> str:\n",
    "        return str(self.n)\n",
    "    \n",
    "    \n",
    "def mergeKLists(lists):\n",
    "    k = len(lists)\n",
    "    merged = []\n",
    "    minHeap = []\n",
    "    \n",
    "    for i in range(len(lists)):\n",
    "        heapq.heappush(minHeap, NTuple(lists[i][0], i))\n",
    "        \n",
    "    pointers = [0] * len(lists)\n",
    "        \n",
    "    while len(minHeap) > 0:\n",
    "        ntuple = heapq.heappop(minHeap)\n",
    "        merged.append(ntuple.n)\n",
    "        \n",
    "        ai = ntuple.ai\n",
    "        vi = pointers[ai] = pointers[ai] + 1\n",
    "        \n",
    "        if vi < len(lists[ai]) :\n",
    "            heapq.heappush(minHeap, NTuple(lists[ai][vi], ai))\n",
    "        \n",
    "    return merged\n",
    "\n",
    "\n",
    "lists = [[1,4,5],[1,3,4],[2,6]]\n",
    "\n",
    "mergeKLists(lists)\n"
   ]
  },
  {
   "cell_type": "code",
   "execution_count": 15,
   "id": "38b3a603",
   "metadata": {},
   "outputs": [
    {
     "name": "stdout",
     "output_type": "stream",
     "text": [
      "defaultdict(<function topKFrequent.<locals>.<lambda> at 0x0000024FD70D11F0>, {3: 3, 2: 4, 1: 4, 4: 2, 5: 4, 6: 3, 7: 3, 8: 2, 10: 1, 11: 1})\n",
      "defaultdict(<function topKFrequent.<locals>.<lambda> at 0x0000024FD70D1670>, {3: [3, 6, 7], 4: [2, 1, 5], 2: [4, 8], 1: [10, 11]})\n"
     ]
    },
    {
     "data": {
      "text/plain": [
       "[2, 1, 5, 3, 6, 7, 4, 8, 10, 11]"
      ]
     },
     "execution_count": 15,
     "metadata": {},
     "output_type": "execute_result"
    }
   ],
   "source": [
    "from collections import defaultdict\n",
    "import heapq\n",
    "\n",
    "def topKFrequent( nums, k):\n",
    "    fmap = defaultdict(lambda: 0)\n",
    "    for i in nums:\n",
    "        fmap[i] += 1\n",
    "    print(fmap)\n",
    "    maxHeap = []\n",
    "    kmap = defaultdict(lambda: [])\n",
    "    for val in fmap:\n",
    "        count = fmap[val]\n",
    "        if count not in kmap:\n",
    "            heapq.heappush(maxHeap, count*-1)\n",
    "        kmap[count].append(val)\n",
    "    print(kmap)\n",
    "    output = []\n",
    "    while k > 0:\n",
    "        count = heapq.heappop(maxHeap) * -1\n",
    "        for value in kmap[count]:\n",
    "            if k > 0:\n",
    "                k -= 1\n",
    "                output.append(value)\n",
    "    return output\n",
    "\n",
    "nums = [3,2,3,1,2,4,5,5,6,7,7,8,2,3,1,1,1,10,11,5,6,2,4,7,8,5,6]\n",
    "k = 10\n",
    "\n",
    "topKFrequent(nums, k)"
   ]
  },
  {
   "cell_type": "code",
   "execution_count": 44,
   "id": "1193e309",
   "metadata": {},
   "outputs": [
    {
     "name": "stdout",
     "output_type": "stream",
     "text": [
      "40 nums 40 [-40] []\n",
      "26.0 nums 12 [-12] [40]\n",
      "16 nums 16 [-16, -12] [40]\n",
      "15.0 nums 14 [-14, -12] [16, 40]\n",
      "16 nums 35 [-16, -12, -14] [35, 40]\n",
      "17.5 nums 19 [-16, -12, -14] [19, 40, 35]\n",
      "19 nums 34 [-19, -16, -14, -12] [34, 40, 35]\n"
     ]
    },
    {
     "data": {
      "text/plain": [
       "19"
      ]
     },
     "execution_count": 44,
     "metadata": {},
     "output_type": "execute_result"
    }
   ],
   "source": [
    "import heapq\n",
    "\n",
    "class MedianFinder:\n",
    "\n",
    "    def __init__(self):\n",
    "        self.lower = []\n",
    "        self.upper = []\n",
    "        self.median = None\n",
    "        self.count = 0\n",
    "        \n",
    "\n",
    "    def addNum(self, num: int) -> None:\n",
    "        self.count += 1\n",
    "        isEven = self.count % 2 == 0\n",
    "        if self.median == None:\n",
    "            self.median = num\n",
    "            heapq.heappush(self.lower, num * -1)\n",
    "        else:\n",
    "            if num == self.median:\n",
    "                if isEven:\n",
    "                    heapq.heappush(self.upper, num )\n",
    "                else:\n",
    "                    heapq.heappush(self.lower, num * -1)\n",
    "            elif num > self.median:\n",
    "                if isEven:\n",
    "                    heapq.heappush(self.upper, num)\n",
    "                    self.median = (self.lower[0] * -1 + self.upper[0]) / 2\n",
    "                else:\n",
    "                    heapq.heappush(self.upper, num)\n",
    "                    self.median = heapq.heappop(self.upper)\n",
    "                    heapq.heappush(self.lower, self.median * -1)\n",
    "            else:\n",
    "                if isEven:\n",
    "                    heapq.heappush(self.lower, num * -1)\n",
    "                    n = heapq.heappop(self.lower) * -1\n",
    "                    heapq.heappush(self.upper, n)\n",
    "                    self.median = (self.lower[0] * -1 + n ) / 2\n",
    "                else:\n",
    "                    heapq.heappush(self.lower, num * -1)\n",
    "                    self.median = self.lower[0] * -1\n",
    "                    \n",
    "                    \n",
    "        print(self.median, \"nums\", num, self.lower, self.upper)\n",
    "                    \n",
    "        \n",
    "\n",
    "    def findMedian(self) -> float:\n",
    "        return self.median\n",
    "    \n",
    "    \n",
    "obj = MedianFinder()\n",
    "for i in [40, 12, 16, 14, 35, 19, 34]:\n",
    "    obj.addNum(i)\n",
    "obj.findMedian()"
   ]
  },
  {
   "cell_type": "code",
   "execution_count": 9,
   "id": "04cbba42",
   "metadata": {},
   "outputs": [
    {
     "name": "stdout",
     "output_type": "stream",
     "text": [
      "5\n"
     ]
    }
   ],
   "source": [
    "import heapq\n",
    "\n",
    "class KthLargest:\n",
    "\n",
    "    def __init__(self, k: int, nums):\n",
    "        self.k = k\n",
    "        self.nums = nums\n",
    "        heapq.heapify(self.nums)\n",
    "        while len(self.nums) > self.k:\n",
    "            heapq.heappop(self.nums)\n",
    "\n",
    "    def add(self, val: int) -> int:\n",
    "        if len(self.nums) < self.k:\n",
    "            heapq.heappush(self.nums,val)\n",
    "        elif val > self.nums[0]:\n",
    "            heapq.heappushpop(self.nums, val)\n",
    "        return self.nums[0]\n",
    "    \n",
    "\n",
    "obj = KthLargest(3, [4, 5, 8, 2])\n",
    "print(obj.add(6))"
   ]
  },
  {
   "cell_type": "code",
   "execution_count": 35,
   "id": "640cdd4d",
   "metadata": {},
   "outputs": [
    {
     "name": "stdout",
     "output_type": "stream",
     "text": [
      "2 2 0 []\n"
     ]
    },
    {
     "data": {
      "text/plain": [
       "0"
      ]
     },
     "execution_count": 35,
     "metadata": {},
     "output_type": "execute_result"
    }
   ],
   "source": [
    "import heapq\n",
    "\n",
    "def lastStoneWeight(stones) -> int:\n",
    "    if len(stones) < 1:\n",
    "        return 0\n",
    "    stones = MaxHeap(stones)\n",
    "    while len(stones) > 1:\n",
    "        stone = stones.pop()\n",
    "        ns = stones.pop()\n",
    "        print(stone, ns, abs(stone - ns), stones.heap)\n",
    "        stone = abs(stone - ns)\n",
    "        if stone > 0:\n",
    "            stones.push(stone)\n",
    "    return stones.pop() if len(stones) > 0 else 0\n",
    "\n",
    "\n",
    "stones = [2,2]\n",
    "\n",
    "\n",
    "lastStoneWeight(stones)"
   ]
  },
  {
   "cell_type": "code",
   "execution_count": 3,
   "id": "f21a9c68",
   "metadata": {},
   "outputs": [
    {
     "data": {
      "text/plain": [
       "[[-2, 2]]"
      ]
     },
     "execution_count": 3,
     "metadata": {},
     "output_type": "execute_result"
    }
   ],
   "source": [
    "import heapq\n",
    "import math \n",
    "from typing import List\n",
    "\n",
    "def kClosest(points: List[List[int]], k: int) -> List[List[int]]:\n",
    "    minHeap = []\n",
    "    for i in range(len(points)):\n",
    "        x,y = points[i]\n",
    "        d = math.sqrt(math.pow(x,2) + math.pow(y,2))\n",
    "        heapq.heappush(minHeap, (d,i))\n",
    "    output = []\n",
    "    for i in range(k):\n",
    "        d, i = heapq.heappop(minHeap)\n",
    "        output.append(points[i])\n",
    "    return output\n",
    "\n",
    "points = [[1,3],[-2,2]]\n",
    "k = 1\n",
    "kClosest(points,k)"
   ]
  },
  {
   "cell_type": "code",
   "execution_count": 52,
   "id": "e54dae38",
   "metadata": {},
   "outputs": [
    {
     "name": "stdout",
     "output_type": "stream",
     "text": [
      "Counter({'A': 3, 'B': 3, 'C': 3, 'D': 2, 'E': 1})\n"
     ]
    },
    {
     "data": {
      "text/plain": [
       "12"
      ]
     },
     "execution_count": 52,
     "metadata": {},
     "output_type": "execute_result"
    }
   ],
   "source": [
    "class MaxHeap: \n",
    "    def __init__(self, array = []):\n",
    "        self.heap = array\n",
    "        self.heapify()\n",
    "        \n",
    "    def heapify(self):\n",
    "        self.heap = list(map(lambda x: -x, self.heap))\n",
    "        heapq.heapify(self.heap)\n",
    "\n",
    "    def push(self, item):\n",
    "        heapq.heappush(self.heap, -item)\n",
    "        \n",
    "    def pop(self):\n",
    "        popped = heapq.heappop(self.heap)\n",
    "        return -popped\n",
    "    \n",
    "    def __len__(self):\n",
    "        return len(self.heap)\n",
    "\n",
    "from collections import Counter\n",
    "\n",
    "def leastInterval(tasks: List[str], n: int) -> int:\n",
    "    if len(tasks) < 1:\n",
    "        return 0\n",
    "    \n",
    "    taskCount = Counter(tasks)\n",
    "    print(taskCount)\n",
    "    maxHeap = MaxHeap()\n",
    "    for k in taskCount:\n",
    "        maxHeap.push(taskCount[k])\n",
    "    \n",
    "    queue = []\n",
    "    t = 0\n",
    "    while len(maxHeap) > 0 or len(queue) > 0:\n",
    "        if len(maxHeap) > 0:\n",
    "            k = maxHeap.pop()\n",
    "            if k - 1 > 0:\n",
    "                queue.append((k-1, t + n))\n",
    "        \n",
    "        if len(queue) > 0:\n",
    "            c, at = queue[0]\n",
    "            if at <= t:\n",
    "                maxHeap.push(c)\n",
    "                queue.pop(0)\n",
    "        \n",
    "        t += 1\n",
    "    return t\n",
    "    \n",
    "        \n",
    "    \n",
    "\n",
    "tasks =[\"A\",\"A\",\"A\",\"B\",\"B\",\"B\", \"C\",\"C\",\"C\", \"D\", \"D\", \"E\"]\n",
    "n = 2\n",
    "leastInterval(tasks, n)"
   ]
  },
  {
   "cell_type": "code",
   "execution_count": 1,
   "id": "2d4165e4",
   "metadata": {},
   "outputs": [],
   "source": [
    "from collections import defaultdict\n",
    "from typing import List\n",
    "\n",
    "class Twitter:\n",
    "\n",
    "    def __init__(self):\n",
    "        self.follows = defaultdict(set)\n",
    "        self.tweets = []\n",
    "\n",
    "    def postTweet(self, userId: int, tweetId: int) -> None:\n",
    "        self.tweets.append((userId, tweetId))\n",
    "\n",
    "    def getNewsFeed(self, userId: int) -> List[int]:\n",
    "        feed = []\n",
    "        followers = self.follows[userId]\n",
    "        for i in range(len(self.tweets) - 1, -1, -1 ):\n",
    "            uid, tweetId = self.tweets[i]\n",
    "            if uid in followers or uid == userId:\n",
    "                feed.append(tweetId)\n",
    "            if len(feed) == 10:\n",
    "                break\n",
    "        return feed\n",
    "        \n",
    "    def follow(self, followerId: int, followeeId: int) -> None:\n",
    "        self.follows[followerId].add(followeeId)\n",
    "        \n",
    "    def unfollow(self, followerId: int, followeeId: int) -> None:\n",
    "        if followeeId in self.follows[followerId]:\n",
    "            self.follows[followerId].remove(followeeId)"
   ]
  },
  {
   "cell_type": "code",
   "execution_count": 4,
   "id": "f8969b36",
   "metadata": {},
   "outputs": [
    {
     "data": {
      "text/plain": [
       "False"
      ]
     },
     "execution_count": 4,
     "metadata": {},
     "output_type": "execute_result"
    }
   ],
   "source": [
    "import heapq\n",
    "\n",
    "def isNStraightHand(hand: List[int], groupSize: int) -> bool:\n",
    "    if len(hand) % groupSize != 0:\n",
    "        return False\n",
    "    countedMap = {}\n",
    "    minHeap = []\n",
    "    for n in hand:\n",
    "        if n not in countedMap:\n",
    "            countedMap[n] = 0\n",
    "            heapq.heappush(minHeap, n)\n",
    "        countedMap[n] += 1\n",
    "    output = []\n",
    "    while len(countedMap) > 0:\n",
    "        minVal = minHeap[0]\n",
    "        l = []\n",
    "        for j in range(groupSize):\n",
    "            l.append(minVal)\n",
    "            if minVal not in countedMap:\n",
    "                return False\n",
    "            countedMap[minVal] -= 1\n",
    "            if countedMap[minVal] <= 0:\n",
    "                del countedMap[minVal]\n",
    "                if minHeap[0] != minVal:\n",
    "                    return False\n",
    "                heapq.heappop(minHeap)\n",
    "            minVal += 1\n",
    "        output.append(l)\n",
    "        \n",
    "    print(output)\n",
    "    return True\n",
    "\n",
    "\n",
    "hand = [1,2,3,4,5]\n",
    "groupSize = 4\n",
    "isNStraightHand(hand, groupSize)"
   ]
  },
  {
   "cell_type": "code",
   "execution_count": null,
   "id": "ead56cc1",
   "metadata": {},
   "outputs": [],
   "source": []
  }
 ],
 "metadata": {
  "kernelspec": {
   "display_name": "Python 3 (ipykernel)",
   "language": "python",
   "name": "python3"
  },
  "language_info": {
   "codemirror_mode": {
    "name": "ipython",
    "version": 3
   },
   "file_extension": ".py",
   "mimetype": "text/x-python",
   "name": "python",
   "nbconvert_exporter": "python",
   "pygments_lexer": "ipython3",
   "version": "3.9.9"
  }
 },
 "nbformat": 4,
 "nbformat_minor": 5
}
