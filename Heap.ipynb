{
 "cells": [
  {
   "cell_type": "code",
   "execution_count": 1,
   "id": "f98f8a4c",
   "metadata": {},
   "outputs": [
    {
     "data": {
      "text/plain": [
       "[1, 1, 2, 3, 4, 4, 5, 6]"
      ]
     },
     "execution_count": 1,
     "metadata": {},
     "output_type": "execute_result"
    }
   ],
   "source": [
    "import heapq\n",
    "\n",
    "\n",
    "class NTuple():\n",
    "\n",
    "    def __init__(self, n, ai):\n",
    "        self.n = n\n",
    "        self.ai = ai\n",
    "\n",
    "    def __lt__(self, kst):\n",
    "        return self.n.__lt__(kst.n)\n",
    "\n",
    "    def __str__(self) -> str:\n",
    "        return str(self.n)\n",
    "\n",
    "    def __repr__(self) -> str:\n",
    "        return str(self.n)\n",
    "    \n",
    "    \n",
    "def mergeKLists(lists):\n",
    "    k = len(lists)\n",
    "    merged = []\n",
    "    minHeap = []\n",
    "    \n",
    "    for i in range(len(lists)):\n",
    "        heapq.heappush(minHeap, NTuple(lists[i][0], i))\n",
    "        \n",
    "    pointers = [0] * len(lists)\n",
    "        \n",
    "    while len(minHeap) > 0:\n",
    "        ntuple = heapq.heappop(minHeap)\n",
    "        merged.append(ntuple.n)\n",
    "        \n",
    "        ai = ntuple.ai\n",
    "        vi = pointers[ai] = pointers[ai] + 1\n",
    "        \n",
    "        if vi < len(lists[ai]) :\n",
    "            heapq.heappush(minHeap, NTuple(lists[ai][vi], ai))\n",
    "        \n",
    "    return merged\n",
    "\n",
    "\n",
    "lists = [[1,4,5],[1,3,4],[2,6]]\n",
    "\n",
    "mergeKLists(lists)\n"
   ]
  },
  {
   "cell_type": "code",
   "execution_count": 15,
   "id": "38b3a603",
   "metadata": {},
   "outputs": [
    {
     "name": "stdout",
     "output_type": "stream",
     "text": [
      "defaultdict(<function topKFrequent.<locals>.<lambda> at 0x0000024FD70D11F0>, {3: 3, 2: 4, 1: 4, 4: 2, 5: 4, 6: 3, 7: 3, 8: 2, 10: 1, 11: 1})\n",
      "defaultdict(<function topKFrequent.<locals>.<lambda> at 0x0000024FD70D1670>, {3: [3, 6, 7], 4: [2, 1, 5], 2: [4, 8], 1: [10, 11]})\n"
     ]
    },
    {
     "data": {
      "text/plain": [
       "[2, 1, 5, 3, 6, 7, 4, 8, 10, 11]"
      ]
     },
     "execution_count": 15,
     "metadata": {},
     "output_type": "execute_result"
    }
   ],
   "source": [
    "from collections import defaultdict\n",
    "import heapq\n",
    "\n",
    "def topKFrequent( nums, k):\n",
    "    fmap = defaultdict(lambda: 0)\n",
    "    for i in nums:\n",
    "        fmap[i] += 1\n",
    "    print(fmap)\n",
    "    maxHeap = []\n",
    "    kmap = defaultdict(lambda: [])\n",
    "    for val in fmap:\n",
    "        count = fmap[val]\n",
    "        if count not in kmap:\n",
    "            heapq.heappush(maxHeap, count*-1)\n",
    "        kmap[count].append(val)\n",
    "    print(kmap)\n",
    "    output = []\n",
    "    while k > 0:\n",
    "        count = heapq.heappop(maxHeap) * -1\n",
    "        for value in kmap[count]:\n",
    "            if k > 0:\n",
    "                k -= 1\n",
    "                output.append(value)\n",
    "    return output\n",
    "\n",
    "nums = [3,2,3,1,2,4,5,5,6,7,7,8,2,3,1,1,1,10,11,5,6,2,4,7,8,5,6]\n",
    "k = 10\n",
    "\n",
    "topKFrequent(nums, k)"
   ]
  },
  {
   "cell_type": "code",
   "execution_count": 44,
   "id": "1193e309",
   "metadata": {},
   "outputs": [
    {
     "name": "stdout",
     "output_type": "stream",
     "text": [
      "40 nums 40 [-40] []\n",
      "26.0 nums 12 [-12] [40]\n",
      "16 nums 16 [-16, -12] [40]\n",
      "15.0 nums 14 [-14, -12] [16, 40]\n",
      "16 nums 35 [-16, -12, -14] [35, 40]\n",
      "17.5 nums 19 [-16, -12, -14] [19, 40, 35]\n",
      "19 nums 34 [-19, -16, -14, -12] [34, 40, 35]\n"
     ]
    },
    {
     "data": {
      "text/plain": [
       "19"
      ]
     },
     "execution_count": 44,
     "metadata": {},
     "output_type": "execute_result"
    }
   ],
   "source": [
    "import heapq\n",
    "\n",
    "class MedianFinder:\n",
    "\n",
    "    def __init__(self):\n",
    "        self.lower = []\n",
    "        self.upper = []\n",
    "        self.median = None\n",
    "        self.count = 0\n",
    "        \n",
    "\n",
    "    def addNum(self, num: int) -> None:\n",
    "        self.count += 1\n",
    "        isEven = self.count % 2 == 0\n",
    "        if self.median == None:\n",
    "            self.median = num\n",
    "            heapq.heappush(self.lower, num * -1)\n",
    "        else:\n",
    "            if num == self.median:\n",
    "                if isEven:\n",
    "                    heapq.heappush(self.upper, num )\n",
    "                else:\n",
    "                    heapq.heappush(self.lower, num * -1)\n",
    "            elif num > self.median:\n",
    "                if isEven:\n",
    "                    heapq.heappush(self.upper, num)\n",
    "                    self.median = (self.lower[0] * -1 + self.upper[0]) / 2\n",
    "                else:\n",
    "                    heapq.heappush(self.upper, num)\n",
    "                    self.median = heapq.heappop(self.upper)\n",
    "                    heapq.heappush(self.lower, self.median * -1)\n",
    "            else:\n",
    "                if isEven:\n",
    "                    heapq.heappush(self.lower, num * -1)\n",
    "                    n = heapq.heappop(self.lower) * -1\n",
    "                    heapq.heappush(self.upper, n)\n",
    "                    self.median = (self.lower[0] * -1 + n ) / 2\n",
    "                else:\n",
    "                    heapq.heappush(self.lower, num * -1)\n",
    "                    self.median = self.lower[0] * -1\n",
    "                    \n",
    "                    \n",
    "        print(self.median, \"nums\", num, self.lower, self.upper)\n",
    "                    \n",
    "        \n",
    "\n",
    "    def findMedian(self) -> float:\n",
    "        return self.median\n",
    "    \n",
    "    \n",
    "obj = MedianFinder()\n",
    "for i in [40, 12, 16, 14, 35, 19, 34]:\n",
    "    obj.addNum(i)\n",
    "obj.findMedian()"
   ]
  },
  {
   "cell_type": "code",
   "execution_count": null,
   "id": "04cbba42",
   "metadata": {},
   "outputs": [],
   "source": []
  }
 ],
 "metadata": {
  "kernelspec": {
   "display_name": "Python 3 (ipykernel)",
   "language": "python",
   "name": "python3"
  },
  "language_info": {
   "codemirror_mode": {
    "name": "ipython",
    "version": 3
   },
   "file_extension": ".py",
   "mimetype": "text/x-python",
   "name": "python",
   "nbconvert_exporter": "python",
   "pygments_lexer": "ipython3",
   "version": "3.9.9"
  }
 },
 "nbformat": 4,
 "nbformat_minor": 5
}
