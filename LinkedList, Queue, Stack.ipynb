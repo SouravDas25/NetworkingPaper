{
 "cells": [
  {
   "cell_type": "code",
   "execution_count": 30,
   "id": "b2bfe7d3",
   "metadata": {},
   "outputs": [
    {
     "name": "stdout",
     "output_type": "stream",
     "text": [
      "[1, 2, 3, 4, 5, 6, 7]\n"
     ]
    }
   ],
   "source": [
    "class ListNode:\n",
    "    def __init__(self, val=0, next=None):\n",
    "        self.val = val\n",
    "        self.next = next\n",
    "        \n",
    "\n",
    "def printLL(head):\n",
    "    h = head\n",
    "    output = []\n",
    "    i = 0\n",
    "    while h != None:\n",
    "        output.append(h.val)\n",
    "        h = h.next\n",
    "        if i > 20:\n",
    "            break\n",
    "        i += 1\n",
    "    print(output)\n",
    "        \n",
    "def generateLinkedList(iterable):\n",
    "    head = None\n",
    "    tail = None\n",
    "    for i in iterable:\n",
    "        ln = ListNode(i)\n",
    "        if head is None:\n",
    "            head = ln\n",
    "            tail = ln\n",
    "        else:\n",
    "            tail.next = ln\n",
    "            tail = ln\n",
    "    return head\n",
    "\n",
    "printLL(generateLinkedList([1,2,3,4,5,6,7]))"
   ]
  },
  {
   "cell_type": "code",
   "execution_count": 6,
   "id": "e2ddcc63",
   "metadata": {},
   "outputs": [],
   "source": [
    "# Reverse Linked List"
   ]
  },
  {
   "cell_type": "code",
   "execution_count": 7,
   "id": "edbbc30b",
   "metadata": {},
   "outputs": [
    {
     "name": "stdout",
     "output_type": "stream",
     "text": [
      "[7, 6, 5, 4, 3, 2, 1]\n"
     ]
    }
   ],
   "source": [
    "def reverseLL(head):\n",
    "    previous = None\n",
    "    current = head\n",
    "    while current is not None:\n",
    "        nextNode = current.next\n",
    "        current.next = previous\n",
    "        previous = current\n",
    "        current = nextNode\n",
    "    return previous\n",
    "\n",
    "\n",
    "            \n",
    "printLL(reverseLL(generateLinkedList([1,2,3,4,5,6,7])))\n",
    "        "
   ]
  },
  {
   "cell_type": "code",
   "execution_count": 8,
   "id": "a79634a5",
   "metadata": {},
   "outputs": [],
   "source": [
    "# Cycle in Linked List"
   ]
  },
  {
   "cell_type": "code",
   "execution_count": 9,
   "id": "5265f970",
   "metadata": {},
   "outputs": [],
   "source": [
    "def hasCycle(head) -> bool:\n",
    "    fp = head\n",
    "    sp = head\n",
    "    while sp is not None and fp is not None:\n",
    "        if fp.next == None:\n",
    "            return False\n",
    "        fp = fp.next.next\n",
    "        sp = sp.next\n",
    "\n",
    "        if fp == sp:\n",
    "            return True\n",
    "\n",
    "    return False"
   ]
  },
  {
   "cell_type": "code",
   "execution_count": 14,
   "id": "933fe9a4",
   "metadata": {},
   "outputs": [
    {
     "name": "stdout",
     "output_type": "stream",
     "text": [
      "[1, 1, 2, 2, 3, 3, 4, 4, 5, 5, 6, 6, 7, 7]\n"
     ]
    }
   ],
   "source": [
    "def mergeSortedLL(ll1, ll2):\n",
    "    head1 = ll1\n",
    "    head2 = ll2\n",
    "    \n",
    "    if head1 is None:\n",
    "        return ll2\n",
    "    if head2 is None:\n",
    "        return ll1\n",
    "    \n",
    "    if ll1.val < ll2.val:\n",
    "        mergedHead = ll1 \n",
    "        mergedtail = ll1\n",
    "        head1 = head1.next\n",
    "    else:\n",
    "        mergedHead = ll2\n",
    "        mergedtail = ll2\n",
    "        head2 = head2.next\n",
    "        \n",
    "    while head1 != None or head2 != None:\n",
    "        if head1 is None:\n",
    "            mergedtail.next = head2\n",
    "            head2 = None\n",
    "        elif head2 is None:\n",
    "            mergedtail.next = head1\n",
    "            head1 = None\n",
    "        else:\n",
    "            if head1.val < head2.val:\n",
    "                mergedtail.next = head1\n",
    "                head1 = head1.next\n",
    "            else:\n",
    "                mergedtail.next = head2\n",
    "                head2 = head2.next\n",
    "            mergedtail = mergedtail.next\n",
    "    \n",
    "    \n",
    "    return mergedHead\n",
    "\n",
    "\n",
    "l1 = generateLinkedList([1,2,3,4,5,6,7])\n",
    "l2 = generateLinkedList([1,2,3,4,5,6,7])\n",
    "printLL(mergeSortedLL(l1,l2))"
   ]
  },
  {
   "cell_type": "code",
   "execution_count": 19,
   "id": "3c5be9e5",
   "metadata": {},
   "outputs": [
    {
     "name": "stdout",
     "output_type": "stream",
     "text": [
      "3\n",
      "3\n",
      "2\n"
     ]
    }
   ],
   "source": [
    "class HitCounter:\n",
    "    \n",
    "    def __init__(self):\n",
    "        self.timestamp = [0] * 300\n",
    "        self.count = [0] * 300\n",
    "        \n",
    "    def hit(self, timestamp):\n",
    "        index = timestamp % 300\n",
    "        if self.timestamp[index] != timestamp % 300:\n",
    "            self.timestamp[index] = timestamp % 300\n",
    "            self.count[index] = 0\n",
    "        self.count[index] += 1\n",
    "        \n",
    "        \n",
    "    \n",
    "    def getHits(self, timestamp):\n",
    "        count = 0\n",
    "        for i in range(len(self.timestamp)):\n",
    "            if timestamp - self.timestamp[i] < 300:\n",
    "                count += self.count[i]\n",
    "        return count\n",
    "    \n",
    "    \n",
    "counter = HitCounter()\n",
    "\n",
    "counter.hit(1)\n",
    "counter.hit(2)\n",
    "counter.hit(3)\n",
    "print(counter.getHits(4))\n",
    "counter.hit(300)\n",
    "print(counter.getHits(300))\n",
    "print(counter.getHits(301))"
   ]
  },
  {
   "cell_type": "code",
   "execution_count": 20,
   "id": "b283f57a",
   "metadata": {},
   "outputs": [],
   "source": [
    "# Rearrange a given linked list in-place."
   ]
  },
  {
   "cell_type": "code",
   "execution_count": 54,
   "id": "e289e615",
   "metadata": {},
   "outputs": [
    {
     "name": "stdout",
     "output_type": "stream",
     "text": [
      "7 3\n",
      "[7, 6, 5, 4]\n",
      "[1, 2, 3]\n",
      "[1, 7, 2, 6, 3, 5, 4]\n"
     ]
    }
   ],
   "source": [
    "def reorderList(head) -> None:\n",
    "    count = 0\n",
    "    mid = head\n",
    "    heads = head\n",
    "    previous = None\n",
    "    while(heads != None):\n",
    "        if count&1:\n",
    "            previous = mid\n",
    "            mid = mid.next\n",
    "            \n",
    "        count += 1\n",
    "        heads = heads.next\n",
    "    \n",
    "    print(count, previous.val)\n",
    "    previous.next = None\n",
    "    mid = reverseLL(mid)\n",
    "    printLL(mid)\n",
    "    printLL(head)\n",
    "    heads = head\n",
    "    while mid != None and heads != None :\n",
    "        tmp = heads.next\n",
    "        if tmp != None:\n",
    "            heads.next = mid\n",
    "            mid = mid.next\n",
    "            heads.next.next = tmp\n",
    "            heads = tmp\n",
    "        else:\n",
    "            heads.next = mid\n",
    "            heads = None\n",
    "    return head\n",
    "\n",
    "\n",
    "\n",
    "l1 = generateLinkedList([1,2,3,4,5,6,7])\n",
    "printLL(reorderList(l1))"
   ]
  },
  {
   "cell_type": "code",
   "execution_count": 5,
   "id": "fe62d540",
   "metadata": {},
   "outputs": [
    {
     "data": {
      "text/plain": [
       "True"
      ]
     },
     "execution_count": 5,
     "metadata": {},
     "output_type": "execute_result"
    }
   ],
   "source": [
    "def isValid(s: str) -> bool:\n",
    "    stack = []\n",
    "    for c in s:\n",
    "        if c in {\"(\",\"{\", \"[\"}:\n",
    "            stack.append(c)\n",
    "        if c in {\")\",\"}\", \"]\"}:\n",
    "            if len(stack) < 1 :\n",
    "                return False\n",
    "            top = stack.pop()\n",
    "            if c == \")\" and top != \"(\":\n",
    "                return False\n",
    "            if c == \"}\" and top != \"{\":\n",
    "                return False\n",
    "            if c == \"]\" and top != \"[\":\n",
    "                return False\n",
    "    return len(stack) == 0\n",
    "\n",
    "s = \"(){}\"\n",
    "\n",
    "isValid(s)"
   ]
  },
  {
   "cell_type": "code",
   "execution_count": 15,
   "id": "1477f745",
   "metadata": {},
   "outputs": [
    {
     "name": "stdout",
     "output_type": "stream",
     "text": [
      "1\n",
      "2\n"
     ]
    },
    {
     "data": {
      "text/plain": [
       "1"
      ]
     },
     "execution_count": 15,
     "metadata": {},
     "output_type": "execute_result"
    }
   ],
   "source": [
    "class MinStack:\n",
    "\n",
    "    def __init__(self):\n",
    "        self.stack = []\n",
    "        self.min = None\n",
    "        \n",
    "\n",
    "    def push(self, val: int) -> None:\n",
    "        if self.min != None and val < self.min:\n",
    "            self.stack.append( (2 * val) - self.min)\n",
    "            self.min = val\n",
    "        else:\n",
    "            self.stack.append(val)\n",
    "            if self.min == None : self.min = val\n",
    "\n",
    "\n",
    "    def pop(self) -> None:\n",
    "        if self.min != None:\n",
    "            top = self.stack.pop()\n",
    "            if top < self.min:\n",
    "                self.min = (2 * self.min) - top\n",
    "            if len(self.stack) < 1:\n",
    "                self.min = None\n",
    "        \n",
    "\n",
    "    def top(self) -> int:\n",
    "        if self.min != None:\n",
    "            top = self.stack[-1]\n",
    "            if top < self.min:\n",
    "                return self.min\n",
    "            else:\n",
    "                return top\n",
    "        \n",
    "\n",
    "    def getMin(self) -> int:\n",
    "        return self.min\n",
    "    \n",
    "    \n",
    "obj = MinStack()\n",
    "obj.push(2)\n",
    "obj.push(1)\n",
    "print(obj.getMin())\n",
    "obj.push(2)\n",
    "obj.push(2)\n",
    "obj.pop()\n",
    "print(obj.top())\n",
    "obj.getMin()"
   ]
  },
  {
   "cell_type": "code",
   "execution_count": 53,
   "id": "f40cafb1",
   "metadata": {},
   "outputs": [
    {
     "data": {
      "text/plain": [
       "[]"
      ]
     },
     "execution_count": 53,
     "metadata": {},
     "output_type": "execute_result"
    }
   ],
   "source": [
    "def asteroidCollision(asteroids):\n",
    "    if len(asteroids) < 2:\n",
    "        return asteroids\n",
    "    stack = []\n",
    "    i = 0\n",
    "    while i < len(asteroids) : \n",
    "        while len(stack) > 0 and stack[-1] > 0 and asteroids[i] < 0 :\n",
    "            top = stack[-1]\n",
    "            if top == abs(asteroids[i]):\n",
    "                stack.pop()\n",
    "                break\n",
    "            elif top < abs(asteroids[i]):\n",
    "                stack.pop()\n",
    "            else:\n",
    "                break\n",
    "        else:\n",
    "            stack.append(asteroids[i])\n",
    "        i += 1\n",
    "        \n",
    "    return stack\n",
    "\n",
    "\n",
    "asteroids = [8,-8]\n",
    "\n",
    "asteroidCollision(asteroids)"
   ]
  },
  {
   "cell_type": "code",
   "execution_count": 61,
   "id": "f32b6985",
   "metadata": {},
   "outputs": [
    {
     "name": "stdout",
     "output_type": "stream",
     "text": [
      "[(73, 7)] [0, 0, 0, 0, 0, 0, 0, 0]\n",
      "[(76, 6)] [0, 0, 0, 0, 0, 0, 0, 0]\n",
      "[(76, 6), (72, 5)] [0, 0, 0, 0, 0, 1, 0, 0]\n",
      "[(76, 6), (72, 5), (69, 4)] [0, 0, 0, 0, 1, 1, 0, 0]\n",
      "[(76, 6), (72, 5), (71, 3)] [0, 0, 0, 2, 1, 1, 0, 0]\n",
      "[(76, 6), (75, 2)] [0, 0, 4, 2, 1, 1, 0, 0]\n",
      "[(76, 6), (75, 2), (74, 1)] [0, 1, 4, 2, 1, 1, 0, 0]\n",
      "[(76, 6), (75, 2), (74, 1), (73, 0)] [1, 1, 4, 2, 1, 1, 0, 0]\n"
     ]
    },
    {
     "data": {
      "text/plain": [
       "[1, 1, 4, 2, 1, 1, 0, 0]"
      ]
     },
     "execution_count": 61,
     "metadata": {},
     "output_type": "execute_result"
    }
   ],
   "source": [
    "def dailyTemperatures(temperatures):\n",
    "    output = [0] * len(temperatures)\n",
    "    stack = []\n",
    "    for i in range(len(temperatures) - 1, -1, -1):\n",
    "        if len(stack) > 0:\n",
    "            top = stack[-1]\n",
    "            if temperatures[i] < top[0]:\n",
    "                output[i] = top[1] - i\n",
    "            else:\n",
    "                while True:\n",
    "                    stack.pop()\n",
    "                    if len(stack) < 1:\n",
    "                        break\n",
    "                    top = stack[-1]\n",
    "                    if top[0] > temperatures[i]:\n",
    "                        output[i] = top[1] - i\n",
    "                        break\n",
    "        stack.append((temperatures[i], i))\n",
    "        print(stack, output)\n",
    "    return output\n",
    "\n",
    "\n",
    "\n",
    "temperatures = [73,74,75,71,69,72,76,73]\n",
    "dailyTemperatures(temperatures)\n"
   ]
  },
  {
   "cell_type": "code",
   "execution_count": 67,
   "id": "099b40e5",
   "metadata": {},
   "outputs": [
    {
     "name": "stdout",
     "output_type": "stream",
     "text": [
      "[0, 1, 1, 2, 2, 2, 2, 3, 3, 3, 3, 3] [3, 3, 3, 3, 3, 3, 3, 3, 2, 2, 2, 1]\n"
     ]
    },
    {
     "data": {
      "text/plain": [
       "6"
      ]
     },
     "execution_count": 67,
     "metadata": {},
     "output_type": "execute_result"
    }
   ],
   "source": [
    "def trap(height) -> int:\n",
    "    left = []\n",
    "    right = []\n",
    "    for i in range(len(height)):\n",
    "        lh = height[i]\n",
    "        rh = height[len(height) - i - 1]\n",
    "        if len(left) > 0:\n",
    "            top = left[-1]\n",
    "            left.append(max(top,lh))\n",
    "        else:\n",
    "            left.append(lh)\n",
    "            \n",
    "        if len(right) > 0:\n",
    "            top = right[-1]\n",
    "            right.append(max(top,rh))\n",
    "        else:\n",
    "            right.append(rh)\n",
    "    right.reverse()\n",
    "    print(left, right)\n",
    "    outputSum = 0\n",
    "    for i in range(1,len(height) - 1):\n",
    "        outputSum += min(left[i], right[i]) - height[i]\n",
    "    return outputSum\n",
    "\n",
    "height = [0,1,0,2,1,0,1,3,2,1,2,1]\n",
    "trap(height)"
   ]
  },
  {
   "cell_type": "code",
   "execution_count": 110,
   "id": "b1f1843f",
   "metadata": {},
   "outputs": [
    {
     "data": {
      "text/plain": [
       "10"
      ]
     },
     "execution_count": 110,
     "metadata": {},
     "output_type": "execute_result"
    }
   ],
   "source": [
    "def largestRectangleArea(heights):\n",
    "    maxSum = 0\n",
    "    for i in range(len(heights)):\n",
    "        h = heights[i]\n",
    "        currentSum = 0\n",
    "        for j in range(len(heights)):\n",
    "            if heights[j] < h :\n",
    "                currentSum = 0\n",
    "            else:\n",
    "                currentSum += h\n",
    "            maxSum = max(currentSum, maxSum)\n",
    "            #print(h, currentSum )\n",
    "    return maxSum\n",
    "\n",
    "heights = [2,1,5,6,2,3]\n",
    "largestRectangleArea(heights)"
   ]
  },
  {
   "cell_type": "code",
   "execution_count": 124,
   "id": "52516a0e",
   "metadata": {},
   "outputs": [
    {
     "name": "stdout",
     "output_type": "stream",
     "text": [
      "[0, 1] 1\n",
      "[2] 5\n",
      "[3] 6\n",
      "[3, 4] 2\n",
      "[3, 5] 3\n"
     ]
    },
    {
     "data": {
      "text/plain": [
       "[-1, 0, -1, -1, 3, 3]"
      ]
     },
     "execution_count": 124,
     "metadata": {},
     "output_type": "execute_result"
    }
   ],
   "source": [
    "def nextGreaterElements(array):\n",
    "    output = [-1] * len(array)\n",
    "    stack = [(array[-1],len(array) - 1) ]\n",
    "    for i in range(len(array) - 2, -1 , -1):\n",
    "        if stack[-1][0] > array[i]:\n",
    "            output[i] = stack[-1][1]\n",
    "        else:\n",
    "            while len(stack) > 0 and stack[-1][0] < array[i] :\n",
    "                stack.pop()\n",
    "            \n",
    "            if len(stack) > 0 and stack[-1][0] > array[i]:\n",
    "                output[i] = stack[-1][1]\n",
    "                \n",
    "        stack.append((array[i],i))\n",
    "        print(stack,array[i],i)\n",
    "    return output\n",
    "\n",
    "def previousGreaterElement(array):\n",
    "    output = [-1] * len(array)\n",
    "    stack = [0]\n",
    "    for i in range(1, len(array)):\n",
    "        top = stack[-1]\n",
    "        if array[top] > array[i] :\n",
    "            output[i] = top\n",
    "        else:\n",
    "            while len(stack) > 0 and array[stack[-1]] < array[i]:\n",
    "                stack.pop()\n",
    "            if len(stack) > 0 and array[stack[-1]] > array[i]:\n",
    "                output[i] = stack[-1]\n",
    "        stack.append(i)\n",
    "        print(stack, array[i])\n",
    "    return output\n",
    "\n",
    "array = [2,1,5,6,2,3]\n",
    "previousGreaterElement(array)"
   ]
  },
  {
   "cell_type": "code",
   "execution_count": null,
   "id": "a70cad1e",
   "metadata": {},
   "outputs": [],
   "source": []
  }
 ],
 "metadata": {
  "kernelspec": {
   "display_name": "Python 3 (ipykernel)",
   "language": "python",
   "name": "python3"
  },
  "language_info": {
   "codemirror_mode": {
    "name": "ipython",
    "version": 3
   },
   "file_extension": ".py",
   "mimetype": "text/x-python",
   "name": "python",
   "nbconvert_exporter": "python",
   "pygments_lexer": "ipython3",
   "version": "3.9.9"
  }
 },
 "nbformat": 4,
 "nbformat_minor": 5
}
