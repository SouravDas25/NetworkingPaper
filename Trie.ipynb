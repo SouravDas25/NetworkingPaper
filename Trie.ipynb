{
 "cells": [
  {
   "cell_type": "code",
   "execution_count": 53,
   "id": "47651f8e",
   "metadata": {},
   "outputs": [
    {
     "name": "stdout",
     "output_type": "stream",
     "text": [
      "+- *\n",
      " +- a\n",
      " | +- p\n",
      " | | +- p\n",
      " | |  +- l\n",
      " | |   +- e.\n",
      " | +- e\n",
      " | | +- r\n",
      " | |  +- o\n",
      " | |   +- p\n",
      " | |    +- l\n",
      " | |     +- a\n",
      " | |      +- n\n",
      " | |       +- e.\n",
      " | +- i\n",
      " | | +- r.\n",
      " | +- r\n",
      " |  +- i\n",
      " |   +- d.\n",
      " +- ,.\n",
      " +- b\n",
      "  +- a\n",
      "   +- l\n",
      "    +- l.\n"
     ]
    },
    {
     "data": {
      "text/plain": [
       "True"
      ]
     },
     "execution_count": 53,
     "metadata": {},
     "output_type": "execute_result"
    }
   ],
   "source": [
    "class TrieNode:\n",
    "    def __init__(self, ch):\n",
    "        self.ch = ch\n",
    "        self.childrens = {}\n",
    "        self.isEndOfWord = False\n",
    "    \n",
    "\n",
    "class Trie:\n",
    "\n",
    "    def __init__(self):\n",
    "        self.root = TrieNode(\"*\")\n",
    "        \n",
    "\n",
    "    def insert(self, word: str) -> None:\n",
    "        current = self.root\n",
    "        for ch in word:\n",
    "            if ch not in current.childrens:\n",
    "                current.childrens[ch] = TrieNode(ch)\n",
    "            current = current.childrens[ch]\n",
    "        current.isEndOfWord = True\n",
    "        \n",
    "    def insertPara(self, para):\n",
    "        for wrd in para.split(\" \"):\n",
    "            if wrd:\n",
    "                self.insert(wrd.strip())\n",
    "\n",
    "    def search(self, word: str) -> bool:\n",
    "        current = self.root\n",
    "        for ch in word:\n",
    "            if ch not in current.childrens:\n",
    "                return False\n",
    "            current = current.childrens[ch]\n",
    "        return current.isEndOfWord\n",
    "\n",
    "    def startsWith(self, prefix: str) -> bool:\n",
    "        current = self.root\n",
    "        for ch in prefix:\n",
    "            if ch not in current.childrens:\n",
    "                return False\n",
    "            current = current.childrens[ch]\n",
    "        return True\n",
    "    \n",
    "    def print(self):\n",
    "        printNode(\"\", self.root, True)\n",
    "        \n",
    "def printNode(prefix, node, isLast):\n",
    "    if node is not None:\n",
    "        print(prefix + \"+- \" + str(node.ch) + (\".\" if node.isEndOfWord else \"\") )\n",
    "        length = len(node.childrens)\n",
    "        count = 0\n",
    "        for ch in node.childrens:\n",
    "            count += 1\n",
    "            printNode(prefix + (\" \" if isLast else \"| \") , node.childrens[ch] , count == length)\n",
    "            \n",
    "            \n",
    "trie = Trie()\n",
    "para = \"\"\"\n",
    "apple , ball , aeroplane , air , arid\n",
    "\"\"\"\n",
    "trie.insertPara(para.lower())\n",
    "trie.print()\n",
    "trie.startsWith(\"ai\")"
   ]
  },
  {
   "cell_type": "code",
   "execution_count": 36,
   "id": "7def926c",
   "metadata": {},
   "outputs": [
    {
     "name": "stdout",
     "output_type": "stream",
     "text": [
      "+- *\n",
      " +- b\n",
      " | +- a\n",
      " |  +- l\n",
      " |  | +- l\n",
      " |  +- d\n",
      " +- c\n",
      " | +- a\n",
      " |  +- t\n",
      " +- d\n",
      "  +- a\n",
      "   +- d\n"
     ]
    },
    {
     "data": {
      "text/plain": [
       "False"
      ]
     },
     "execution_count": 36,
     "metadata": {},
     "output_type": "execute_result"
    }
   ],
   "source": [
    "class PatternSearchTrie(Trie):\n",
    "    \n",
    "    def _internalSeach(self, word, start , current):\n",
    "        for i in range(start, len(word)):\n",
    "            ch = word[i]\n",
    "            if ch == \".\":\n",
    "                for child in current.childrens:\n",
    "                    if self._internalSeach(word, i + 1, current.childrens[child]):\n",
    "                        return True\n",
    "                return False\n",
    "            if ch not in current.childrens:\n",
    "                return False\n",
    "            current = current.childrens[ch]\n",
    "        return current.isEndOfWord\n",
    "    \n",
    "    def searchPattern(self, word: str) -> bool:\n",
    "        return self._internalSeach(word, 0, self.root)\n",
    "    \n",
    "trie = PatternSearchTrie()\n",
    "para = \"ball cat bad dad \"\n",
    "trie.insertPara(para.lower())\n",
    "trie.print()\n",
    "\n",
    "trie.searchPattern(\".cd\")"
   ]
  },
  {
   "cell_type": "code",
   "execution_count": 89,
   "id": "5e5ce9a8",
   "metadata": {},
   "outputs": [
    {
     "data": {
      "text/plain": [
       "False"
      ]
     },
     "execution_count": 89,
     "metadata": {},
     "output_type": "execute_result"
    }
   ],
   "source": [
    "def splitCombination(words, taken, seq, splits = []):\n",
    "    \n",
    "    if taken == len(words):\n",
    "        splits.append(seq.split(\",\"))\n",
    "        return splits\n",
    "    \n",
    "    for i in range(taken + 1, len(words) + 1):\n",
    "        ss = words[taken:i]\n",
    "        splitCombination(words, i, seq + \",\" + ss, splits)\n",
    "        \n",
    "    return splits\n",
    "    \n",
    "import numpy as np\n",
    "\n",
    "\n",
    "def wordBreak(words, wordDict) -> bool:\n",
    "    trie = Trie()\n",
    "    for word in wordDict: trie.insert(word)\n",
    "#     trie.print()\n",
    "    \n",
    "    splits = splitCombination(words, 0 , \"\")\n",
    "#     for i in splits:\n",
    "#         print(i)\n",
    "    for seq in splits:\n",
    "        seqBool = True\n",
    "        for i in range(1, len(seq)):\n",
    "            if not trie.search(seq[i]):\n",
    "                seqBool = False\n",
    "                break\n",
    "        if seqBool:\n",
    "            print(seq)\n",
    "            return seqBool\n",
    "    return False\n",
    "\n",
    "\n",
    "\n",
    "\n",
    "s = \"acccbccb\"\n",
    "wordDict = [\"cc\",\"bc\",\"ac\",\"ca\"]\n",
    "wordBreak(s, wordDict)\n",
    "# splitCombination(s, 0 , \"\")"
   ]
  },
  {
   "cell_type": "code",
   "execution_count": 146,
   "id": "4152e2ae",
   "metadata": {},
   "outputs": [
    {
     "name": "stdout",
     "output_type": "stream",
     "text": [
      "defaultdict(<function findWords.<locals>.<lambda> at 0x00000273D6BE6B80>, {'o': [0], 'p': [1], 'e': [2], 'r': [3]})\n",
      "defaultdict(<function findWords.<locals>.<lambda> at 0x00000273D6D4FE50>, {0: [(0, 0)], 2: [(1, 0), (1, 3)], 3: [(2, 3)]})\n",
      "oath [(0, 0)]\n",
      "eat [(1, 0), (1, 3)]\n",
      "rain [(2, 3)]\n",
      "{'eat', 'oath'}\n",
      "defaultdict(<function findWords.<locals>.<lambda> at 0x00000273D6BE6B80>, {'a': [0]})\n",
      "defaultdict(<function findWords.<locals>.<lambda> at 0x00000273D6D4F550>, {0: [(0, 0)]})\n",
      "abcdeb [(0, 0)]\n",
      "{'abcdeb'}\n"
     ]
    },
    {
     "data": {
      "text/plain": [
       "{'abcdeb'}"
      ]
     },
     "execution_count": 146,
     "metadata": {},
     "output_type": "execute_result"
    }
   ],
   "source": [
    "from collections import defaultdict\n",
    "\n",
    "def findWords(board, words):\n",
    "    firstChars = defaultdict(lambda : [])\n",
    "    for i in range(len(words)):\n",
    "        firstChars[words[i][0]].append(i)\n",
    "    print(firstChars)\n",
    "    items = defaultdict(lambda : [])\n",
    "    for i in range(len(board)):\n",
    "        for j in range(len(board[i])):\n",
    "            if board[i][j] in firstChars:\n",
    "                wordIndexs = firstChars[board[i][j]]\n",
    "                for wordIndex in wordIndexs:\n",
    "                    items[wordIndex].append((i, j))\n",
    "    print(items)\n",
    "    output = set()\n",
    "    \n",
    "    for k in items:\n",
    "        wrd = words[k]\n",
    "        places_to_look = items[k]\n",
    "        print(wrd, places_to_look)\n",
    "        for i,j in places_to_look:\n",
    "            visited = set()\n",
    "            search_rec(board, wrd, 0, i, j, visited, output)\n",
    "            \n",
    "    print(output)\n",
    "    return output\n",
    "\n",
    "def search_itr(board, wrd, wordIndex, i, j, visited, output):\n",
    "    stack = [(i, j, 0)]\n",
    "    while len(stack) > 0:\n",
    "        i, j , wordIndex = stack[-1]\n",
    "        visited.add((i,j))\n",
    "        print(\"stack\", stack, board[i][j], wrd[wordIndex] )\n",
    "        if wordIndex + 1 >= len(wrd):\n",
    "            output.add(wrd)\n",
    "            break\n",
    "        l = len(stack)\n",
    "        for mi,mj in movements:\n",
    "            xi = i + mi\n",
    "            xj = j + mj\n",
    "            if 0 <= xi < len(board) and 0 <= xj < len(board[i]) and (xi, xj) not in visited:\n",
    "                if wrd[wordIndex + 1] == board[xi][xj]:\n",
    "                    stack.append((xi, xj, wordIndex + 1))\n",
    "        if len(stack) == l:\n",
    "            while len(stack) > 0 and (stack[-1][0],stack[-1][1]) in visited:\n",
    "                visited.remove((stack[-1][0],stack[-1][1]))\n",
    "                stack.pop()\n",
    "\n",
    "movements = [(1,0),(-1,0),(0,1),(0,-1)]\n",
    "\n",
    "def search_rec(board, wrd, wordIndex, i, j, visited, output):\n",
    "    visited.add((i,j))\n",
    "    if wordIndex + 1 >= len(wrd):\n",
    "        output.add(wrd)\n",
    "        return\n",
    "    for mi,mj in movements:\n",
    "        xi = i + mi\n",
    "        xj = j + mj\n",
    "        if 0 <= xi < len(board) and 0 <= xj < len(board[i]) and (xi, xj) not in visited:\n",
    "            if wrd[wordIndex + 1] == board[xi][xj]:\n",
    "                search_rec(board, wrd, wordIndex + 1 , xi , xj , visited, output)\n",
    "\n",
    "    visited.remove((i,j))\n",
    "\n",
    "\n",
    "board = [\n",
    "    [\"o\",\"a\",\"a\",\"n\"],\n",
    "    [\"e\",\"t\",\"a\",\"e\"],\n",
    "    [\"i\",\"h\",\"k\",\"r\"],\n",
    "    [\"i\",\"f\",\"l\",\"v\"]\n",
    "]\n",
    "words = [\"oath\",\"pea\",\"eat\",\"rain\"]\n",
    "findWords(board, words)\n",
    "\n",
    "board = [[\"a\",\"b\",\"e\"],\n",
    "         [\"b\",\"c\",\"d\"]]\n",
    "words = [\"abcdeb\"]\n",
    "\n",
    "\n",
    "\n",
    "findWords(board, words)"
   ]
  },
  {
   "cell_type": "code",
   "execution_count": 153,
   "id": "da592cff",
   "metadata": {},
   "outputs": [
    {
     "name": "stdout",
     "output_type": "stream",
     "text": [
      "+- *\n",
      " +- o\n",
      "  +- a.\n",
      "   +- a.\n"
     ]
    },
    {
     "data": {
      "text/plain": [
       "{'oa', 'oaa'}"
      ]
     },
     "execution_count": 153,
     "metadata": {},
     "output_type": "execute_result"
    }
   ],
   "source": [
    "def findWords(board, words):\n",
    "    trie = Trie()\n",
    "    for i in range(len(words)):\n",
    "        trie.insert(words[i])\n",
    "    trie.print()\n",
    "    output = set()\n",
    "    for i in range(len(board)):\n",
    "        for j in range(len(board[i])):\n",
    "            if board[i][j] in trie.root.childrens:\n",
    "                checkTrie(board, i, j, board[i][j] ,trie.root.childrens[board[i][j]], output)\n",
    "            \n",
    "    return output\n",
    "\n",
    "movements = [(1,0),(-1,0),(0,1),(0,-1)]\n",
    "\n",
    "def checkTrie(board, i, j, prefix, currentNode, output):\n",
    "    if currentNode.isEndOfWord:\n",
    "        output.add(prefix)\n",
    "    tmp = board[i][j]\n",
    "    board[i][j] = \"$\"\n",
    "    for mi,mj in movements:\n",
    "        xi = i + mi\n",
    "        xj = j + mj\n",
    "        if 0 <= xi < len(board) and 0 <= xj < len(board[i]):\n",
    "            if board[xi][xj] in currentNode.childrens:\n",
    "                checkTrie(board, xi ,xj , prefix + board[xi][xj], currentNode.childrens[board[xi][xj]], output)\n",
    "    board[i][j] = tmp\n",
    "\n",
    "board = [\n",
    "    [\"o\",\"a\",\"a\",\"n\"],\n",
    "    [\"e\",\"t\",\"a\",\"e\"],\n",
    "    [\"i\",\"h\",\"k\",\"r\"],\n",
    "    [\"i\",\"f\",\"l\",\"v\"]\n",
    "]\n",
    "words = [\"oath\",\"pea\",\"eat\",\"rain\"]\n",
    "\n",
    "board = [[\"o\",\"a\",\"b\",\"n\"],[\"o\",\"t\",\"a\",\"e\"],[\"a\",\"h\",\"k\",\"r\"],[\"a\",\"f\",\"l\",\"v\"]]\n",
    "words = [\"oa\",\"oaa\"]\n",
    "\n",
    "\n",
    "findWords(board, words)"
   ]
  },
  {
   "cell_type": "code",
   "execution_count": null,
   "id": "7ac11e70",
   "metadata": {},
   "outputs": [],
   "source": []
  }
 ],
 "metadata": {
  "kernelspec": {
   "display_name": "Python 3 (ipykernel)",
   "language": "python",
   "name": "python3"
  },
  "language_info": {
   "codemirror_mode": {
    "name": "ipython",
    "version": 3
   },
   "file_extension": ".py",
   "mimetype": "text/x-python",
   "name": "python",
   "nbconvert_exporter": "python",
   "pygments_lexer": "ipython3",
   "version": "3.9.9"
  }
 },
 "nbformat": 4,
 "nbformat_minor": 5
}
