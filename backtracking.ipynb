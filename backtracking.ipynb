{
 "cells": [
  {
   "cell_type": "code",
   "execution_count": 2,
   "id": "365296ff",
   "metadata": {},
   "outputs": [
    {
     "data": {
      "text/plain": [
       "[[], [3], [2], [2, 3], [1], [1, 3], [1, 2], [1, 2, 3]]"
      ]
     },
     "execution_count": 2,
     "metadata": {},
     "output_type": "execute_result"
    }
   ],
   "source": [
    "from typing import List\n",
    "\n",
    "\n",
    "def subsets(nums: List[int]) -> List[List[int]]:\n",
    "    output = []\n",
    "    def rec(i, current):\n",
    "        if i == len(nums):\n",
    "            output.append(list(current))\n",
    "            return\n",
    "        rec(i+1, current )\n",
    "        current.append(nums[i])\n",
    "        rec(i+1, current )\n",
    "        current.remove(nums[i])\n",
    "    rec(0,[])\n",
    "    return output\n",
    "\n",
    "\n",
    "nums = [1,2,3]\n",
    "subsets(nums)"
   ]
  },
  {
   "cell_type": "code",
   "execution_count": 37,
   "id": "7e9e5ca8",
   "metadata": {},
   "outputs": [
    {
     "name": "stdout",
     "output_type": "stream",
     "text": [
      "defaultdict(<class 'set'>, {0: set(), 43: {(43,)}, 100: {(100,)}, 86: {(43, 43)}, 143: {(43, 100)}, 129: {(43, 43, 43)}, 186: {(43, 43, 100)}, 200: {(100, 100)}, 172: {(43, 43, 43, 43)}, 229: {(43, 43, 43, 100)}, 243: {(43, 100, 100)}, 215: {(43, 43, 43, 43, 43)}, 272: {(43, 43, 43, 43, 100)}, 286: {(43, 43, 100, 100)}, 300: {(100, 100, 100)}, 258: {(43, 43, 43, 43, 43, 43)}, 315: {(43, 43, 43, 43, 43, 100)}, 329: {(43, 43, 43, 100, 100)}, 343: {(43, 100, 100, 100)}, 301: {(43, 43, 43, 43, 43, 43, 43)}, 358: {(43, 43, 43, 43, 43, 43, 100)}, 372: {(43, 43, 43, 43, 100, 100)}, 386: {(43, 43, 100, 100, 100)}, 400: {(100, 100, 100, 100)}, 344: {(43, 43, 43, 43, 43, 43, 43, 43)}, 387: {(43, 43, 43, 43, 43, 43, 43, 43, 43)}})\n"
     ]
    },
    {
     "data": {
      "text/plain": [
       "{(100, 100, 100, 100)}"
      ]
     },
     "execution_count": 37,
     "metadata": {},
     "output_type": "execute_result"
    }
   ],
   "source": [
    "def combinationSum(candidates: List[int], target: int) -> List[List[int]]:\n",
    "    output = set()\n",
    "    def rec(target, stack):\n",
    "        if target < 0:\n",
    "            return \n",
    "        if target == 0:\n",
    "            output.add(tuple(sorted(stack)))\n",
    "            return\n",
    "        for n in candidates:\n",
    "            stack.append(n)\n",
    "            rec(target - n, stack)\n",
    "            stack.pop()\n",
    "    rec(target, [])\n",
    "    return output\n",
    "\n",
    "from collections import defaultdict\n",
    "\n",
    "def combinationSum(candidates: List[int], target: int) -> List[List[int]]:\n",
    "    m = max(candidates)\n",
    "    dp = [False] * (target + 1)\n",
    "    dp[0] = True\n",
    "    comb = defaultdict(set)\n",
    "    for i in range(target):\n",
    "        if not dp[i]:\n",
    "            continue\n",
    "        for n in candidates:\n",
    "            if i + n > target:\n",
    "                continue\n",
    "            dp[i+n] = True\n",
    "            if len(comb[i]) == 0:\n",
    "                comb[i+n].add(tuple([n]))\n",
    "            else:\n",
    "                for elm in comb[i]:\n",
    "                    ne = list(elm)\n",
    "                    ne.append(n)\n",
    "                    comb[i+n].add(tuple(sorted(ne)))\n",
    "    print(comb)\n",
    "    return comb[target]\n",
    "\n",
    "\n",
    "candidates = [43,100]\n",
    "target = 400\n",
    "combinationSum(candidates, target)"
   ]
  },
  {
   "cell_type": "code",
   "execution_count": 56,
   "id": "75b2f903",
   "metadata": {},
   "outputs": [
    {
     "data": {
      "text/plain": [
       "[[1, 2, 3], [1, 3, 2], [2, 1, 3], [2, 3, 1], [3, 2, 1], [3, 1, 2]]"
      ]
     },
     "execution_count": 56,
     "metadata": {},
     "output_type": "execute_result"
    }
   ],
   "source": [
    "def permute(nums: List[int]) -> List[List[int]]:\n",
    "    output = []\n",
    "    \n",
    "    def rec(i):\n",
    "        if i == len(nums):\n",
    "            output.append(list(nums))\n",
    "            \n",
    "        for j in range(i, len(nums)):\n",
    "            nums[i], nums[j] = nums[j], nums[i]\n",
    "            rec(i+1)\n",
    "            nums[i], nums[j] = nums[j], nums[i]\n",
    "            \n",
    "    rec(0)\n",
    "    return output\n",
    "\n",
    "nums = [1,2,3]\n",
    "permute(nums)"
   ]
  },
  {
   "cell_type": "code",
   "execution_count": null,
   "id": "efde4ef0",
   "metadata": {},
   "outputs": [],
   "source": []
  }
 ],
 "metadata": {
  "kernelspec": {
   "display_name": "Python 3 (ipykernel)",
   "language": "python",
   "name": "python3"
  },
  "language_info": {
   "codemirror_mode": {
    "name": "ipython",
    "version": 3
   },
   "file_extension": ".py",
   "mimetype": "text/x-python",
   "name": "python",
   "nbconvert_exporter": "python",
   "pygments_lexer": "ipython3",
   "version": "3.9.9"
  }
 },
 "nbformat": 4,
 "nbformat_minor": 5
}
