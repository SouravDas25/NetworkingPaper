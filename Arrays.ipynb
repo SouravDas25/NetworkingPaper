{
 "cells": [
  {
   "cell_type": "code",
   "execution_count": 1,
   "id": "37848968",
   "metadata": {},
   "outputs": [],
   "source": [
    "# Two Sums"
   ]
  },
  {
   "cell_type": "code",
   "execution_count": 10,
   "id": "9f8765f5",
   "metadata": {},
   "outputs": [
    {
     "data": {
      "text/plain": [
       "(1, 0)"
      ]
     },
     "execution_count": 10,
     "metadata": {},
     "output_type": "execute_result"
    }
   ],
   "source": [
    "def twoSums(arr, k):\n",
    "    diff = {}\n",
    "    for i in range(len(arr)):\n",
    "        d = k - arr[i]\n",
    "        if d in diff:\n",
    "            return i, diff[d]\n",
    "        else:\n",
    "            diff[arr[i]] = i\n",
    "    return None\n",
    "\n",
    "\n",
    "\n",
    "arr = [2,7,11,15]\n",
    "k = 9\n",
    "\n",
    "twoSums(arr, k)"
   ]
  },
  {
   "cell_type": "code",
   "execution_count": 11,
   "id": "62ff45b7",
   "metadata": {},
   "outputs": [],
   "source": [
    "# Best Time to Buy and Sell Stock"
   ]
  },
  {
   "cell_type": "code",
   "execution_count": 45,
   "id": "2a121ea4",
   "metadata": {},
   "outputs": [],
   "source": [
    "\n",
    "def bestTime(prices):\n",
    "    max_profit = 0\n",
    "    min_price = prices[0]\n",
    "    for i in range(1, len(prices)):\n",
    "        cp = prices[i]\n",
    "        if cp < min_price:\n",
    "            min_price = cp\n",
    "        p = cp - min_price\n",
    "        if p > max_profit:\n",
    "            max_profit = p\n",
    "    return max_profit\n",
    "\n",
    "\n",
    "prices = [7,1,5,3,6,4]\n",
    "\n",
    "assert bestTime(prices) == 5\n",
    "\n",
    "prices = [7,6,4,3,1]\n",
    "\n",
    "assert bestTime(prices) == 0\n",
    "\n",
    "prices = [2,1,4]\n",
    "\n",
    "assert bestTime(prices) == 3\n"
   ]
  },
  {
   "cell_type": "code",
   "execution_count": 46,
   "id": "17198966",
   "metadata": {},
   "outputs": [],
   "source": [
    "# Max Profit"
   ]
  },
  {
   "cell_type": "code",
   "execution_count": 89,
   "id": "8e5602a7",
   "metadata": {},
   "outputs": [
    {
     "name": "stdout",
     "output_type": "stream",
     "text": [
      "0\n",
      "1 1 0\n",
      "1 5 0\n",
      "3 3 4\n",
      "3 6 4\n",
      "4 4 7\n",
      "0\n",
      "1 2 0\n",
      "1 3 0\n",
      "1 4 0\n",
      "5 5 4\n",
      "0\n",
      "3 3 0\n",
      "3 5 0\n",
      "0 0 2\n",
      "0 0 2\n",
      "0 3 2\n",
      "1 1 5\n",
      "4 4 8\n"
     ]
    }
   ],
   "source": [
    "def maxPofit(prices):\n",
    "    max_profit = 0\n",
    "    min_price = prices[0]\n",
    "    print(max_profit)\n",
    "    for i in range(1, len(prices)):\n",
    "        cp = prices[i]\n",
    "        \n",
    "        if prices[i] < prices[i-1] :\n",
    "            p = prices[i-1] - min_price\n",
    "            max_profit += p\n",
    "            min_price = cp\n",
    "        elif i == len(prices) -1:\n",
    "            p = cp - min_price\n",
    "            max_profit += p\n",
    "            min_price = cp\n",
    "            \n",
    "        print(min_price, cp, max_profit)\n",
    "    \n",
    "    return max_profit\n",
    "\n",
    "\n",
    "prices = [7,1,5,3,6,4]\n",
    "\n",
    "assert maxPofit(prices) == 7\n",
    "\n",
    "prices = [1,2,3,4,5]\n",
    "\n",
    "assert maxPofit(prices) == 4\n",
    "\n",
    "prices = [3,3,5,0,0,3,1,4]\n",
    "\n",
    "assert maxPofit(prices) == 8"
   ]
  },
  {
   "cell_type": "code",
   "execution_count": 54,
   "id": "1e61cebe",
   "metadata": {},
   "outputs": [],
   "source": [
    "# Best Time to Buy and Sell Stock III"
   ]
  },
  {
   "cell_type": "code",
   "execution_count": 87,
   "id": "67128690",
   "metadata": {
    "scrolled": false
   },
   "outputs": [
    {
     "name": "stdout",
     "output_type": "stream",
     "text": [
      "prices [1, 2, 4, 2, 5, 7, 2, 4, 9, 0]\n",
      "2 -> -1 1 -1 1\n",
      "4 -> -1 3 -1 3\n",
      "2 -> -1 3 1 3\n",
      "5 -> -1 4 1 6\n",
      "7 -> -1 6 1 8\n",
      "2 -> -1 6 4 8\n",
      "4 -> -1 6 4 8\n",
      "9 -> -1 8 4 13\n",
      "0 -> 0 8 8 13\n",
      "prices [1, 2, 3, 4, 5]\n",
      "2 -> -1 1 -1 1\n",
      "3 -> -1 2 -1 2\n",
      "4 -> -1 3 -1 3\n",
      "5 -> -1 4 -1 4\n",
      "prices [3, 2, 6, 5, 0, 3]\n",
      "2 -> -2 0 -2 0\n",
      "6 -> -2 4 -2 4\n",
      "5 -> -2 4 -1 4\n",
      "0 -> 0 4 4 4\n",
      "3 -> 0 4 4 7\n",
      "prices [8, 6, 4, 3, 3, 2, 3, 5, 8, 3, 8, 2, 6]\n",
      "6 -> -6 0 -6 0\n",
      "4 -> -4 0 -4 0\n",
      "3 -> -3 0 -3 0\n",
      "3 -> -3 0 -3 0\n",
      "2 -> -2 0 -2 0\n",
      "3 -> -2 1 -2 1\n",
      "5 -> -2 3 -2 3\n",
      "8 -> -2 6 -2 6\n",
      "3 -> -2 6 3 6\n",
      "8 -> -2 6 3 11\n",
      "2 -> -2 6 4 11\n",
      "6 -> -2 6 4 11\n"
     ]
    }
   ],
   "source": [
    "def maxPofitLimitTransaction(prices):\n",
    "    if len(prices) < 2:\n",
    "            return 0\n",
    "    B1 = -prices[0]\n",
    "    S1 = B2 = S2 = float(\"-inf\")\n",
    "    print(\"prices\", prices)\n",
    "    for i in range(1, len(prices)):\n",
    "        B1 = max(B1, -prices[i])\n",
    "        S1 = max(S1, B1 + prices[i] )\n",
    "        B2 = max(B2, S1 - prices[i] )\n",
    "        S2 = max(S2, B2 + prices[i] )\n",
    "        print(prices[i], \"->\", B1,S1,B2,S2)\n",
    "    return S2\n",
    "            \n",
    "    \n",
    "\n",
    "\n",
    "prices = [1,2,4,2,5,7,2,4,9,0]\n",
    "\n",
    "assert maxPofitLimitTransaction(prices) == 13\n",
    "\n",
    "prices = [1,2,3,4,5]\n",
    "\n",
    "assert maxPofitLimitTransaction(prices) == 4\n",
    "\n",
    "\n",
    "prices = [3,2,6,5,0,3]\n",
    "\n",
    "assert maxPofitLimitTransaction(prices) == 7\n",
    "\n",
    "\n",
    "prices = [8,6,4,3,3,2,3,5,8,3,8,2,6]\n",
    "\n",
    "assert maxPofitLimitTransaction(prices) == 11\n"
   ]
  },
  {
   "cell_type": "code",
   "execution_count": 90,
   "id": "4130d1e2",
   "metadata": {},
   "outputs": [],
   "source": [
    "# Best Time to Buy and Sell Stock IV"
   ]
  },
  {
   "cell_type": "code",
   "execution_count": 96,
   "id": "62b2784e",
   "metadata": {},
   "outputs": [
    {
     "name": "stdout",
     "output_type": "stream",
     "text": [
      "prices [1, 2, 4, 2, 5, 7, 2, 4, 9, 0]\n",
      "2 -> [-1, 1, -1, 1]\n",
      "4 -> [-1, 3, -1, 3]\n",
      "2 -> [-1, 3, 1, 3]\n",
      "5 -> [-1, 4, 1, 6]\n",
      "7 -> [-1, 6, 1, 8]\n",
      "2 -> [-1, 6, 4, 8]\n",
      "4 -> [-1, 6, 4, 8]\n",
      "9 -> [-1, 8, 4, 13]\n",
      "0 -> [0, 8, 8, 13]\n",
      "prices [1, 2, 3, 4, 5]\n",
      "2 -> [-1, 1, -1, 1, -1, 1, -1, 1]\n",
      "3 -> [-1, 2, -1, 2, -1, 2, -1, 2]\n",
      "4 -> [-1, 3, -1, 3, -1, 3, -1, 3]\n",
      "5 -> [-1, 4, -1, 4, -1, 4, -1, 4]\n",
      "prices [3, 2, 6, 5, 0, 3]\n",
      "2 -> [-2, 0, -2, 0]\n",
      "6 -> [-2, 4, -2, 4]\n",
      "5 -> [-2, 4, -1, 4]\n",
      "0 -> [0, 4, 4, 4]\n",
      "3 -> [0, 4, 4, 7]\n",
      "prices [8, 6, 4, 3, 3, 2, 3, 5, 8, 3, 8, 2, 6]\n",
      "6 -> [-6, 0, -6, 0]\n",
      "4 -> [-4, 0, -4, 0]\n",
      "3 -> [-3, 0, -3, 0]\n",
      "3 -> [-3, 0, -3, 0]\n",
      "2 -> [-2, 0, -2, 0]\n",
      "3 -> [-2, 1, -2, 1]\n",
      "5 -> [-2, 3, -2, 3]\n",
      "8 -> [-2, 6, -2, 6]\n",
      "3 -> [-2, 6, 3, 6]\n",
      "8 -> [-2, 6, 3, 11]\n",
      "2 -> [-2, 6, 4, 11]\n",
      "6 -> [-2, 6, 4, 11]\n"
     ]
    }
   ],
   "source": [
    "def maxPofitKTransaction(prices,k):\n",
    "    if len(prices) <= k or k < 1:\n",
    "        return 0\n",
    "    states = [float(\"-inf\")] * (k*2)\n",
    "    states[0] = -prices[0]\n",
    "    print(\"prices\", prices)\n",
    "    for i in range(1, len(prices)):\n",
    "        states[0] = max(states[0], -prices[i])\n",
    "        for j in range(1,len(states)):\n",
    "            if j % 2 == 0:\n",
    "                states[j] = max(states[j], states[j - 1] - prices[i] )\n",
    "            else:\n",
    "                states[j] = max(states[j], states[j - 1] + prices[i] )\n",
    "        print(prices[i], \"->\", states)\n",
    "    return states.pop()\n",
    "            \n",
    "    \n",
    "\n",
    "\n",
    "prices = [1,2,4,2,5,7,2,4,9,0]\n",
    "\n",
    "assert maxPofitKTransaction(prices, 2) == 13\n",
    "\n",
    "prices = [1,2,3,4,5]\n",
    "\n",
    "assert maxPofitKTransaction(prices, 2) == 4\n",
    "\n",
    "\n",
    "prices = [3,2,6,5,0,3]\n",
    "\n",
    "assert maxPofitKTransaction(prices, 2) == 7\n",
    "\n",
    "\n",
    "prices = [8,6,4,3,3,2,3,5,8,3,8,2,6]\n",
    "\n",
    "assert maxPofitKTransaction(prices,2) == 11"
   ]
  },
  {
   "cell_type": "code",
   "execution_count": 97,
   "id": "825052e3",
   "metadata": {},
   "outputs": [],
   "source": [
    "# Contains Duplicate"
   ]
  },
  {
   "cell_type": "code",
   "execution_count": 99,
   "id": "9b6f5c59",
   "metadata": {},
   "outputs": [
    {
     "data": {
      "text/plain": [
       "True"
      ]
     },
     "execution_count": 99,
     "metadata": {},
     "output_type": "execute_result"
    }
   ],
   "source": [
    "\n",
    "def containsDuplicate(nums):\n",
    "    items = set()\n",
    "    for i in nums:\n",
    "        if i in items:\n",
    "            return True\n",
    "        items.add(i)\n",
    "    return False\n",
    "\n",
    "\n",
    "nums = [1,1,1,3,3,4,3,2,4,2]\n",
    "\n",
    "containsDuplicate(nums)"
   ]
  },
  {
   "cell_type": "code",
   "execution_count": 100,
   "id": "d36e3461",
   "metadata": {},
   "outputs": [],
   "source": [
    "# Product of Array Except Self"
   ]
  },
  {
   "cell_type": "code",
   "execution_count": 110,
   "id": "7f5646a5",
   "metadata": {},
   "outputs": [
    {
     "name": "stdout",
     "output_type": "stream",
     "text": [
      "[1, 1, 2, 6]\n"
     ]
    },
    {
     "data": {
      "text/plain": [
       "[24, 12, 8, 6]"
      ]
     },
     "execution_count": 110,
     "metadata": {},
     "output_type": "execute_result"
    }
   ],
   "source": [
    "def productExceptSelf(nums):\n",
    "    output = [1]\n",
    "    p = 1\n",
    "    for i in range(len(nums) - 1):\n",
    "        p *= nums[i]\n",
    "        output.append(p)\n",
    "    print(output)\n",
    "    p = 1\n",
    "    for i in range(len(nums) - 1, 0, -1):\n",
    "        p *= nums[i]\n",
    "        output[i - 1] = output[i-1] * pbbbb\n",
    "    return output\n",
    "\n",
    "nums = [1,2,3,4]\n",
    "productExceptSelf(nums)"
   ]
  },
  {
   "cell_type": "code",
   "execution_count": 111,
   "id": "83ce7ae3",
   "metadata": {},
   "outputs": [],
   "source": [
    "# Maximum Subarray"
   ]
  },
  {
   "cell_type": "code",
   "execution_count": 124,
   "id": "2a3aa2e1",
   "metadata": {},
   "outputs": [
    {
     "data": {
      "text/plain": [
       "23"
      ]
     },
     "execution_count": 124,
     "metadata": {},
     "output_type": "execute_result"
    }
   ],
   "source": [
    "def maxSubArray(nums):\n",
    "    max_sum = nums[0]\n",
    "    c_sum = 0\n",
    "    for i in range(len(nums)):\n",
    "        c_sum += nums[i]\n",
    "        max_sum = max(max_sum, c_sum)\n",
    "        c_sum = max(0, c_sum)\n",
    "    return max_sum\n",
    "\n",
    "\n",
    "nums = [5,4,-1,7,8]\n",
    "maxSubArray(nums)"
   ]
  },
  {
   "cell_type": "code",
   "execution_count": 113,
   "id": "c8f6b44b",
   "metadata": {},
   "outputs": [],
   "source": [
    "# Maximum Product Subarray"
   ]
  },
  {
   "cell_type": "code",
   "execution_count": 129,
   "id": "b4979250",
   "metadata": {},
   "outputs": [
    {
     "name": "stdout",
     "output_type": "stream",
     "text": [
      "[-2, 0, -1]\n",
      "0 -> 0 0 0\n",
      "-1 -> 0 -1 0\n",
      "[2, 3, -2, 4]\n",
      "3 -> 6 3 6\n",
      "-2 -> -2 -12 6\n",
      "4 -> 4 -48 6\n"
     ]
    }
   ],
   "source": [
    "\n",
    "def maxProduct(nums):\n",
    "    max_product = -9999999\n",
    "    print(nums)\n",
    "    ma = nums[0]\n",
    "    mi = nums[0]\n",
    "    for i in range(1, len(nums)):\n",
    "        n = nums[i]\n",
    "        t = (ma * n, n, mi * n)\n",
    "        ma = max(t)\n",
    "        mi = min(t)\n",
    "        max_product = max(max_product, ma)\n",
    "        print(n, \"->\" ,ma, mi , max_product)\n",
    "    \n",
    "    return max_product\n",
    "\n",
    "nums = [-2,0,-1]\n",
    "assert maxProduct(nums) == 0\n",
    "\n",
    "\n",
    "nums = [2,3,-2,4]\n",
    "assert maxProduct(nums) == 6"
   ]
  },
  {
   "cell_type": "code",
   "execution_count": 130,
   "id": "317acd9c",
   "metadata": {},
   "outputs": [],
   "source": [
    "# Search in Rotated Sorted Array"
   ]
  },
  {
   "cell_type": "code",
   "execution_count": 151,
   "id": "2cce4489",
   "metadata": {},
   "outputs": [
    {
     "name": "stdout",
     "output_type": "stream",
     "text": [
      "0 6 3\n",
      "4 6 5\n",
      "0 6 3\n",
      "4 6 5\n",
      "4 4 4\n",
      "5 4\n",
      "0 2 1\n",
      "2 2 2\n"
     ]
    }
   ],
   "source": [
    "def binarySearch(nums, l , h, target):\n",
    "    if l > h :\n",
    "        return -1\n",
    "    mid = l + (h - l) // 2\n",
    "    if nums[mid] == target:\n",
    "        return mid\n",
    "    \n",
    "    if target < nums[mid]:\n",
    "        return binarySearch(nums, l, mid - 1, target)\n",
    "    else:\n",
    "        return binarySearch(nums, mid + 1, h, target)\n",
    "    \n",
    "    \n",
    "\n",
    "def searchRotated(nums,l , h, target):\n",
    "    if l > h :\n",
    "        print(l,h)\n",
    "        return -1\n",
    "    \n",
    "    mid = l + (h - l) // 2\n",
    "    print(l,h, mid)\n",
    "    \n",
    "    if nums[mid] == target:\n",
    "        return mid\n",
    "    \n",
    "    if target < nums[mid]:\n",
    "        if nums[l] < nums[mid]:\n",
    "            if target >= nums[l]:\n",
    "                return binarySearch(nums, l, mid - 1, target)\n",
    "            else:\n",
    "                return searchRotated(nums, mid + 1, h, target)\n",
    "        else:\n",
    "            return searchRotated(nums, l, mid - 1, target)\n",
    "    else:\n",
    "        if nums[h] > nums[mid]:\n",
    "            if target <= nums[h]:\n",
    "                return binarySearch(nums, mid + 1, h, target)\n",
    "            else:\n",
    "                return searchRotated(nums, l, mid - 1, target)\n",
    "        else:\n",
    "            return searchRotated(nums, mid + 1, h, target)\n",
    "\n",
    "nums = [4,5,6,7,0,1,2]\n",
    "target = 0\n",
    "\n",
    "assert searchRotated(nums, 0, len(nums) - 1, target) == 4\n",
    "\n",
    "\n",
    "nums = [4,5,6,7,0,1,2]\n",
    "target = 3\n",
    "\n",
    "assert searchRotated(nums, 0, len(nums) - 1, target) == -1\n",
    "\n",
    "\n",
    "nums = [3,5,1]\n",
    "target = 1\n",
    "\n",
    "assert searchRotated(nums, 0, len(nums) - 1, target) == 2"
   ]
  },
  {
   "cell_type": "code",
   "execution_count": 152,
   "id": "aacdef4c",
   "metadata": {},
   "outputs": [],
   "source": [
    "# Container With Most Water"
   ]
  },
  {
   "cell_type": "code",
   "execution_count": 155,
   "id": "35705bd4",
   "metadata": {},
   "outputs": [
    {
     "data": {
      "text/plain": [
       "49"
      ]
     },
     "execution_count": 155,
     "metadata": {},
     "output_type": "execute_result"
    }
   ],
   "source": [
    "def maxArea(height):\n",
    "    maxArea = 0\n",
    "    l = 0\n",
    "    r = len(height) - 1\n",
    "    while l < r:\n",
    "        a = min(height[l], height[r]) * (r - l)\n",
    "        maxArea = max(maxArea, a)\n",
    "        if height[l] < height[r]:\n",
    "            l += 1\n",
    "        else :\n",
    "            r -= 1\n",
    "    return maxArea\n",
    "\n",
    "height = [1,8,6,2,5,4,8,3,7]\n",
    "maxArea(height)"
   ]
  },
  {
   "cell_type": "code",
   "execution_count": 156,
   "id": "749d92a3",
   "metadata": {},
   "outputs": [],
   "source": [
    "# Sliding Window Maximum"
   ]
  },
  {
   "cell_type": "code",
   "execution_count": 3,
   "id": "1323bc5f",
   "metadata": {},
   "outputs": [
    {
     "name": "stdout",
     "output_type": "stream",
     "text": [
      "SortedList([1])\n",
      "SortedList([1, 3])\n",
      "SortedList([-1, 1, 3])\n",
      "SortedList([-3, -1, 3])\n",
      "SortedList([-3, -1, 5])\n",
      "SortedList([-3, 3, 5])\n",
      "SortedList([3, 5, 6])\n",
      "SortedList([3, 6, 7])\n"
     ]
    },
    {
     "data": {
      "text/plain": [
       "[3, 3, 5, 5, 6, 7]"
      ]
     },
     "execution_count": 3,
     "metadata": {},
     "output_type": "execute_result"
    }
   ],
   "source": [
    "from sortedcontainers import SortedList\n",
    "\n",
    "def maxSlidingWindow(nums, k):\n",
    "    sums = []\n",
    "    window = SortedList()\n",
    "    cm = -999999999\n",
    "    for i in range(len(nums)):\n",
    "        window.add(nums[i])\n",
    "        if len(window) > k:\n",
    "            window.remove(nums[i-k])\n",
    "        if len(window) == k:\n",
    "            sums.append(window[-1])\n",
    "        print(window)\n",
    "    return sums\n",
    "\n",
    "\n",
    "nums = [1,3,-1,-3,5,3,6,7]\n",
    "k = 3\n",
    "\n",
    "maxSlidingWindow(nums, k)"
   ]
  },
  {
   "cell_type": "code",
   "execution_count": 163,
   "id": "b2ed399c",
   "metadata": {},
   "outputs": [
    {
     "name": "stdout",
     "output_type": "stream",
     "text": [
      "Defaulting to user installation because normal site-packages is not writeable\n",
      "Collecting sortedcontainers\n",
      "  Downloading sortedcontainers-2.4.0-py2.py3-none-any.whl (29 kB)\n",
      "Installing collected packages: sortedcontainers\n",
      "Successfully installed sortedcontainers-2.4.0\n",
      "Note: you may need to restart the kernel to use updated packages.\n"
     ]
    },
    {
     "name": "stderr",
     "output_type": "stream",
     "text": [
      "WARNING: You are using pip version 21.3.1; however, version 22.0.4 is available.\n",
      "You should consider upgrading via the 'C:\\Program Files\\Python39\\python.exe -m pip install --upgrade pip' command.\n"
     ]
    }
   ],
   "source": []
  },
  {
   "cell_type": "code",
   "execution_count": null,
   "id": "c1f1ccaa",
   "metadata": {},
   "outputs": [],
   "source": []
  }
 ],
 "metadata": {
  "kernelspec": {
   "display_name": "Python 3 (ipykernel)",
   "language": "python",
   "name": "python3"
  },
  "language_info": {
   "codemirror_mode": {
    "name": "ipython",
    "version": 3
   },
   "file_extension": ".py",
   "mimetype": "text/x-python",
   "name": "python",
   "nbconvert_exporter": "python",
   "pygments_lexer": "ipython3",
   "version": "3.9.9"
  }
 },
 "nbformat": 4,
 "nbformat_minor": 5
}
